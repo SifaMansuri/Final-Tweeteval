{
  "nbformat": 4,
  "nbformat_minor": 0,
  "metadata": {
    "kernelspec": {
      "display_name": "Python 3",
      "language": "python",
      "name": "python3"
    },
    "language_info": {
      "codemirror_mode": {
        "name": "ipython",
        "version": 3
      },
      "file_extension": ".py",
      "mimetype": "text/x-python",
      "name": "python",
      "nbconvert_exporter": "python",
      "pygments_lexer": "ipython3",
      "version": "3.6.4"
    },
    "colab": {
      "name": "final-project-emotion-eda.ipynb",
      "provenance": [],
      "include_colab_link": true
    }
  },
  "cells": [
    {
      "cell_type": "markdown",
      "metadata": {
        "id": "view-in-github",
        "colab_type": "text"
      },
      "source": [
        "<a href=\"https://colab.research.google.com/github/SifaMansuri/Final-Tweeteval/blob/main/final_project_emotion_eda.ipynb\" target=\"_parent\"><img src=\"https://colab.research.google.com/assets/colab-badge.svg\" alt=\"Open In Colab\"/></a>"
      ]
    },
    {
      "cell_type": "code",
      "metadata": {
        "colab": {
          "base_uri": "https://localhost:8080/",
          "height": 17
        },
        "id": "Q-hDrtKFDHLo",
        "outputId": "ca492da4-b6e3-4e4b-a759-6d0a914fd77e"
      },
      "source": [
        "import pandas as pd\n",
        "import numpy as np\n",
        "from textblob import TextBlob\n",
        "from sklearn.feature_extraction.text import CountVectorizer\n",
        "from sklearn.feature_extraction.text import TfidfVectorizer\n",
        "import warnings \n",
        "warnings.filterwarnings('ignore')\n",
        "import matplotlib\n",
        "import matplotlib.pyplot as plt\n",
        "import seaborn as sns\n",
        "%matplotlib inline\n",
        "matplotlib.rcParams['figure.figsize'] = (10.0, 6.0)\n",
        "import plotly.graph_objs as go\n",
        "import cufflinks\n",
        "pd.options.display.max_columns = 30\n",
        "from IPython.core.interactiveshell import InteractiveShell\n",
        "import plotly.figure_factory as ff\n",
        "InteractiveShell.ast_node_interactivity = 'all'\n",
        "from plotly.offline import iplot\n",
        "cufflinks.go_offline()\n",
        "cufflinks.set_config_file(world_readable=True, theme='pearl')\n",
        "from sklearn.decomposition import TruncatedSVD\n",
        "from sklearn.decomposition import LatentDirichletAllocation\n",
        "from sklearn.manifold import TSNE\n",
        "from bokeh.plotting import figure, output_file, show\n",
        "from bokeh.models import Label\n",
        "from bokeh.io import output_notebook\n",
        "output_notebook()\n",
        "from collections import Counter\n",
        "from pprint import pprint\n",
        "import en_core_web_sm"
      ],
      "execution_count": null,
      "outputs": [
        {
          "output_type": "display_data",
          "data": {
            "text/html": [
              "        <script type=\"text/javascript\">\n",
              "        window.PlotlyConfig = {MathJaxConfig: 'local'};\n",
              "        if (window.MathJax) {MathJax.Hub.Config({SVG: {font: \"STIX-Web\"}});}\n",
              "        if (typeof require !== 'undefined') {\n",
              "        require.undef(\"plotly\");\n",
              "        requirejs.config({\n",
              "            paths: {\n",
              "                'plotly': ['https://cdn.plot.ly/plotly-latest.min']\n",
              "            }\n",
              "        });\n",
              "        require(['plotly'], function(Plotly) {\n",
              "            window._Plotly = Plotly;\n",
              "        });\n",
              "        }\n",
              "        </script>\n",
              "        "
            ]
          },
          "metadata": {
            "tags": []
          }
        }
      ]
    },
    {
      "cell_type": "code",
      "metadata": {
        "id": "jkHj1UgHDpWr"
      },
      "source": [
        "TRAIN_TEXT = 'https://raw.githubusercontent.com/cardiffnlp/tweeteval/main/datasets/emotion/train_text.txt'\n",
        "VAL_TEXT = 'https://raw.githubusercontent.com/cardiffnlp/tweeteval/main/datasets/emotion/val_text.txt'\n",
        "\n",
        "TRAIN_LABEL = 'https://raw.githubusercontent.com/cardiffnlp/tweeteval/main/datasets/emotion/train_labels.txt'\n",
        "VAL_LABEL = 'https://raw.githubusercontent.com/cardiffnlp/tweeteval/main/datasets/emotion/val_labels.txt'\n"
      ],
      "execution_count": null,
      "outputs": []
    },
    {
      "cell_type": "code",
      "metadata": {
        "id": "13njvQP1FGL5"
      },
      "source": [
        "def convert_to_df(data, label):\n",
        "    tweet = []\n",
        "    sentiments = []\n",
        "    for sentence in data.split('\\n'):\n",
        "        tweet.append(sentence)\n",
        "    for sentiment in label.split('\\n'):\n",
        "        try:\n",
        "            sentiments.append(int(sentiment))\n",
        "        except ValueError:\n",
        "            pass\n",
        "    df= pd.DataFrame(tweet[:-1], columns=['Review Text'])\n",
        "    df['label'] = sentiments # this colums contains labels in int format\n",
        "\n",
        "    df['sentiment'] = df.label.apply(lambda x: 'Not-emotion'if x==0 else 'emotion')\n",
        "\n",
        "    return df"
      ],
      "execution_count": null,
      "outputs": []
    },
    {
      "cell_type": "code",
      "metadata": {
        "id": "OyUCtZSPDr5M"
      },
      "source": [
        "import requests\n",
        "train_tweets_txt = requests.get(TRAIN_TEXT).text\n",
        "train_labels_txt = requests.get(TRAIN_LABEL).text\n",
        "\n",
        "val_tweets_txt = requests.get(VAL_TEXT).text\n",
        "val_labels_txt = requests.get(VAL_LABEL).text\n",
        "\n",
        "train_df = convert_to_df(train_tweets_txt, train_labels_txt)\n",
        "val_df = convert_to_df(val_tweets_txt, val_labels_txt)\n",
        "\n"
      ],
      "execution_count": null,
      "outputs": []
    },
    {
      "cell_type": "code",
      "metadata": {
        "id": "XzzYdX3kFGnh"
      },
      "source": [
        "df = train_df"
      ],
      "execution_count": null,
      "outputs": []
    },
    {
      "cell_type": "code",
      "metadata": {
        "colab": {
          "base_uri": "https://localhost:8080/",
          "height": 349
        },
        "id": "hqWM6Gy5KXTy",
        "outputId": "1f8f9c7e-ef1d-4df8-a8fc-a5d9a0133034"
      },
      "source": [
        "eda = df.groupby('sentiment').count()['Review Text'].reset_index().sort_values(by='Review Text',ascending=False)\n",
        "labels = list(eda.sentiment)\n",
        "sizes = list(eda['Review Text'])\n",
        "\n",
        "fig1, ax1 = plt.subplots()\n",
        "ax1.pie(sizes, labels=labels, autopct='%1.1f%%', shadow=True)\n",
        "plt.show()"
      ],
      "execution_count": null,
      "outputs": [
        {
          "output_type": "execute_result",
          "data": {
            "text/plain": [
              "([<matplotlib.patches.Wedge at 0x7f7e938ed9d0>,\n",
              "  <matplotlib.patches.Wedge at 0x7f7e93910050>],\n",
              " [Text(-0.2404855872465183, 1.0733902749357744, 'emotion'),\n",
              "  Text(0.24048558724651864, -1.0733902749357744, 'Not-emotion')],\n",
              " [Text(-0.13117395667991905, 0.5854856045104223, '57.0%'),\n",
              "  Text(0.13117395667991924, -0.5854856045104223, '43.0%')])"
            ]
          },
          "metadata": {
            "tags": []
          },
          "execution_count": 44
        },
        {
          "output_type": "display_data",
          "data": {
            "image/png": "[encoded data removed]",
            "text/plain": [
              "<Figure size 432x288 with 1 Axes>"
            ]
          },
          "metadata": {
            "tags": []
          }
        }
      ]
    },
    {
      "cell_type": "code",
      "metadata": {
        "id": "VSXnWIR0DHMM"
      },
      "source": [
        "def preprocess(ReviewText):\n",
        "    ReviewText = ReviewText.str.replace(\"(<br/>)\", \"\")\n",
        "    ReviewText = ReviewText.str.replace('(<a).*(>).*(</a>)', '')\n",
        "    ReviewText = ReviewText.str.replace('(&amp)', '')\n",
        "    ReviewText = ReviewText.str.replace('(&gt)', '')\n",
        "    ReviewText = ReviewText.str.replace('(&lt)', '')\n",
        "    ReviewText = ReviewText.str.replace('(\\xa0)', ' ')  \n",
        "    return ReviewText\n",
        "df['Review Text'] = preprocess(df['Review Text'])"
      ],
      "execution_count": null,
      "outputs": []
    },
    {
      "cell_type": "markdown",
      "metadata": {
        "id": "8vi6kMzXDHMN"
      },
      "source": [
        "New column for sentiment polarity. Two new columns for lengths of the review and word count."
      ]
    },
    {
      "cell_type": "code",
      "metadata": {
        "id": "o3QrWZbZDHMN"
      },
      "source": [
        "df['polarity'] = df['Review Text'].map(lambda text: TextBlob(text).sentiment.polarity)\n",
        "df['review_len'] = df['Review Text'].astype(str).apply(len)\n",
        "df['word_count'] = df['Review Text'].apply(lambda x: len(str(x).split()))"
      ],
      "execution_count": null,
      "outputs": []
    },
    {
      "cell_type": "code",
      "metadata": {
        "colab": {
          "base_uri": "https://localhost:8080/"
        },
        "id": "-uqUa0BVDHMO",
        "outputId": "44a55887-afd8-460a-b5b0-77ca36a4920c"
      },
      "source": [
        "print('5 random reviews with the highest positive sentiment polarity: \\n')\n",
        "cl = df.loc[df.polarity == 1, ['Review Text']].sample(5).values\n",
        "for c in cl:\n",
        "    print(c[0])"
      ],
      "execution_count": null,
      "outputs": [
        {
          "output_type": "stream",
          "text": [
            "5 random reviews with the highest positive sentiment polarity: \n",
            "\n",
            "Boys Dm me pictures of your cocks! The best one will get uploaded! ☺️💦💦 #Cumtribute #dm  #snapchat #snapme #nudes #dickpic #cocktribute \n",
            "@user wonderful experience watching you yesterday at. @user thankyou for the  \n",
            "This is the day You've made, \\n\\nLet us rehoi rejoice and be glad with all that I am. \\n\\n😊💖\\n\\n#aja \\nGood morning!!!! \n",
            "@user Both Trump + King are relentless self-promoters who don't give a rip about anyone else. A perfect match for both Donalds. \n",
            "@user Thank you, happy birthday to you as well! \n"
          ],
          "name": "stdout"
        }
      ]
    },
    {
      "cell_type": "code",
      "metadata": {
        "colab": {
          "base_uri": "https://localhost:8080/"
        },
        "id": "FFTvCUeUDHMO",
        "outputId": "de348ae8-876a-4947-a5ac-9fd127bda3bc"
      },
      "source": [
        "print('5 random reviews with the most neutral sentiment(zero) polarity: \\n')\n",
        "cl = df.loc[df.polarity == 0, ['Review Text']].sample(5).values\n",
        "for c in cl:\n",
        "    print(c[0])"
      ],
      "execution_count": null,
      "outputs": [
        {
          "output_type": "stream",
          "text": [
            "5 random reviews with the most neutral sentiment(zero) polarity: \n",
            "\n",
            "schneiderlin taking his revenge for the 2 fouls \n",
            "something about opening mail is just...very pleasing \n",
            "Fuckin hell even seeing your face makes me fume \n",
            "@user did it not just enliven your soul \n",
            "Turkish exhilaration: for a 30% shade off irruptive russian visitors this twelvemonth, gobbler is nephalism so... \n"
          ],
          "name": "stdout"
        }
      ]
    },
    {
      "cell_type": "markdown",
      "metadata": {
        "id": "g7ULOk76DHMQ"
      },
      "source": [
        "### Dist plot of review polarity score"
      ]
    },
    {
      "cell_type": "code",
      "metadata": {
        "colab": {
          "base_uri": "https://localhost:8080/",
          "height": 542
        },
        "id": "ACml4SvUDHMQ",
        "outputId": "e0b2fa03-f725-4230-ed85-a69df271d344"
      },
      "source": [
        "df['polarity'].iplot(\n",
        "    kind='hist',\n",
        "    bins=50,\n",
        "    xTitle='polarity',\n",
        "    linecolor='black',\n",
        "    yTitle='count',\n",
        "    title='Sentiment Polarity Distribution')"
      ],
      "execution_count": null,
      "outputs": [
        {
          "output_type": "display_data",
          "data": {
            "text/html": [
              "<div>\n",
              "        \n",
              "        \n",
              "            <div id=\"4e339bce-a909-4005-894e-faf606d6cff2\" class=\"plotly-graph-div\" style=\"height:525px; width:100%;\"></div>\n",
              "            <script type=\"text/javascript\">\n",
              "                require([\"plotly\"], function(Plotly) {\n",
              "                    window.PLOTLYENV=window.PLOTLYENV || {};\n",
              "                    window.PLOTLYENV.BASE_URL='https://plot.ly';\n",
              "                    \n",
              "                if (document.getElementById(\"4e339bce-a909-4005-894e-faf606d6cff2\")) {\n",
              "                    Plotly.newPlot(\n",
              "                        '4e339bce-a909-4005-894e-faf606d6cff2',\n",
              "                        [{\"histfunc\": \"count\", \"histnorm\": \"\", \"marker\": {\"color\": \"rgba(255, 153, 51, 1.0)\", \"line\": {\"color\": \"#000000\", \"width\": 1.3}}, \"name\": \"polarity\", \"nbinsx\": 50, \"opacity\": 0.8, \"orientation\": \"v\", \"type\": \"histogram\", \"x\": [-0.15555555555555559, -0.25, 0.0, -0.8, -0.175, -0.020833333333333343, -0.24642857142857144, 0.0, -0.75, 0.0, -0.4666666666666666, 0.0, -0.07238095238095237, -0.6, 0.8, 0.0, 0.09999999999999999, 0.30000000000000004, -0.32500000000000007, 0.0, 0.6, 0.16666666666666666, -0.016666666666666666, 0.6, -1.0, 0.25, 0.0, 0.2, -0.1875, 0.0, -0.2, -0.375, 0.015625, 0.37500000000000006, -0.43333333333333335, 0.0, 0.4, 0.0, -0.1833333333333333, -0.175, 0.175, -0.15555555555555559, 0.15833333333333333, 0.0, 0.1333333333333333, -0.16111111111111112, 0.0, -0.05, -0.7, -0.06666666666666665, 0.0, -0.14166666666666666, -0.5, -0.125, 0.85, -0.5, 0.625, 0.13636363636363635, 0.25, 0.13333333333333333, 0.0, -0.6, -0.35, 1.0, 0.8, 0.0, 0.0, 0.25, 0.8, -0.1444805194805195, -0.5, 0.0, -0.17857142857142858, 0.1, -0.2, 0.3, -0.125, -1.0, 0.7000000000000001, 0.0, 0.8, 0.0, -0.4147727272727273, 0.125, 0.06666666666666665, 0.43333333333333335, 0.1, -0.04999999999999999, 0.0, -0.7, 0.0, 0.07777777777777779, -0.2, -0.5, 0.8, -0.7, 0.0, 0.11212121212121212, 0.0, 0.8, -0.14285714285714285, -0.1, 0.03333333333333333, -0.85, 0.0, -0.5, 0.0, -0.3333333333333333, -0.625, 0.1, 0.07575757575757576, -0.30999999999999994, 0.0, -0.6, 0.0, 0.25, 0.4, 0.020000000000000018, 0.012824675324675322, 0.35, -0.6, 0.22000000000000003, -1.0, 0.0, 0.0, -0.2, 0.5, -0.09590909090909092, 0.0, 0.4, -0.10520833333333333, 0.19166666666666665, -0.3, 0.4454545454545455, 0.0, 0.0, 0.06166666666666667, 2.7755575615628914e-17, 0.0, -0.16666666666666666, 0.2857142857142857, -0.5, 0.0, 0.0, 0.0, 0.1, -0.016666666666666673, 0.0, -0.8, 0.0, 0.0, 0.05555555555555556, -0.2333333333333333, -0.18181818181818182, -0.06606060606060607, 0.16666666666666669, 0.5, 0.5, 0.5, 0.0, -0.25, -0.4, -0.125, 0.0, -0.5909090909090909, -0.45, 0.13392857142857142, -0.25, -0.5, 0.0, -0.5, 0.0, 0.0, -0.6625, 0.0, 0.3819444444444444, 0.30000000000000004, 0.3666666666666667, 0.0, -1.0, 0.0, 0.85, -0.5, 0.3625, -0.3333333333333333, -0.35, 0.0, -1.0, -0.17500000000000002, -0.23333333333333334, 0.7, 0.35000000000000003, 0.4875, -0.21666666666666667, 0.0, 0.375, 0.35, 0.625, 0.0, -0.04999999999999999, 0.0, 0.0, 0.0, 0.165, 0.0, 0.13636363636363635, 1.0, -0.2652777777777778, -0.3, -0.15625, 0.0, -1.0, 0.0, 0.0, 0.35, -0.125, 0.4333333333333333, 0.0, 0.0, 0.0, -0.04166666666666667, 0.0, 0.07666666666666666, -0.125, 0.30833333333333335, 0.0, 0.0, 0.4681818181818182, -0.1638888888888889, -0.125, -1.0, 0.0, 0.2, 0.11666666666666668, -0.3, -0.125, -0.5, 0.7, -0.75, 0.13636363636363635, -0.6999999999999998, 0.0, -0.0625, 0.0, 0.18333333333333335, 0.0, 0.0, -0.6, 0.0, -0.2333333333333333, 0.0, 0.0, -0.4, 0.0, -0.4318181818181818, 0.3, 0.65, -0.033333333333333326, 0.0, 0.0, -0.5, 0.25, 0.5, -0.3333333333333333, 0.0, 0.0, -0.1, -0.4333333333333333, -0.2, 0.0, 1.0, 0.30000000000000004, 0.0, 0.0, -0.05138888888888891, 0.0, 0.16, -0.5, 0.2, 0.0, 0.0, 0.0, -0.35714285714285715, 0.0, 0.0, 0.0, 0.0, -0.3333333333333333, 0.0, -0.2625, 0.45, -0.10000000000000002, 0.09166666666666666, 0.0, -0.0125, -0.03181818181818183, 0.0, 0.4, 0.0, 0.0, 0.2, -0.5666666666666665, 0.0, -0.04999999999999999, -0.16666666666666666, 0.0, 0.25, 0.08333333333333333, 0.0, 0.0, -0.08919270833333331, 0.0, 0.46875, -0.2, 0.0, -0.75, 0.25, -1.0, 0.0, -0.24999999999999997, -0.6499999999999999, -0.5, 0.25, 0.5, -0.4375, 1.0, 0.0, -0.20833333333333331, -0.58310546875, 0.0, -0.25, -0.40476190476190466, -0.403125, 0.13333333333333333, 0.0, -0.024999999999999994, 0.5, 0.19999999999999998, 0.0, -0.7, 0.0, 0.0, 0.0, 0.0, 0.0, -0.4, 0.3571428571428571, -0.15, -0.11249999999999999, 0.09999999999999999, -0.024999999999999994, 0.16666666666666666, -0.2, 0.2888888888888889, 0.2, 0.6, -0.08333333333333333, 0.0, 0.65, 0.0, 0.3, -0.0625, -0.08055555555555555, 0.14166666666666666, -0.033333333333333326, -0.4, 0.0, -0.075, 0.0, 0.0, 0.17222222222222222, -0.16666666666666666, -0.703125, -0.6666666666666666, -0.5, 0.0, 0.0, 0.5, -0.5, -0.1, -0.5, -0.75, 0.8, -0.3333333333333333, 0.0, 0.0, 0.0, -0.04999999999999999, -0.45, 0.0, -0.3222222222222222, -0.16666666666666666, -0.6166666666666667, 0.0, 0.0, 0.0, 0.2267361111111111, 0.0, -1.0, -0.06666666666666667, -0.3888888888888889, -0.6999999999999998, -0.5, 0.0, 0.25, 0.0, -0.35714285714285715, 0.012121212121212116, 0.45, 0.125, -0.15, -0.2699999999999999, -0.48828125, -0.675, 0.2791666666666666, -0.75, -0.3333333333333333, 0.1, 0.0, 0.6, 0.0, 0.04999999999999999, 0.375, 0.0, 0.0, 0.0, 0.04722222222222221, -0.06666666666666667, -0.4, -0.3, 1.0, 0.8, -0.3333333333333333, 0.85, -0.1, 0.30000000000000004, -0.09166666666666665, -1.0, 0.5416666666666667, 0.0, -0.2916666666666667, 0.033333333333333326, 0.0, 0.0, 0.6, 0.0, 0.10909090909090909, 0.30000000000000004, 0.3, -0.4, 0.0, 0.15000000000000002, 0.65, 0.0, 0.6499999999999999, -0.45, 0.39, 0.5428571428571429, 0.0, 0.8, -0.5, -0.3666666666666667, 0.8, -1.0, -0.05, -0.16666666666666666, -0.265625, 0.15, 0.35, 0.0, 0.0, 0.0, 0.0, -0.55, 0.19015151515151515, 0.4, 0.078125, -0.5, -0.0625, 0.2, 0.25, 0.2, -0.16666666666666666, 0.0, -0.2916666666666667, -0.4, -0.75, -0.15, 0.0, 0.6, -0.14583333333333334, 0.0, 0.48828125, 0.0, -0.5, 0.0875, 0.08333333333333333, -0.3333333333333333, 0.20000000000000004, 0.5, 0.0, -0.7, 0.1, -0.75, 0.0, -0.21666666666666667, 0.0, 0.0, -0.04999999999999999, 0.13333333333333333, 0.175, -0.25, 0.25757575757575757, -0.7, 0.0, -0.55, -0.225, -0.5305555555555556, -0.12083333333333332, 0.0, 0.0, 0.0, -0.6, -0.5, 0.1952380952380952, 0.16666666666666666, 0.15333333333333335, -0.5, 0.0, -0.05000000000000002, -0.18333333333333335, -0.09999999999999998, 0.0, 0.0, 0.0, 0.0, -0.8, 0.0, -0.08333333333333334, 0.0, -1.0, -0.35714285714285715, 0.0, 0.3125, 0.0, -1.0, 0.15000000000000002, 0.3666666666666667, -0.7, 0.0, 0.5, 0.0, -0.75, 0.5681818181818181, 0.0, -0.125, -0.2625, 0.0, -0.1625, 0.0, -0.5125, -1.0, -0.3333333333333333, 0.0, 0.1, -0.1875, -0.35, 0.175, -0.5, -0.25, 0.0, -0.4166666666666667, 0.7, 0.0, 0.0, -0.3, -0.8, 0.0, -0.075, 0.65, 0.0, 0.30000000000000004, 0.0, -0.1, -0.3, -0.2, -0.4375, 0.5, -0.24722222222222223, -0.4212121212121212, 0.0, 0.0, 0.4231770833333333, 0.5, -0.7, -0.09590909090909092, 0.0, 0.0, 0.14285714285714285, -0.2601851851851852, -0.071875, 0.0, 0.2333333333333333, -0.15, -1.0, -0.4142857142857143, -0.19999999999999998, -0.3833333333333333, -0.26666666666666666, -0.45, 0.0, 0.0, -0.234375, 0.25, -0.071875, 0.0, -0.2916666666666667, -0.16666666666666666, 0.0, 0.15, 0.0, 0.0, 0.4, -0.5, 0.5, 0.0, 0.05, 0.0, 0.2857142857142857, 0.5, -0.6666666666666666, 0.0, 0.0, 0.0, 0.0, 0.1, 0.0, 0.0, -0.1, 0.25, 0.5, -1.0, -1.0, -0.5, -0.16666666666666666, 0.0, 0.0666666666666667, -0.18333333333333335, 0.05, 0.2, -0.012499999999999997, 0.1, -0.7, 0.0, -0.75, 0.32222222222222224, -0.30625, 0.07575757575757576, -0.31666666666666665, -0.06666666666666667, 0.0, 0.7, 0.5, -0.43333333333333335, 0.13636363636363635, 0.0, -0.25, 0.0, 0.25, 0.5, 0.0, 0.0, 0.0, -0.9, 0.08124999999999999, 0.11249999999999999, -0.5, -0.125, 0.0, 0.0, -0.22999999999999998, 0.3666666666666667, 0.0, 0.0, 0.0, -0.5, 0.0, 0.11666666666666664, 0.5, 0.12812500000000002, -0.6999999999999998, -1.0, -0.07500000000000001, 0.0, -0.5, 0.5, -0.13333333333333333, 0.0, 0.0, -0.5, 0.2, 0.3333333333333333, -0.19999999999999998, 0.34375, 0.1, -0.75, 0.1, 0.0, -0.1375, 0.0, 0.0, -0.25, 0.0, -0.16666666666666666, -0.27999999999999997, 0.08666666666666667, 0.0, 0.0, 0.1, -0.8, 0.12500000000000008, -0.5, -0.2625, 0.25, -0.5, 0.29000000000000004, 0.0, 0.2, -0.3125, 0.35000000000000003, -0.28888888888888886, 0.0, 0.0, 0.08499999999999999, 0.04999999999999999, 0.0, 0.0, -0.75, 0.3166666666666667, 1.0, -0.325, -0.25, 0.13333333333333333, 0.65, 0.525, -0.4374999999999999, 0.0, 0.0, -0.15000000000000002, 0.13636363636363635, 0.0, 0.8, 0.3125, 0.1, -0.6, 0.55625, -0.134375, 0.0, 0.0, -0.2152777777777778, 0.16666666666666666, -0.8, 0.0, 0.05, -0.4166666666666667, -0.2, -0.3, 0.2333333333333333, 0.5, -0.4, 0.25, -0.2571428571428572, -0.35, 0.375, -0.024999999999999994, 0.0, 0.6, 0.0, 0.0, 0.13636363636363635, 0.0, -0.375, 0.3, 0.5, -0.6, -0.27999999999999997, 0.0, 0.0, 0.0, 0.22000000000000003, 0.1, -1.0, 0.23750000000000002, 0.0, 0.3666666666666667, -0.04999999999999999, -0.375, -0.4, 0.0, -0.2, 0.0, 0.0, 0.5, 0.0, 0.0, 0.020000000000000004, 0.0, -0.2916666666666667, 0.0, -0.045075757575757575, 0.0, 0.0, 0.0, 0.0, 0.38666666666666666, -0.3, 0.39285714285714285, -0.375, 0.0, -0.7, -0.7, 0.0, 0.0, 0.0, 0.0, 0.0, 0.0, 0.8, 0.0, -0.13181818181818183, 0.058928571428571434, 0.5, -0.07777777777777779, 0.02500000000000001, -1.0, 0.3, 0.25, -0.375, -0.14583333333333334, 0.6, 0.0, 0.13636363636363635, 0.6, 0.1875, 0.0, -0.16666666666666666, 0.35, -0.35, -1.0, -0.5, 0.05357142857142855, -0.19999999999999998, 0.07812500000000001, 0.26212121212121214, 0.06666666666666667, 0.30000000000000004, 0.0, -0.75, -0.6, 0.2, 0.1, 0.43333333333333335, 0.08333333333333333, 0.09999999999999998, -0.21, -0.125, 0.3, -0.15555555555555553, -0.6, -0.1, 0.0, 0.2, 0.14285714285714285, -0.29000000000000004, 0.0, 0.03750000000000001, 0.0, 0.0, 0.20000000000000004, 0.09999999999999998, -1.0, 0.06875, 0.30000000000000004, 0.0, -0.8, -0.23214285714285715, 0.4, 0.25, -0.9, 0.5, 0.0, 0.2, -0.35, 0.0, 0.0, 0.1875, -0.14166666666666666, 0.125, 0.0, 0.35, -0.7, 0.20000000000000004, -0.7, 0.0, 0.0, 0.0, 0.0, -0.19999999999999998, -0.10000000000000002, 0.14814814814814817, 0.5, 0.0, 0.0, 0.0, 0.07738095238095237, -0.2, 0.0, 0.30000000000000004, 0.35, 0.003703703703703709, -1.0, 0.1, 0.0, 0.0, 0.08, 0.0, 0.6, 0.1, -0.6875, 0.5, 0.0, 0.0, 0.0, -0.26666666666666666, 0.525, 0.0, -1.0, -0.5, 0.0, 0.5, 0.0, 0.125, -1.0, -0.1875, 0.1, -0.6, 0.0375, 0.0, 0.8, 0.0, 0.7, 0.0, 0.0, -0.5, 0.0, -0.225, 0.0, -0.25, 0.0, -0.4, 0.0, -0.5, 0.11250000000000002, 0.0, 0.10714285714285714, 0.5, 0.09583333333333333, -0.3, 0.25, 0.0, 0.05, -0.6874999999999999, 0.09999999999999999, -1.0, 0.0, 0.3125, 0.0, -0.2638888888888889, 0.033333333333333326, 0.5, 0.10833333333333332, 0.0, 0.26666666666666666, 0.0, -0.023333333333333334, 0.02500000000000001, -0.09999999999999998, -0.24479166666666666, -0.5, 0.0, 0.2375, 0.0, -1.0, 0.0, 0.5, 0.08750000000000002, 0.35, 0.0, 0.0, -0.4, -0.033333333333333326, 0.4666666666666667, 0.7, 0.0, 0.30000000000000004, 0.26, 0.10000000000000002, 0.0, -0.5, -0.321875, -0.5666666666666668, 0.22727272727272727, 0.42500000000000004, 0.0, 0.35, 0.0, 0.0, -0.4375, -0.39583333333333337, -0.01851851851851853, 0.04999999999999999, -1.0, 0.0, 0.0, -1.0, 0.3352272727272727, 0.25, 0.2, -0.5625, 0.0, 0.0, -0.3333333333333333, 0.0, 0.0, 0.0, 0.30000000000000004, -0.012500000000000011, 0.0, 0.0, 0.0, 0.35, 0.09999999999999998, 0.0, 0.17777777777777778, 0.26666666666666666, 0.0, 0.0, 0.0, -0.26666666666666666, 0.0, -0.25, -0.3333333333333333, -0.7142857142857143, 0.0, -0.16666666666666666, -1.0, 0.30000000000000004, 0.48828125, 0.09444444444444444, -0.033333333333333326, 0.0, 0.5416666666666666, 0.0, -0.04999999999999999, -0.05, 0.3125, 0.05416666666666667, 1.0, -0.625, 0.03333333333333334, -0.5, 0.3, 0.375, 0.0, 0.10333333333333332, 0.0, 0.0, 0.0, 0.21875, -0.3333333333333333, 0.0, 0.625, 0.25, -0.16666666666666666, -0.6638888888888889, -0.1, 0.0, -0.04999999999999999, 0.0, 0.04, -1.0, 0.06249999999999999, -0.7999999999999999, -0.675, 0.1, 0.0, 0.0, 0.0, 0.0, 0.0, 0.0, -0.07500000000000001, 0.5, 0.625, 0.0, 0.4, -0.03787878787878788, -0.35555555555555557, 0.0, -0.3333333333333333, 0.0, 0.0, 0.0, 0.0, -0.25, 0.0, -0.4, 0.0, 0.875, -0.1, 0.0, -0.35000000000000003, 0.0, -0.4000000000000001, 0.0, -1.0, 0.75, 0.41818181818181815, 0.08333333333333334, 0.0, 0.4166666666666667, 0.0, -0.4833333333333332, 0.5, 0.08333333333333334, 0.0, 0.375, -0.42500000000000004, -1.0, -0.75, -0.3333333333333333, 0.4, -0.17857142857142855, 0.1619047619047619, 0.025000000000000022, 0.0, 0.15555555555555556, 0.06212121212121213, -0.125, 0.875, 0.08333333333333334, 0.0, 0.1, 0.0, 0.1, -0.6666666666666666, -0.43333333333333335, -0.24166666666666667, 0.0625, 0.024999999999999994, 0.3, 0.0, 0.041666666666666664, -0.1, 0.2, 0.6416666666666667, -0.08269230769230769, 0.0, 0.0, 0.0, -0.45, -0.184375, -1.0, -0.5, 0.8, 0.0, -0.275, -0.16666666666666666, -0.5, 0.5, 0.0, -0.6, -0.2318181818181818, 0.0, -0.6666666666666666, -0.3333333333333333, -0.17291666666666666, 0.1611111111111111, 0.24285714285714285, 0.3954545454545455, 0.0, -0.2652777777777778, -0.3, 0.06666666666666667, -0.20476190476190478, 0.30000000000000004, -0.2, 0.41818181818181815, -0.5, 0.03333333333333336, 0.0, 0.85, 0.0, -0.2, -0.20555555555555555, 0.0, 0.4121212121212121, -0.15, 0.4166666666666667, 0.0, 0.0, -0.8, 0.039999999999999994, 0.0, -0.26666666666666666, -0.55, -0.9, 0.3, 0.0, -0.6, -0.5, -0.35026041666666663, 0.0, -1.0, -0.45555555555555555, -0.18, 9.25185853854297e-18, -0.09375, -0.15, 0.13333333333333333, 0.0, 0.0, -1.0, -0.5, 0.0, 0.20833333333333334, 0.0, -0.30000000000000004, -0.4, 0.0, -0.3, 0.0, 0.55, 0.25, 0.11666666666666665, 0.30000000000000004, 0.0, -0.1, -0.24348958333333334, -0.2583333333333333, 0.45, 0.30000000000000004, 0.0, 0.0, 0.30000000000000004, 0.11249999999999999, 0.5, 0.20952380952380953, -0.3, 0.0, 0.0, -0.6, 0.17222222222222222, 0.30000000000000004, 0.5625, -0.09999999999999999, -0.3, -0.35000000000000003, 0.0, 0.13636363636363635, -0.2222222222222222, 0.3, -0.2, 0.2, -0.3, 0.0, -0.05, -0.05, -1.0, 0.0, 0.25, -1.0, 0.30000000000000004, 0.0, 0.8, -0.590625, 0.0, 0.0, 0.4514973958333333, -0.06666666666666667, 0.25, -0.10000000000000002, -0.2, -0.4, 0.0, 0.0, 0.16830357142857144, -0.5, -0.125, -0.25, 0.0, 0.0, 0.1953125, 0.0, -0.7, -0.08333333333333333, 0.1875, 0.12222222222222223, 0.3125, -0.6, 0.44999999999999996, 0.8, 0.0, 0.0, -0.5333333333333333, 0.0666666666666667, 0.0, 0.20714285714285713, -0.25, -0.7, -0.016666666666666663, -0.2, -0.13181818181818183, 0.8, 0.0, 0.0, 0.13636363636363635, -0.8, 0.16666666666666669, 0.2, 0.0, -0.9047619047619048, -0.45, 0.2, 0.0, 0.2857142857142857, 0.0, 0.05, 0.0, 0.9, 0.0, -1.0, -0.6, -0.5, 0.2, -0.5, 0.0, -1.0, -0.5, 0.26666666666666666, -0.7333333333333334, 0.33333333333333337, -1.0, -0.2597222222222222, 0.0, -1.0, 0.75, -0.2, -0.19999999999999998, 0.0, 0.25, 0.0, -0.2, 0.78125, -0.75, 0.0, -0.15, 0.0, 0.2, 0.0, 0.0, 0.0, 0.0, -1.0, 0.5, -0.1, 0.9765625, 0.48333333333333334, 0.0, 0.0, 0.275, -0.25, -0.3125, -0.7375, 0.06666666666666667, -0.10000000000000002, 0.0, 0.0, 0.0, 0.21428571428571427, 0.2, 0.3125, 0.55, -0.1064814814814815, 0.0, 0.0, 0.0, 0.0, 0.04999999999999999, -0.3111111111111111, -0.09583333333333333, 0.9, -0.8, -0.037500000000000006, -0.16666666666666666, -0.28125, -0.15, -0.5, 0.0, 0.0, -0.3, 0.4, -0.11666666666666667, 0.11481481481481481, -0.3229166666666667, 0.6, 0.19999999999999998, -0.5833333333333334, 0.0, -0.08333333333333333, 0.21666666666666667, 0.0, 0.0, 0.8, -0.06666666666666667, 0.0, 0.5, -0.20000000000000004, 1.0, 0.25, -0.13333333333333333, 0.0, 0.0, 0.0, 0.30000000000000004, 0.0, 0.4454545454545455, -0.25, 0.13666666666666666, 0.08333333333333333, 0.09999999999999999, -0.37777777777777777, -0.2013888888888889, 0.0, 0.033333333333333326, 0.4, 0.0, -0.5, 0.35, -0.5, 0.25, 0.0, 0.0625, 0.228125, 0.0, 0.34285714285714286, 0.35, 0.35, -0.6875, -0.5, 0.27666666666666667, 0.5, 0.15625, 0.25625, 0.0, -0.6999999999999998, 0.08333333333333333, 0.0, -0.6, 0.0, 0.0, -0.2, -0.049999999999999996, -0.75, 0.25, -0.3, 0.5, 0.04166666666666667, 0.0, 0.0, -0.07500000000000001, 0.1952380952380952, 0.0, 0.625, 0.11666666666666665, 0.3, 0.0, 0.0, 0.0, 0.19999999999999998, 0.0, 0.0, 0.2857142857142857, 0.2, -1.0, 0.0, 0.25, -0.04318181818181818, -0.8, 0.5, -0.32499999999999996, 0.6, 0.0, -0.25, 0.0, 0.0, -0.6499999999999999, 0.0, -1.0, -1.0, 0.0, -0.6666666666666666, 0.0, 0.275, 0.3340909090909091, 0.8, 0.25, 0.0, 0.20833333333333331, 0.0, -0.5, -0.6, 0.0, 0.13636363636363635, 0.0, -1.0, 0.0, 0.0, 0.0, 0.0, -0.07500000000000001, 0.0, 0.0, 0.8, 0.0, 0.0, 0.0, 0.3181818181818182, 0.30000000000000004, 0.0, -0.0625, 0.0, -0.275, 0.5333333333333333, -0.13333333333333333, -0.7, -0.5, 0.0, 0.0, 0.4375, -0.2, -0.25, -0.0159090909090909, -0.5, 0.3125, -0.15, -0.05625, 0.0, 0.0, -0.15, 0.0062500000000000056, -0.2878787878787879, 0.0, -0.3333333333333333, 0.0, -0.23958333333333331, 1.0, -1.0, 0.0, 0.4583333333333333, -0.16999999999999998, 0.0, 0.0, -0.2125, -0.25, 0.2857142857142857, 0.07142857142857142, -1.0, -0.043333333333333335, -0.7, 0.0, 0.0722222222222222, -1.0, 0.0, -0.7, -1.0, 0.25, 0.0, -0.5, -0.19999999999999998, -0.18125, -0.8125, 0.0, 0.2, 0.0, 0.2, 0.1, -0.525, -1.0, -0.03787878787878788, 0.0, 0.6666666666666666, -0.625, 0.0, 0.5, 0.5, 0.59073486328125, 0.3333333333333333, -0.04910714285714286, 0.0, -0.5166666666666666, 0.25, 0.0, 0.3, 0.0, 0.7, 0.23333333333333336, 0.028888888888888898, -0.5, 0.0, -0.07692307692307693, -0.05, 0.45, -0.39583333333333326, -0.2, 0.0, 0.25, 0.10000000000000002, -0.2, -0.13333333333333333, 0.0, 0.23333333333333336, -0.5, 0.0, 0.03333333333333333, 0.19444444444444445, -0.25, 0.05, -0.6638888888888889, 0.0, 0.15, 0.8, 0.25, 0.0, 0.0, 0.0, 0.0, -0.24583333333333335, -0.8, -0.06666666666666667, -1.0, 0.05, -0.11249999999999998, 3.700743415417188e-17, -0.05714285714285716, 0.0, -1.0, -0.05, 0.5, 0.0, -1.0, 0.19318181818181818, 0.3302083333333333, 0.2333333333333333, 0.0, -0.35, -0.11666666666666665, 0.5, 0.13999999999999999, -0.3416666666666666, -0.7999999999999999, 0.15, 0.0, 0.8, 0.2, 0.024999999999999994, -0.021875000000000006, 0.0, 0.0, 0.9765625, -0.09999999999999999, 0.2, -0.2, 0.10714285714285714, -0.07142857142857142, 0.1, -0.09999999999999998, -0.18787878787878787, -0.98828125, -0.6, 0.24285714285714285, -0.07407407407407408, -0.1333333333333333, -0.15999999999999998, 0.30000000000000004, 0.15, 0.25, -0.2, -0.6, 0.0, -0.19999999999999996, 0.10000000000000003, -0.6, 0.04999999999999999, -0.4583333333333333, 0.07037037037037037, 0.01785714285714285, -0.4, 0.0, 0.05, 0.0, 0.1, 1.0, 1.0, 0.0, -0.8, 0.0, 0.0, -0.4000000000000001, 0.5, 0.39999999999999997, 0.0, -0.5, -0.24444444444444446, 0.5, 0.0, -1.0, 0.0, 0.0, 0.2, -0.8571428571428572, 0.4, 0.175, -0.12222222222222223, -0.23958333333333334, 0.4454545454545455, -0.06666666666666667, 0.0, 0.2857142857142857, 0.0, 0.05, 0.1852968460111317, 0.0, -0.8, -1.0, -0.15, 0.0, 0.0, -0.45, 0.0, 0.0, -0.1, -0.875, 0.3428571428571428, 0.0, 0.0, -0.4, 0.0, 0.5, 0.1375, -0.35000000000000003, 0.7, -0.043333333333333335, 0.0, -0.4, 0.5960464477539062, 0.0, -0.027380952380952322, 0.0, 0.1, -0.21477272727272728, 0.0, 0.25, 0.8, -0.13333333333333333, 0.05284090909090908, 0.0, 0.3549107142857143, 0.2, 0.4, 0.14285714285714285, 0.4, -1.0, 0.375, 0.0, -0.004999999999999996, -0.07500000000000001, 0.6, 0.0, 0.16818181818181818, 0.23819444444444446, 0.6, 0.0, -0.5, 0.4, -0.30000000000000004, -0.375, 0.0, 0.05277777777777777, -0.1, 0.0, -0.6, 0.0, -0.5, 0.30000000000000004, 0.2857142857142857, -0.6, -0.2, 0.0, 0.6, 0.3, -0.030555555555555558, 0.2625, 0.0, 0.2, 0.0, 0.5, 0.5, 0.1875, 0.2, 0.0, -0.04166666666666666, 0.0, 0.925, 0.1477272727272727, 0.8, 0.0, -0.4, 0.5, -0.39999999999999997, -0.3, 0.5, -0.1, 0.0, 0.0, -0.5, 0.06666666666666667, 0.5, -0.6, 0.0, -0.3666666666666667, -0.47651515151515156, 0.3, 0.35, -0.5, -0.8, -0.5, 0.0, 0.1325, -0.26666666666666666, 0.0, 0.0, 0.0, 0.2, 0.25, 0.125, 0.2, -0.07, 0.2, -0.1333333333333333, -0.2, 0.0, 0.1, -0.30000000000000004, -0.8, -0.5, 0.0, 0.8, -0.3, 0.19999999999999998, 0.4, -0.625, 0.0, 0.08499999999999999, 0.0, 0.3097527472527472, 0.0, 0.15000000000000002, -0.75, 0.0, 0.0, 0.0, 0.1, -1.0, -0.39999999999999997, 0.35, 0.16818181818181818, 0.0, -0.11272727272727275, 0.0, -0.5, 0.13636363636363635, 0.0, 0.0, 0.27499999999999997, 0.0, 0.0, -0.8, 0.0, 0.5199999999999999, 0.23333333333333336, 0.2, -0.52, -0.5, 0.0, 0.06944444444444443, -0.016666666666666666, -0.05277777777777776, 0.075, -0.275, 0.0, 0.0, 0.0, 0.16666666666666666, 0.1875, 0.0, -0.07500000000000001, -0.1722222222222222, 0.0, 0.0, -0.17291666666666666, -1.0, -1.0, 0.0, 0.03333333333333333, 0.3333333333333333, -1.0, -0.5833333333333334, 0.0, -0.2333333333333333, -1.0, -0.16666666666666666, 0.0, 0.0, -0.3333333333333333, -1.0, -0.5, 0.002777777777777768, 0.6499999999999999, -0.033333333333333326, -0.010416666666666666, -0.28125, 0.0, -0.05, -0.6799999999999999, -1.0, -0.20000000000000004, 0.45, -0.024999999999999967, 0.955, -0.7, 0.0, -0.5, 0.0, -0.14583333333333334, -1.0, 0.4, 0.0, 0.0, -0.5777777777777778, 0.0, -0.4, -0.5, -0.2571428571428572, 0.0, 0.1, 0.0, 0.275, 0.175, -0.4, -1.0, -0.8, -0.75, 0.0, 0.04999999999999999, -0.25, -0.2, 0.1, 0.3, -0.6, -0.6333333333333333, 0.2596428571428572, 1.0, 0.0, 0.0, -0.03333333333333335, 0.22402597402597402, 0.3, -0.2, -0.06666666666666665, -0.0875, -1.0, 0.0, 0.07916666666666666, -0.55, 0.2, 0.0, 0.2, 0.2333333333333333, 0.07000000000000003, 0.1, 0.3866666666666667, 0.025, -0.35000000000000003, -0.35, 0.0, 0.0, 0.13636363636363635, 0.45, 0.2596428571428572, 0.5, -0.19444444444444448, -0.44166666666666665, 0.0, -0.1, -0.5, 0.0, -1.0, 1.0, 0.13000000000000003, 0.0, -0.496875, 0.4453125, -0.4, 0.0, -0.15555555555555559, -0.2878787878787879, 0.0, -0.3333333333333333, 0.0, 0.0, 0.5, 0.25, 0.1814814814814815, 0.4, 0.0, 0.75, 0.0, -0.16666666666666666, 0.25, 0.125, 0.18, 0.0625, -0.32499999999999996, -0.6, 0.2, 0.3333333333333333, 0.05909090909090908, -0.1, 0.5, 0.0, 0.0, -0.1, -1.0, 0.2777777777777778, 0.0, 0.19999999999999996, -0.6666666666666666, 0.6, -0.3333333333333333, 0.0, -0.033333333333333326, 0.35, 0.0, 0.03333333333333333, 0.35, 0.15625, -0.8333333333333334, 0.0, 0.25, -0.39999999999999997, 0.0, -0.11249999999999999, 0.35, 0.325, 0.0, -0.5083333333333333, 0.1, 0.35, -0.06666666666666667, 0.1, 0.0, -0.1, 0.8, 0.0, -0.5, 0.0, -0.19999999999999998, -0.3, 0.0, 0.0, 0.0, 0.0, -0.15625, 0.0, 0.6333333333333333, -0.7, -0.4, 0.0, -0.3, 0.42323232323232324, 0.0, 0.0, 0.5, 0.3333333333333333, 0.0, 0.0, -0.425, 0.0, 0.0, -0.20625, 0.17222222222222222, 0.0, 0.30000000000000004, 0.5, 0.16666666666666666, -0.022857142857142864, 0.0, 0.0, -1.0, -0.5, 0.0, -1.0, 0.0, 0.0, 0.0, 0.0, 0.2, 0.1875, 0.0, -1.0, 0.625, 0.125, 0.5, 0.0, -0.4545454545454546, 0.05, 0.5, 0.0, -0.5, 0.5, 0.5375, 0.6, 0.7, 0.0, -0.58310546875, 0.2, 0.0, -0.2, 0.0, -1.0, -0.24375, 0.0, 0.16666666666666669, -0.359375, 0.32222222222222224, -0.09403409090909091, 0.4, 0.2, 0.0, -0.2, 0.0, -0.5, 0.65, 0.2, -0.1, 0.25, -0.039999999999999994, -0.4785714285714286, -0.11190476190476188, 0.0, 0.5, -0.26666666666666666, 0.0, 0.0, 0.6416666666666666, 0.5, 0.65, -0.11666666666666667, 0.025, 0.0, 1.0, 0.13333333333333333, 0.0, -0.3333333333333333, 0.0, -0.09999999999999998, -0.8571428571428572, -0.6999999999999998, 0.30000000000000004, 0.0, 0.3333333333333333, 0.0, -0.4, 0.0, 0.6, -0.43333333333333335, 0.0, 0.0, -0.5625, -0.05, -0.5125, 0.06666666666666665, -0.09375, 0.0, 0.0, -0.375, 0.0, 0.39, 0.0, 0.08, -0.26666666666666666, 0.0, -0.65, 0.3791666666666667, -0.2, -0.3333333333333333, 0.2, 0.0, 0.0, -0.25, 0.0, 0.0465909090909091, 0.5, 0.3333333333333333, -0.5, -0.6, -1.0, 0.0, 0.0, -0.425, -0.07999999999999999, 0.0, 0.18333333333333335, 0.0, 0.7, 0.425, 0.0, 0.39999999999999997, 0.0, 0.13636363636363635, -1.0, 0.15000000000000002, 0.375, 0.21428571428571427, 0.05, 0.4464285714285714, 0.10000000000000002, 0.14444444444444446, 0.0, 0.0, 0.08333333333333333, -0.32499999999999996, 0.0, 0.0, 0.14285714285714285, 0.3, 0.35, 0.0, 0.7, 0.7, 0.25416666666666665, 0.05, -0.5, 0.45000000000000007, 0.39999999999999997, 0.2857142857142857, 0.375, 0.0, 0.11197916666666667, -0.039999999999999994, -0.06666666666666667, 0.08, -0.4, 0.3181818181818182, -0.234375, 0.0, 0.0, 0.15, -0.20833333333333334, -0.125, -0.6, -0.3277777777777778, -0.2916666666666667, 0.0, 0.3, 0.21666666666666667, -0.25, 0.0, -0.4, -0.48124999999999996, 0.225, 0.0, 0.4, -0.4, 0.6, 0.625, 0.0, 0.31363636363636366, -0.125, 0.24285714285714285, 0.0, 0.21666666666666667, 0.21071428571428572, 0.7333333333333334, 0.3333333333333333, -0.08888888888888889, 1.0, 0.0, 0.0, 0.0, 0.3444444444444445, 0.03333333333333335, -0.5, 0.430952380952381, -0.26666666666666666, -0.2, -1.0, -0.35, 0.0, 0.3, -0.2972222222222222, -0.15, -0.5, -0.3333333333333333, -0.6, -0.12465277777777778, 0.0, -0.5, 0.30000000000000004, -0.8, 0.0, 0.0, 0.73828125, -0.5, 0.09999999999999996, -0.125, -0.022222222222222216, -0.4, -0.2, 0.0, 0.2, 0.0, 0.0, 0.0, -0.5, -1.0, 0.2833333333333333, 0.275, 0.125, 0.0, 0.0, 0.0, 0.6, 0.0, 0.0, 0.10517578124999999, 0.25, -0.55, 0.75, 0.05, -0.06388888888888887, 0.03333333333333333, 0.6, -0.18181818181818182, -0.0875, 0.1, 0.4, 0.1953125, 0.0, 0.0, 0.0, 0.039999999999999994, -0.5, -0.125, -0.125, 0.8, 0.2, -0.5, 0.0, 0.42500000000000004, 0.1, 0.3, -0.24479166666666666, 0.0, -0.125, 0.0, 0.0, -1.0, 0.0, 0.2, 0.0, 0.0, -0.1, 0.0, 0.20833333333333334, -0.3333333333333333, -0.25, 0.375, 0.4, -0.4, -0.2916666666666667, 0.0, 0.2, -0.5, 0.3125, -0.15, -0.2625, -0.04999999999999999, 0.0, 0.0, 0.0, -0.6, -0.6, 0.0, 0.125, -0.125, -1.0, 0.10714285714285714, 0.0, -0.18181818181818182, 0.0, 0.0, -0.2222222222222222, 0.5, -0.7142857142857143, 0.37777777777777777, 0.25, -0.5, 0.125, 0.0, 0.78125, 0.0, 0.14666666666666667, 0.0, 0.0, 0.0, 0.0, 0.3333333333333333, 0.0, 0.0, 0.65, 0.0, 0.125, 0.0, -0.30000000000000004, 0.0, 0.0, 0.0, -0.3, -0.071875, 0.1, 0.0, 0.3666666666666667, 0.16180555555555554, -0.05, -0.0761904761904762, -0.6, 0.13636363636363635, 0.0, 0.12812500000000002, 0.13333333333333333, 0.8, 0.75, 0.5, 0.0, 0.13333333333333333, 0.14999999999999997, 0.0, 0.5, 0.0, 0.0, 0.09906249999999998, 0.1, 0.0, 0.0, -0.45, -0.3333333333333333, -0.09375, -0.14999999999999997, 0.6, -0.35, 0.0, 0.30000000000000004, -0.1375, 0.0, -0.5, 0.012499999999999992, -0.06666666666666665, -0.6, 0.0, -0.2, 0.8, 0.0, 0.35357142857142854, 0.0, 0.3, -0.78125, 0.175, 0.0, 0.0, -0.5, -1.0, 0.033333333333333326, 0.55, 0.2, 0.7, 0.0, -0.5, 0.0, 0.36212121212121207, -0.1, -0.054166666666666696, 0.30000000000000004, -0.15, -0.5, 0.4666666666666667, -0.7, 0.0, 0.8, -0.08020833333333333, 0.0, -0.15, 0.0, -0.4666666666666666, 0.0, -0.15, 0.16527777777777777, 0.0, 0.30000000000000004, 0.18, -0.325, 0.0, 0.7125, -0.75, 0.0, -0.1, 0.25, -0.3333333333333333, 0.0, 0.45, 0.5, 0.0, -0.05833333333333333, 0.0, 0.0, -0.3888888888888889, -0.1, 0.2625, 0.0, -0.375, -0.6, -0.09722222222222222, -0.2111111111111111, 0.1, 0.0, -0.125, 0.25, 0.35, 0.2, 0.2, 0.0, 0.0, 0.0, -0.325, 0.0, 0.10625, -0.1, 0.0, -0.055555555555555546, -0.052727272727272734, -0.125, -0.022222222222222216, 0.0, 0.0, -1.0, -0.4, 0.0, 0.25, 0.2, 0.0, 0.05, -0.35, 0.0, 0.3208333333333333, -0.075, -0.6, -0.17857142857142855, -1.0, 0.15625, -0.5, -0.6, -0.16666666666666666, -0.5, 0.0, 0.3125, 0.0, 0.15, 0.0, 0.3229166666666667, 0.6, 0.1, 0.02083333333333333, 0.0, -0.42777777777777776, 0.0, 0.10714285714285714, -1.0, -0.525, 0.0, -0.06666666666666665, 0.0, 0.0, -1.0, 0.3333333333333333, 0.15, 0.4, 0.2, 0.0, -0.125, 0.6, -0.5, 0.0, -0.3333333333333333, 0.0, 0.28125, 0.0, 0.0, 0.0, 0.7, -0.6, 0.0, 0.5, -0.5, -0.3, -0.53828125, -0.08333333333333333, 0.38333333333333336, 0.225, 0.3666666666666667, 0.0, -0.16666666666666666, -0.0875, -0.7142857142857143, 0.0, -0.1625, 0.0, 0.03333333333333333, 0.16666666666666666, -0.09999999999999992, -0.41666666666666663, -0.375, 0.0, -0.175, -0.15, 0.0, 0.0, 0.012121212121212125, 0.25, 0.3333333333333333, 0.5, 0.16666666666666666, -0.5458333333333334, -0.16666666666666666, -1.0, 0.19416666666666668, 0.14444444444444446, -0.5222222222222223, 0.08333333333333336, -0.4, 0.0, 0.0, 0.55, 0.37878787878787873, 0.0, 0.0, 0.19583333333333333, 0.5278409090909091, 0.0, 0.27999999999999997, 0.0, -1.0, 0.25, 0.35, 0.0, -0.1875, 0.4, -0.16666666666666666, 0.0, 0.03333333333333333, -0.44999999999999996, 0.2, 0.7, 0.625, 0.0, 0.0, 0.1530952380952381, -1.0, -0.08333333333333331, -0.8, 0.3666666666666667, -0.5, 0.4375, -0.15625, -0.31666666666666665, 0.0, 0.25, 0.0, 0.25, 0.10517578124999999, 0.5960464477539062, 0.0, 0.06875, 0.0, -0.25, -0.30000000000000004, -0.175, -0.4666666666666666, -0.27499999999999997, 0.5, -0.13333333333333333, 0.8, -0.6, 0.0, -0.403125, -0.05, -0.7, -0.1, -0.5, -0.09999999999999999, 0.0, 0.2375, 0.5, 0.0, -0.9, 0.0, 0.0, 0.5, 0.0, 0.36714285714285716, -0.1, 0.0, -0.125, 0.25, 0.25, 0.0, -0.2, 0.0, 0.0, -0.5, -1.0, -0.049999999999999996, 0.14583333333333334, 0.4, 0.0, 0.65, 0.525, 1.0, 0.26666666666666666, 0.2, 0.5, 0.0, -0.3884615384615384, -0.049999999999999996, -0.13333333333333333, 0.21428571428571427, -0.16666666666666666, 0.0, -0.6499999999999999, 0.25, 0.0, 0.0, -0.75, 0.0, 0.0, 0.1, 0.0, -0.575, -0.625, -0.06000000000000001, 0.0, -1.0, 0.0, 0.0, -0.14999999999999997, -0.24999999999999994, -0.5, 0.0, 0.0, 0.20000000000000004, -0.125, 0.0, 0.0, -0.2571428571428572, 0.43333333333333335, 0.16, 1.0, 0.01111111111111109, 0.06666666666666667, -0.1, 0.2, -0.6333333333333333, 0.0, 0.0, -0.375, -0.07916666666666668, -0.6, 0.5, -1.0, -0.022222222222222254, -0.5, -0.19999999999999998, 0.0875, 0.0, 0.0, -0.1, 0.14166666666666666, 0.06818181818181818, 0.06666666666666667, -0.42465277777777777, -0.2, 0.38666666666666666, 0.25, 0.0, -0.23214285714285715, 0.0, 0.4, 0.6833333333333332, 0.0, 0.0, 0.15, 0.0, 0.0, 0.09999999999999998, 0.0, -1.0, 0.1, -0.15, 0.43333333333333335, -0.09999999999999998, 0.3181818181818182, -0.5, -0.25, -1.0, -0.6999999999999998, -0.0625, -0.1, 0.0, 0.13636363636363635, 0.0, -0.3888888888888889, 0.5, 0.0, 0.625, -0.4, 0.35714285714285715, 0.29166666666666663, 0.0, 0.0, 0.3499999999999999, 0.30625, -0.625, 0.0, -0.45, 0.0, 0.1875, 0.0, -0.2857142857142857, -0.13055555555555556, 0.0, 0.0, -0.4, 0.18541666666666667, 0.0, 0.5, -0.3585714285714286, 0.0, -0.16666666666666666, -0.5625, -0.5, 0.0, -0.2125, 0.0, -0.625, 0.25, 0.0, 0.0, 0.1, 0.0, 0.0, 0.5, -1.0, 0.25, 0.1, -0.55, -0.07777777777777779, 0.0, -1.0, 0.5, 0.25, -0.2, 0.2333333333333333, 0.13636363636363635, 0.0, 0.2, -0.47500000000000003, 0.0, -0.49749999999999994, 0.08214285714285713, 0.0, 0.0, 0.0, -0.125, -0.7, 0.35, 0.30000000000000004, -0.41666666666666663, 0.5, 0.0, 0.0, 0.0, -0.125, 0.0, 0.375, -0.2262276785714286, -0.6, -0.355, -0.1111111111111111, -0.13999999999999999, 0.2, 0.0, 0.0, 1.0, -0.8, 0.4166666666666667, 0.0, 0.45, 0.8, -0.9, 0.06818181818181818, 0.1875, 0.0, 0.0, 0.16666666666666666, -0.06666666666666667, 0.2, 0.125, 0.2857142857142857, 0.15000000000000002, -0.5, 0.0, -0.20833333333333334, 0.025000000000000022, 0.2, 0.21818181818181817, -0.35, -0.6, -0.24999999999999992, 0.109375, -0.15, -0.7, -0.16666666666666666, -0.55, -0.5, -0.2, -0.5, 0.36818181818181817, 0.0, -0.13518518518518519, 0.0, -0.3444444444444444, -0.4166666666666667, 0.5, 0.0, 0.6083333333333334, -0.43333333333333335, -0.325, 0.25, 0.2933333333333333, 0.0, -0.07500000000000001, 0.1, 0.0, 0.2, -0.19999999999999998, 0.5, 0.0, 0.0, -0.12121212121212122, 0.0, 0.02323232323232323, 0.0, 0.018181818181818174, -1.0, -0.625, 0.13333333333333333, 0.2722222222222222, 0.0, 0.0, 0.5, -1.0, 0.3, 0.0, -0.6458333333333334, -0.5, 0.0, -0.625, 0.6000000000000001, -0.25, 0.0, -0.15, -0.28125, -0.14583333333333331, 0.0, -1.0, 0.0, 0.0, -1.0, 0.0, 0.0, -0.3, -1.0, 0.0, 0.0, -0.5, -0.049999999999999996, 0.0, -0.4444444444444444, 0.390625, 0.50625, -0.2, 0.43333333333333335, 0.0, 0.008333333333333338, 0.0, 0.0, -0.25, -0.20555555555555555, -0.25, -0.2, 0.0, -0.2904761904761905, 0.0, 0.25555555555555554, 0.0, -0.24999999999999997, 0.875, -0.1, 0.0, -0.2999999999999999, 0.0, 0.0, 0.0, -0.30000000000000004, -0.2, -1.0, -0.34375, 0.4, 0.375, -1.0, 0.0, 0.0, -0.5, -0.15000000000000002, 0.4, 0.8, -0.6, 0.09375, 0.8, 0.0, 0.19999999999999998, 0.2, 0.0, -0.3, 0.4666666666666666, 0.0, 0.0, -0.8, 0.09, 0.3833333333333333, 0.1, 0.0, 0.0, -0.8, -0.5, 0.61875, 0.0, 0.0, -0.184375, 0.2642857142857143, 0.0, -0.3055555555555555, -0.4222222222222222, 0.75, 0.125, 0.1, 0.19047619047619047, 0.0, 0.0, -0.4, -0.07777777777777779, -0.375, -1.0, -0.3333333333333333, -0.5, 0.0, 0.0, 0.0, -0.17499999999999993, 0.25, 0.0, -0.10000000000000002, 0.3666666666666667, 0.5, 0.0, 0.0, -0.16666666666666666, 0.0, 0.1, 0.0, -0.3, -0.02, -0.6, 0.2, -0.09375, -0.17583333333333334, -0.09583333333333334, 0.684375, 0.0, 0.5, 0.0, 0.0333333333333334, 0.0, 0.0, -0.1, 1.0, 0.0, 0.3888888888888889, 0.0, -0.4354166666666666, 0.0, 0.125, 0.8, -0.5171875, 0.07500000000000001, 0.03333333333333333, -0.4166666666666667, -0.5, -0.19999999999999996, -0.3, -0.6, 0.0, 0.25, 0.0, 0.46666666666666673, -0.611111111111111, 0.2, -0.1, -1.0, 0.14999999999999997, -0.33999999999999997, 0.35000000000000003, 0.4, 0.05000000000000001, 0.012121212121212116, -0.08333333333333333, 0.0, 0.1, 0.0, 0.2, -0.125, 0.0, 0.9375, 0.0, -0.45, -0.25, 0.0, 0.44999999999999996, 0.0, 0.0, -0.011111111111111118, 0.0, -0.3333333333333333, 0.5, -0.1, -0.4, 0.0, -0.2, 0.0, 0.0, -0.6999999999999998, -0.5, -0.05000000000000001, 0.13636363636363635, 0.0, 0.0, 0.2, 0.0, 0.0, -0.15625, -0.6, 0.0, 0.0, -0.5, -1.0, 0.0, -1.0, 0.0, 0.05, 0.12211174242424243, 0.23333333333333336, -0.44999999999999996, -0.55, -0.05, 0.0, 0.5, -0.125, 0.0, 0.0, 0.1125, 0.08499999999999999, 0.09569597069597069, 0.3333333333333333, 0.0, -1.0, 0.0, 0.47000000000000003, -0.05, -0.3125, -0.13333333333333333, 0.0, -1.0, 0.0, 0.25, 0.30000000000000004, 0.0, 0.0, 0.0, -0.08833333333333333, -0.05, 0.225, 0.6, 0.0, -0.20000000000000004, -1.0, 0.578125, -0.4, 0.0, -0.09999999999999999, -0.575, -0.5, 0.0, -0.675, -0.3, 0.0, 0.0, 0.33333333333333337]}],\n",
              "                        {\"barmode\": \"overlay\", \"legend\": {\"bgcolor\": \"#F5F6F9\", \"font\": {\"color\": \"#4D5663\"}}, \"paper_bgcolor\": \"#F5F6F9\", \"plot_bgcolor\": \"#F5F6F9\", \"template\": {\"data\": {\"bar\": [{\"error_x\": {\"color\": \"#2a3f5f\"}, \"error_y\": {\"color\": \"#2a3f5f\"}, \"marker\": {\"line\": {\"color\": \"#E5ECF6\", \"width\": 0.5}}, \"type\": \"bar\"}], \"barpolar\": [{\"marker\": {\"line\": {\"color\": \"#E5ECF6\", \"width\": 0.5}}, \"type\": \"barpolar\"}], \"carpet\": [{\"aaxis\": {\"endlinecolor\": \"#2a3f5f\", \"gridcolor\": \"white\", \"linecolor\": \"white\", \"minorgridcolor\": \"white\", \"startlinecolor\": \"#2a3f5f\"}, \"baxis\": {\"endlinecolor\": \"#2a3f5f\", \"gridcolor\": \"white\", \"linecolor\": \"white\", \"minorgridcolor\": \"white\", \"startlinecolor\": \"#2a3f5f\"}, \"type\": \"carpet\"}], \"choropleth\": [{\"colorbar\": {\"outlinewidth\": 0, \"ticks\": \"\"}, \"type\": \"choropleth\"}], \"contour\": [{\"colorbar\": {\"outlinewidth\": 0, \"ticks\": \"\"}, \"colorscale\": [[0.0, \"#0d0887\"], [0.1111111111111111, \"#46039f\"], [0.2222222222222222, \"#7201a8\"], [0.3333333333333333, \"#9c179e\"], [0.4444444444444444, \"#bd3786\"], [0.5555555555555556, \"#d8576b\"], [0.6666666666666666, \"#ed7953\"], [0.7777777777777778, \"#fb9f3a\"], [0.8888888888888888, \"#fdca26\"], [1.0, \"#f0f921\"]], \"type\": \"contour\"}], \"contourcarpet\": [{\"colorbar\": {\"outlinewidth\": 0, \"ticks\": \"\"}, \"type\": \"contourcarpet\"}], \"heatmap\": [{\"colorbar\": {\"outlinewidth\": 0, \"ticks\": \"\"}, \"colorscale\": [[0.0, \"#0d0887\"], [0.1111111111111111, \"#46039f\"], [0.2222222222222222, \"#7201a8\"], [0.3333333333333333, \"#9c179e\"], [0.4444444444444444, \"#bd3786\"], [0.5555555555555556, \"#d8576b\"], [0.6666666666666666, \"#ed7953\"], [0.7777777777777778, \"#fb9f3a\"], [0.8888888888888888, \"#fdca26\"], [1.0, \"#f0f921\"]], \"type\": \"heatmap\"}], \"heatmapgl\": [{\"colorbar\": {\"outlinewidth\": 0, \"ticks\": \"\"}, \"colorscale\": [[0.0, \"#0d0887\"], [0.1111111111111111, \"#46039f\"], [0.2222222222222222, \"#7201a8\"], [0.3333333333333333, \"#9c179e\"], [0.4444444444444444, \"#bd3786\"], [0.5555555555555556, \"#d8576b\"], [0.6666666666666666, \"#ed7953\"], [0.7777777777777778, \"#fb9f3a\"], [0.8888888888888888, \"#fdca26\"], [1.0, \"#f0f921\"]], \"type\": \"heatmapgl\"}], \"histogram\": [{\"marker\": {\"colorbar\": {\"outlinewidth\": 0, \"ticks\": \"\"}}, \"type\": \"histogram\"}], \"histogram2d\": [{\"colorbar\": {\"outlinewidth\": 0, \"ticks\": \"\"}, \"colorscale\": [[0.0, \"#0d0887\"], [0.1111111111111111, \"#46039f\"], [0.2222222222222222, \"#7201a8\"], [0.3333333333333333, \"#9c179e\"], [0.4444444444444444, \"#bd3786\"], [0.5555555555555556, \"#d8576b\"], [0.6666666666666666, \"#ed7953\"], [0.7777777777777778, \"#fb9f3a\"], [0.8888888888888888, \"#fdca26\"], [1.0, \"#f0f921\"]], \"type\": \"histogram2d\"}], \"histogram2dcontour\": [{\"colorbar\": {\"outlinewidth\": 0, \"ticks\": \"\"}, \"colorscale\": [[0.0, \"#0d0887\"], [0.1111111111111111, \"#46039f\"], [0.2222222222222222, \"#7201a8\"], [0.3333333333333333, \"#9c179e\"], [0.4444444444444444, \"#bd3786\"], [0.5555555555555556, \"#d8576b\"], [0.6666666666666666, \"#ed7953\"], [0.7777777777777778, \"#fb9f3a\"], [0.8888888888888888, \"#fdca26\"], [1.0, \"#f0f921\"]], \"type\": \"histogram2dcontour\"}], \"mesh3d\": [{\"colorbar\": {\"outlinewidth\": 0, \"ticks\": \"\"}, \"type\": \"mesh3d\"}], \"parcoords\": [{\"line\": {\"colorbar\": {\"outlinewidth\": 0, \"ticks\": \"\"}}, \"type\": \"parcoords\"}], \"pie\": [{\"automargin\": true, \"type\": \"pie\"}], \"scatter\": [{\"marker\": {\"colorbar\": {\"outlinewidth\": 0, \"ticks\": \"\"}}, \"type\": \"scatter\"}], \"scatter3d\": [{\"line\": {\"colorbar\": {\"outlinewidth\": 0, \"ticks\": \"\"}}, \"marker\": {\"colorbar\": {\"outlinewidth\": 0, \"ticks\": \"\"}}, \"type\": \"scatter3d\"}], \"scattercarpet\": [{\"marker\": {\"colorbar\": {\"outlinewidth\": 0, \"ticks\": \"\"}}, \"type\": \"scattercarpet\"}], \"scattergeo\": [{\"marker\": {\"colorbar\": {\"outlinewidth\": 0, \"ticks\": \"\"}}, \"type\": \"scattergeo\"}], \"scattergl\": [{\"marker\": {\"colorbar\": {\"outlinewidth\": 0, \"ticks\": \"\"}}, \"type\": \"scattergl\"}], \"scattermapbox\": [{\"marker\": {\"colorbar\": {\"outlinewidth\": 0, \"ticks\": \"\"}}, \"type\": \"scattermapbox\"}], \"scatterpolar\": [{\"marker\": {\"colorbar\": {\"outlinewidth\": 0, \"ticks\": \"\"}}, \"type\": \"scatterpolar\"}], \"scatterpolargl\": [{\"marker\": {\"colorbar\": {\"outlinewidth\": 0, \"ticks\": \"\"}}, \"type\": \"scatterpolargl\"}], \"scatterternary\": [{\"marker\": {\"colorbar\": {\"outlinewidth\": 0, \"ticks\": \"\"}}, \"type\": \"scatterternary\"}], \"surface\": [{\"colorbar\": {\"outlinewidth\": 0, \"ticks\": \"\"}, \"colorscale\": [[0.0, \"#0d0887\"], [0.1111111111111111, \"#46039f\"], [0.2222222222222222, \"#7201a8\"], [0.3333333333333333, \"#9c179e\"], [0.4444444444444444, \"#bd3786\"], [0.5555555555555556, \"#d8576b\"], [0.6666666666666666, \"#ed7953\"], [0.7777777777777778, \"#fb9f3a\"], [0.8888888888888888, \"#fdca26\"], [1.0, \"#f0f921\"]], \"type\": \"surface\"}], \"table\": [{\"cells\": {\"fill\": {\"color\": \"#EBF0F8\"}, \"line\": {\"color\": \"white\"}}, \"header\": {\"fill\": {\"color\": \"#C8D4E3\"}, \"line\": {\"color\": \"white\"}}, \"type\": \"table\"}]}, \"layout\": {\"annotationdefaults\": {\"arrowcolor\": \"#2a3f5f\", \"arrowhead\": 0, \"arrowwidth\": 1}, \"coloraxis\": {\"colorbar\": {\"outlinewidth\": 0, \"ticks\": \"\"}}, \"colorscale\": {\"diverging\": [[0, \"#8e0152\"], [0.1, \"#c51b7d\"], [0.2, \"#de77ae\"], [0.3, \"#f1b6da\"], [0.4, \"#fde0ef\"], [0.5, \"#f7f7f7\"], [0.6, \"#e6f5d0\"], [0.7, \"#b8e186\"], [0.8, \"#7fbc41\"], [0.9, \"#4d9221\"], [1, \"#276419\"]], \"sequential\": [[0.0, \"#0d0887\"], [0.1111111111111111, \"#46039f\"], [0.2222222222222222, \"#7201a8\"], [0.3333333333333333, \"#9c179e\"], [0.4444444444444444, \"#bd3786\"], [0.5555555555555556, \"#d8576b\"], [0.6666666666666666, \"#ed7953\"], [0.7777777777777778, \"#fb9f3a\"], [0.8888888888888888, \"#fdca26\"], [1.0, \"#f0f921\"]], \"sequentialminus\": [[0.0, \"#0d0887\"], [0.1111111111111111, \"#46039f\"], [0.2222222222222222, \"#7201a8\"], [0.3333333333333333, \"#9c179e\"], [0.4444444444444444, \"#bd3786\"], [0.5555555555555556, \"#d8576b\"], [0.6666666666666666, \"#ed7953\"], [0.7777777777777778, \"#fb9f3a\"], [0.8888888888888888, \"#fdca26\"], [1.0, \"#f0f921\"]]}, \"colorway\": [\"#636efa\", \"#EF553B\", \"#00cc96\", \"#ab63fa\", \"#FFA15A\", \"#19d3f3\", \"#FF6692\", \"#B6E880\", \"#FF97FF\", \"#FECB52\"], \"font\": {\"color\": \"#2a3f5f\"}, \"geo\": {\"bgcolor\": \"white\", \"lakecolor\": \"white\", \"landcolor\": \"#E5ECF6\", \"showlakes\": true, \"showland\": true, \"subunitcolor\": \"white\"}, \"hoverlabel\": {\"align\": \"left\"}, \"hovermode\": \"closest\", \"mapbox\": {\"style\": \"light\"}, \"paper_bgcolor\": \"white\", \"plot_bgcolor\": \"#E5ECF6\", \"polar\": {\"angularaxis\": {\"gridcolor\": \"white\", \"linecolor\": \"white\", \"ticks\": \"\"}, \"bgcolor\": \"#E5ECF6\", \"radialaxis\": {\"gridcolor\": \"white\", \"linecolor\": \"white\", \"ticks\": \"\"}}, \"scene\": {\"xaxis\": {\"backgroundcolor\": \"#E5ECF6\", \"gridcolor\": \"white\", \"gridwidth\": 2, \"linecolor\": \"white\", \"showbackground\": true, \"ticks\": \"\", \"zerolinecolor\": \"white\"}, \"yaxis\": {\"backgroundcolor\": \"#E5ECF6\", \"gridcolor\": \"white\", \"gridwidth\": 2, \"linecolor\": \"white\", \"showbackground\": true, \"ticks\": \"\", \"zerolinecolor\": \"white\"}, \"zaxis\": {\"backgroundcolor\": \"#E5ECF6\", \"gridcolor\": \"white\", \"gridwidth\": 2, \"linecolor\": \"white\", \"showbackground\": true, \"ticks\": \"\", \"zerolinecolor\": \"white\"}}, \"shapedefaults\": {\"line\": {\"color\": \"#2a3f5f\"}}, \"ternary\": {\"aaxis\": {\"gridcolor\": \"white\", \"linecolor\": \"white\", \"ticks\": \"\"}, \"baxis\": {\"gridcolor\": \"white\", \"linecolor\": \"white\", \"ticks\": \"\"}, \"bgcolor\": \"#E5ECF6\", \"caxis\": {\"gridcolor\": \"white\", \"linecolor\": \"white\", \"ticks\": \"\"}}, \"title\": {\"x\": 0.05}, \"xaxis\": {\"automargin\": true, \"gridcolor\": \"white\", \"linecolor\": \"white\", \"ticks\": \"\", \"title\": {\"standoff\": 15}, \"zerolinecolor\": \"white\", \"zerolinewidth\": 2}, \"yaxis\": {\"automargin\": true, \"gridcolor\": \"white\", \"linecolor\": \"white\", \"ticks\": \"\", \"title\": {\"standoff\": 15}, \"zerolinecolor\": \"white\", \"zerolinewidth\": 2}}}, \"title\": {\"font\": {\"color\": \"#4D5663\"}, \"text\": \"Sentiment Polarity Distribution\"}, \"xaxis\": {\"gridcolor\": \"#E1E5ED\", \"linecolor\": \"black\", \"showgrid\": true, \"tickfont\": {\"color\": \"#4D5663\"}, \"title\": {\"font\": {\"color\": \"#4D5663\"}, \"text\": \"polarity\"}, \"zerolinecolor\": \"#E1E5ED\"}, \"yaxis\": {\"gridcolor\": \"#E1E5ED\", \"linecolor\": \"black\", \"showgrid\": true, \"tickfont\": {\"color\": \"#4D5663\"}, \"title\": {\"font\": {\"color\": \"#4D5663\"}, \"text\": \"count\"}, \"zerolinecolor\": \"#E1E5ED\"}},\n",
              "                        {\"showLink\": true, \"linkText\": \"Export to plot.ly\", \"plotlyServerURL\": \"https://plot.ly\", \"responsive\": true}\n",
              "                    ).then(function(){\n",
              "                            \n",
              "var gd = document.getElementById('4e339bce-a909-4005-894e-faf606d6cff2');\n",
              "var x = new MutationObserver(function (mutations, observer) {{\n",
              "        var display = window.getComputedStyle(gd).display;\n",
              "        if (!display || display === 'none') {{\n",
              "            console.log([gd, 'removed!']);\n",
              "            Plotly.purge(gd);\n",
              "            observer.disconnect();\n",
              "        }}\n",
              "}});\n",
              "\n",
              "// Listen for the removal of the full notebook cells\n",
              "var notebookContainer = gd.closest('#notebook-container');\n",
              "if (notebookContainer) {{\n",
              "    x.observe(notebookContainer, {childList: true});\n",
              "}}\n",
              "\n",
              "// Listen for the clearing of the current output cell\n",
              "var outputEl = gd.closest('.output');\n",
              "if (outputEl) {{\n",
              "    x.observe(outputEl, {childList: true});\n",
              "}}\n",
              "\n",
              "                        })\n",
              "                };\n",
              "                });\n",
              "            </script>\n",
              "        </div>"
            ],
            "application/vnd.plotly.v1+json": {
              "data": [
                {
                  "opacity": 0.8,
                  "name": "polarity",
                  "histnorm": "",
                  "nbinsx": 50,
                  "histfunc": "count",
                  "marker": {
                    "color": "rgba(255, 153, 51, 1.0)",
                    "line": {
                      "color": "#000000",
                      "width": 1.3
                    }
                  },
                  "x": [
                    -0.15555555555555559,
                    -0.25,
                    0,
                    -0.8,
                    -0.175,
                    -0.020833333333333343,
                    -0.24642857142857144,
                    0,
                    -0.75,
                    0,
                    -0.4666666666666666,
                    0,
                    -0.07238095238095237,
                    -0.6,
                    0.8,
                    0,
                    0.09999999999999999,
                    0.30000000000000004,
                    -0.32500000000000007,
                    0,
                    0.6,
                    0.16666666666666666,
                    -0.016666666666666666,
                    0.6,
                    -1,
                    0.25,
                    0,
                    0.2,
                    -0.1875,
                    0,
                    -0.2,
                    -0.375,
                    0.015625,
                    0.37500000000000006,
                    -0.43333333333333335,
                    0,
                    0.4,
                    0,
                    -0.1833333333333333,
                    -0.175,
                    0.175,
                    -0.15555555555555559,
                    0.15833333333333333,
                    0,
                    0.1333333333333333,
                    -0.16111111111111112,
                    0,
                    -0.05,
                    -0.7,
                    -0.06666666666666665,
                    0,
                    -0.14166666666666666,
                    -0.5,
                    -0.125,
                    0.85,
                    -0.5,
                    0.625,
                    0.13636363636363635,
                    0.25,
                    0.13333333333333333,
                    0,
                    -0.6,
                    -0.35,
                    1,
                    0.8,
                    0,
                    0,
                    0.25,
                    0.8,
                    -0.1444805194805195,
                    -0.5,
                    0,
                    -0.17857142857142858,
                    0.1,
                    -0.2,
                    0.3,
                    -0.125,
                    -1,
                    0.7000000000000001,
                    0,
                    0.8,
                    0,
                    -0.4147727272727273,
                    0.125,
                    0.06666666666666665,
                    0.43333333333333335,
                    0.1,
                    -0.04999999999999999,
                    0,
                    -0.7,
                    0,
                    0.07777777777777779,
                    -0.2,
                    -0.5,
                    0.8,
                    -0.7,
                    0,
                    0.11212121212121212,
                    0,
                    0.8,
                    -0.14285714285714285,
                    -0.1,
                    0.03333333333333333,
                    -0.85,
                    0,
                    -0.5,
                    0,
                    -0.3333333333333333,
                    -0.625,
                    0.1,
                    0.07575757575757576,
                    -0.30999999999999994,
                    0,
                    -0.6,
                    0,
                    0.25,
                    0.4,
                    0.020000000000000018,
                    0.012824675324675322,
                    0.35,
                    -0.6,
                    0.22000000000000003,
                    -1,
                    0,
                    0,
                    -0.2,
                    0.5,
                    -0.09590909090909092,
                    0,
                    0.4,
                    -0.10520833333333333,
                    0.19166666666666665,
                    -0.3,
                    0.4454545454545455,
                    0,
                    0,
                    0.06166666666666667,
                    2.7755575615628914e-17,
                    0,
                    -0.16666666666666666,
                    0.2857142857142857,
                    -0.5,
                    0,
                    0,
                    0,
                    0.1,
                    -0.016666666666666673,
                    0,
                    -0.8,
                    0,
                    0,
                    0.05555555555555556,
                    -0.2333333333333333,
                    -0.18181818181818182,
                    -0.06606060606060607,
                    0.16666666666666669,
                    0.5,
                    0.5,
                    0.5,
                    0,
                    -0.25,
                    -0.4,
                    -0.125,
                    0,
                    -0.5909090909090909,
                    -0.45,
                    0.13392857142857142,
                    -0.25,
                    -0.5,
                    0,
                    -0.5,
                    0,
                    0,
                    -0.6625,
                    0,
                    0.3819444444444444,
                    0.30000000000000004,
                    0.3666666666666667,
                    0,
                    -1,
                    0,
                    0.85,
                    -0.5,
                    0.3625,
                    -0.3333333333333333,
                    -0.35,
                    0,
                    -1,
                    -0.17500000000000002,
                    -0.23333333333333334,
                    0.7,
                    0.35000000000000003,
                    0.4875,
                    -0.21666666666666667,
                    0,
                    0.375,
                    0.35,
                    0.625,
                    0,
                    -0.04999999999999999,
                    0,
                    0,
                    0,
                    0.165,
                    0,
                    0.13636363636363635,
                    1,
                    -0.2652777777777778,
                    -0.3,
                    -0.15625,
                    0,
                    -1,
                    0,
                    0,
                    0.35,
                    -0.125,
                    0.4333333333333333,
                    0,
                    0,
                    0,
                    -0.04166666666666667,
                    0,
                    0.07666666666666666,
                    -0.125,
                    0.30833333333333335,
                    0,
                    0,
                    0.4681818181818182,
                    -0.1638888888888889,
                    -0.125,
                    -1,
                    0,
                    0.2,
                    0.11666666666666668,
                    -0.3,
                    -0.125,
                    -0.5,
                    0.7,
                    -0.75,
                    0.13636363636363635,
                    -0.6999999999999998,
                    0,
                    -0.0625,
                    0,
                    0.18333333333333335,
                    0,
                    0,
                    -0.6,
                    0,
                    -0.2333333333333333,
                    0,
                    0,
                    -0.4,
                    0,
                    -0.4318181818181818,
                    0.3,
                    0.65,
                    -0.033333333333333326,
                    0,
                    0,
                    -0.5,
                    0.25,
                    0.5,
                    -0.3333333333333333,
                    0,
                    0,
                    -0.1,
                    -0.4333333333333333,
                    -0.2,
                    0,
                    1,
                    0.30000000000000004,
                    0,
                    0,
                    -0.05138888888888891,
                    0,
                    0.16,
                    -0.5,
                    0.2,
                    0,
                    0,
                    0,
                    -0.35714285714285715,
                    0,
                    0,
                    0,
                    0,
                    -0.3333333333333333,
                    0,
                    -0.2625,
                    0.45,
                    -0.10000000000000002,
                    0.09166666666666666,
                    0,
                    -0.0125,
                    -0.03181818181818183,
                    0,
                    0.4,
                    0,
                    0,
                    0.2,
                    -0.5666666666666665,
                    0,
                    -0.04999999999999999,
                    -0.16666666666666666,
                    0,
                    0.25,
                    0.08333333333333333,
                    0,
                    0,
                    -0.08919270833333331,
                    0,
                    0.46875,
                    -0.2,
                    0,
                    -0.75,
                    0.25,
                    -1,
                    0,
                    -0.24999999999999997,
                    -0.6499999999999999,
                    -0.5,
                    0.25,
                    0.5,
                    -0.4375,
                    1,
                    0,
                    -0.20833333333333331,
                    -0.58310546875,
                    0,
                    -0.25,
                    -0.40476190476190466,
                    -0.403125,
                    0.13333333333333333,
                    0,
                    -0.024999999999999994,
                    0.5,
                    0.19999999999999998,
                    0,
                    -0.7,
                    0,
                    0,
                    0,
                    0,
                    0,
                    -0.4,
                    0.3571428571428571,
                    -0.15,
                    -0.11249999999999999,
                    0.09999999999999999,
                    -0.024999999999999994,
                    0.16666666666666666,
                    -0.2,
                    0.2888888888888889,
                    0.2,
                    0.6,
                    -0.08333333333333333,
                    0,
                    0.65,
                    0,
                    0.3,
                    -0.0625,
                    -0.08055555555555555,
                    0.14166666666666666,
                    -0.033333333333333326,
                    -0.4,
                    0,
                    -0.075,
                    0,
                    0,
                    0.17222222222222222,
                    -0.16666666666666666,
                    -0.703125,
                    -0.6666666666666666,
                    -0.5,
                    0,
                    0,
                    0.5,
                    -0.5,
                    -0.1,
                    -0.5,
                    -0.75,
                    0.8,
                    -0.3333333333333333,
                    0,
                    0,
                    0,
                    -0.04999999999999999,
                    -0.45,
                    0,
                    -0.3222222222222222,
                    -0.16666666666666666,
                    -0.6166666666666667,
                    0,
                    0,
                    0,
                    0.2267361111111111,
                    0,
                    -1,
                    -0.06666666666666667,
                    -0.3888888888888889,
                    -0.6999999999999998,
                    -0.5,
                    0,
                    0.25,
                    0,
                    -0.35714285714285715,
                    0.012121212121212116,
                    0.45,
                    0.125,
                    -0.15,
                    -0.2699999999999999,
                    -0.48828125,
                    -0.675,
                    0.2791666666666666,
                    -0.75,
                    -0.3333333333333333,
                    0.1,
                    0,
                    0.6,
                    0,
                    0.04999999999999999,
                    0.375,
                    0,
                    0,
                    0,
                    0.04722222222222221,
                    -0.06666666666666667,
                    -0.4,
                    -0.3,
                    1,
                    0.8,
                    -0.3333333333333333,
                    0.85,
                    -0.1,
                    0.30000000000000004,
                    -0.09166666666666665,
                    -1,
                    0.5416666666666667,
                    0,
                    -0.2916666666666667,
                    0.033333333333333326,
                    0,
                    0,
                    0.6,
                    0,
                    0.10909090909090909,
                    0.30000000000000004,
                    0.3,
                    -0.4,
                    0,
                    0.15000000000000002,
                    0.65,
                    0,
                    0.6499999999999999,
                    -0.45,
                    0.39,
                    0.5428571428571429,
                    0,
                    0.8,
                    -0.5,
                    -0.3666666666666667,
                    0.8,
                    -1,
                    -0.05,
                    -0.16666666666666666,
                    -0.265625,
                    0.15,
                    0.35,
                    0,
                    0,
                    0,
                    0,
                    -0.55,
                    0.19015151515151515,
                    0.4,
                    0.078125,
                    -0.5,
                    -0.0625,
                    0.2,
                    0.25,
                    0.2,
                    -0.16666666666666666,
                    0,
                    -0.2916666666666667,
                    -0.4,
                    -0.75,
                    -0.15,
                    0,
                    0.6,
                    -0.14583333333333334,
                    0,
                    0.48828125,
                    0,
                    -0.5,
                    0.0875,
                    0.08333333333333333,
                    -0.3333333333333333,
                    0.20000000000000004,
                    0.5,
                    0,
                    -0.7,
                    0.1,
                    -0.75,
                    0,
                    -0.21666666666666667,
                    0,
                    0,
                    -0.04999999999999999,
                    0.13333333333333333,
                    0.175,
                    -0.25,
                    0.25757575757575757,
                    -0.7,
                    0,
                    -0.55,
                    -0.225,
                    -0.5305555555555556,
                    -0.12083333333333332,
                    0,
                    0,
                    0,
                    -0.6,
                    -0.5,
                    0.1952380952380952,
                    0.16666666666666666,
                    0.15333333333333335,
                    -0.5,
                    0,
                    -0.05000000000000002,
                    -0.18333333333333335,
                    -0.09999999999999998,
                    0,
                    0,
                    0,
                    0,
                    -0.8,
                    0,
                    -0.08333333333333334,
                    0,
                    -1,
                    -0.35714285714285715,
                    0,
                    0.3125,
                    0,
                    -1,
                    0.15000000000000002,
                    0.3666666666666667,
                    -0.7,
                    0,
                    0.5,
                    0,
                    -0.75,
                    0.5681818181818181,
                    0,
                    -0.125,
                    -0.2625,
                    0,
                    -0.1625,
                    0,
                    -0.5125,
                    -1,
                    -0.3333333333333333,
                    0,
                    0.1,
                    -0.1875,
                    -0.35,
                    0.175,
                    -0.5,
                    -0.25,
                    0,
                    -0.4166666666666667,
                    0.7,
                    0,
                    0,
                    -0.3,
                    -0.8,
                    0,
                    -0.075,
                    0.65,
                    0,
                    0.30000000000000004,
                    0,
                    -0.1,
                    -0.3,
                    -0.2,
                    -0.4375,
                    0.5,
                    -0.24722222222222223,
                    -0.4212121212121212,
                    0,
                    0,
                    0.4231770833333333,
                    0.5,
                    -0.7,
                    -0.09590909090909092,
                    0,
                    0,
                    0.14285714285714285,
                    -0.2601851851851852,
                    -0.071875,
                    0,
                    0.2333333333333333,
                    -0.15,
                    -1,
                    -0.4142857142857143,
                    -0.19999999999999998,
                    -0.3833333333333333,
                    -0.26666666666666666,
                    -0.45,
                    0,
                    0,
                    -0.234375,
                    0.25,
                    -0.071875,
                    0,
                    -0.2916666666666667,
                    -0.16666666666666666,
                    0,
                    0.15,
                    0,
                    0,
                    0.4,
                    -0.5,
                    0.5,
                    0,
                    0.05,
                    0,
                    0.2857142857142857,
                    0.5,
                    -0.6666666666666666,
                    0,
                    0,
                    0,
                    0,
                    0.1,
                    0,
                    0,
                    -0.1,
                    0.25,
                    0.5,
                    -1,
                    -1,
                    -0.5,
                    -0.16666666666666666,
                    0,
                    0.0666666666666667,
                    -0.18333333333333335,
                    0.05,
                    0.2,
                    -0.012499999999999997,
                    0.1,
                    -0.7,
                    0,
                    -0.75,
                    0.32222222222222224,
                    -0.30625,
                    0.07575757575757576,
                    -0.31666666666666665,
                    -0.06666666666666667,
                    0,
                    0.7,
                    0.5,
                    -0.43333333333333335,
                    0.13636363636363635,
                    0,
                    -0.25,
                    0,
                    0.25,
                    0.5,
                    0,
                    0,
                    0,
                    -0.9,
                    0.08124999999999999,
                    0.11249999999999999,
                    -0.5,
                    -0.125,
                    0,
                    0,
                    -0.22999999999999998,
                    0.3666666666666667,
                    0,
                    0,
                    0,
                    -0.5,
                    0,
                    0.11666666666666664,
                    0.5,
                    0.12812500000000002,
                    -0.6999999999999998,
                    -1,
                    -0.07500000000000001,
                    0,
                    -0.5,
                    0.5,
                    -0.13333333333333333,
                    0,
                    0,
                    -0.5,
                    0.2,
                    0.3333333333333333,
                    -0.19999999999999998,
                    0.34375,
                    0.1,
                    -0.75,
                    0.1,
                    0,
                    -0.1375,
                    0,
                    0,
                    -0.25,
                    0,
                    -0.16666666666666666,
                    -0.27999999999999997,
                    0.08666666666666667,
                    0,
                    0,
                    0.1,
                    -0.8,
                    0.12500000000000008,
                    -0.5,
                    -0.2625,
                    0.25,
                    -0.5,
                    0.29000000000000004,
                    0,
                    0.2,
                    -0.3125,
                    0.35000000000000003,
                    -0.28888888888888886,
                    0,
                    0,
                    0.08499999999999999,
                    0.04999999999999999,
                    0,
                    0,
                    -0.75,
                    0.3166666666666667,
                    1,
                    -0.325,
                    -0.25,
                    0.13333333333333333,
                    0.65,
                    0.525,
                    -0.4374999999999999,
                    0,
                    0,
                    -0.15000000000000002,
                    0.13636363636363635,
                    0,
                    0.8,
                    0.3125,
                    0.1,
                    -0.6,
                    0.55625,
                    -0.134375,
                    0,
                    0,
                    -0.2152777777777778,
                    0.16666666666666666,
                    -0.8,
                    0,
                    0.05,
                    -0.4166666666666667,
                    -0.2,
                    -0.3,
                    0.2333333333333333,
                    0.5,
                    -0.4,
                    0.25,
                    -0.2571428571428572,
                    -0.35,
                    0.375,
                    -0.024999999999999994,
                    0,
                    0.6,
                    0,
                    0,
                    0.13636363636363635,
                    0,
                    -0.375,
                    0.3,
                    0.5,
                    -0.6,
                    -0.27999999999999997,
                    0,
                    0,
                    0,
                    0.22000000000000003,
                    0.1,
                    -1,
                    0.23750000000000002,
                    0,
                    0.3666666666666667,
                    -0.04999999999999999,
                    -0.375,
                    -0.4,
                    0,
                    -0.2,
                    0,
                    0,
                    0.5,
                    0,
                    0,
                    0.020000000000000004,
                    0,
                    -0.2916666666666667,
                    0,
                    -0.045075757575757575,
                    0,
                    0,
                    0,
                    0,
                    0.38666666666666666,
                    -0.3,
                    0.39285714285714285,
                    -0.375,
                    0,
                    -0.7,
                    -0.7,
                    0,
                    0,
                    0,
                    0,
                    0,
                    0,
                    0.8,
                    0,
                    -0.13181818181818183,
                    0.058928571428571434,
                    0.5,
                    -0.07777777777777779,
                    0.02500000000000001,
                    -1,
                    0.3,
                    0.25,
                    -0.375,
                    -0.14583333333333334,
                    0.6,
                    0,
                    0.13636363636363635,
                    0.6,
                    0.1875,
                    0,
                    -0.16666666666666666,
                    0.35,
                    -0.35,
                    -1,
                    -0.5,
                    0.05357142857142855,
                    -0.19999999999999998,
                    0.07812500000000001,
                    0.26212121212121214,
                    0.06666666666666667,
                    0.30000000000000004,
                    0,
                    -0.75,
                    -0.6,
                    0.2,
                    0.1,
                    0.43333333333333335,
                    0.08333333333333333,
                    0.09999999999999998,
                    -0.21,
                    -0.125,
                    0.3,
                    -0.15555555555555553,
                    -0.6,
                    -0.1,
                    0,
                    0.2,
                    0.14285714285714285,
                    -0.29000000000000004,
                    0,
                    0.03750000000000001,
                    0,
                    0,
                    0.20000000000000004,
                    0.09999999999999998,
                    -1,
                    0.06875,
                    0.30000000000000004,
                    0,
                    -0.8,
                    -0.23214285714285715,
                    0.4,
                    0.25,
                    -0.9,
                    0.5,
                    0,
                    0.2,
                    -0.35,
                    0,
                    0,
                    0.1875,
                    -0.14166666666666666,
                    0.125,
                    0,
                    0.35,
                    -0.7,
                    0.20000000000000004,
                    -0.7,
                    0,
                    0,
                    0,
                    0,
                    -0.19999999999999998,
                    -0.10000000000000002,
                    0.14814814814814817,
                    0.5,
                    0,
                    0,
                    0,
                    0.07738095238095237,
                    -0.2,
                    0,
                    0.30000000000000004,
                    0.35,
                    0.003703703703703709,
                    -1,
                    0.1,
                    0,
                    0,
                    0.08,
                    0,
                    0.6,
                    0.1,
                    -0.6875,
                    0.5,
                    0,
                    0,
                    0,
                    -0.26666666666666666,
                    0.525,
                    0,
                    -1,
                    -0.5,
                    0,
                    0.5,
                    0,
                    0.125,
                    -1,
                    -0.1875,
                    0.1,
                    -0.6,
                    0.0375,
                    0,
                    0.8,
                    0,
                    0.7,
                    0,
                    0,
                    -0.5,
                    0,
                    -0.225,
                    0,
                    -0.25,
                    0,
                    -0.4,
                    0,
                    -0.5,
                    0.11250000000000002,
                    0,
                    0.10714285714285714,
                    0.5,
                    0.09583333333333333,
                    -0.3,
                    0.25,
                    0,
                    0.05,
                    -0.6874999999999999,
                    0.09999999999999999,
                    -1,
                    0,
                    0.3125,
                    0,
                    -0.2638888888888889,
                    0.033333333333333326,
                    0.5,
                    0.10833333333333332,
                    0,
                    0.26666666666666666,
                    0,
                    -0.023333333333333334,
                    0.02500000000000001,
                    -0.09999999999999998,
                    -0.24479166666666666,
                    -0.5,
                    0,
                    0.2375,
                    0,
                    -1,
                    0,
                    0.5,
                    0.08750000000000002,
                    0.35,
                    0,
                    0,
                    -0.4,
                    -0.033333333333333326,
                    0.4666666666666667,
                    0.7,
                    0,
                    0.30000000000000004,
                    0.26,
                    0.10000000000000002,
                    0,
                    -0.5,
                    -0.321875,
                    -0.5666666666666668,
                    0.22727272727272727,
                    0.42500000000000004,
                    0,
                    0.35,
                    0,
                    0,
                    -0.4375,
                    -0.39583333333333337,
                    -0.01851851851851853,
                    0.04999999999999999,
                    -1,
                    0,
                    0,
                    -1,
                    0.3352272727272727,
                    0.25,
                    0.2,
                    -0.5625,
                    0,
                    0,
                    -0.3333333333333333,
                    0,
                    0,
                    0,
                    0.30000000000000004,
                    -0.012500000000000011,
                    0,
                    0,
                    0,
                    0.35,
                    0.09999999999999998,
                    0,
                    0.17777777777777778,
                    0.26666666666666666,
                    0,
                    0,
                    0,
                    -0.26666666666666666,
                    0,
                    -0.25,
                    -0.3333333333333333,
                    -0.7142857142857143,
                    0,
                    -0.16666666666666666,
                    -1,
                    0.30000000000000004,
                    0.48828125,
                    0.09444444444444444,
                    -0.033333333333333326,
                    0,
                    0.5416666666666666,
                    0,
                    -0.04999999999999999,
                    -0.05,
                    0.3125,
                    0.05416666666666667,
                    1,
                    -0.625,
                    0.03333333333333334,
                    -0.5,
                    0.3,
                    0.375,
                    0,
                    0.10333333333333332,
                    0,
                    0,
                    0,
                    0.21875,
                    -0.3333333333333333,
                    0,
                    0.625,
                    0.25,
                    -0.16666666666666666,
                    -0.6638888888888889,
                    -0.1,
                    0,
                    -0.04999999999999999,
                    0,
                    0.04,
                    -1,
                    0.06249999999999999,
                    -0.7999999999999999,
                    -0.675,
                    0.1,
                    0,
                    0,
                    0,
                    0,
                    0,
                    0,
                    -0.07500000000000001,
                    0.5,
                    0.625,
                    0,
                    0.4,
                    -0.03787878787878788,
                    -0.35555555555555557,
                    0,
                    -0.3333333333333333,
                    0,
                    0,
                    0,
                    0,
                    -0.25,
                    0,
                    -0.4,
                    0,
                    0.875,
                    -0.1,
                    0,
                    -0.35000000000000003,
                    0,
                    -0.4000000000000001,
                    0,
                    -1,
                    0.75,
                    0.41818181818181815,
                    0.08333333333333334,
                    0,
                    0.4166666666666667,
                    0,
                    -0.4833333333333332,
                    0.5,
                    0.08333333333333334,
                    0,
                    0.375,
                    -0.42500000000000004,
                    -1,
                    -0.75,
                    -0.3333333333333333,
                    0.4,
                    -0.17857142857142855,
                    0.1619047619047619,
                    0.025000000000000022,
                    0,
                    0.15555555555555556,
                    0.06212121212121213,
                    -0.125,
                    0.875,
                    0.08333333333333334,
                    0,
                    0.1,
                    0,
                    0.1,
                    -0.6666666666666666,
                    -0.43333333333333335,
                    -0.24166666666666667,
                    0.0625,
                    0.024999999999999994,
                    0.3,
                    0,
                    0.041666666666666664,
                    -0.1,
                    0.2,
                    0.6416666666666667,
                    -0.08269230769230769,
                    0,
                    0,
                    0,
                    -0.45,
                    -0.184375,
                    -1,
                    -0.5,
                    0.8,
                    0,
                    -0.275,
                    -0.16666666666666666,
                    -0.5,
                    0.5,
                    0,
                    -0.6,
                    -0.2318181818181818,
                    0,
                    -0.6666666666666666,
                    -0.3333333333333333,
                    -0.17291666666666666,
                    0.1611111111111111,
                    0.24285714285714285,
                    0.3954545454545455,
                    0,
                    -0.2652777777777778,
                    -0.3,
                    0.06666666666666667,
                    -0.20476190476190478,
                    0.30000000000000004,
                    -0.2,
                    0.41818181818181815,
                    -0.5,
                    0.03333333333333336,
                    0,
                    0.85,
                    0,
                    -0.2,
                    -0.20555555555555555,
                    0,
                    0.4121212121212121,
                    -0.15,
                    0.4166666666666667,
                    0,
                    0,
                    -0.8,
                    0.039999999999999994,
                    0,
                    -0.26666666666666666,
                    -0.55,
                    -0.9,
                    0.3,
                    0,
                    -0.6,
                    -0.5,
                    -0.35026041666666663,
                    0,
                    -1,
                    -0.45555555555555555,
                    -0.18,
                    9.25185853854297e-18,
                    -0.09375,
                    -0.15,
                    0.13333333333333333,
                    0,
                    0,
                    -1,
                    -0.5,
                    0,
                    0.20833333333333334,
                    0,
                    -0.30000000000000004,
                    -0.4,
                    0,
                    -0.3,
                    0,
                    0.55,
                    0.25,
                    0.11666666666666665,
                    0.30000000000000004,
                    0,
                    -0.1,
                    -0.24348958333333334,
                    -0.2583333333333333,
                    0.45,
                    0.30000000000000004,
                    0,
                    0,
                    0.30000000000000004,
                    0.11249999999999999,
                    0.5,
                    0.20952380952380953,
                    -0.3,
                    0,
                    0,
                    -0.6,
                    0.17222222222222222,
                    0.30000000000000004,
                    0.5625,
                    -0.09999999999999999,
                    -0.3,
                    -0.35000000000000003,
                    0,
                    0.13636363636363635,
                    -0.2222222222222222,
                    0.3,
                    -0.2,
                    0.2,
                    -0.3,
                    0,
                    -0.05,
                    -0.05,
                    -1,
                    0,
                    0.25,
                    -1,
                    0.30000000000000004,
                    0,
                    0.8,
                    -0.590625,
                    0,
                    0,
                    0.4514973958333333,
                    -0.06666666666666667,
                    0.25,
                    -0.10000000000000002,
                    -0.2,
                    -0.4,
                    0,
                    0,
                    0.16830357142857144,
                    -0.5,
                    -0.125,
                    -0.25,
                    0,
                    0,
                    0.1953125,
                    0,
                    -0.7,
                    -0.08333333333333333,
                    0.1875,
                    0.12222222222222223,
                    0.3125,
                    -0.6,
                    0.44999999999999996,
                    0.8,
                    0,
                    0,
                    -0.5333333333333333,
                    0.0666666666666667,
                    0,
                    0.20714285714285713,
                    -0.25,
                    -0.7,
                    -0.016666666666666663,
                    -0.2,
                    -0.13181818181818183,
                    0.8,
                    0,
                    0,
                    0.13636363636363635,
                    -0.8,
                    0.16666666666666669,
                    0.2,
                    0,
                    -0.9047619047619048,
                    -0.45,
                    0.2,
                    0,
                    0.2857142857142857,
                    0,
                    0.05,
                    0,
                    0.9,
                    0,
                    -1,
                    -0.6,
                    -0.5,
                    0.2,
                    -0.5,
                    0,
                    -1,
                    -0.5,
                    0.26666666666666666,
                    -0.7333333333333334,
                    0.33333333333333337,
                    -1,
                    -0.2597222222222222,
                    0,
                    -1,
                    0.75,
                    -0.2,
                    -0.19999999999999998,
                    0,
                    0.25,
                    0,
                    -0.2,
                    0.78125,
                    -0.75,
                    0,
                    -0.15,
                    0,
                    0.2,
                    0,
                    0,
                    0,
                    0,
                    -1,
                    0.5,
                    -0.1,
                    0.9765625,
                    0.48333333333333334,
                    0,
                    0,
                    0.275,
                    -0.25,
                    -0.3125,
                    -0.7375,
                    0.06666666666666667,
                    -0.10000000000000002,
                    0,
                    0,
                    0,
                    0.21428571428571427,
                    0.2,
                    0.3125,
                    0.55,
                    -0.1064814814814815,
                    0,
                    0,
                    0,
                    0,
                    0.04999999999999999,
                    -0.3111111111111111,
                    -0.09583333333333333,
                    0.9,
                    -0.8,
                    -0.037500000000000006,
                    -0.16666666666666666,
                    -0.28125,
                    -0.15,
                    -0.5,
                    0,
                    0,
                    -0.3,
                    0.4,
                    -0.11666666666666667,
                    0.11481481481481481,
                    -0.3229166666666667,
                    0.6,
                    0.19999999999999998,
                    -0.5833333333333334,
                    0,
                    -0.08333333333333333,
                    0.21666666666666667,
                    0,
                    0,
                    0.8,
                    -0.06666666666666667,
                    0,
                    0.5,
                    -0.20000000000000004,
                    1,
                    0.25,
                    -0.13333333333333333,
                    0,
                    0,
                    0,
                    0.30000000000000004,
                    0,
                    0.4454545454545455,
                    -0.25,
                    0.13666666666666666,
                    0.08333333333333333,
                    0.09999999999999999,
                    -0.37777777777777777,
                    -0.2013888888888889,
                    0,
                    0.033333333333333326,
                    0.4,
                    0,
                    -0.5,
                    0.35,
                    -0.5,
                    0.25,
                    0,
                    0.0625,
                    0.228125,
                    0,
                    0.34285714285714286,
                    0.35,
                    0.35,
                    -0.6875,
                    -0.5,
                    0.27666666666666667,
                    0.5,
                    0.15625,
                    0.25625,
                    0,
                    -0.6999999999999998,
                    0.08333333333333333,
                    0,
                    -0.6,
                    0,
                    0,
                    -0.2,
                    -0.049999999999999996,
                    -0.75,
                    0.25,
                    -0.3,
                    0.5,
                    0.04166666666666667,
                    0,
                    0,
                    -0.07500000000000001,
                    0.1952380952380952,
                    0,
                    0.625,
                    0.11666666666666665,
                    0.3,
                    0,
                    0,
                    0,
                    0.19999999999999998,
                    0,
                    0,
                    0.2857142857142857,
                    0.2,
                    -1,
                    0,
                    0.25,
                    -0.04318181818181818,
                    -0.8,
                    0.5,
                    -0.32499999999999996,
                    0.6,
                    0,
                    -0.25,
                    0,
                    0,
                    -0.6499999999999999,
                    0,
                    -1,
                    -1,
                    0,
                    -0.6666666666666666,
                    0,
                    0.275,
                    0.3340909090909091,
                    0.8,
                    0.25,
                    0,
                    0.20833333333333331,
                    0,
                    -0.5,
                    -0.6,
                    0,
                    0.13636363636363635,
                    0,
                    -1,
                    0,
                    0,
                    0,
                    0,
                    -0.07500000000000001,
                    0,
                    0,
                    0.8,
                    0,
                    0,
                    0,
                    0.3181818181818182,
                    0.30000000000000004,
                    0,
                    -0.0625,
                    0,
                    -0.275,
                    0.5333333333333333,
                    -0.13333333333333333,
                    -0.7,
                    -0.5,
                    0,
                    0,
                    0.4375,
                    -0.2,
                    -0.25,
                    -0.0159090909090909,
                    -0.5,
                    0.3125,
                    -0.15,
                    -0.05625,
                    0,
                    0,
                    -0.15,
                    0.0062500000000000056,
                    -0.2878787878787879,
                    0,
                    -0.3333333333333333,
                    0,
                    -0.23958333333333331,
                    1,
                    -1,
                    0,
                    0.4583333333333333,
                    -0.16999999999999998,
                    0,
                    0,
                    -0.2125,
                    -0.25,
                    0.2857142857142857,
                    0.07142857142857142,
                    -1,
                    -0.043333333333333335,
                    -0.7,
                    0,
                    0.0722222222222222,
                    -1,
                    0,
                    -0.7,
                    -1,
                    0.25,
                    0,
                    -0.5,
                    -0.19999999999999998,
                    -0.18125,
                    -0.8125,
                    0,
                    0.2,
                    0,
                    0.2,
                    0.1,
                    -0.525,
                    -1,
                    -0.03787878787878788,
                    0,
                    0.6666666666666666,
                    -0.625,
                    0,
                    0.5,
                    0.5,
                    0.59073486328125,
                    0.3333333333333333,
                    -0.04910714285714286,
                    0,
                    -0.5166666666666666,
                    0.25,
                    0,
                    0.3,
                    0,
                    0.7,
                    0.23333333333333336,
                    0.028888888888888898,
                    -0.5,
                    0,
                    -0.07692307692307693,
                    -0.05,
                    0.45,
                    -0.39583333333333326,
                    -0.2,
                    0,
                    0.25,
                    0.10000000000000002,
                    -0.2,
                    -0.13333333333333333,
                    0,
                    0.23333333333333336,
                    -0.5,
                    0,
                    0.03333333333333333,
                    0.19444444444444445,
                    -0.25,
                    0.05,
                    -0.6638888888888889,
                    0,
                    0.15,
                    0.8,
                    0.25,
                    0,
                    0,
                    0,
                    0,
                    -0.24583333333333335,
                    -0.8,
                    -0.06666666666666667,
                    -1,
                    0.05,
                    -0.11249999999999998,
                    3.700743415417188e-17,
                    -0.05714285714285716,
                    0,
                    -1,
                    -0.05,
                    0.5,
                    0,
                    -1,
                    0.19318181818181818,
                    0.3302083333333333,
                    0.2333333333333333,
                    0,
                    -0.35,
                    -0.11666666666666665,
                    0.5,
                    0.13999999999999999,
                    -0.3416666666666666,
                    -0.7999999999999999,
                    0.15,
                    0,
                    0.8,
                    0.2,
                    0.024999999999999994,
                    -0.021875000000000006,
                    0,
                    0,
                    0.9765625,
                    -0.09999999999999999,
                    0.2,
                    -0.2,
                    0.10714285714285714,
                    -0.07142857142857142,
                    0.1,
                    -0.09999999999999998,
                    -0.18787878787878787,
                    -0.98828125,
                    -0.6,
                    0.24285714285714285,
                    -0.07407407407407408,
                    -0.1333333333333333,
                    -0.15999999999999998,
                    0.30000000000000004,
                    0.15,
                    0.25,
                    -0.2,
                    -0.6,
                    0,
                    -0.19999999999999996,
                    0.10000000000000003,
                    -0.6,
                    0.04999999999999999,
                    -0.4583333333333333,
                    0.07037037037037037,
                    0.01785714285714285,
                    -0.4,
                    0,
                    0.05,
                    0,
                    0.1,
                    1,
                    1,
                    0,
                    -0.8,
                    0,
                    0,
                    -0.4000000000000001,
                    0.5,
                    0.39999999999999997,
                    0,
                    -0.5,
                    -0.24444444444444446,
                    0.5,
                    0,
                    -1,
                    0,
                    0,
                    0.2,
                    -0.8571428571428572,
                    0.4,
                    0.175,
                    -0.12222222222222223,
                    -0.23958333333333334,
                    0.4454545454545455,
                    -0.06666666666666667,
                    0,
                    0.2857142857142857,
                    0,
                    0.05,
                    0.1852968460111317,
                    0,
                    -0.8,
                    -1,
                    -0.15,
                    0,
                    0,
                    -0.45,
                    0,
                    0,
                    -0.1,
                    -0.875,
                    0.3428571428571428,
                    0,
                    0,
                    -0.4,
                    0,
                    0.5,
                    0.1375,
                    -0.35000000000000003,
                    0.7,
                    -0.043333333333333335,
                    0,
                    -0.4,
                    0.5960464477539062,
                    0,
                    -0.027380952380952322,
                    0,
                    0.1,
                    -0.21477272727272728,
                    0,
                    0.25,
                    0.8,
                    -0.13333333333333333,
                    0.05284090909090908,
                    0,
                    0.3549107142857143,
                    0.2,
                    0.4,
                    0.14285714285714285,
                    0.4,
                    -1,
                    0.375,
                    0,
                    -0.004999999999999996,
                    -0.07500000000000001,
                    0.6,
                    0,
                    0.16818181818181818,
                    0.23819444444444446,
                    0.6,
                    0,
                    -0.5,
                    0.4,
                    -0.30000000000000004,
                    -0.375,
                    0,
                    0.05277777777777777,
                    -0.1,
                    0,
                    -0.6,
                    0,
                    -0.5,
                    0.30000000000000004,
                    0.2857142857142857,
                    -0.6,
                    -0.2,
                    0,
                    0.6,
                    0.3,
                    -0.030555555555555558,
                    0.2625,
                    0,
                    0.2,
                    0,
                    0.5,
                    0.5,
                    0.1875,
                    0.2,
                    0,
                    -0.04166666666666666,
                    0,
                    0.925,
                    0.1477272727272727,
                    0.8,
                    0,
                    -0.4,
                    0.5,
                    -0.39999999999999997,
                    -0.3,
                    0.5,
                    -0.1,
                    0,
                    0,
                    -0.5,
                    0.06666666666666667,
                    0.5,
                    -0.6,
                    0,
                    -0.3666666666666667,
                    -0.47651515151515156,
                    0.3,
                    0.35,
                    -0.5,
                    -0.8,
                    -0.5,
                    0,
                    0.1325,
                    -0.26666666666666666,
                    0,
                    0,
                    0,
                    0.2,
                    0.25,
                    0.125,
                    0.2,
                    -0.07,
                    0.2,
                    -0.1333333333333333,
                    -0.2,
                    0,
                    0.1,
                    -0.30000000000000004,
                    -0.8,
                    -0.5,
                    0,
                    0.8,
                    -0.3,
                    0.19999999999999998,
                    0.4,
                    -0.625,
                    0,
                    0.08499999999999999,
                    0,
                    0.3097527472527472,
                    0,
                    0.15000000000000002,
                    -0.75,
                    0,
                    0,
                    0,
                    0.1,
                    -1,
                    -0.39999999999999997,
                    0.35,
                    0.16818181818181818,
                    0,
                    -0.11272727272727275,
                    0,
                    -0.5,
                    0.13636363636363635,
                    0,
                    0,
                    0.27499999999999997,
                    0,
                    0,
                    -0.8,
                    0,
                    0.5199999999999999,
                    0.23333333333333336,
                    0.2,
                    -0.52,
                    -0.5,
                    0,
                    0.06944444444444443,
                    -0.016666666666666666,
                    -0.05277777777777776,
                    0.075,
                    -0.275,
                    0,
                    0,
                    0,
                    0.16666666666666666,
                    0.1875,
                    0,
                    -0.07500000000000001,
                    -0.1722222222222222,
                    0,
                    0,
                    -0.17291666666666666,
                    -1,
                    -1,
                    0,
                    0.03333333333333333,
                    0.3333333333333333,
                    -1,
                    -0.5833333333333334,
                    0,
                    -0.2333333333333333,
                    -1,
                    -0.16666666666666666,
                    0,
                    0,
                    -0.3333333333333333,
                    -1,
                    -0.5,
                    0.002777777777777768,
                    0.6499999999999999,
                    -0.033333333333333326,
                    -0.010416666666666666,
                    -0.28125,
                    0,
                    -0.05,
                    -0.6799999999999999,
                    -1,
                    -0.20000000000000004,
                    0.45,
                    -0.024999999999999967,
                    0.955,
                    -0.7,
                    0,
                    -0.5,
                    0,
                    -0.14583333333333334,
                    -1,
                    0.4,
                    0,
                    0,
                    -0.5777777777777778,
                    0,
                    -0.4,
                    -0.5,
                    -0.2571428571428572,
                    0,
                    0.1,
                    0,
                    0.275,
                    0.175,
                    -0.4,
                    -1,
                    -0.8,
                    -0.75,
                    0,
                    0.04999999999999999,
                    -0.25,
                    -0.2,
                    0.1,
                    0.3,
                    -0.6,
                    -0.6333333333333333,
                    0.2596428571428572,
                    1,
                    0,
                    0,
                    -0.03333333333333335,
                    0.22402597402597402,
                    0.3,
                    -0.2,
                    -0.06666666666666665,
                    -0.0875,
                    -1,
                    0,
                    0.07916666666666666,
                    -0.55,
                    0.2,
                    0,
                    0.2,
                    0.2333333333333333,
                    0.07000000000000003,
                    0.1,
                    0.3866666666666667,
                    0.025,
                    -0.35000000000000003,
                    -0.35,
                    0,
                    0,
                    0.13636363636363635,
                    0.45,
                    0.2596428571428572,
                    0.5,
                    -0.19444444444444448,
                    -0.44166666666666665,
                    0,
                    -0.1,
                    -0.5,
                    0,
                    -1,
                    1,
                    0.13000000000000003,
                    0,
                    -0.496875,
                    0.4453125,
                    -0.4,
                    0,
                    -0.15555555555555559,
                    -0.2878787878787879,
                    0,
                    -0.3333333333333333,
                    0,
                    0,
                    0.5,
                    0.25,
                    0.1814814814814815,
                    0.4,
                    0,
                    0.75,
                    0,
                    -0.16666666666666666,
                    0.25,
                    0.125,
                    0.18,
                    0.0625,
                    -0.32499999999999996,
                    -0.6,
                    0.2,
                    0.3333333333333333,
                    0.05909090909090908,
                    -0.1,
                    0.5,
                    0,
                    0,
                    -0.1,
                    -1,
                    0.2777777777777778,
                    0,
                    0.19999999999999996,
                    -0.6666666666666666,
                    0.6,
                    -0.3333333333333333,
                    0,
                    -0.033333333333333326,
                    0.35,
                    0,
                    0.03333333333333333,
                    0.35,
                    0.15625,
                    -0.8333333333333334,
                    0,
                    0.25,
                    -0.39999999999999997,
                    0,
                    -0.11249999999999999,
                    0.35,
                    0.325,
                    0,
                    -0.5083333333333333,
                    0.1,
                    0.35,
                    -0.06666666666666667,
                    0.1,
                    0,
                    -0.1,
                    0.8,
                    0,
                    -0.5,
                    0,
                    -0.19999999999999998,
                    -0.3,
                    0,
                    0,
                    0,
                    0,
                    -0.15625,
                    0,
                    0.6333333333333333,
                    -0.7,
                    -0.4,
                    0,
                    -0.3,
                    0.42323232323232324,
                    0,
                    0,
                    0.5,
                    0.3333333333333333,
                    0,
                    0,
                    -0.425,
                    0,
                    0,
                    -0.20625,
                    0.17222222222222222,
                    0,
                    0.30000000000000004,
                    0.5,
                    0.16666666666666666,
                    -0.022857142857142864,
                    0,
                    0,
                    -1,
                    -0.5,
                    0,
                    -1,
                    0,
                    0,
                    0,
                    0,
                    0.2,
                    0.1875,
                    0,
                    -1,
                    0.625,
                    0.125,
                    0.5,
                    0,
                    -0.4545454545454546,
                    0.05,
                    0.5,
                    0,
                    -0.5,
                    0.5,
                    0.5375,
                    0.6,
                    0.7,
                    0,
                    -0.58310546875,
                    0.2,
                    0,
                    -0.2,
                    0,
                    -1,
                    -0.24375,
                    0,
                    0.16666666666666669,
                    -0.359375,
                    0.32222222222222224,
                    -0.09403409090909091,
                    0.4,
                    0.2,
                    0,
                    -0.2,
                    0,
                    -0.5,
                    0.65,
                    0.2,
                    -0.1,
                    0.25,
                    -0.039999999999999994,
                    -0.4785714285714286,
                    -0.11190476190476188,
                    0,
                    0.5,
                    -0.26666666666666666,
                    0,
                    0,
                    0.6416666666666666,
                    0.5,
                    0.65,
                    -0.11666666666666667,
                    0.025,
                    0,
                    1,
                    0.13333333333333333,
                    0,
                    -0.3333333333333333,
                    0,
                    -0.09999999999999998,
                    -0.8571428571428572,
                    -0.6999999999999998,
                    0.30000000000000004,
                    0,
                    0.3333333333333333,
                    0,
                    -0.4,
                    0,
                    0.6,
                    -0.43333333333333335,
                    0,
                    0,
                    -0.5625,
                    -0.05,
                    -0.5125,
                    0.06666666666666665,
                    -0.09375,
                    0,
                    0,
                    -0.375,
                    0,
                    0.39,
                    0,
                    0.08,
                    -0.26666666666666666,
                    0,
                    -0.65,
                    0.3791666666666667,
                    -0.2,
                    -0.3333333333333333,
                    0.2,
                    0,
                    0,
                    -0.25,
                    0,
                    0.0465909090909091,
                    0.5,
                    0.3333333333333333,
                    -0.5,
                    -0.6,
                    -1,
                    0,
                    0,
                    -0.425,
                    -0.07999999999999999,
                    0,
                    0.18333333333333335,
                    0,
                    0.7,
                    0.425,
                    0,
                    0.39999999999999997,
                    0,
                    0.13636363636363635,
                    -1,
                    0.15000000000000002,
                    0.375,
                    0.21428571428571427,
                    0.05,
                    0.4464285714285714,
                    0.10000000000000002,
                    0.14444444444444446,
                    0,
                    0,
                    0.08333333333333333,
                    -0.32499999999999996,
                    0,
                    0,
                    0.14285714285714285,
                    0.3,
                    0.35,
                    0,
                    0.7,
                    0.7,
                    0.25416666666666665,
                    0.05,
                    -0.5,
                    0.45000000000000007,
                    0.39999999999999997,
                    0.2857142857142857,
                    0.375,
                    0,
                    0.11197916666666667,
                    -0.039999999999999994,
                    -0.06666666666666667,
                    0.08,
                    -0.4,
                    0.3181818181818182,
                    -0.234375,
                    0,
                    0,
                    0.15,
                    -0.20833333333333334,
                    -0.125,
                    -0.6,
                    -0.3277777777777778,
                    -0.2916666666666667,
                    0,
                    0.3,
                    0.21666666666666667,
                    -0.25,
                    0,
                    -0.4,
                    -0.48124999999999996,
                    0.225,
                    0,
                    0.4,
                    -0.4,
                    0.6,
                    0.625,
                    0,
                    0.31363636363636366,
                    -0.125,
                    0.24285714285714285,
                    0,
                    0.21666666666666667,
                    0.21071428571428572,
                    0.7333333333333334,
                    0.3333333333333333,
                    -0.08888888888888889,
                    1,
                    0,
                    0,
                    0,
                    0.3444444444444445,
                    0.03333333333333335,
                    -0.5,
                    0.430952380952381,
                    -0.26666666666666666,
                    -0.2,
                    -1,
                    -0.35,
                    0,
                    0.3,
                    -0.2972222222222222,
                    -0.15,
                    -0.5,
                    -0.3333333333333333,
                    -0.6,
                    -0.12465277777777778,
                    0,
                    -0.5,
                    0.30000000000000004,
                    -0.8,
                    0,
                    0,
                    0.73828125,
                    -0.5,
                    0.09999999999999996,
                    -0.125,
                    -0.022222222222222216,
                    -0.4,
                    -0.2,
                    0,
                    0.2,
                    0,
                    0,
                    0,
                    -0.5,
                    -1,
                    0.2833333333333333,
                    0.275,
                    0.125,
                    0,
                    0,
                    0,
                    0.6,
                    0,
                    0,
                    0.10517578124999999,
                    0.25,
                    -0.55,
                    0.75,
                    0.05,
                    -0.06388888888888887,
                    0.03333333333333333,
                    0.6,
                    -0.18181818181818182,
                    -0.0875,
                    0.1,
                    0.4,
                    0.1953125,
                    0,
                    0,
                    0,
                    0.039999999999999994,
                    -0.5,
                    -0.125,
                    -0.125,
                    0.8,
                    0.2,
                    -0.5,
                    0,
                    0.42500000000000004,
                    0.1,
                    0.3,
                    -0.24479166666666666,
                    0,
                    -0.125,
                    0,
                    0,
                    -1,
                    0,
                    0.2,
                    0,
                    0,
                    -0.1,
                    0,
                    0.20833333333333334,
                    -0.3333333333333333,
                    -0.25,
                    0.375,
                    0.4,
                    -0.4,
                    -0.2916666666666667,
                    0,
                    0.2,
                    -0.5,
                    0.3125,
                    -0.15,
                    -0.2625,
                    -0.04999999999999999,
                    0,
                    0,
                    0,
                    -0.6,
                    -0.6,
                    0,
                    0.125,
                    -0.125,
                    -1,
                    0.10714285714285714,
                    0,
                    -0.18181818181818182,
                    0,
                    0,
                    -0.2222222222222222,
                    0.5,
                    -0.7142857142857143,
                    0.37777777777777777,
                    0.25,
                    -0.5,
                    0.125,
                    0,
                    0.78125,
                    0,
                    0.14666666666666667,
                    0,
                    0,
                    0,
                    0,
                    0.3333333333333333,
                    0,
                    0,
                    0.65,
                    0,
                    0.125,
                    0,
                    -0.30000000000000004,
                    0,
                    0,
                    0,
                    -0.3,
                    -0.071875,
                    0.1,
                    0,
                    0.3666666666666667,
                    0.16180555555555554,
                    -0.05,
                    -0.0761904761904762,
                    -0.6,
                    0.13636363636363635,
                    0,
                    0.12812500000000002,
                    0.13333333333333333,
                    0.8,
                    0.75,
                    0.5,
                    0,
                    0.13333333333333333,
                    0.14999999999999997,
                    0,
                    0.5,
                    0,
                    0,
                    0.09906249999999998,
                    0.1,
                    0,
                    0,
                    -0.45,
                    -0.3333333333333333,
                    -0.09375,
                    -0.14999999999999997,
                    0.6,
                    -0.35,
                    0,
                    0.30000000000000004,
                    -0.1375,
                    0,
                    -0.5,
                    0.012499999999999992,
                    -0.06666666666666665,
                    -0.6,
                    0,
                    -0.2,
                    0.8,
                    0,
                    0.35357142857142854,
                    0,
                    0.3,
                    -0.78125,
                    0.175,
                    0,
                    0,
                    -0.5,
                    -1,
                    0.033333333333333326,
                    0.55,
                    0.2,
                    0.7,
                    0,
                    -0.5,
                    0,
                    0.36212121212121207,
                    -0.1,
                    -0.054166666666666696,
                    0.30000000000000004,
                    -0.15,
                    -0.5,
                    0.4666666666666667,
                    -0.7,
                    0,
                    0.8,
                    -0.08020833333333333,
                    0,
                    -0.15,
                    0,
                    -0.4666666666666666,
                    0,
                    -0.15,
                    0.16527777777777777,
                    0,
                    0.30000000000000004,
                    0.18,
                    -0.325,
                    0,
                    0.7125,
                    -0.75,
                    0,
                    -0.1,
                    0.25,
                    -0.3333333333333333,
                    0,
                    0.45,
                    0.5,
                    0,
                    -0.05833333333333333,
                    0,
                    0,
                    -0.3888888888888889,
                    -0.1,
                    0.2625,
                    0,
                    -0.375,
                    -0.6,
                    -0.09722222222222222,
                    -0.2111111111111111,
                    0.1,
                    0,
                    -0.125,
                    0.25,
                    0.35,
                    0.2,
                    0.2,
                    0,
                    0,
                    0,
                    -0.325,
                    0,
                    0.10625,
                    -0.1,
                    0,
                    -0.055555555555555546,
                    -0.052727272727272734,
                    -0.125,
                    -0.022222222222222216,
                    0,
                    0,
                    -1,
                    -0.4,
                    0,
                    0.25,
                    0.2,
                    0,
                    0.05,
                    -0.35,
                    0,
                    0.3208333333333333,
                    -0.075,
                    -0.6,
                    -0.17857142857142855,
                    -1,
                    0.15625,
                    -0.5,
                    -0.6,
                    -0.16666666666666666,
                    -0.5,
                    0,
                    0.3125,
                    0,
                    0.15,
                    0,
                    0.3229166666666667,
                    0.6,
                    0.1,
                    0.02083333333333333,
                    0,
                    -0.42777777777777776,
                    0,
                    0.10714285714285714,
                    -1,
                    -0.525,
                    0,
                    -0.06666666666666665,
                    0,
                    0,
                    -1,
                    0.3333333333333333,
                    0.15,
                    0.4,
                    0.2,
                    0,
                    -0.125,
                    0.6,
                    -0.5,
                    0,
                    -0.3333333333333333,
                    0,
                    0.28125,
                    0,
                    0,
                    0,
                    0.7,
                    -0.6,
                    0,
                    0.5,
                    -0.5,
                    -0.3,
                    -0.53828125,
                    -0.08333333333333333,
                    0.38333333333333336,
                    0.225,
                    0.3666666666666667,
                    0,
                    -0.16666666666666666,
                    -0.0875,
                    -0.7142857142857143,
                    0,
                    -0.1625,
                    0,
                    0.03333333333333333,
                    0.16666666666666666,
                    -0.09999999999999992,
                    -0.41666666666666663,
                    -0.375,
                    0,
                    -0.175,
                    -0.15,
                    0,
                    0,
                    0.012121212121212125,
                    0.25,
                    0.3333333333333333,
                    0.5,
                    0.16666666666666666,
                    -0.5458333333333334,
                    -0.16666666666666666,
                    -1,
                    0.19416666666666668,
                    0.14444444444444446,
                    -0.5222222222222223,
                    0.08333333333333336,
                    -0.4,
                    0,
                    0,
                    0.55,
                    0.37878787878787873,
                    0,
                    0,
                    0.19583333333333333,
                    0.5278409090909091,
                    0,
                    0.27999999999999997,
                    0,
                    -1,
                    0.25,
                    0.35,
                    0,
                    -0.1875,
                    0.4,
                    -0.16666666666666666,
                    0,
                    0.03333333333333333,
                    -0.44999999999999996,
                    0.2,
                    0.7,
                    0.625,
                    0,
                    0,
                    0.1530952380952381,
                    -1,
                    -0.08333333333333331,
                    -0.8,
                    0.3666666666666667,
                    -0.5,
                    0.4375,
                    -0.15625,
                    -0.31666666666666665,
                    0,
                    0.25,
                    0,
                    0.25,
                    0.10517578124999999,
                    0.5960464477539062,
                    0,
                    0.06875,
                    0,
                    -0.25,
                    -0.30000000000000004,
                    -0.175,
                    -0.4666666666666666,
                    -0.27499999999999997,
                    0.5,
                    -0.13333333333333333,
                    0.8,
                    -0.6,
                    0,
                    -0.403125,
                    -0.05,
                    -0.7,
                    -0.1,
                    -0.5,
                    -0.09999999999999999,
                    0,
                    0.2375,
                    0.5,
                    0,
                    -0.9,
                    0,
                    0,
                    0.5,
                    0,
                    0.36714285714285716,
                    -0.1,
                    0,
                    -0.125,
                    0.25,
                    0.25,
                    0,
                    -0.2,
                    0,
                    0,
                    -0.5,
                    -1,
                    -0.049999999999999996,
                    0.14583333333333334,
                    0.4,
                    0,
                    0.65,
                    0.525,
                    1,
                    0.26666666666666666,
                    0.2,
                    0.5,
                    0,
                    -0.3884615384615384,
                    -0.049999999999999996,
                    -0.13333333333333333,
                    0.21428571428571427,
                    -0.16666666666666666,
                    0,
                    -0.6499999999999999,
                    0.25,
                    0,
                    0,
                    -0.75,
                    0,
                    0,
                    0.1,
                    0,
                    -0.575,
                    -0.625,
                    -0.06000000000000001,
                    0,
                    -1,
                    0,
                    0,
                    -0.14999999999999997,
                    -0.24999999999999994,
                    -0.5,
                    0,
                    0,
                    0.20000000000000004,
                    -0.125,
                    0,
                    0,
                    -0.2571428571428572,
                    0.43333333333333335,
                    0.16,
                    1,
                    0.01111111111111109,
                    0.06666666666666667,
                    -0.1,
                    0.2,
                    -0.6333333333333333,
                    0,
                    0,
                    -0.375,
                    -0.07916666666666668,
                    -0.6,
                    0.5,
                    -1,
                    -0.022222222222222254,
                    -0.5,
                    -0.19999999999999998,
                    0.0875,
                    0,
                    0,
                    -0.1,
                    0.14166666666666666,
                    0.06818181818181818,
                    0.06666666666666667,
                    -0.42465277777777777,
                    -0.2,
                    0.38666666666666666,
                    0.25,
                    0,
                    -0.23214285714285715,
                    0,
                    0.4,
                    0.6833333333333332,
                    0,
                    0,
                    0.15,
                    0,
                    0,
                    0.09999999999999998,
                    0,
                    -1,
                    0.1,
                    -0.15,
                    0.43333333333333335,
                    -0.09999999999999998,
                    0.3181818181818182,
                    -0.5,
                    -0.25,
                    -1,
                    -0.6999999999999998,
                    -0.0625,
                    -0.1,
                    0,
                    0.13636363636363635,
                    0,
                    -0.3888888888888889,
                    0.5,
                    0,
                    0.625,
                    -0.4,
                    0.35714285714285715,
                    0.29166666666666663,
                    0,
                    0,
                    0.3499999999999999,
                    0.30625,
                    -0.625,
                    0,
                    -0.45,
                    0,
                    0.1875,
                    0,
                    -0.2857142857142857,
                    -0.13055555555555556,
                    0,
                    0,
                    -0.4,
                    0.18541666666666667,
                    0,
                    0.5,
                    -0.3585714285714286,
                    0,
                    -0.16666666666666666,
                    -0.5625,
                    -0.5,
                    0,
                    -0.2125,
                    0,
                    -0.625,
                    0.25,
                    0,
                    0,
                    0.1,
                    0,
                    0,
                    0.5,
                    -1,
                    0.25,
                    0.1,
                    -0.55,
                    -0.07777777777777779,
                    0,
                    -1,
                    0.5,
                    0.25,
                    -0.2,
                    0.2333333333333333,
                    0.13636363636363635,
                    0,
                    0.2,
                    -0.47500000000000003,
                    0,
                    -0.49749999999999994,
                    0.08214285714285713,
                    0,
                    0,
                    0,
                    -0.125,
                    -0.7,
                    0.35,
                    0.30000000000000004,
                    -0.41666666666666663,
                    0.5,
                    0,
                    0,
                    0,
                    -0.125,
                    0,
                    0.375,
                    -0.2262276785714286,
                    -0.6,
                    -0.355,
                    -0.1111111111111111,
                    -0.13999999999999999,
                    0.2,
                    0,
                    0,
                    1,
                    -0.8,
                    0.4166666666666667,
                    0,
                    0.45,
                    0.8,
                    -0.9,
                    0.06818181818181818,
                    0.1875,
                    0,
                    0,
                    0.16666666666666666,
                    -0.06666666666666667,
                    0.2,
                    0.125,
                    0.2857142857142857,
                    0.15000000000000002,
                    -0.5,
                    0,
                    -0.20833333333333334,
                    0.025000000000000022,
                    0.2,
                    0.21818181818181817,
                    -0.35,
                    -0.6,
                    -0.24999999999999992,
                    0.109375,
                    -0.15,
                    -0.7,
                    -0.16666666666666666,
                    -0.55,
                    -0.5,
                    -0.2,
                    -0.5,
                    0.36818181818181817,
                    0,
                    -0.13518518518518519,
                    0,
                    -0.3444444444444444,
                    -0.4166666666666667,
                    0.5,
                    0,
                    0.6083333333333334,
                    -0.43333333333333335,
                    -0.325,
                    0.25,
                    0.2933333333333333,
                    0,
                    -0.07500000000000001,
                    0.1,
                    0,
                    0.2,
                    -0.19999999999999998,
                    0.5,
                    0,
                    0,
                    -0.12121212121212122,
                    0,
                    0.02323232323232323,
                    0,
                    0.018181818181818174,
                    -1,
                    -0.625,
                    0.13333333333333333,
                    0.2722222222222222,
                    0,
                    0,
                    0.5,
                    -1,
                    0.3,
                    0,
                    -0.6458333333333334,
                    -0.5,
                    0,
                    -0.625,
                    0.6000000000000001,
                    -0.25,
                    0,
                    -0.15,
                    -0.28125,
                    -0.14583333333333331,
                    0,
                    -1,
                    0,
                    0,
                    -1,
                    0,
                    0,
                    -0.3,
                    -1,
                    0,
                    0,
                    -0.5,
                    -0.049999999999999996,
                    0,
                    -0.4444444444444444,
                    0.390625,
                    0.50625,
                    -0.2,
                    0.43333333333333335,
                    0,
                    0.008333333333333338,
                    0,
                    0,
                    -0.25,
                    -0.20555555555555555,
                    -0.25,
                    -0.2,
                    0,
                    -0.2904761904761905,
                    0,
                    0.25555555555555554,
                    0,
                    -0.24999999999999997,
                    0.875,
                    -0.1,
                    0,
                    -0.2999999999999999,
                    0,
                    0,
                    0,
                    -0.30000000000000004,
                    -0.2,
                    -1,
                    -0.34375,
                    0.4,
                    0.375,
                    -1,
                    0,
                    0,
                    -0.5,
                    -0.15000000000000002,
                    0.4,
                    0.8,
                    -0.6,
                    0.09375,
                    0.8,
                    0,
                    0.19999999999999998,
                    0.2,
                    0,
                    -0.3,
                    0.4666666666666666,
                    0,
                    0,
                    -0.8,
                    0.09,
                    0.3833333333333333,
                    0.1,
                    0,
                    0,
                    -0.8,
                    -0.5,
                    0.61875,
                    0,
                    0,
                    -0.184375,
                    0.2642857142857143,
                    0,
                    -0.3055555555555555,
                    -0.4222222222222222,
                    0.75,
                    0.125,
                    0.1,
                    0.19047619047619047,
                    0,
                    0,
                    -0.4,
                    -0.07777777777777779,
                    -0.375,
                    -1,
                    -0.3333333333333333,
                    -0.5,
                    0,
                    0,
                    0,
                    -0.17499999999999993,
                    0.25,
                    0,
                    -0.10000000000000002,
                    0.3666666666666667,
                    0.5,
                    0,
                    0,
                    -0.16666666666666666,
                    0,
                    0.1,
                    0,
                    -0.3,
                    -0.02,
                    -0.6,
                    0.2,
                    -0.09375,
                    -0.17583333333333334,
                    -0.09583333333333334,
                    0.684375,
                    0,
                    0.5,
                    0,
                    0.0333333333333334,
                    0,
                    0,
                    -0.1,
                    1,
                    0,
                    0.3888888888888889,
                    0,
                    -0.4354166666666666,
                    0,
                    0.125,
                    0.8,
                    -0.5171875,
                    0.07500000000000001,
                    0.03333333333333333,
                    -0.4166666666666667,
                    -0.5,
                    -0.19999999999999996,
                    -0.3,
                    -0.6,
                    0,
                    0.25,
                    0,
                    0.46666666666666673,
                    -0.611111111111111,
                    0.2,
                    -0.1,
                    -1,
                    0.14999999999999997,
                    -0.33999999999999997,
                    0.35000000000000003,
                    0.4,
                    0.05000000000000001,
                    0.012121212121212116,
                    -0.08333333333333333,
                    0,
                    0.1,
                    0,
                    0.2,
                    -0.125,
                    0,
                    0.9375,
                    0,
                    -0.45,
                    -0.25,
                    0,
                    0.44999999999999996,
                    0,
                    0,
                    -0.011111111111111118,
                    0,
                    -0.3333333333333333,
                    0.5,
                    -0.1,
                    -0.4,
                    0,
                    -0.2,
                    0,
                    0,
                    -0.6999999999999998,
                    -0.5,
                    -0.05000000000000001,
                    0.13636363636363635,
                    0,
                    0,
                    0.2,
                    0,
                    0,
                    -0.15625,
                    -0.6,
                    0,
                    0,
                    -0.5,
                    -1,
                    0,
                    -1,
                    0,
                    0.05,
                    0.12211174242424243,
                    0.23333333333333336,
                    -0.44999999999999996,
                    -0.55,
                    -0.05,
                    0,
                    0.5,
                    -0.125,
                    0,
                    0,
                    0.1125,
                    0.08499999999999999,
                    0.09569597069597069,
                    0.3333333333333333,
                    0,
                    -1,
                    0,
                    0.47000000000000003,
                    -0.05,
                    -0.3125,
                    -0.13333333333333333,
                    0,
                    -1,
                    0,
                    0.25,
                    0.30000000000000004,
                    0,
                    0,
                    0,
                    -0.08833333333333333,
                    -0.05,
                    0.225,
                    0.6,
                    0,
                    -0.20000000000000004,
                    -1,
                    0.578125,
                    -0.4,
                    0,
                    -0.09999999999999999,
                    -0.575,
                    -0.5,
                    0,
                    -0.675,
                    -0.3,
                    0,
                    0,
                    0.33333333333333337
                  ],
                  "type": "histogram",
                  "orientation": "v"
                }
              ],
              "config": {
                "plotlyServerURL": "https://plot.ly",
                "linkText": "Export to plot.ly",
                "showLink": true
              },
              "layout": {
                "xaxis": {
                  "tickfont": {
                    "color": "#4D5663"
                  },
                  "title": {
                    "text": "polarity",
                    "font": {
                      "color": "#4D5663"
                    }
                  },
                  "showgrid": true,
                  "zerolinecolor": "#E1E5ED",
                  "gridcolor": "#E1E5ED",
                  "linecolor": "black"
                },
                "title": {
                  "text": "Sentiment Polarity Distribution",
                  "font": {
                    "color": "#4D5663"
                  }
                },
                "paper_bgcolor": "#F5F6F9",
                "plot_bgcolor": "#F5F6F9",
                "yaxis": {
                  "tickfont": {
                    "color": "#4D5663"
                  },
                  "title": {
                    "text": "count",
                    "font": {
                      "color": "#4D5663"
                    }
                  },
                  "showgrid": true,
                  "zerolinecolor": "#E1E5ED",
                  "gridcolor": "#E1E5ED",
                  "linecolor": "black"
                },
                "barmode": "overlay",
                "template": {
                  "layout": {
                    "shapedefaults": {
                      "line": {
                        "color": "#2a3f5f"
                      }
                    },
                    "polar": {
                      "radialaxis": {
                        "ticks": "",
                        "gridcolor": "white",
                        "linecolor": "white"
                      },
                      "bgcolor": "#E5ECF6",
                      "angularaxis": {
                        "ticks": "",
                        "gridcolor": "white",
                        "linecolor": "white"
                      }
                    },
                    "colorway": [
                      "#636efa",
                      "#EF553B",
                      "#00cc96",
                      "#ab63fa",
                      "#FFA15A",
                      "#19d3f3",
                      "#FF6692",
                      "#B6E880",
                      "#FF97FF",
                      "#FECB52"
                    ],
                    "xaxis": {
                      "automargin": true,
                      "title": {
                        "standoff": 15
                      },
                      "zerolinewidth": 2,
                      "ticks": "",
                      "zerolinecolor": "white",
                      "gridcolor": "white",
                      "linecolor": "white"
                    },
                    "colorscale": {
                      "diverging": [
                        [
                          0,
                          "#8e0152"
                        ],
                        [
                          0.1,
                          "#c51b7d"
                        ],
                        [
                          0.2,
                          "#de77ae"
                        ],
                        [
                          0.3,
                          "#f1b6da"
                        ],
                        [
                          0.4,
                          "#fde0ef"
                        ],
                        [
                          0.5,
                          "#f7f7f7"
                        ],
                        [
                          0.6,
                          "#e6f5d0"
                        ],
                        [
                          0.7,
                          "#b8e186"
                        ],
                        [
                          0.8,
                          "#7fbc41"
                        ],
                        [
                          0.9,
                          "#4d9221"
                        ],
                        [
                          1,
                          "#276419"
                        ]
                      ],
                      "sequential": [
                        [
                          0,
                          "#0d0887"
                        ],
                        [
                          0.1111111111111111,
                          "#46039f"
                        ],
                        [
                          0.2222222222222222,
                          "#7201a8"
                        ],
                        [
                          0.3333333333333333,
                          "#9c179e"
                        ],
                        [
                          0.4444444444444444,
                          "#bd3786"
                        ],
                        [
                          0.5555555555555556,
                          "#d8576b"
                        ],
                        [
                          0.6666666666666666,
                          "#ed7953"
                        ],
                        [
                          0.7777777777777778,
                          "#fb9f3a"
                        ],
                        [
                          0.8888888888888888,
                          "#fdca26"
                        ],
                        [
                          1,
                          "#f0f921"
                        ]
                      ],
                      "sequentialminus": [
                        [
                          0,
                          "#0d0887"
                        ],
                        [
                          0.1111111111111111,
                          "#46039f"
                        ],
                        [
                          0.2222222222222222,
                          "#7201a8"
                        ],
                        [
                          0.3333333333333333,
                          "#9c179e"
                        ],
                        [
                          0.4444444444444444,
                          "#bd3786"
                        ],
                        [
                          0.5555555555555556,
                          "#d8576b"
                        ],
                        [
                          0.6666666666666666,
                          "#ed7953"
                        ],
                        [
                          0.7777777777777778,
                          "#fb9f3a"
                        ],
                        [
                          0.8888888888888888,
                          "#fdca26"
                        ],
                        [
                          1,
                          "#f0f921"
                        ]
                      ]
                    },
                    "paper_bgcolor": "white",
                    "plot_bgcolor": "#E5ECF6",
                    "title": {
                      "x": 0.05
                    },
                    "scene": {
                      "zaxis": {
                        "backgroundcolor": "#E5ECF6",
                        "ticks": "",
                        "gridwidth": 2,
                        "showbackground": true,
                        "zerolinecolor": "white",
                        "gridcolor": "white",
                        "linecolor": "white"
                      },
                      "xaxis": {
                        "backgroundcolor": "#E5ECF6",
                        "ticks": "",
                        "gridwidth": 2,
                        "showbackground": true,
                        "zerolinecolor": "white",
                        "gridcolor": "white",
                        "linecolor": "white"
                      },
                      "yaxis": {
                        "backgroundcolor": "#E5ECF6",
                        "ticks": "",
                        "gridwidth": 2,
                        "showbackground": true,
                        "zerolinecolor": "white",
                        "gridcolor": "white",
                        "linecolor": "white"
                      }
                    },
                    "yaxis": {
                      "automargin": true,
                      "title": {
                        "standoff": 15
                      },
                      "zerolinewidth": 2,
                      "ticks": "",
                      "zerolinecolor": "white",
                      "gridcolor": "white",
                      "linecolor": "white"
                    },
                    "annotationdefaults": {
                      "arrowwidth": 1,
                      "arrowhead": 0,
                      "arrowcolor": "#2a3f5f"
                    },
                    "hoverlabel": {
                      "align": "left"
                    },
                    "ternary": {
                      "bgcolor": "#E5ECF6",
                      "baxis": {
                        "ticks": "",
                        "gridcolor": "white",
                        "linecolor": "white"
                      },
                      "caxis": {
                        "ticks": "",
                        "gridcolor": "white",
                        "linecolor": "white"
                      },
                      "aaxis": {
                        "ticks": "",
                        "gridcolor": "white",
                        "linecolor": "white"
                      }
                    },
                    "mapbox": {
                      "style": "light"
                    },
                    "hovermode": "closest",
                    "font": {
                      "color": "#2a3f5f"
                    },
                    "geo": {
                      "showland": true,
                      "landcolor": "#E5ECF6",
                      "showlakes": true,
                      "bgcolor": "white",
                      "subunitcolor": "white",
                      "lakecolor": "white"
                    },
                    "coloraxis": {
                      "colorbar": {
                        "outlinewidth": 0,
                        "ticks": ""
                      }
                    }
                  },
                  "data": {
                    "mesh3d": [
                      {
                        "colorbar": {
                          "outlinewidth": 0,
                          "ticks": ""
                        },
                        "type": "mesh3d"
                      }
                    ],
                    "scattercarpet": [
                      {
                        "marker": {
                          "colorbar": {
                            "outlinewidth": 0,
                            "ticks": ""
                          }
                        },
                        "type": "scattercarpet"
                      }
                    ],
                    "pie": [
                      {
                        "automargin": true,
                        "type": "pie"
                      }
                    ],
                    "surface": [
                      {
                        "colorbar": {
                          "outlinewidth": 0,
                          "ticks": ""
                        },
                        "type": "surface",
                        "colorscale": [
                          [
                            0,
                            "#0d0887"
                          ],
                          [
                            0.1111111111111111,
                            "#46039f"
                          ],
                          [
                            0.2222222222222222,
                            "#7201a8"
                          ],
                          [
                            0.3333333333333333,
                            "#9c179e"
                          ],
                          [
                            0.4444444444444444,
                            "#bd3786"
                          ],
                          [
                            0.5555555555555556,
                            "#d8576b"
                          ],
                          [
                            0.6666666666666666,
                            "#ed7953"
                          ],
                          [
                            0.7777777777777778,
                            "#fb9f3a"
                          ],
                          [
                            0.8888888888888888,
                            "#fdca26"
                          ],
                          [
                            1,
                            "#f0f921"
                          ]
                        ]
                      }
                    ],
                    "table": [
                      {
                        "header": {
                          "line": {
                            "color": "white"
                          },
                          "fill": {
                            "color": "#C8D4E3"
                          }
                        },
                        "cells": {
                          "line": {
                            "color": "white"
                          },
                          "fill": {
                            "color": "#EBF0F8"
                          }
                        },
                        "type": "table"
                      }
                    ],
                    "scatterpolargl": [
                      {
                        "marker": {
                          "colorbar": {
                            "outlinewidth": 0,
                            "ticks": ""
                          }
                        },
                        "type": "scatterpolargl"
                      }
                    ],
                    "contour": [
                      {
                        "colorbar": {
                          "outlinewidth": 0,
                          "ticks": ""
                        },
                        "type": "contour",
                        "colorscale": [
                          [
                            0,
                            "#0d0887"
                          ],
                          [
                            0.1111111111111111,
                            "#46039f"
                          ],
                          [
                            0.2222222222222222,
                            "#7201a8"
                          ],
                          [
                            0.3333333333333333,
                            "#9c179e"
                          ],
                          [
                            0.4444444444444444,
                            "#bd3786"
                          ],
                          [
                            0.5555555555555556,
                            "#d8576b"
                          ],
                          [
                            0.6666666666666666,
                            "#ed7953"
                          ],
                          [
                            0.7777777777777778,
                            "#fb9f3a"
                          ],
                          [
                            0.8888888888888888,
                            "#fdca26"
                          ],
                          [
                            1,
                            "#f0f921"
                          ]
                        ]
                      }
                    ],
                    "carpet": [
                      {
                        "type": "carpet",
                        "baxis": {
                          "minorgridcolor": "white",
                          "gridcolor": "white",
                          "linecolor": "white",
                          "endlinecolor": "#2a3f5f",
                          "startlinecolor": "#2a3f5f"
                        },
                        "aaxis": {
                          "minorgridcolor": "white",
                          "gridcolor": "white",
                          "linecolor": "white",
                          "endlinecolor": "#2a3f5f",
                          "startlinecolor": "#2a3f5f"
                        }
                      }
                    ],
                    "contourcarpet": [
                      {
                        "colorbar": {
                          "outlinewidth": 0,
                          "ticks": ""
                        },
                        "type": "contourcarpet"
                      }
                    ],
                    "heatmap": [
                      {
                        "colorbar": {
                          "outlinewidth": 0,
                          "ticks": ""
                        },
                        "type": "heatmap",
                        "colorscale": [
                          [
                            0,
                            "#0d0887"
                          ],
                          [
                            0.1111111111111111,
                            "#46039f"
                          ],
                          [
                            0.2222222222222222,
                            "#7201a8"
                          ],
                          [
                            0.3333333333333333,
                            "#9c179e"
                          ],
                          [
                            0.4444444444444444,
                            "#bd3786"
                          ],
                          [
                            0.5555555555555556,
                            "#d8576b"
                          ],
                          [
                            0.6666666666666666,
                            "#ed7953"
                          ],
                          [
                            0.7777777777777778,
                            "#fb9f3a"
                          ],
                          [
                            0.8888888888888888,
                            "#fdca26"
                          ],
                          [
                            1,
                            "#f0f921"
                          ]
                        ]
                      }
                    ],
                    "scattermapbox": [
                      {
                        "marker": {
                          "colorbar": {
                            "outlinewidth": 0,
                            "ticks": ""
                          }
                        },
                        "type": "scattermapbox"
                      }
                    ],
                    "scatter3d": [
                      {
                        "marker": {
                          "colorbar": {
                            "outlinewidth": 0,
                            "ticks": ""
                          }
                        },
                        "line": {
                          "colorbar": {
                            "outlinewidth": 0,
                            "ticks": ""
                          }
                        },
                        "type": "scatter3d"
                      }
                    ],
                    "scattergl": [
                      {
                        "marker": {
                          "colorbar": {
                            "outlinewidth": 0,
                            "ticks": ""
                          }
                        },
                        "type": "scattergl"
                      }
                    ],
                    "scatterternary": [
                      {
                        "marker": {
                          "colorbar": {
                            "outlinewidth": 0,
                            "ticks": ""
                          }
                        },
                        "type": "scatterternary"
                      }
                    ],
                    "histogram": [
                      {
                        "marker": {
                          "colorbar": {
                            "outlinewidth": 0,
                            "ticks": ""
                          }
                        },
                        "type": "histogram"
                      }
                    ],
                    "heatmapgl": [
                      {
                        "colorbar": {
                          "outlinewidth": 0,
                          "ticks": ""
                        },
                        "type": "heatmapgl",
                        "colorscale": [
                          [
                            0,
                            "#0d0887"
                          ],
                          [
                            0.1111111111111111,
                            "#46039f"
                          ],
                          [
                            0.2222222222222222,
                            "#7201a8"
                          ],
                          [
                            0.3333333333333333,
                            "#9c179e"
                          ],
                          [
                            0.4444444444444444,
                            "#bd3786"
                          ],
                          [
                            0.5555555555555556,
                            "#d8576b"
                          ],
                          [
                            0.6666666666666666,
                            "#ed7953"
                          ],
                          [
                            0.7777777777777778,
                            "#fb9f3a"
                          ],
                          [
                            0.8888888888888888,
                            "#fdca26"
                          ],
                          [
                            1,
                            "#f0f921"
                          ]
                        ]
                      }
                    ],
                    "scatterpolar": [
                      {
                        "marker": {
                          "colorbar": {
                            "outlinewidth": 0,
                            "ticks": ""
                          }
                        },
                        "type": "scatterpolar"
                      }
                    ],
                    "histogram2d": [
                      {
                        "colorbar": {
                          "outlinewidth": 0,
                          "ticks": ""
                        },
                        "type": "histogram2d",
                        "colorscale": [
                          [
                            0,
                            "#0d0887"
                          ],
                          [
                            0.1111111111111111,
                            "#46039f"
                          ],
                          [
                            0.2222222222222222,
                            "#7201a8"
                          ],
                          [
                            0.3333333333333333,
                            "#9c179e"
                          ],
                          [
                            0.4444444444444444,
                            "#bd3786"
                          ],
                          [
                            0.5555555555555556,
                            "#d8576b"
                          ],
                          [
                            0.6666666666666666,
                            "#ed7953"
                          ],
                          [
                            0.7777777777777778,
                            "#fb9f3a"
                          ],
                          [
                            0.8888888888888888,
                            "#fdca26"
                          ],
                          [
                            1,
                            "#f0f921"
                          ]
                        ]
                      }
                    ],
                    "scattergeo": [
                      {
                        "marker": {
                          "colorbar": {
                            "outlinewidth": 0,
                            "ticks": ""
                          }
                        },
                        "type": "scattergeo"
                      }
                    ],
                    "bar": [
                      {
                        "marker": {
                          "line": {
                            "color": "#E5ECF6",
                            "width": 0.5
                          }
                        },
                        "type": "bar",
                        "error_x": {
                          "color": "#2a3f5f"
                        },
                        "error_y": {
                          "color": "#2a3f5f"
                        }
                      }
                    ],
                    "choropleth": [
                      {
                        "colorbar": {
                          "outlinewidth": 0,
                          "ticks": ""
                        },
                        "type": "choropleth"
                      }
                    ],
                    "parcoords": [
                      {
                        "line": {
                          "colorbar": {
                            "outlinewidth": 0,
                            "ticks": ""
                          }
                        },
                        "type": "parcoords"
                      }
                    ],
                    "barpolar": [
                      {
                        "marker": {
                          "line": {
                            "color": "#E5ECF6",
                            "width": 0.5
                          }
                        },
                        "type": "barpolar"
                      }
                    ],
                    "histogram2dcontour": [
                      {
                        "colorbar": {
                          "outlinewidth": 0,
                          "ticks": ""
                        },
                        "type": "histogram2dcontour",
                        "colorscale": [
                          [
                            0,
                            "#0d0887"
                          ],
                          [
                            0.1111111111111111,
                            "#46039f"
                          ],
                          [
                            0.2222222222222222,
                            "#7201a8"
                          ],
                          [
                            0.3333333333333333,
                            "#9c179e"
                          ],
                          [
                            0.4444444444444444,
                            "#bd3786"
                          ],
                          [
                            0.5555555555555556,
                            "#d8576b"
                          ],
                          [
                            0.6666666666666666,
                            "#ed7953"
                          ],
                          [
                            0.7777777777777778,
                            "#fb9f3a"
                          ],
                          [
                            0.8888888888888888,
                            "#fdca26"
                          ],
                          [
                            1,
                            "#f0f921"
                          ]
                        ]
                      }
                    ],
                    "scatter": [
                      {
                        "marker": {
                          "colorbar": {
                            "outlinewidth": 0,
                            "ticks": ""
                          }
                        },
                        "type": "scatter"
                      }
                    ]
                  }
                },
                "legend": {
                  "bgcolor": "#F5F6F9",
                  "font": {
                    "color": "#4D5663"
                  }
                }
              }
            }
          },
          "metadata": {
            "tags": []
          }
        }
      ]
    },
    {
      "cell_type": "markdown",
      "metadata": {
        "id": "ll3zAdNsDHMQ"
      },
      "source": [
        "Vast majority of the polarity are greater than 0, means most of them are positive."
      ]
    },
    {
      "cell_type": "markdown",
      "metadata": {
        "id": "ZDjvzpWVDHMR"
      },
      "source": [
        "### Distribution of ratings"
      ]
    },
    {
      "cell_type": "markdown",
      "metadata": {
        "id": "Jz-zJfzODHMR"
      },
      "source": [
        "The ratings are in align with the polarity, that is, most of the ratings are at 4 or 5 range."
      ]
    },
    {
      "cell_type": "markdown",
      "metadata": {
        "id": "36jWw7NuDHMR"
      },
      "source": [
        "### Reviewers age distribution"
      ]
    },
    {
      "cell_type": "markdown",
      "metadata": {
        "id": "0QjuRvITDHMS"
      },
      "source": [
        "Most reviewers are in their 30s to 40s."
      ]
    },
    {
      "cell_type": "code",
      "metadata": {
        "colab": {
          "base_uri": "https://localhost:8080/"
        },
        "id": "qSG3KpPNDHMS",
        "outputId": "f08068b4-f7c3-42f0-c3ab-0e5ddf397282"
      },
      "source": [
        "df['review_len'].iplot(\n",
        "    kind='hist',\n",
        "    bins=100,\n",
        "    xTitle='review length',\n",
        "    linecolor='black',\n",
        "    yTitle='count',\n",
        "    title='Review Text Length Distribution')"
      ],
      "execution_count": null,
      "outputs": [
        {
          "output_type": "display_data",
          "data": {
            "text/html": [
              "<div>\n",
              "        \n",
              "        \n",
              "            <div id=\"2cb65d9f-05d0-4874-b1e6-e57911578119\" class=\"plotly-graph-div\" style=\"height:525px; width:100%;\"></div>\n",
              "            <script type=\"text/javascript\">\n",
              "                require([\"plotly\"], function(Plotly) {\n",
              "                    window.PLOTLYENV=window.PLOTLYENV || {};\n",
              "                    window.PLOTLYENV.BASE_URL='https://plot.ly';\n",
              "                    \n",
              "                if (document.getElementById(\"2cb65d9f-05d0-4874-b1e6-e57911578119\")) {\n",
              "                    Plotly.newPlot(\n",
              "                        '2cb65d9f-05d0-4874-b1e6-e57911578119',\n",
              "                        [{\"histfunc\": \"count\", \"histnorm\": \"\", \"marker\": {\"color\": \"rgba(255, 153, 51, 1.0)\", \"line\": {\"color\": \"#000000\", \"width\": 1.3}}, \"name\": \"review_len\", \"nbinsx\": 100, \"opacity\": 0.8, \"orientation\": \"v\", \"type\": \"histogram\", \"x\": [105, 99, 95, 103, 66, 118, 114, 79, 85, 33, 105, 143, 140, 41, 57, 127, 135, 97, 128, 110, 108, 138, 141, 131, 36, 129, 31, 106, 96, 97, 86, 54, 95, 104, 86, 26, 140, 66, 78, 129, 126, 63, 134, 137, 130, 76, 41, 134, 124, 77, 57, 124, 108, 90, 83, 117, 94, 28, 99, 74, 59, 85, 106, 86, 123, 42, 115, 130, 106, 123, 18, 45, 125, 96, 92, 105, 141, 135, 113, 126, 131, 130, 54, 92, 135, 122, 115, 42, 110, 59, 119, 118, 54, 58, 86, 106, 135, 130, 20, 70, 141, 141, 141, 129, 90, 136, 39, 85, 95, 136, 113, 139, 86, 48, 35, 138, 140, 119, 130, 118, 107, 107, 108, 55, 121, 57, 28, 118, 37, 67, 117, 45, 131, 131, 63, 72, 96, 80, 120, 50, 114, 84, 134, 11, 138, 131, 105, 16, 116, 99, 39, 139, 51, 140, 100, 141, 91, 63, 137, 125, 73, 127, 112, 53, 76, 122, 116, 21, 57, 103, 118, 86, 19, 141, 49, 105, 58, 91, 133, 72, 67, 138, 104, 134, 127, 87, 35, 72, 94, 95, 88, 134, 141, 100, 92, 62, 74, 108, 31, 112, 125, 54, 86, 99, 81, 140, 62, 117, 112, 119, 42, 135, 141, 114, 56, 129, 128, 47, 16, 58, 128, 19, 116, 122, 51, 12, 55, 141, 111, 122, 85, 134, 54, 129, 40, 134, 128, 62, 86, 38, 114, 79, 126, 73, 37, 49, 39, 42, 73, 111, 95, 83, 61, 81, 51, 110, 82, 122, 99, 103, 24, 122, 58, 55, 26, 57, 57, 140, 134, 135, 48, 58, 117, 142, 125, 115, 127, 131, 140, 122, 53, 64, 74, 76, 132, 136, 105, 135, 50, 115, 116, 133, 66, 80, 63, 129, 128, 52, 34, 48, 48, 97, 27, 131, 116, 107, 105, 80, 57, 109, 87, 75, 86, 56, 53, 35, 137, 69, 78, 48, 103, 134, 98, 112, 135, 72, 140, 114, 65, 77, 113, 128, 130, 123, 65, 132, 70, 102, 70, 103, 89, 127, 61, 129, 93, 103, 124, 79, 99, 122, 135, 132, 76, 127, 94, 116, 139, 140, 126, 88, 55, 115, 132, 126, 92, 136, 124, 106, 35, 116, 138, 122, 139, 76, 34, 87, 15, 47, 97, 141, 45, 123, 80, 133, 90, 48, 36, 118, 112, 72, 86, 134, 133, 83, 60, 127, 133, 65, 79, 47, 112, 119, 44, 57, 131, 104, 116, 115, 73, 133, 23, 121, 141, 131, 95, 41, 129, 123, 98, 134, 30, 30, 141, 58, 55, 23, 102, 69, 88, 51, 114, 136, 51, 74, 122, 58, 50, 66, 73, 123, 106, 129, 26, 135, 89, 106, 126, 58, 140, 75, 71, 99, 54, 134, 134, 134, 112, 141, 89, 93, 77, 129, 99, 120, 138, 122, 126, 136, 125, 50, 70, 131, 103, 138, 115, 49, 138, 26, 102, 144, 71, 56, 130, 30, 125, 92, 110, 40, 41, 76, 132, 113, 128, 112, 125, 131, 109, 110, 118, 128, 18, 34, 112, 78, 125, 119, 56, 30, 88, 116, 140, 86, 112, 115, 53, 76, 42, 89, 122, 40, 81, 91, 103, 13, 114, 137, 123, 77, 81, 140, 130, 141, 108, 66, 89, 33, 79, 68, 120, 127, 15, 95, 80, 132, 89, 121, 57, 93, 25, 141, 92, 131, 43, 120, 32, 133, 114, 23, 125, 36, 109, 61, 106, 76, 40, 126, 133, 133, 51, 67, 88, 54, 102, 35, 102, 34, 67, 37, 140, 73, 132, 58, 29, 134, 98, 36, 130, 141, 136, 102, 75, 56, 129, 82, 67, 111, 32, 49, 51, 141, 125, 110, 142, 52, 90, 141, 53, 84, 82, 79, 37, 47, 64, 55, 98, 33, 18, 51, 114, 43, 59, 120, 141, 45, 67, 116, 69, 127, 97, 72, 81, 122, 36, 134, 59, 139, 127, 43, 100, 107, 67, 81, 81, 128, 139, 75, 139, 81, 115, 53, 73, 141, 51, 107, 56, 128, 118, 122, 133, 42, 64, 51, 123, 89, 138, 107, 34, 19, 102, 97, 21, 103, 60, 133, 62, 87, 93, 117, 41, 32, 135, 100, 124, 98, 117, 36, 128, 116, 18, 132, 40, 58, 121, 134, 58, 67, 74, 140, 58, 133, 101, 97, 121, 136, 126, 83, 76, 118, 129, 51, 40, 131, 45, 118, 115, 139, 34, 113, 82, 126, 116, 133, 124, 93, 53, 108, 102, 141, 103, 119, 140, 62, 17, 122, 108, 41, 107, 66, 51, 117, 103, 123, 141, 127, 98, 138, 59, 105, 69, 112, 114, 88, 110, 130, 108, 44, 141, 67, 29, 130, 114, 130, 117, 101, 131, 104, 100, 58, 66, 124, 47, 113, 83, 78, 78, 103, 140, 87, 54, 110, 111, 22, 58, 83, 25, 135, 50, 115, 130, 126, 133, 24, 106, 12, 132, 140, 118, 137, 72, 113, 112, 138, 107, 92, 100, 128, 138, 29, 38, 119, 141, 98, 127, 135, 139, 120, 123, 50, 92, 140, 109, 140, 75, 115, 130, 137, 103, 89, 15, 93, 136, 121, 107, 139, 53, 60, 109, 19, 130, 130, 36, 104, 50, 113, 48, 115, 28, 127, 101, 59, 87, 42, 131, 131, 140, 58, 45, 88, 126, 80, 129, 140, 141, 64, 127, 81, 27, 135, 81, 132, 114, 123, 118, 98, 48, 47, 90, 32, 139, 97, 41, 136, 58, 107, 124, 140, 62, 47, 90, 44, 133, 101, 105, 137, 116, 108, 77, 77, 83, 128, 132, 133, 120, 109, 34, 60, 22, 45, 78, 110, 129, 130, 70, 19, 129, 96, 73, 65, 43, 125, 77, 96, 68, 97, 132, 18, 85, 82, 128, 27, 139, 65, 131, 115, 117, 66, 120, 120, 96, 98, 85, 82, 48, 58, 137, 74, 138, 74, 138, 54, 71, 68, 22, 78, 22, 129, 134, 127, 34, 127, 111, 134, 130, 133, 138, 43, 125, 116, 139, 43, 117, 141, 111, 32, 141, 54, 114, 134, 114, 46, 49, 91, 129, 27, 133, 79, 137, 130, 137, 137, 111, 49, 47, 100, 136, 99, 71, 53, 76, 132, 132, 141, 31, 60, 128, 135, 93, 135, 42, 123, 128, 141, 79, 130, 47, 47, 93, 87, 121, 109, 89, 130, 46, 52, 132, 127, 62, 135, 133, 59, 135, 60, 107, 134, 75, 65, 50, 60, 92, 54, 141, 116, 111, 120, 76, 54, 43, 53, 114, 136, 104, 94, 142, 53, 84, 16, 58, 121, 99, 125, 8, 127, 135, 126, 21, 139, 125, 78, 67, 83, 24, 98, 122, 56, 130, 135, 135, 104, 134, 140, 140, 86, 67, 130, 83, 88, 53, 135, 95, 135, 33, 117, 132, 40, 85, 85, 42, 67, 45, 54, 115, 51, 125, 52, 75, 121, 107, 132, 121, 88, 58, 122, 71, 79, 130, 42, 74, 35, 109, 71, 91, 81, 61, 35, 80, 62, 84, 103, 44, 86, 106, 57, 136, 44, 130, 98, 112, 78, 21, 42, 112, 70, 132, 142, 136, 129, 90, 98, 134, 51, 125, 22, 63, 53, 59, 132, 136, 76, 124, 119, 70, 44, 113, 23, 57, 74, 122, 92, 42, 75, 123, 141, 56, 128, 129, 108, 73, 105, 118, 50, 81, 128, 65, 53, 129, 103, 109, 127, 122, 140, 107, 124, 108, 103, 79, 65, 69, 127, 89, 140, 65, 57, 141, 119, 140, 53, 107, 80, 114, 42, 51, 49, 126, 138, 121, 92, 141, 68, 41, 72, 75, 118, 52, 119, 66, 103, 124, 134, 111, 84, 82, 123, 131, 65, 74, 117, 85, 89, 135, 104, 137, 82, 125, 95, 141, 65, 92, 138, 140, 136, 136, 58, 80, 27, 58, 87, 64, 104, 133, 55, 92, 135, 84, 65, 113, 139, 59, 33, 88, 57, 93, 89, 41, 30, 130, 119, 64, 101, 127, 97, 134, 135, 58, 76, 39, 131, 84, 68, 127, 10, 97, 131, 42, 18, 78, 35, 120, 110, 61, 120, 80, 63, 119, 113, 40, 130, 123, 62, 128, 81, 129, 51, 104, 49, 139, 63, 95, 133, 72, 32, 123, 126, 70, 140, 52, 35, 46, 106, 140, 54, 26, 111, 117, 25, 40, 54, 87, 131, 140, 97, 67, 54, 34, 133, 138, 48, 51, 55, 117, 75, 139, 111, 33, 111, 124, 40, 74, 131, 64, 32, 33, 120, 137, 27, 34, 37, 57, 141, 125, 131, 117, 87, 83, 80, 21, 71, 33, 123, 58, 75, 97, 46, 134, 134, 112, 127, 135, 92, 141, 65, 132, 94, 74, 133, 115, 60, 58, 35, 108, 137, 119, 101, 40, 122, 78, 131, 30, 79, 50, 74, 131, 105, 126, 140, 141, 92, 107, 78, 75, 103, 84, 24, 16, 43, 140, 88, 72, 135, 89, 129, 88, 65, 93, 42, 65, 133, 140, 73, 141, 122, 117, 123, 136, 127, 41, 103, 90, 138, 120, 69, 121, 72, 139, 130, 28, 77, 139, 141, 136, 112, 75, 40, 140, 134, 50, 110, 112, 92, 52, 136, 90, 79, 135, 83, 91, 131, 128, 134, 100, 62, 109, 107, 109, 59, 102, 92, 73, 39, 50, 140, 45, 101, 35, 101, 53, 36, 110, 142, 101, 98, 141, 91, 45, 132, 55, 74, 42, 19, 127, 136, 87, 41, 121, 78, 137, 140, 126, 59, 115, 127, 74, 104, 76, 56, 118, 51, 48, 87, 84, 107, 100, 96, 111, 134, 59, 139, 141, 75, 58, 20, 125, 138, 70, 132, 33, 72, 78, 132, 79, 14, 64, 92, 141, 85, 133, 54, 106, 63, 37, 135, 119, 65, 106, 47, 95, 93, 68, 78, 64, 126, 121, 58, 70, 70, 76, 70, 123, 92, 98, 72, 27, 127, 47, 36, 134, 91, 125, 116, 17, 44, 68, 94, 74, 139, 114, 124, 118, 141, 81, 87, 74, 128, 122, 42, 62, 50, 97, 115, 138, 24, 139, 47, 131, 128, 121, 130, 71, 112, 122, 24, 69, 29, 38, 120, 66, 130, 89, 91, 129, 128, 123, 101, 102, 54, 129, 111, 39, 117, 75, 117, 99, 26, 63, 122, 43, 118, 130, 111, 26, 32, 134, 90, 129, 60, 75, 58, 44, 92, 103, 117, 54, 83, 119, 132, 129, 68, 73, 101, 131, 103, 88, 121, 62, 111, 52, 105, 101, 137, 82, 134, 55, 94, 61, 141, 118, 106, 128, 94, 113, 53, 131, 99, 124, 141, 65, 72, 131, 21, 17, 101, 84, 37, 48, 42, 120, 71, 136, 91, 47, 72, 46, 113, 128, 120, 141, 29, 34, 109, 42, 72, 81, 82, 46, 97, 140, 110, 70, 37, 118, 139, 102, 141, 56, 129, 110, 141, 28, 141, 32, 44, 141, 133, 26, 125, 100, 117, 137, 48, 96, 18, 54, 72, 29, 138, 63, 92, 70, 55, 28, 67, 112, 84, 92, 49, 60, 116, 40, 134, 132, 141, 85, 141, 116, 53, 141, 97, 22, 91, 71, 54, 132, 71, 48, 125, 125, 136, 109, 91, 29, 35, 109, 63, 54, 49, 117, 64, 37, 54, 141, 39, 40, 61, 41, 139, 86, 73, 122, 68, 39, 67, 114, 132, 61, 57, 129, 35, 124, 61, 64, 138, 11, 100, 62, 110, 100, 120, 53, 93, 111, 112, 35, 84, 37, 127, 134, 112, 91, 97, 78, 67, 90, 133, 93, 54, 75, 101, 107, 32, 131, 140, 133, 117, 63, 116, 97, 66, 60, 105, 101, 140, 142, 65, 120, 81, 125, 16, 134, 98, 130, 124, 49, 91, 17, 132, 92, 94, 79, 60, 33, 94, 82, 18, 81, 135, 97, 133, 141, 87, 139, 44, 121, 123, 61, 118, 50, 27, 135, 55, 131, 77, 74, 55, 48, 56, 79, 130, 138, 136, 128, 90, 133, 42, 60, 129, 135, 17, 82, 50, 8, 137, 101, 28, 97, 127, 118, 83, 48, 97, 47, 100, 82, 129, 116, 61, 139, 76, 60, 141, 116, 116, 132, 141, 116, 134, 120, 139, 104, 135, 25, 67, 126, 114, 50, 110, 137, 126, 78, 68, 131, 61, 94, 128, 41, 20, 140, 128, 47, 138, 141, 104, 68, 67, 128, 60, 62, 125, 116, 106, 121, 90, 111, 131, 136, 60, 108, 65, 141, 141, 128, 125, 138, 74, 98, 122, 87, 71, 53, 58, 91, 129, 125, 122, 98, 134, 122, 65, 136, 140, 63, 140, 64, 41, 131, 28, 133, 86, 92, 97, 40, 96, 125, 135, 50, 128, 135, 70, 71, 85, 75, 105, 92, 86, 97, 127, 23, 38, 99, 64, 139, 112, 74, 127, 117, 110, 108, 77, 55, 124, 142, 90, 114, 72, 102, 22, 95, 62, 110, 122, 130, 120, 81, 128, 48, 140, 92, 91, 124, 124, 48, 70, 88, 138, 117, 127, 105, 98, 123, 141, 99, 78, 90, 130, 115, 83, 30, 54, 62, 69, 116, 36, 104, 29, 67, 141, 126, 95, 26, 44, 28, 128, 57, 79, 82, 80, 131, 110, 35, 121, 139, 39, 75, 101, 33, 58, 119, 140, 128, 44, 138, 65, 9, 68, 133, 78, 37, 133, 96, 70, 72, 87, 125, 116, 109, 77, 17, 132, 87, 132, 13, 65, 100, 67, 127, 77, 89, 58, 132, 56, 117, 140, 29, 131, 48, 45, 102, 123, 140, 116, 38, 118, 113, 65, 113, 42, 31, 18, 93, 141, 126, 105, 66, 44, 52, 95, 129, 45, 140, 126, 66, 131, 68, 38, 122, 65, 121, 57, 139, 110, 56, 65, 61, 137, 70, 59, 16, 83, 108, 74, 108, 131, 49, 131, 107, 124, 42, 87, 30, 139, 120, 128, 84, 35, 129, 76, 94, 56, 81, 133, 112, 77, 130, 135, 137, 74, 85, 42, 86, 30, 113, 25, 94, 125, 96, 75, 95, 64, 128, 86, 113, 61, 39, 47, 32, 116, 73, 120, 72, 77, 57, 24, 49, 127, 112, 31, 93, 114, 103, 104, 127, 134, 134, 102, 101, 15, 132, 39, 49, 32, 55, 56, 137, 25, 126, 63, 61, 37, 78, 112, 83, 135, 119, 14, 32, 60, 57, 127, 130, 111, 63, 58, 133, 136, 92, 99, 76, 121, 135, 126, 126, 121, 99, 29, 124, 132, 77, 37, 131, 78, 121, 120, 86, 127, 129, 42, 109, 132, 64, 73, 128, 118, 91, 141, 126, 32, 25, 41, 109, 74, 93, 58, 135, 94, 62, 68, 126, 87, 99, 133, 107, 42, 61, 36, 89, 22, 131, 66, 22, 144, 120, 127, 122, 123, 48, 57, 74, 137, 108, 138, 75, 64, 78, 124, 96, 45, 96, 103, 141, 125, 131, 26, 110, 127, 133, 61, 39, 43, 58, 63, 111, 134, 117, 61, 141, 125, 128, 123, 46, 91, 118, 39, 21, 50, 85, 31, 19, 122, 104, 36, 47, 85, 66, 72, 78, 140, 93, 138, 137, 134, 136, 54, 138, 63, 82, 87, 92, 88, 98, 81, 131, 113, 57, 41, 52, 60, 43, 131, 129, 39, 42, 151, 139, 28, 128, 138, 133, 18, 54, 90, 37, 104, 69, 66, 136, 101, 106, 141, 101, 127, 42, 132, 133, 59, 51, 95, 125, 140, 136, 141, 74, 106, 93, 68, 46, 132, 42, 105, 132, 53, 132, 134, 33, 118, 139, 45, 89, 56, 72, 112, 138, 38, 96, 133, 66, 65, 52, 63, 40, 139, 117, 126, 66, 28, 91, 93, 140, 135, 85, 41, 106, 92, 34, 14, 39, 106, 132, 129, 78, 101, 101, 129, 122, 112, 135, 65, 69, 62, 127, 76, 112, 73, 128, 119, 129, 133, 88, 55, 120, 57, 114, 65, 60, 72, 26, 64, 60, 58, 63, 64, 59, 35, 141, 137, 109, 92, 76, 36, 46, 74, 73, 26, 96, 52, 48, 116, 55, 140, 88, 120, 121, 53, 132, 132, 19, 122, 114, 44, 95, 136, 17, 137, 132, 42, 140, 128, 104, 96, 134, 70, 124, 74, 7, 132, 124, 87, 133, 112, 58, 123, 41, 127, 15, 111, 136, 27, 131, 139, 116, 136, 28, 100, 84, 130, 129, 80, 95, 47, 86, 33, 121, 85, 99, 16, 44, 59, 141, 141, 132, 71, 129, 128, 58, 107, 41, 61, 58, 138, 52, 64, 81, 95, 89, 85, 142, 117, 140, 45, 119, 135, 141, 129, 30, 89, 48, 138, 24, 138, 119, 136, 45, 88, 123, 64, 16, 141, 130, 36, 130, 99, 50, 135, 34, 85, 85, 116, 40, 126, 130, 82, 112, 70, 133, 26, 132, 131, 121, 55, 134, 89, 59, 121, 43, 29, 104, 55, 37, 128, 93, 113, 125, 119, 74, 43, 20, 138, 76, 59, 91, 42, 97, 119, 82, 76, 46, 84, 117, 141, 126, 120, 68, 113, 123, 89, 83, 50, 70, 63, 78, 79, 141, 98, 132, 123, 78, 48, 141, 135, 57, 95, 36, 72, 60, 118, 134, 60, 46, 52, 96, 123, 65, 134, 91, 38, 123, 34, 85, 59, 122, 56, 124, 95, 53, 109, 47, 111, 21, 112, 117, 81, 67, 114, 128, 64, 75, 139, 134, 46, 124, 46, 127, 141, 78, 67, 110, 127, 67, 136, 89, 78, 132, 76, 27, 121, 39, 140, 50, 137, 130, 54, 72, 91, 107, 81, 97, 25, 141, 134, 141, 140, 140, 90, 80, 132, 68, 53, 110, 77, 100, 136, 129, 139, 35, 71, 124, 94, 83, 104, 101, 85, 102, 141, 126, 132, 86, 45, 135, 44, 121, 129, 83, 138, 74, 92, 70, 134, 93, 63, 71, 73, 129, 139, 26, 25, 130, 126, 133, 46, 26, 92, 133, 133, 129, 127, 133, 97, 142, 93, 63, 52, 63, 85, 58, 56, 143, 130, 47, 136, 93, 110, 137, 128, 84, 101, 105, 119, 141, 133, 88, 108, 141, 69, 47, 77, 131, 33, 80, 47, 23, 134, 79, 36, 66, 106, 133, 109, 123, 100, 58, 69, 127, 103, 113, 77, 81, 70, 141, 144, 132, 139, 51, 53, 88, 130, 138, 67, 92, 65, 131, 141, 45, 20, 141, 16, 39, 120, 105, 74, 131, 129, 122, 69, 40, 24, 113, 129, 49, 15, 140, 40, 52, 132, 77, 98, 39, 49, 123, 130, 133, 130, 60, 113, 20, 99, 115, 75, 88, 140, 33, 85, 85, 118, 140, 94, 141, 131, 89, 124, 88, 95, 111, 37, 99, 83, 36, 36, 63, 79, 134, 91, 139, 27, 125, 27, 56, 82, 112, 114, 110, 116, 98, 68, 130, 92, 30, 96, 22, 53, 109, 45, 92, 108, 69, 90, 117, 117, 112, 28, 126, 72, 102, 128, 60, 137, 123, 50, 84, 69, 47, 122, 25, 93, 138, 71, 78, 79, 85, 140, 19, 125, 127, 86, 59, 126, 77, 134, 44, 43, 99, 132, 132, 92, 50, 140, 34, 95, 105, 106, 70, 126, 128, 127, 15, 131, 54, 128, 139, 38, 128, 122, 96, 33, 41, 21, 141, 103, 139, 41, 19, 136, 133, 111, 78, 106, 112, 105, 125, 111, 136, 59, 130, 71, 104, 71, 57, 33, 138, 79, 129, 89, 81, 133, 78, 129, 128, 107, 98, 44, 130, 29, 130, 130, 95, 88, 51, 90, 139, 141, 26, 119, 138, 60, 94, 140, 137, 96, 15, 128, 104, 39, 58, 79, 71, 131, 39, 53, 97, 133, 125, 134, 83, 41, 30, 125, 51, 127, 140, 56, 15, 86, 134, 141, 34, 101, 67, 110, 95, 119, 113, 123, 93, 134, 140, 100, 89, 128, 141, 123, 85, 122, 27, 77, 121, 136, 126, 120, 142, 134, 55, 141, 138, 125, 99, 119, 114, 47, 52, 19, 84, 91, 27, 41, 141, 73, 87, 73, 132, 123, 86, 98, 132, 71, 45, 122, 95, 55, 41, 137, 35, 122, 101, 128, 32, 125, 68, 112, 74, 62, 24, 108, 139, 95, 118, 130, 108, 140, 60, 72, 61, 40, 39, 107, 143, 118, 141, 45, 99, 131, 121, 109, 126, 101, 64, 127, 127, 104, 58, 132, 78, 71, 89, 116, 54, 16, 49, 106, 49, 113, 114, 111, 100, 103, 122, 47, 137, 78, 96, 72, 130]}],\n",
              "                        {\"barmode\": \"overlay\", \"legend\": {\"bgcolor\": \"#F5F6F9\", \"font\": {\"color\": \"#4D5663\"}}, \"paper_bgcolor\": \"#F5F6F9\", \"plot_bgcolor\": \"#F5F6F9\", \"template\": {\"data\": {\"bar\": [{\"error_x\": {\"color\": \"#2a3f5f\"}, \"error_y\": {\"color\": \"#2a3f5f\"}, \"marker\": {\"line\": {\"color\": \"#E5ECF6\", \"width\": 0.5}}, \"type\": \"bar\"}], \"barpolar\": [{\"marker\": {\"line\": {\"color\": \"#E5ECF6\", \"width\": 0.5}}, \"type\": \"barpolar\"}], \"carpet\": [{\"aaxis\": {\"endlinecolor\": \"#2a3f5f\", \"gridcolor\": \"white\", \"linecolor\": \"white\", \"minorgridcolor\": \"white\", \"startlinecolor\": \"#2a3f5f\"}, \"baxis\": {\"endlinecolor\": \"#2a3f5f\", \"gridcolor\": \"white\", \"linecolor\": \"white\", \"minorgridcolor\": \"white\", \"startlinecolor\": \"#2a3f5f\"}, \"type\": \"carpet\"}], \"choropleth\": [{\"colorbar\": {\"outlinewidth\": 0, \"ticks\": \"\"}, \"type\": \"choropleth\"}], \"contour\": [{\"colorbar\": {\"outlinewidth\": 0, \"ticks\": \"\"}, \"colorscale\": [[0.0, \"#0d0887\"], [0.1111111111111111, \"#46039f\"], [0.2222222222222222, \"#7201a8\"], [0.3333333333333333, \"#9c179e\"], [0.4444444444444444, \"#bd3786\"], [0.5555555555555556, \"#d8576b\"], [0.6666666666666666, \"#ed7953\"], [0.7777777777777778, \"#fb9f3a\"], [0.8888888888888888, \"#fdca26\"], [1.0, \"#f0f921\"]], \"type\": \"contour\"}], \"contourcarpet\": [{\"colorbar\": {\"outlinewidth\": 0, \"ticks\": \"\"}, \"type\": \"contourcarpet\"}], \"heatmap\": [{\"colorbar\": {\"outlinewidth\": 0, \"ticks\": \"\"}, \"colorscale\": [[0.0, \"#0d0887\"], [0.1111111111111111, \"#46039f\"], [0.2222222222222222, \"#7201a8\"], [0.3333333333333333, \"#9c179e\"], [0.4444444444444444, \"#bd3786\"], [0.5555555555555556, \"#d8576b\"], [0.6666666666666666, \"#ed7953\"], [0.7777777777777778, \"#fb9f3a\"], [0.8888888888888888, \"#fdca26\"], [1.0, \"#f0f921\"]], \"type\": \"heatmap\"}], \"heatmapgl\": [{\"colorbar\": {\"outlinewidth\": 0, \"ticks\": \"\"}, \"colorscale\": [[0.0, \"#0d0887\"], [0.1111111111111111, \"#46039f\"], [0.2222222222222222, \"#7201a8\"], [0.3333333333333333, \"#9c179e\"], [0.4444444444444444, \"#bd3786\"], [0.5555555555555556, \"#d8576b\"], [0.6666666666666666, \"#ed7953\"], [0.7777777777777778, \"#fb9f3a\"], [0.8888888888888888, \"#fdca26\"], [1.0, \"#f0f921\"]], \"type\": \"heatmapgl\"}], \"histogram\": [{\"marker\": {\"colorbar\": {\"outlinewidth\": 0, \"ticks\": \"\"}}, \"type\": \"histogram\"}], \"histogram2d\": [{\"colorbar\": {\"outlinewidth\": 0, \"ticks\": \"\"}, \"colorscale\": [[0.0, \"#0d0887\"], [0.1111111111111111, \"#46039f\"], [0.2222222222222222, \"#7201a8\"], [0.3333333333333333, \"#9c179e\"], [0.4444444444444444, \"#bd3786\"], [0.5555555555555556, \"#d8576b\"], [0.6666666666666666, \"#ed7953\"], [0.7777777777777778, \"#fb9f3a\"], [0.8888888888888888, \"#fdca26\"], [1.0, \"#f0f921\"]], \"type\": \"histogram2d\"}], \"histogram2dcontour\": [{\"colorbar\": {\"outlinewidth\": 0, \"ticks\": \"\"}, \"colorscale\": [[0.0, \"#0d0887\"], [0.1111111111111111, \"#46039f\"], [0.2222222222222222, \"#7201a8\"], [0.3333333333333333, \"#9c179e\"], [0.4444444444444444, \"#bd3786\"], [0.5555555555555556, \"#d8576b\"], [0.6666666666666666, \"#ed7953\"], [0.7777777777777778, \"#fb9f3a\"], [0.8888888888888888, \"#fdca26\"], [1.0, \"#f0f921\"]], \"type\": \"histogram2dcontour\"}], \"mesh3d\": [{\"colorbar\": {\"outlinewidth\": 0, \"ticks\": \"\"}, \"type\": \"mesh3d\"}], \"parcoords\": [{\"line\": {\"colorbar\": {\"outlinewidth\": 0, \"ticks\": \"\"}}, \"type\": \"parcoords\"}], \"pie\": [{\"automargin\": true, \"type\": \"pie\"}], \"scatter\": [{\"marker\": {\"colorbar\": {\"outlinewidth\": 0, \"ticks\": \"\"}}, \"type\": \"scatter\"}], \"scatter3d\": [{\"line\": {\"colorbar\": {\"outlinewidth\": 0, \"ticks\": \"\"}}, \"marker\": {\"colorbar\": {\"outlinewidth\": 0, \"ticks\": \"\"}}, \"type\": \"scatter3d\"}], \"scattercarpet\": [{\"marker\": {\"colorbar\": {\"outlinewidth\": 0, \"ticks\": \"\"}}, \"type\": \"scattercarpet\"}], \"scattergeo\": [{\"marker\": {\"colorbar\": {\"outlinewidth\": 0, \"ticks\": \"\"}}, \"type\": \"scattergeo\"}], \"scattergl\": [{\"marker\": {\"colorbar\": {\"outlinewidth\": 0, \"ticks\": \"\"}}, \"type\": \"scattergl\"}], \"scattermapbox\": [{\"marker\": {\"colorbar\": {\"outlinewidth\": 0, \"ticks\": \"\"}}, \"type\": \"scattermapbox\"}], \"scatterpolar\": [{\"marker\": {\"colorbar\": {\"outlinewidth\": 0, \"ticks\": \"\"}}, \"type\": \"scatterpolar\"}], \"scatterpolargl\": [{\"marker\": {\"colorbar\": {\"outlinewidth\": 0, \"ticks\": \"\"}}, \"type\": \"scatterpolargl\"}], \"scatterternary\": [{\"marker\": {\"colorbar\": {\"outlinewidth\": 0, \"ticks\": \"\"}}, \"type\": \"scatterternary\"}], \"surface\": [{\"colorbar\": {\"outlinewidth\": 0, \"ticks\": \"\"}, \"colorscale\": [[0.0, \"#0d0887\"], [0.1111111111111111, \"#46039f\"], [0.2222222222222222, \"#7201a8\"], [0.3333333333333333, \"#9c179e\"], [0.4444444444444444, \"#bd3786\"], [0.5555555555555556, \"#d8576b\"], [0.6666666666666666, \"#ed7953\"], [0.7777777777777778, \"#fb9f3a\"], [0.8888888888888888, \"#fdca26\"], [1.0, \"#f0f921\"]], \"type\": \"surface\"}], \"table\": [{\"cells\": {\"fill\": {\"color\": \"#EBF0F8\"}, \"line\": {\"color\": \"white\"}}, \"header\": {\"fill\": {\"color\": \"#C8D4E3\"}, \"line\": {\"color\": \"white\"}}, \"type\": \"table\"}]}, \"layout\": {\"annotationdefaults\": {\"arrowcolor\": \"#2a3f5f\", \"arrowhead\": 0, \"arrowwidth\": 1}, \"coloraxis\": {\"colorbar\": {\"outlinewidth\": 0, \"ticks\": \"\"}}, \"colorscale\": {\"diverging\": [[0, \"#8e0152\"], [0.1, \"#c51b7d\"], [0.2, \"#de77ae\"], [0.3, \"#f1b6da\"], [0.4, \"#fde0ef\"], [0.5, \"#f7f7f7\"], [0.6, \"#e6f5d0\"], [0.7, \"#b8e186\"], [0.8, \"#7fbc41\"], [0.9, \"#4d9221\"], [1, \"#276419\"]], \"sequential\": [[0.0, \"#0d0887\"], [0.1111111111111111, \"#46039f\"], [0.2222222222222222, \"#7201a8\"], [0.3333333333333333, \"#9c179e\"], [0.4444444444444444, \"#bd3786\"], [0.5555555555555556, \"#d8576b\"], [0.6666666666666666, \"#ed7953\"], [0.7777777777777778, \"#fb9f3a\"], [0.8888888888888888, \"#fdca26\"], [1.0, \"#f0f921\"]], \"sequentialminus\": [[0.0, \"#0d0887\"], [0.1111111111111111, \"#46039f\"], [0.2222222222222222, \"#7201a8\"], [0.3333333333333333, \"#9c179e\"], [0.4444444444444444, \"#bd3786\"], [0.5555555555555556, \"#d8576b\"], [0.6666666666666666, \"#ed7953\"], [0.7777777777777778, \"#fb9f3a\"], [0.8888888888888888, \"#fdca26\"], [1.0, \"#f0f921\"]]}, \"colorway\": [\"#636efa\", \"#EF553B\", \"#00cc96\", \"#ab63fa\", \"#FFA15A\", \"#19d3f3\", \"#FF6692\", \"#B6E880\", \"#FF97FF\", \"#FECB52\"], \"font\": {\"color\": \"#2a3f5f\"}, \"geo\": {\"bgcolor\": \"white\", \"lakecolor\": \"white\", \"landcolor\": \"#E5ECF6\", \"showlakes\": true, \"showland\": true, \"subunitcolor\": \"white\"}, \"hoverlabel\": {\"align\": \"left\"}, \"hovermode\": \"closest\", \"mapbox\": {\"style\": \"light\"}, \"paper_bgcolor\": \"white\", \"plot_bgcolor\": \"#E5ECF6\", \"polar\": {\"angularaxis\": {\"gridcolor\": \"white\", \"linecolor\": \"white\", \"ticks\": \"\"}, \"bgcolor\": \"#E5ECF6\", \"radialaxis\": {\"gridcolor\": \"white\", \"linecolor\": \"white\", \"ticks\": \"\"}}, \"scene\": {\"xaxis\": {\"backgroundcolor\": \"#E5ECF6\", \"gridcolor\": \"white\", \"gridwidth\": 2, \"linecolor\": \"white\", \"showbackground\": true, \"ticks\": \"\", \"zerolinecolor\": \"white\"}, \"yaxis\": {\"backgroundcolor\": \"#E5ECF6\", \"gridcolor\": \"white\", \"gridwidth\": 2, \"linecolor\": \"white\", \"showbackground\": true, \"ticks\": \"\", \"zerolinecolor\": \"white\"}, \"zaxis\": {\"backgroundcolor\": \"#E5ECF6\", \"gridcolor\": \"white\", \"gridwidth\": 2, \"linecolor\": \"white\", \"showbackground\": true, \"ticks\": \"\", \"zerolinecolor\": \"white\"}}, \"shapedefaults\": {\"line\": {\"color\": \"#2a3f5f\"}}, \"ternary\": {\"aaxis\": {\"gridcolor\": \"white\", \"linecolor\": \"white\", \"ticks\": \"\"}, \"baxis\": {\"gridcolor\": \"white\", \"linecolor\": \"white\", \"ticks\": \"\"}, \"bgcolor\": \"#E5ECF6\", \"caxis\": {\"gridcolor\": \"white\", \"linecolor\": \"white\", \"ticks\": \"\"}}, \"title\": {\"x\": 0.05}, \"xaxis\": {\"automargin\": true, \"gridcolor\": \"white\", \"linecolor\": \"white\", \"ticks\": \"\", \"title\": {\"standoff\": 15}, \"zerolinecolor\": \"white\", \"zerolinewidth\": 2}, \"yaxis\": {\"automargin\": true, \"gridcolor\": \"white\", \"linecolor\": \"white\", \"ticks\": \"\", \"title\": {\"standoff\": 15}, \"zerolinecolor\": \"white\", \"zerolinewidth\": 2}}}, \"title\": {\"font\": {\"color\": \"#4D5663\"}, \"text\": \"Review Text Length Distribution\"}, \"xaxis\": {\"gridcolor\": \"#E1E5ED\", \"linecolor\": \"black\", \"showgrid\": true, \"tickfont\": {\"color\": \"#4D5663\"}, \"title\": {\"font\": {\"color\": \"#4D5663\"}, \"text\": \"review length\"}, \"zerolinecolor\": \"#E1E5ED\"}, \"yaxis\": {\"gridcolor\": \"#E1E5ED\", \"linecolor\": \"black\", \"showgrid\": true, \"tickfont\": {\"color\": \"#4D5663\"}, \"title\": {\"font\": {\"color\": \"#4D5663\"}, \"text\": \"count\"}, \"zerolinecolor\": \"#E1E5ED\"}},\n",
              "                        {\"showLink\": true, \"linkText\": \"Export to plot.ly\", \"plotlyServerURL\": \"https://plot.ly\", \"responsive\": true}\n",
              "                    ).then(function(){\n",
              "                            \n",
              "var gd = document.getElementById('2cb65d9f-05d0-4874-b1e6-e57911578119');\n",
              "var x = new MutationObserver(function (mutations, observer) {{\n",
              "        var display = window.getComputedStyle(gd).display;\n",
              "        if (!display || display === 'none') {{\n",
              "            console.log([gd, 'removed!']);\n",
              "            Plotly.purge(gd);\n",
              "            observer.disconnect();\n",
              "        }}\n",
              "}});\n",
              "\n",
              "// Listen for the removal of the full notebook cells\n",
              "var notebookContainer = gd.closest('#notebook-container');\n",
              "if (notebookContainer) {{\n",
              "    x.observe(notebookContainer, {childList: true});\n",
              "}}\n",
              "\n",
              "// Listen for the clearing of the current output cell\n",
              "var outputEl = gd.closest('.output');\n",
              "if (outputEl) {{\n",
              "    x.observe(outputEl, {childList: true});\n",
              "}}\n",
              "\n",
              "                        })\n",
              "                };\n",
              "                });\n",
              "            </script>\n",
              "        </div>"
            ],
            "application/vnd.plotly.v1+json": {
              "data": [
                {
                  "opacity": 0.8,
                  "name": "review_len",
                  "histnorm": "",
                  "nbinsx": 100,
                  "histfunc": "count",
                  "marker": {
                    "color": "rgba(255, 153, 51, 1.0)",
                    "line": {
                      "color": "#000000",
                      "width": 1.3
                    }
                  },
                  "x": [
                    105,
                    99,
                    95,
                    103,
                    66,
                    118,
                    114,
                    79,
                    85,
                    33,
                    105,
                    143,
                    140,
                    41,
                    57,
                    127,
                    135,
                    97,
                    128,
                    110,
                    108,
                    138,
                    141,
                    131,
                    36,
                    129,
                    31,
                    106,
                    96,
                    97,
                    86,
                    54,
                    95,
                    104,
                    86,
                    26,
                    140,
                    66,
                    78,
                    129,
                    126,
                    63,
                    134,
                    137,
                    130,
                    76,
                    41,
                    134,
                    124,
                    77,
                    57,
                    124,
                    108,
                    90,
                    83,
                    117,
                    94,
                    28,
                    99,
                    74,
                    59,
                    85,
                    106,
                    86,
                    123,
                    42,
                    115,
                    130,
                    106,
                    123,
                    18,
                    45,
                    125,
                    96,
                    92,
                    105,
                    141,
                    135,
                    113,
                    126,
                    131,
                    130,
                    54,
                    92,
                    135,
                    122,
                    115,
                    42,
                    110,
                    59,
                    119,
                    118,
                    54,
                    58,
                    86,
                    106,
                    135,
                    130,
                    20,
                    70,
                    141,
                    141,
                    141,
                    129,
                    90,
                    136,
                    39,
                    85,
                    95,
                    136,
                    113,
                    139,
                    86,
                    48,
                    35,
                    138,
                    140,
                    119,
                    130,
                    118,
                    107,
                    107,
                    108,
                    55,
                    121,
                    57,
                    28,
                    118,
                    37,
                    67,
                    117,
                    45,
                    131,
                    131,
                    63,
                    72,
                    96,
                    80,
                    120,
                    50,
                    114,
                    84,
                    134,
                    11,
                    138,
                    131,
                    105,
                    16,
                    116,
                    99,
                    39,
                    139,
                    51,
                    140,
                    100,
                    141,
                    91,
                    63,
                    137,
                    125,
                    73,
                    127,
                    112,
                    53,
                    76,
                    122,
                    116,
                    21,
                    57,
                    103,
                    118,
                    86,
                    19,
                    141,
                    49,
                    105,
                    58,
                    91,
                    133,
                    72,
                    67,
                    138,
                    104,
                    134,
                    127,
                    87,
                    35,
                    72,
                    94,
                    95,
                    88,
                    134,
                    141,
                    100,
                    92,
                    62,
                    74,
                    108,
                    31,
                    112,
                    125,
                    54,
                    86,
                    99,
                    81,
                    140,
                    62,
                    117,
                    112,
                    119,
                    42,
                    135,
                    141,
                    114,
                    56,
                    129,
                    128,
                    47,
                    16,
                    58,
                    128,
                    19,
                    116,
                    122,
                    51,
                    12,
                    55,
                    141,
                    111,
                    122,
                    85,
                    134,
                    54,
                    129,
                    40,
                    134,
                    128,
                    62,
                    86,
                    38,
                    114,
                    79,
                    126,
                    73,
                    37,
                    49,
                    39,
                    42,
                    73,
                    111,
                    95,
                    83,
                    61,
                    81,
                    51,
                    110,
                    82,
                    122,
                    99,
                    103,
                    24,
                    122,
                    58,
                    55,
                    26,
                    57,
                    57,
                    140,
                    134,
                    135,
                    48,
                    58,
                    117,
                    142,
                    125,
                    115,
                    127,
                    131,
                    140,
                    122,
                    53,
                    64,
                    74,
                    76,
                    132,
                    136,
                    105,
                    135,
                    50,
                    115,
                    116,
                    133,
                    66,
                    80,
                    63,
                    129,
                    128,
                    52,
                    34,
                    48,
                    48,
                    97,
                    27,
                    131,
                    116,
                    107,
                    105,
                    80,
                    57,
                    109,
                    87,
                    75,
                    86,
                    56,
                    53,
                    35,
                    137,
                    69,
                    78,
                    48,
                    103,
                    134,
                    98,
                    112,
                    135,
                    72,
                    140,
                    114,
                    65,
                    77,
                    113,
                    128,
                    130,
                    123,
                    65,
                    132,
                    70,
                    102,
                    70,
                    103,
                    89,
                    127,
                    61,
                    129,
                    93,
                    103,
                    124,
                    79,
                    99,
                    122,
                    135,
                    132,
                    76,
                    127,
                    94,
                    116,
                    139,
                    140,
                    126,
                    88,
                    55,
                    115,
                    132,
                    126,
                    92,
                    136,
                    124,
                    106,
                    35,
                    116,
                    138,
                    122,
                    139,
                    76,
                    34,
                    87,
                    15,
                    47,
                    97,
                    141,
                    45,
                    123,
                    80,
                    133,
                    90,
                    48,
                    36,
                    118,
                    112,
                    72,
                    86,
                    134,
                    133,
                    83,
                    60,
                    127,
                    133,
                    65,
                    79,
                    47,
                    112,
                    119,
                    44,
                    57,
                    131,
                    104,
                    116,
                    115,
                    73,
                    133,
                    23,
                    121,
                    141,
                    131,
                    95,
                    41,
                    129,
                    123,
                    98,
                    134,
                    30,
                    30,
                    141,
                    58,
                    55,
                    23,
                    102,
                    69,
                    88,
                    51,
                    114,
                    136,
                    51,
                    74,
                    122,
                    58,
                    50,
                    66,
                    73,
                    123,
                    106,
                    129,
                    26,
                    135,
                    89,
                    106,
                    126,
                    58,
                    140,
                    75,
                    71,
                    99,
                    54,
                    134,
                    134,
                    134,
                    112,
                    141,
                    89,
                    93,
                    77,
                    129,
                    99,
                    120,
                    138,
                    122,
                    126,
                    136,
                    125,
                    50,
                    70,
                    131,
                    103,
                    138,
                    115,
                    49,
                    138,
                    26,
                    102,
                    144,
                    71,
                    56,
                    130,
                    30,
                    125,
                    92,
                    110,
                    40,
                    41,
                    76,
                    132,
                    113,
                    128,
                    112,
                    125,
                    131,
                    109,
                    110,
                    118,
                    128,
                    18,
                    34,
                    112,
                    78,
                    125,
                    119,
                    56,
                    30,
                    88,
                    116,
                    140,
                    86,
                    112,
                    115,
                    53,
                    76,
                    42,
                    89,
                    122,
                    40,
                    81,
                    91,
                    103,
                    13,
                    114,
                    137,
                    123,
                    77,
                    81,
                    140,
                    130,
                    141,
                    108,
                    66,
                    89,
                    33,
                    79,
                    68,
                    120,
                    127,
                    15,
                    95,
                    80,
                    132,
                    89,
                    121,
                    57,
                    93,
                    25,
                    141,
                    92,
                    131,
                    43,
                    120,
                    32,
                    133,
                    114,
                    23,
                    125,
                    36,
                    109,
                    61,
                    106,
                    76,
                    40,
                    126,
                    133,
                    133,
                    51,
                    67,
                    88,
                    54,
                    102,
                    35,
                    102,
                    34,
                    67,
                    37,
                    140,
                    73,
                    132,
                    58,
                    29,
                    134,
                    98,
                    36,
                    130,
                    141,
                    136,
                    102,
                    75,
                    56,
                    129,
                    82,
                    67,
                    111,
                    32,
                    49,
                    51,
                    141,
                    125,
                    110,
                    142,
                    52,
                    90,
                    141,
                    53,
                    84,
                    82,
                    79,
                    37,
                    47,
                    64,
                    55,
                    98,
                    33,
                    18,
                    51,
                    114,
                    43,
                    59,
                    120,
                    141,
                    45,
                    67,
                    116,
                    69,
                    127,
                    97,
                    72,
                    81,
                    122,
                    36,
                    134,
                    59,
                    139,
                    127,
                    43,
                    100,
                    107,
                    67,
                    81,
                    81,
                    128,
                    139,
                    75,
                    139,
                    81,
                    115,
                    53,
                    73,
                    141,
                    51,
                    107,
                    56,
                    128,
                    118,
                    122,
                    133,
                    42,
                    64,
                    51,
                    123,
                    89,
                    138,
                    107,
                    34,
                    19,
                    102,
                    97,
                    21,
                    103,
                    60,
                    133,
                    62,
                    87,
                    93,
                    117,
                    41,
                    32,
                    135,
                    100,
                    124,
                    98,
                    117,
                    36,
                    128,
                    116,
                    18,
                    132,
                    40,
                    58,
                    121,
                    134,
                    58,
                    67,
                    74,
                    140,
                    58,
                    133,
                    101,
                    97,
                    121,
                    136,
                    126,
                    83,
                    76,
                    118,
                    129,
                    51,
                    40,
                    131,
                    45,
                    118,
                    115,
                    139,
                    34,
                    113,
                    82,
                    126,
                    116,
                    133,
                    124,
                    93,
                    53,
                    108,
                    102,
                    141,
                    103,
                    119,
                    140,
                    62,
                    17,
                    122,
                    108,
                    41,
                    107,
                    66,
                    51,
                    117,
                    103,
                    123,
                    141,
                    127,
                    98,
                    138,
                    59,
                    105,
                    69,
                    112,
                    114,
                    88,
                    110,
                    130,
                    108,
                    44,
                    141,
                    67,
                    29,
                    130,
                    114,
                    130,
                    117,
                    101,
                    131,
                    104,
                    100,
                    58,
                    66,
                    124,
                    47,
                    113,
                    83,
                    78,
                    78,
                    103,
                    140,
                    87,
                    54,
                    110,
                    111,
                    22,
                    58,
                    83,
                    25,
                    135,
                    50,
                    115,
                    130,
                    126,
                    133,
                    24,
                    106,
                    12,
                    132,
                    140,
                    118,
                    137,
                    72,
                    113,
                    112,
                    138,
                    107,
                    92,
                    100,
                    128,
                    138,
                    29,
                    38,
                    119,
                    141,
                    98,
                    127,
                    135,
                    139,
                    120,
                    123,
                    50,
                    92,
                    140,
                    109,
                    140,
                    75,
                    115,
                    130,
                    137,
                    103,
                    89,
                    15,
                    93,
                    136,
                    121,
                    107,
                    139,
                    53,
                    60,
                    109,
                    19,
                    130,
                    130,
                    36,
                    104,
                    50,
                    113,
                    48,
                    115,
                    28,
                    127,
                    101,
                    59,
                    87,
                    42,
                    131,
                    131,
                    140,
                    58,
                    45,
                    88,
                    126,
                    80,
                    129,
                    140,
                    141,
                    64,
                    127,
                    81,
                    27,
                    135,
                    81,
                    132,
                    114,
                    123,
                    118,
                    98,
                    48,
                    47,
                    90,
                    32,
                    139,
                    97,
                    41,
                    136,
                    58,
                    107,
                    124,
                    140,
                    62,
                    47,
                    90,
                    44,
                    133,
                    101,
                    105,
                    137,
                    116,
                    108,
                    77,
                    77,
                    83,
                    128,
                    132,
                    133,
                    120,
                    109,
                    34,
                    60,
                    22,
                    45,
                    78,
                    110,
                    129,
                    130,
                    70,
                    19,
                    129,
                    96,
                    73,
                    65,
                    43,
                    125,
                    77,
                    96,
                    68,
                    97,
                    132,
                    18,
                    85,
                    82,
                    128,
                    27,
                    139,
                    65,
                    131,
                    115,
                    117,
                    66,
                    120,
                    120,
                    96,
                    98,
                    85,
                    82,
                    48,
                    58,
                    137,
                    74,
                    138,
                    74,
                    138,
                    54,
                    71,
                    68,
                    22,
                    78,
                    22,
                    129,
                    134,
                    127,
                    34,
                    127,
                    111,
                    134,
                    130,
                    133,
                    138,
                    43,
                    125,
                    116,
                    139,
                    43,
                    117,
                    141,
                    111,
                    32,
                    141,
                    54,
                    114,
                    134,
                    114,
                    46,
                    49,
                    91,
                    129,
                    27,
                    133,
                    79,
                    137,
                    130,
                    137,
                    137,
                    111,
                    49,
                    47,
                    100,
                    136,
                    99,
                    71,
                    53,
                    76,
                    132,
                    132,
                    141,
                    31,
                    60,
                    128,
                    135,
                    93,
                    135,
                    42,
                    123,
                    128,
                    141,
                    79,
                    130,
                    47,
                    47,
                    93,
                    87,
                    121,
                    109,
                    89,
                    130,
                    46,
                    52,
                    132,
                    127,
                    62,
                    135,
                    133,
                    59,
                    135,
                    60,
                    107,
                    134,
                    75,
                    65,
                    50,
                    60,
                    92,
                    54,
                    141,
                    116,
                    111,
                    120,
                    76,
                    54,
                    43,
                    53,
                    114,
                    136,
                    104,
                    94,
                    142,
                    53,
                    84,
                    16,
                    58,
                    121,
                    99,
                    125,
                    8,
                    127,
                    135,
                    126,
                    21,
                    139,
                    125,
                    78,
                    67,
                    83,
                    24,
                    98,
                    122,
                    56,
                    130,
                    135,
                    135,
                    104,
                    134,
                    140,
                    140,
                    86,
                    67,
                    130,
                    83,
                    88,
                    53,
                    135,
                    95,
                    135,
                    33,
                    117,
                    132,
                    40,
                    85,
                    85,
                    42,
                    67,
                    45,
                    54,
                    115,
                    51,
                    125,
                    52,
                    75,
                    121,
                    107,
                    132,
                    121,
                    88,
                    58,
                    122,
                    71,
                    79,
                    130,
                    42,
                    74,
                    35,
                    109,
                    71,
                    91,
                    81,
                    61,
                    35,
                    80,
                    62,
                    84,
                    103,
                    44,
                    86,
                    106,
                    57,
                    136,
                    44,
                    130,
                    98,
                    112,
                    78,
                    21,
                    42,
                    112,
                    70,
                    132,
                    142,
                    136,
                    129,
                    90,
                    98,
                    134,
                    51,
                    125,
                    22,
                    63,
                    53,
                    59,
                    132,
                    136,
                    76,
                    124,
                    119,
                    70,
                    44,
                    113,
                    23,
                    57,
                    74,
                    122,
                    92,
                    42,
                    75,
                    123,
                    141,
                    56,
                    128,
                    129,
                    108,
                    73,
                    105,
                    118,
                    50,
                    81,
                    128,
                    65,
                    53,
                    129,
                    103,
                    109,
                    127,
                    122,
                    140,
                    107,
                    124,
                    108,
                    103,
                    79,
                    65,
                    69,
                    127,
                    89,
                    140,
                    65,
                    57,
                    141,
                    119,
                    140,
                    53,
                    107,
                    80,
                    114,
                    42,
                    51,
                    49,
                    126,
                    138,
                    121,
                    92,
                    141,
                    68,
                    41,
                    72,
                    75,
                    118,
                    52,
                    119,
                    66,
                    103,
                    124,
                    134,
                    111,
                    84,
                    82,
                    123,
                    131,
                    65,
                    74,
                    117,
                    85,
                    89,
                    135,
                    104,
                    137,
                    82,
                    125,
                    95,
                    141,
                    65,
                    92,
                    138,
                    140,
                    136,
                    136,
                    58,
                    80,
                    27,
                    58,
                    87,
                    64,
                    104,
                    133,
                    55,
                    92,
                    135,
                    84,
                    65,
                    113,
                    139,
                    59,
                    33,
                    88,
                    57,
                    93,
                    89,
                    41,
                    30,
                    130,
                    119,
                    64,
                    101,
                    127,
                    97,
                    134,
                    135,
                    58,
                    76,
                    39,
                    131,
                    84,
                    68,
                    127,
                    10,
                    97,
                    131,
                    42,
                    18,
                    78,
                    35,
                    120,
                    110,
                    61,
                    120,
                    80,
                    63,
                    119,
                    113,
                    40,
                    130,
                    123,
                    62,
                    128,
                    81,
                    129,
                    51,
                    104,
                    49,
                    139,
                    63,
                    95,
                    133,
                    72,
                    32,
                    123,
                    126,
                    70,
                    140,
                    52,
                    35,
                    46,
                    106,
                    140,
                    54,
                    26,
                    111,
                    117,
                    25,
                    40,
                    54,
                    87,
                    131,
                    140,
                    97,
                    67,
                    54,
                    34,
                    133,
                    138,
                    48,
                    51,
                    55,
                    117,
                    75,
                    139,
                    111,
                    33,
                    111,
                    124,
                    40,
                    74,
                    131,
                    64,
                    32,
                    33,
                    120,
                    137,
                    27,
                    34,
                    37,
                    57,
                    141,
                    125,
                    131,
                    117,
                    87,
                    83,
                    80,
                    21,
                    71,
                    33,
                    123,
                    58,
                    75,
                    97,
                    46,
                    134,
                    134,
                    112,
                    127,
                    135,
                    92,
                    141,
                    65,
                    132,
                    94,
                    74,
                    133,
                    115,
                    60,
                    58,
                    35,
                    108,
                    137,
                    119,
                    101,
                    40,
                    122,
                    78,
                    131,
                    30,
                    79,
                    50,
                    74,
                    131,
                    105,
                    126,
                    140,
                    141,
                    92,
                    107,
                    78,
                    75,
                    103,
                    84,
                    24,
                    16,
                    43,
                    140,
                    88,
                    72,
                    135,
                    89,
                    129,
                    88,
                    65,
                    93,
                    42,
                    65,
                    133,
                    140,
                    73,
                    141,
                    122,
                    117,
                    123,
                    136,
                    127,
                    41,
                    103,
                    90,
                    138,
                    120,
                    69,
                    121,
                    72,
                    139,
                    130,
                    28,
                    77,
                    139,
                    141,
                    136,
                    112,
                    75,
                    40,
                    140,
                    134,
                    50,
                    110,
                    112,
                    92,
                    52,
                    136,
                    90,
                    79,
                    135,
                    83,
                    91,
                    131,
                    128,
                    134,
                    100,
                    62,
                    109,
                    107,
                    109,
                    59,
                    102,
                    92,
                    73,
                    39,
                    50,
                    140,
                    45,
                    101,
                    35,
                    101,
                    53,
                    36,
                    110,
                    142,
                    101,
                    98,
                    141,
                    91,
                    45,
                    132,
                    55,
                    74,
                    42,
                    19,
                    127,
                    136,
                    87,
                    41,
                    121,
                    78,
                    137,
                    140,
                    126,
                    59,
                    115,
                    127,
                    74,
                    104,
                    76,
                    56,
                    118,
                    51,
                    48,
                    87,
                    84,
                    107,
                    100,
                    96,
                    111,
                    134,
                    59,
                    139,
                    141,
                    75,
                    58,
                    20,
                    125,
                    138,
                    70,
                    132,
                    33,
                    72,
                    78,
                    132,
                    79,
                    14,
                    64,
                    92,
                    141,
                    85,
                    133,
                    54,
                    106,
                    63,
                    37,
                    135,
                    119,
                    65,
                    106,
                    47,
                    95,
                    93,
                    68,
                    78,
                    64,
                    126,
                    121,
                    58,
                    70,
                    70,
                    76,
                    70,
                    123,
                    92,
                    98,
                    72,
                    27,
                    127,
                    47,
                    36,
                    134,
                    91,
                    125,
                    116,
                    17,
                    44,
                    68,
                    94,
                    74,
                    139,
                    114,
                    124,
                    118,
                    141,
                    81,
                    87,
                    74,
                    128,
                    122,
                    42,
                    62,
                    50,
                    97,
                    115,
                    138,
                    24,
                    139,
                    47,
                    131,
                    128,
                    121,
                    130,
                    71,
                    112,
                    122,
                    24,
                    69,
                    29,
                    38,
                    120,
                    66,
                    130,
                    89,
                    91,
                    129,
                    128,
                    123,
                    101,
                    102,
                    54,
                    129,
                    111,
                    39,
                    117,
                    75,
                    117,
                    99,
                    26,
                    63,
                    122,
                    43,
                    118,
                    130,
                    111,
                    26,
                    32,
                    134,
                    90,
                    129,
                    60,
                    75,
                    58,
                    44,
                    92,
                    103,
                    117,
                    54,
                    83,
                    119,
                    132,
                    129,
                    68,
                    73,
                    101,
                    131,
                    103,
                    88,
                    121,
                    62,
                    111,
                    52,
                    105,
                    101,
                    137,
                    82,
                    134,
                    55,
                    94,
                    61,
                    141,
                    118,
                    106,
                    128,
                    94,
                    113,
                    53,
                    131,
                    99,
                    124,
                    141,
                    65,
                    72,
                    131,
                    21,
                    17,
                    101,
                    84,
                    37,
                    48,
                    42,
                    120,
                    71,
                    136,
                    91,
                    47,
                    72,
                    46,
                    113,
                    128,
                    120,
                    141,
                    29,
                    34,
                    109,
                    42,
                    72,
                    81,
                    82,
                    46,
                    97,
                    140,
                    110,
                    70,
                    37,
                    118,
                    139,
                    102,
                    141,
                    56,
                    129,
                    110,
                    141,
                    28,
                    141,
                    32,
                    44,
                    141,
                    133,
                    26,
                    125,
                    100,
                    117,
                    137,
                    48,
                    96,
                    18,
                    54,
                    72,
                    29,
                    138,
                    63,
                    92,
                    70,
                    55,
                    28,
                    67,
                    112,
                    84,
                    92,
                    49,
                    60,
                    116,
                    40,
                    134,
                    132,
                    141,
                    85,
                    141,
                    116,
                    53,
                    141,
                    97,
                    22,
                    91,
                    71,
                    54,
                    132,
                    71,
                    48,
                    125,
                    125,
                    136,
                    109,
                    91,
                    29,
                    35,
                    109,
                    63,
                    54,
                    49,
                    117,
                    64,
                    37,
                    54,
                    141,
                    39,
                    40,
                    61,
                    41,
                    139,
                    86,
                    73,
                    122,
                    68,
                    39,
                    67,
                    114,
                    132,
                    61,
                    57,
                    129,
                    35,
                    124,
                    61,
                    64,
                    138,
                    11,
                    100,
                    62,
                    110,
                    100,
                    120,
                    53,
                    93,
                    111,
                    112,
                    35,
                    84,
                    37,
                    127,
                    134,
                    112,
                    91,
                    97,
                    78,
                    67,
                    90,
                    133,
                    93,
                    54,
                    75,
                    101,
                    107,
                    32,
                    131,
                    140,
                    133,
                    117,
                    63,
                    116,
                    97,
                    66,
                    60,
                    105,
                    101,
                    140,
                    142,
                    65,
                    120,
                    81,
                    125,
                    16,
                    134,
                    98,
                    130,
                    124,
                    49,
                    91,
                    17,
                    132,
                    92,
                    94,
                    79,
                    60,
                    33,
                    94,
                    82,
                    18,
                    81,
                    135,
                    97,
                    133,
                    141,
                    87,
                    139,
                    44,
                    121,
                    123,
                    61,
                    118,
                    50,
                    27,
                    135,
                    55,
                    131,
                    77,
                    74,
                    55,
                    48,
                    56,
                    79,
                    130,
                    138,
                    136,
                    128,
                    90,
                    133,
                    42,
                    60,
                    129,
                    135,
                    17,
                    82,
                    50,
                    8,
                    137,
                    101,
                    28,
                    97,
                    127,
                    118,
                    83,
                    48,
                    97,
                    47,
                    100,
                    82,
                    129,
                    116,
                    61,
                    139,
                    76,
                    60,
                    141,
                    116,
                    116,
                    132,
                    141,
                    116,
                    134,
                    120,
                    139,
                    104,
                    135,
                    25,
                    67,
                    126,
                    114,
                    50,
                    110,
                    137,
                    126,
                    78,
                    68,
                    131,
                    61,
                    94,
                    128,
                    41,
                    20,
                    140,
                    128,
                    47,
                    138,
                    141,
                    104,
                    68,
                    67,
                    128,
                    60,
                    62,
                    125,
                    116,
                    106,
                    121,
                    90,
                    111,
                    131,
                    136,
                    60,
                    108,
                    65,
                    141,
                    141,
                    128,
                    125,
                    138,
                    74,
                    98,
                    122,
                    87,
                    71,
                    53,
                    58,
                    91,
                    129,
                    125,
                    122,
                    98,
                    134,
                    122,
                    65,
                    136,
                    140,
                    63,
                    140,
                    64,
                    41,
                    131,
                    28,
                    133,
                    86,
                    92,
                    97,
                    40,
                    96,
                    125,
                    135,
                    50,
                    128,
                    135,
                    70,
                    71,
                    85,
                    75,
                    105,
                    92,
                    86,
                    97,
                    127,
                    23,
                    38,
                    99,
                    64,
                    139,
                    112,
                    74,
                    127,
                    117,
                    110,
                    108,
                    77,
                    55,
                    124,
                    142,
                    90,
                    114,
                    72,
                    102,
                    22,
                    95,
                    62,
                    110,
                    122,
                    130,
                    120,
                    81,
                    128,
                    48,
                    140,
                    92,
                    91,
                    124,
                    124,
                    48,
                    70,
                    88,
                    138,
                    117,
                    127,
                    105,
                    98,
                    123,
                    141,
                    99,
                    78,
                    90,
                    130,
                    115,
                    83,
                    30,
                    54,
                    62,
                    69,
                    116,
                    36,
                    104,
                    29,
                    67,
                    141,
                    126,
                    95,
                    26,
                    44,
                    28,
                    128,
                    57,
                    79,
                    82,
                    80,
                    131,
                    110,
                    35,
                    121,
                    139,
                    39,
                    75,
                    101,
                    33,
                    58,
                    119,
                    140,
                    128,
                    44,
                    138,
                    65,
                    9,
                    68,
                    133,
                    78,
                    37,
                    133,
                    96,
                    70,
                    72,
                    87,
                    125,
                    116,
                    109,
                    77,
                    17,
                    132,
                    87,
                    132,
                    13,
                    65,
                    100,
                    67,
                    127,
                    77,
                    89,
                    58,
                    132,
                    56,
                    117,
                    140,
                    29,
                    131,
                    48,
                    45,
                    102,
                    123,
                    140,
                    116,
                    38,
                    118,
                    113,
                    65,
                    113,
                    42,
                    31,
                    18,
                    93,
                    141,
                    126,
                    105,
                    66,
                    44,
                    52,
                    95,
                    129,
                    45,
                    140,
                    126,
                    66,
                    131,
                    68,
                    38,
                    122,
                    65,
                    121,
                    57,
                    139,
                    110,
                    56,
                    65,
                    61,
                    137,
                    70,
                    59,
                    16,
                    83,
                    108,
                    74,
                    108,
                    131,
                    49,
                    131,
                    107,
                    124,
                    42,
                    87,
                    30,
                    139,
                    120,
                    128,
                    84,
                    35,
                    129,
                    76,
                    94,
                    56,
                    81,
                    133,
                    112,
                    77,
                    130,
                    135,
                    137,
                    74,
                    85,
                    42,
                    86,
                    30,
                    113,
                    25,
                    94,
                    125,
                    96,
                    75,
                    95,
                    64,
                    128,
                    86,
                    113,
                    61,
                    39,
                    47,
                    32,
                    116,
                    73,
                    120,
                    72,
                    77,
                    57,
                    24,
                    49,
                    127,
                    112,
                    31,
                    93,
                    114,
                    103,
                    104,
                    127,
                    134,
                    134,
                    102,
                    101,
                    15,
                    132,
                    39,
                    49,
                    32,
                    55,
                    56,
                    137,
                    25,
                    126,
                    63,
                    61,
                    37,
                    78,
                    112,
                    83,
                    135,
                    119,
                    14,
                    32,
                    60,
                    57,
                    127,
                    130,
                    111,
                    63,
                    58,
                    133,
                    136,
                    92,
                    99,
                    76,
                    121,
                    135,
                    126,
                    126,
                    121,
                    99,
                    29,
                    124,
                    132,
                    77,
                    37,
                    131,
                    78,
                    121,
                    120,
                    86,
                    127,
                    129,
                    42,
                    109,
                    132,
                    64,
                    73,
                    128,
                    118,
                    91,
                    141,
                    126,
                    32,
                    25,
                    41,
                    109,
                    74,
                    93,
                    58,
                    135,
                    94,
                    62,
                    68,
                    126,
                    87,
                    99,
                    133,
                    107,
                    42,
                    61,
                    36,
                    89,
                    22,
                    131,
                    66,
                    22,
                    144,
                    120,
                    127,
                    122,
                    123,
                    48,
                    57,
                    74,
                    137,
                    108,
                    138,
                    75,
                    64,
                    78,
                    124,
                    96,
                    45,
                    96,
                    103,
                    141,
                    125,
                    131,
                    26,
                    110,
                    127,
                    133,
                    61,
                    39,
                    43,
                    58,
                    63,
                    111,
                    134,
                    117,
                    61,
                    141,
                    125,
                    128,
                    123,
                    46,
                    91,
                    118,
                    39,
                    21,
                    50,
                    85,
                    31,
                    19,
                    122,
                    104,
                    36,
                    47,
                    85,
                    66,
                    72,
                    78,
                    140,
                    93,
                    138,
                    137,
                    134,
                    136,
                    54,
                    138,
                    63,
                    82,
                    87,
                    92,
                    88,
                    98,
                    81,
                    131,
                    113,
                    57,
                    41,
                    52,
                    60,
                    43,
                    131,
                    129,
                    39,
                    42,
                    151,
                    139,
                    28,
                    128,
                    138,
                    133,
                    18,
                    54,
                    90,
                    37,
                    104,
                    69,
                    66,
                    136,
                    101,
                    106,
                    141,
                    101,
                    127,
                    42,
                    132,
                    133,
                    59,
                    51,
                    95,
                    125,
                    140,
                    136,
                    141,
                    74,
                    106,
                    93,
                    68,
                    46,
                    132,
                    42,
                    105,
                    132,
                    53,
                    132,
                    134,
                    33,
                    118,
                    139,
                    45,
                    89,
                    56,
                    72,
                    112,
                    138,
                    38,
                    96,
                    133,
                    66,
                    65,
                    52,
                    63,
                    40,
                    139,
                    117,
                    126,
                    66,
                    28,
                    91,
                    93,
                    140,
                    135,
                    85,
                    41,
                    106,
                    92,
                    34,
                    14,
                    39,
                    106,
                    132,
                    129,
                    78,
                    101,
                    101,
                    129,
                    122,
                    112,
                    135,
                    65,
                    69,
                    62,
                    127,
                    76,
                    112,
                    73,
                    128,
                    119,
                    129,
                    133,
                    88,
                    55,
                    120,
                    57,
                    114,
                    65,
                    60,
                    72,
                    26,
                    64,
                    60,
                    58,
                    63,
                    64,
                    59,
                    35,
                    141,
                    137,
                    109,
                    92,
                    76,
                    36,
                    46,
                    74,
                    73,
                    26,
                    96,
                    52,
                    48,
                    116,
                    55,
                    140,
                    88,
                    120,
                    121,
                    53,
                    132,
                    132,
                    19,
                    122,
                    114,
                    44,
                    95,
                    136,
                    17,
                    137,
                    132,
                    42,
                    140,
                    128,
                    104,
                    96,
                    134,
                    70,
                    124,
                    74,
                    7,
                    132,
                    124,
                    87,
                    133,
                    112,
                    58,
                    123,
                    41,
                    127,
                    15,
                    111,
                    136,
                    27,
                    131,
                    139,
                    116,
                    136,
                    28,
                    100,
                    84,
                    130,
                    129,
                    80,
                    95,
                    47,
                    86,
                    33,
                    121,
                    85,
                    99,
                    16,
                    44,
                    59,
                    141,
                    141,
                    132,
                    71,
                    129,
                    128,
                    58,
                    107,
                    41,
                    61,
                    58,
                    138,
                    52,
                    64,
                    81,
                    95,
                    89,
                    85,
                    142,
                    117,
                    140,
                    45,
                    119,
                    135,
                    141,
                    129,
                    30,
                    89,
                    48,
                    138,
                    24,
                    138,
                    119,
                    136,
                    45,
                    88,
                    123,
                    64,
                    16,
                    141,
                    130,
                    36,
                    130,
                    99,
                    50,
                    135,
                    34,
                    85,
                    85,
                    116,
                    40,
                    126,
                    130,
                    82,
                    112,
                    70,
                    133,
                    26,
                    132,
                    131,
                    121,
                    55,
                    134,
                    89,
                    59,
                    121,
                    43,
                    29,
                    104,
                    55,
                    37,
                    128,
                    93,
                    113,
                    125,
                    119,
                    74,
                    43,
                    20,
                    138,
                    76,
                    59,
                    91,
                    42,
                    97,
                    119,
                    82,
                    76,
                    46,
                    84,
                    117,
                    141,
                    126,
                    120,
                    68,
                    113,
                    123,
                    89,
                    83,
                    50,
                    70,
                    63,
                    78,
                    79,
                    141,
                    98,
                    132,
                    123,
                    78,
                    48,
                    141,
                    135,
                    57,
                    95,
                    36,
                    72,
                    60,
                    118,
                    134,
                    60,
                    46,
                    52,
                    96,
                    123,
                    65,
                    134,
                    91,
                    38,
                    123,
                    34,
                    85,
                    59,
                    122,
                    56,
                    124,
                    95,
                    53,
                    109,
                    47,
                    111,
                    21,
                    112,
                    117,
                    81,
                    67,
                    114,
                    128,
                    64,
                    75,
                    139,
                    134,
                    46,
                    124,
                    46,
                    127,
                    141,
                    78,
                    67,
                    110,
                    127,
                    67,
                    136,
                    89,
                    78,
                    132,
                    76,
                    27,
                    121,
                    39,
                    140,
                    50,
                    137,
                    130,
                    54,
                    72,
                    91,
                    107,
                    81,
                    97,
                    25,
                    141,
                    134,
                    141,
                    140,
                    140,
                    90,
                    80,
                    132,
                    68,
                    53,
                    110,
                    77,
                    100,
                    136,
                    129,
                    139,
                    35,
                    71,
                    124,
                    94,
                    83,
                    104,
                    101,
                    85,
                    102,
                    141,
                    126,
                    132,
                    86,
                    45,
                    135,
                    44,
                    121,
                    129,
                    83,
                    138,
                    74,
                    92,
                    70,
                    134,
                    93,
                    63,
                    71,
                    73,
                    129,
                    139,
                    26,
                    25,
                    130,
                    126,
                    133,
                    46,
                    26,
                    92,
                    133,
                    133,
                    129,
                    127,
                    133,
                    97,
                    142,
                    93,
                    63,
                    52,
                    63,
                    85,
                    58,
                    56,
                    143,
                    130,
                    47,
                    136,
                    93,
                    110,
                    137,
                    128,
                    84,
                    101,
                    105,
                    119,
                    141,
                    133,
                    88,
                    108,
                    141,
                    69,
                    47,
                    77,
                    131,
                    33,
                    80,
                    47,
                    23,
                    134,
                    79,
                    36,
                    66,
                    106,
                    133,
                    109,
                    123,
                    100,
                    58,
                    69,
                    127,
                    103,
                    113,
                    77,
                    81,
                    70,
                    141,
                    144,
                    132,
                    139,
                    51,
                    53,
                    88,
                    130,
                    138,
                    67,
                    92,
                    65,
                    131,
                    141,
                    45,
                    20,
                    141,
                    16,
                    39,
                    120,
                    105,
                    74,
                    131,
                    129,
                    122,
                    69,
                    40,
                    24,
                    113,
                    129,
                    49,
                    15,
                    140,
                    40,
                    52,
                    132,
                    77,
                    98,
                    39,
                    49,
                    123,
                    130,
                    133,
                    130,
                    60,
                    113,
                    20,
                    99,
                    115,
                    75,
                    88,
                    140,
                    33,
                    85,
                    85,
                    118,
                    140,
                    94,
                    141,
                    131,
                    89,
                    124,
                    88,
                    95,
                    111,
                    37,
                    99,
                    83,
                    36,
                    36,
                    63,
                    79,
                    134,
                    91,
                    139,
                    27,
                    125,
                    27,
                    56,
                    82,
                    112,
                    114,
                    110,
                    116,
                    98,
                    68,
                    130,
                    92,
                    30,
                    96,
                    22,
                    53,
                    109,
                    45,
                    92,
                    108,
                    69,
                    90,
                    117,
                    117,
                    112,
                    28,
                    126,
                    72,
                    102,
                    128,
                    60,
                    137,
                    123,
                    50,
                    84,
                    69,
                    47,
                    122,
                    25,
                    93,
                    138,
                    71,
                    78,
                    79,
                    85,
                    140,
                    19,
                    125,
                    127,
                    86,
                    59,
                    126,
                    77,
                    134,
                    44,
                    43,
                    99,
                    132,
                    132,
                    92,
                    50,
                    140,
                    34,
                    95,
                    105,
                    106,
                    70,
                    126,
                    128,
                    127,
                    15,
                    131,
                    54,
                    128,
                    139,
                    38,
                    128,
                    122,
                    96,
                    33,
                    41,
                    21,
                    141,
                    103,
                    139,
                    41,
                    19,
                    136,
                    133,
                    111,
                    78,
                    106,
                    112,
                    105,
                    125,
                    111,
                    136,
                    59,
                    130,
                    71,
                    104,
                    71,
                    57,
                    33,
                    138,
                    79,
                    129,
                    89,
                    81,
                    133,
                    78,
                    129,
                    128,
                    107,
                    98,
                    44,
                    130,
                    29,
                    130,
                    130,
                    95,
                    88,
                    51,
                    90,
                    139,
                    141,
                    26,
                    119,
                    138,
                    60,
                    94,
                    140,
                    137,
                    96,
                    15,
                    128,
                    104,
                    39,
                    58,
                    79,
                    71,
                    131,
                    39,
                    53,
                    97,
                    133,
                    125,
                    134,
                    83,
                    41,
                    30,
                    125,
                    51,
                    127,
                    140,
                    56,
                    15,
                    86,
                    134,
                    141,
                    34,
                    101,
                    67,
                    110,
                    95,
                    119,
                    113,
                    123,
                    93,
                    134,
                    140,
                    100,
                    89,
                    128,
                    141,
                    123,
                    85,
                    122,
                    27,
                    77,
                    121,
                    136,
                    126,
                    120,
                    142,
                    134,
                    55,
                    141,
                    138,
                    125,
                    99,
                    119,
                    114,
                    47,
                    52,
                    19,
                    84,
                    91,
                    27,
                    41,
                    141,
                    73,
                    87,
                    73,
                    132,
                    123,
                    86,
                    98,
                    132,
                    71,
                    45,
                    122,
                    95,
                    55,
                    41,
                    137,
                    35,
                    122,
                    101,
                    128,
                    32,
                    125,
                    68,
                    112,
                    74,
                    62,
                    24,
                    108,
                    139,
                    95,
                    118,
                    130,
                    108,
                    140,
                    60,
                    72,
                    61,
                    40,
                    39,
                    107,
                    143,
                    118,
                    141,
                    45,
                    99,
                    131,
                    121,
                    109,
                    126,
                    101,
                    64,
                    127,
                    127,
                    104,
                    58,
                    132,
                    78,
                    71,
                    89,
                    116,
                    54,
                    16,
                    49,
                    106,
                    49,
                    113,
                    114,
                    111,
                    100,
                    103,
                    122,
                    47,
                    137,
                    78,
                    96,
                    72,
                    130
                  ],
                  "type": "histogram",
                  "orientation": "v"
                }
              ],
              "config": {
                "plotlyServerURL": "https://plot.ly",
                "linkText": "Export to plot.ly",
                "showLink": true
              },
              "layout": {
                "xaxis": {
                  "tickfont": {
                    "color": "#4D5663"
                  },
                  "title": {
                    "text": "review length",
                    "font": {
                      "color": "#4D5663"
                    }
                  },
                  "showgrid": true,
                  "zerolinecolor": "#E1E5ED",
                  "gridcolor": "#E1E5ED",
                  "linecolor": "black"
                },
                "title": {
                  "text": "Review Text Length Distribution",
                  "font": {
                    "color": "#4D5663"
                  }
                },
                "paper_bgcolor": "#F5F6F9",
                "plot_bgcolor": "#F5F6F9",
                "yaxis": {
                  "tickfont": {
                    "color": "#4D5663"
                  },
                  "title": {
                    "text": "count",
                    "font": {
                      "color": "#4D5663"
                    }
                  },
                  "showgrid": true,
                  "zerolinecolor": "#E1E5ED",
                  "gridcolor": "#E1E5ED",
                  "linecolor": "black"
                },
                "barmode": "overlay",
                "template": {
                  "layout": {
                    "shapedefaults": {
                      "line": {
                        "color": "#2a3f5f"
                      }
                    },
                    "polar": {
                      "radialaxis": {
                        "ticks": "",
                        "gridcolor": "white",
                        "linecolor": "white"
                      },
                      "bgcolor": "#E5ECF6",
                      "angularaxis": {
                        "ticks": "",
                        "gridcolor": "white",
                        "linecolor": "white"
                      }
                    },
                    "colorway": [
                      "#636efa",
                      "#EF553B",
                      "#00cc96",
                      "#ab63fa",
                      "#FFA15A",
                      "#19d3f3",
                      "#FF6692",
                      "#B6E880",
                      "#FF97FF",
                      "#FECB52"
                    ],
                    "xaxis": {
                      "automargin": true,
                      "title": {
                        "standoff": 15
                      },
                      "zerolinewidth": 2,
                      "ticks": "",
                      "zerolinecolor": "white",
                      "gridcolor": "white",
                      "linecolor": "white"
                    },
                    "colorscale": {
                      "diverging": [
                        [
                          0,
                          "#8e0152"
                        ],
                        [
                          0.1,
                          "#c51b7d"
                        ],
                        [
                          0.2,
                          "#de77ae"
                        ],
                        [
                          0.3,
                          "#f1b6da"
                        ],
                        [
                          0.4,
                          "#fde0ef"
                        ],
                        [
                          0.5,
                          "#f7f7f7"
                        ],
                        [
                          0.6,
                          "#e6f5d0"
                        ],
                        [
                          0.7,
                          "#b8e186"
                        ],
                        [
                          0.8,
                          "#7fbc41"
                        ],
                        [
                          0.9,
                          "#4d9221"
                        ],
                        [
                          1,
                          "#276419"
                        ]
                      ],
                      "sequential": [
                        [
                          0,
                          "#0d0887"
                        ],
                        [
                          0.1111111111111111,
                          "#46039f"
                        ],
                        [
                          0.2222222222222222,
                          "#7201a8"
                        ],
                        [
                          0.3333333333333333,
                          "#9c179e"
                        ],
                        [
                          0.4444444444444444,
                          "#bd3786"
                        ],
                        [
                          0.5555555555555556,
                          "#d8576b"
                        ],
                        [
                          0.6666666666666666,
                          "#ed7953"
                        ],
                        [
                          0.7777777777777778,
                          "#fb9f3a"
                        ],
                        [
                          0.8888888888888888,
                          "#fdca26"
                        ],
                        [
                          1,
                          "#f0f921"
                        ]
                      ],
                      "sequentialminus": [
                        [
                          0,
                          "#0d0887"
                        ],
                        [
                          0.1111111111111111,
                          "#46039f"
                        ],
                        [
                          0.2222222222222222,
                          "#7201a8"
                        ],
                        [
                          0.3333333333333333,
                          "#9c179e"
                        ],
                        [
                          0.4444444444444444,
                          "#bd3786"
                        ],
                        [
                          0.5555555555555556,
                          "#d8576b"
                        ],
                        [
                          0.6666666666666666,
                          "#ed7953"
                        ],
                        [
                          0.7777777777777778,
                          "#fb9f3a"
                        ],
                        [
                          0.8888888888888888,
                          "#fdca26"
                        ],
                        [
                          1,
                          "#f0f921"
                        ]
                      ]
                    },
                    "paper_bgcolor": "white",
                    "plot_bgcolor": "#E5ECF6",
                    "title": {
                      "x": 0.05
                    },
                    "scene": {
                      "zaxis": {
                        "backgroundcolor": "#E5ECF6",
                        "ticks": "",
                        "gridwidth": 2,
                        "showbackground": true,
                        "zerolinecolor": "white",
                        "gridcolor": "white",
                        "linecolor": "white"
                      },
                      "xaxis": {
                        "backgroundcolor": "#E5ECF6",
                        "ticks": "",
                        "gridwidth": 2,
                        "showbackground": true,
                        "zerolinecolor": "white",
                        "gridcolor": "white",
                        "linecolor": "white"
                      },
                      "yaxis": {
                        "backgroundcolor": "#E5ECF6",
                        "ticks": "",
                        "gridwidth": 2,
                        "showbackground": true,
                        "zerolinecolor": "white",
                        "gridcolor": "white",
                        "linecolor": "white"
                      }
                    },
                    "yaxis": {
                      "automargin": true,
                      "title": {
                        "standoff": 15
                      },
                      "zerolinewidth": 2,
                      "ticks": "",
                      "zerolinecolor": "white",
                      "gridcolor": "white",
                      "linecolor": "white"
                    },
                    "annotationdefaults": {
                      "arrowwidth": 1,
                      "arrowhead": 0,
                      "arrowcolor": "#2a3f5f"
                    },
                    "hoverlabel": {
                      "align": "left"
                    },
                    "ternary": {
                      "bgcolor": "#E5ECF6",
                      "baxis": {
                        "ticks": "",
                        "gridcolor": "white",
                        "linecolor": "white"
                      },
                      "caxis": {
                        "ticks": "",
                        "gridcolor": "white",
                        "linecolor": "white"
                      },
                      "aaxis": {
                        "ticks": "",
                        "gridcolor": "white",
                        "linecolor": "white"
                      }
                    },
                    "mapbox": {
                      "style": "light"
                    },
                    "hovermode": "closest",
                    "font": {
                      "color": "#2a3f5f"
                    },
                    "geo": {
                      "showland": true,
                      "landcolor": "#E5ECF6",
                      "showlakes": true,
                      "bgcolor": "white",
                      "subunitcolor": "white",
                      "lakecolor": "white"
                    },
                    "coloraxis": {
                      "colorbar": {
                        "outlinewidth": 0,
                        "ticks": ""
                      }
                    }
                  },
                  "data": {
                    "mesh3d": [
                      {
                        "colorbar": {
                          "outlinewidth": 0,
                          "ticks": ""
                        },
                        "type": "mesh3d"
                      }
                    ],
                    "scattercarpet": [
                      {
                        "marker": {
                          "colorbar": {
                            "outlinewidth": 0,
                            "ticks": ""
                          }
                        },
                        "type": "scattercarpet"
                      }
                    ],
                    "pie": [
                      {
                        "automargin": true,
                        "type": "pie"
                      }
                    ],
                    "surface": [
                      {
                        "colorbar": {
                          "outlinewidth": 0,
                          "ticks": ""
                        },
                        "type": "surface",
                        "colorscale": [
                          [
                            0,
                            "#0d0887"
                          ],
                          [
                            0.1111111111111111,
                            "#46039f"
                          ],
                          [
                            0.2222222222222222,
                            "#7201a8"
                          ],
                          [
                            0.3333333333333333,
                            "#9c179e"
                          ],
                          [
                            0.4444444444444444,
                            "#bd3786"
                          ],
                          [
                            0.5555555555555556,
                            "#d8576b"
                          ],
                          [
                            0.6666666666666666,
                            "#ed7953"
                          ],
                          [
                            0.7777777777777778,
                            "#fb9f3a"
                          ],
                          [
                            0.8888888888888888,
                            "#fdca26"
                          ],
                          [
                            1,
                            "#f0f921"
                          ]
                        ]
                      }
                    ],
                    "table": [
                      {
                        "header": {
                          "line": {
                            "color": "white"
                          },
                          "fill": {
                            "color": "#C8D4E3"
                          }
                        },
                        "cells": {
                          "line": {
                            "color": "white"
                          },
                          "fill": {
                            "color": "#EBF0F8"
                          }
                        },
                        "type": "table"
                      }
                    ],
                    "scatterpolargl": [
                      {
                        "marker": {
                          "colorbar": {
                            "outlinewidth": 0,
                            "ticks": ""
                          }
                        },
                        "type": "scatterpolargl"
                      }
                    ],
                    "contour": [
                      {
                        "colorbar": {
                          "outlinewidth": 0,
                          "ticks": ""
                        },
                        "type": "contour",
                        "colorscale": [
                          [
                            0,
                            "#0d0887"
                          ],
                          [
                            0.1111111111111111,
                            "#46039f"
                          ],
                          [
                            0.2222222222222222,
                            "#7201a8"
                          ],
                          [
                            0.3333333333333333,
                            "#9c179e"
                          ],
                          [
                            0.4444444444444444,
                            "#bd3786"
                          ],
                          [
                            0.5555555555555556,
                            "#d8576b"
                          ],
                          [
                            0.6666666666666666,
                            "#ed7953"
                          ],
                          [
                            0.7777777777777778,
                            "#fb9f3a"
                          ],
                          [
                            0.8888888888888888,
                            "#fdca26"
                          ],
                          [
                            1,
                            "#f0f921"
                          ]
                        ]
                      }
                    ],
                    "carpet": [
                      {
                        "type": "carpet",
                        "baxis": {
                          "minorgridcolor": "white",
                          "gridcolor": "white",
                          "linecolor": "white",
                          "endlinecolor": "#2a3f5f",
                          "startlinecolor": "#2a3f5f"
                        },
                        "aaxis": {
                          "minorgridcolor": "white",
                          "gridcolor": "white",
                          "linecolor": "white",
                          "endlinecolor": "#2a3f5f",
                          "startlinecolor": "#2a3f5f"
                        }
                      }
                    ],
                    "contourcarpet": [
                      {
                        "colorbar": {
                          "outlinewidth": 0,
                          "ticks": ""
                        },
                        "type": "contourcarpet"
                      }
                    ],
                    "heatmap": [
                      {
                        "colorbar": {
                          "outlinewidth": 0,
                          "ticks": ""
                        },
                        "type": "heatmap",
                        "colorscale": [
                          [
                            0,
                            "#0d0887"
                          ],
                          [
                            0.1111111111111111,
                            "#46039f"
                          ],
                          [
                            0.2222222222222222,
                            "#7201a8"
                          ],
                          [
                            0.3333333333333333,
                            "#9c179e"
                          ],
                          [
                            0.4444444444444444,
                            "#bd3786"
                          ],
                          [
                            0.5555555555555556,
                            "#d8576b"
                          ],
                          [
                            0.6666666666666666,
                            "#ed7953"
                          ],
                          [
                            0.7777777777777778,
                            "#fb9f3a"
                          ],
                          [
                            0.8888888888888888,
                            "#fdca26"
                          ],
                          [
                            1,
                            "#f0f921"
                          ]
                        ]
                      }
                    ],
                    "scattermapbox": [
                      {
                        "marker": {
                          "colorbar": {
                            "outlinewidth": 0,
                            "ticks": ""
                          }
                        },
                        "type": "scattermapbox"
                      }
                    ],
                    "scatter3d": [
                      {
                        "marker": {
                          "colorbar": {
                            "outlinewidth": 0,
                            "ticks": ""
                          }
                        },
                        "line": {
                          "colorbar": {
                            "outlinewidth": 0,
                            "ticks": ""
                          }
                        },
                        "type": "scatter3d"
                      }
                    ],
                    "scattergl": [
                      {
                        "marker": {
                          "colorbar": {
                            "outlinewidth": 0,
                            "ticks": ""
                          }
                        },
                        "type": "scattergl"
                      }
                    ],
                    "scatterternary": [
                      {
                        "marker": {
                          "colorbar": {
                            "outlinewidth": 0,
                            "ticks": ""
                          }
                        },
                        "type": "scatterternary"
                      }
                    ],
                    "histogram": [
                      {
                        "marker": {
                          "colorbar": {
                            "outlinewidth": 0,
                            "ticks": ""
                          }
                        },
                        "type": "histogram"
                      }
                    ],
                    "heatmapgl": [
                      {
                        "colorbar": {
                          "outlinewidth": 0,
                          "ticks": ""
                        },
                        "type": "heatmapgl",
                        "colorscale": [
                          [
                            0,
                            "#0d0887"
                          ],
                          [
                            0.1111111111111111,
                            "#46039f"
                          ],
                          [
                            0.2222222222222222,
                            "#7201a8"
                          ],
                          [
                            0.3333333333333333,
                            "#9c179e"
                          ],
                          [
                            0.4444444444444444,
                            "#bd3786"
                          ],
                          [
                            0.5555555555555556,
                            "#d8576b"
                          ],
                          [
                            0.6666666666666666,
                            "#ed7953"
                          ],
                          [
                            0.7777777777777778,
                            "#fb9f3a"
                          ],
                          [
                            0.8888888888888888,
                            "#fdca26"
                          ],
                          [
                            1,
                            "#f0f921"
                          ]
                        ]
                      }
                    ],
                    "scatterpolar": [
                      {
                        "marker": {
                          "colorbar": {
                            "outlinewidth": 0,
                            "ticks": ""
                          }
                        },
                        "type": "scatterpolar"
                      }
                    ],
                    "histogram2d": [
                      {
                        "colorbar": {
                          "outlinewidth": 0,
                          "ticks": ""
                        },
                        "type": "histogram2d",
                        "colorscale": [
                          [
                            0,
                            "#0d0887"
                          ],
                          [
                            0.1111111111111111,
                            "#46039f"
                          ],
                          [
                            0.2222222222222222,
                            "#7201a8"
                          ],
                          [
                            0.3333333333333333,
                            "#9c179e"
                          ],
                          [
                            0.4444444444444444,
                            "#bd3786"
                          ],
                          [
                            0.5555555555555556,
                            "#d8576b"
                          ],
                          [
                            0.6666666666666666,
                            "#ed7953"
                          ],
                          [
                            0.7777777777777778,
                            "#fb9f3a"
                          ],
                          [
                            0.8888888888888888,
                            "#fdca26"
                          ],
                          [
                            1,
                            "#f0f921"
                          ]
                        ]
                      }
                    ],
                    "scattergeo": [
                      {
                        "marker": {
                          "colorbar": {
                            "outlinewidth": 0,
                            "ticks": ""
                          }
                        },
                        "type": "scattergeo"
                      }
                    ],
                    "bar": [
                      {
                        "marker": {
                          "line": {
                            "color": "#E5ECF6",
                            "width": 0.5
                          }
                        },
                        "type": "bar",
                        "error_x": {
                          "color": "#2a3f5f"
                        },
                        "error_y": {
                          "color": "#2a3f5f"
                        }
                      }
                    ],
                    "choropleth": [
                      {
                        "colorbar": {
                          "outlinewidth": 0,
                          "ticks": ""
                        },
                        "type": "choropleth"
                      }
                    ],
                    "parcoords": [
                      {
                        "line": {
                          "colorbar": {
                            "outlinewidth": 0,
                            "ticks": ""
                          }
                        },
                        "type": "parcoords"
                      }
                    ],
                    "barpolar": [
                      {
                        "marker": {
                          "line": {
                            "color": "#E5ECF6",
                            "width": 0.5
                          }
                        },
                        "type": "barpolar"
                      }
                    ],
                    "histogram2dcontour": [
                      {
                        "colorbar": {
                          "outlinewidth": 0,
                          "ticks": ""
                        },
                        "type": "histogram2dcontour",
                        "colorscale": [
                          [
                            0,
                            "#0d0887"
                          ],
                          [
                            0.1111111111111111,
                            "#46039f"
                          ],
                          [
                            0.2222222222222222,
                            "#7201a8"
                          ],
                          [
                            0.3333333333333333,
                            "#9c179e"
                          ],
                          [
                            0.4444444444444444,
                            "#bd3786"
                          ],
                          [
                            0.5555555555555556,
                            "#d8576b"
                          ],
                          [
                            0.6666666666666666,
                            "#ed7953"
                          ],
                          [
                            0.7777777777777778,
                            "#fb9f3a"
                          ],
                          [
                            0.8888888888888888,
                            "#fdca26"
                          ],
                          [
                            1,
                            "#f0f921"
                          ]
                        ]
                      }
                    ],
                    "scatter": [
                      {
                        "marker": {
                          "colorbar": {
                            "outlinewidth": 0,
                            "ticks": ""
                          }
                        },
                        "type": "scatter"
                      }
                    ]
                  }
                },
                "legend": {
                  "bgcolor": "#F5F6F9",
                  "font": {
                    "color": "#4D5663"
                  }
                }
              }
            }
          },
          "metadata": {
            "tags": []
          }
        }
      ]
    },
    {
      "cell_type": "markdown",
      "metadata": {
        "id": "yoBjq-yYDHMa"
      },
      "source": [
        "### Top unigrams before removing stop words"
      ]
    },
    {
      "cell_type": "code",
      "metadata": {
        "colab": {
          "base_uri": "https://localhost:8080/"
        },
        "id": "3R4qHSLODHMa",
        "outputId": "57ecb4bf-2d96-42ce-cf7e-06535d8bc8b1"
      },
      "source": [
        "def get_top_n_words(corpus, n=None):\n",
        "    vec = CountVectorizer().fit(corpus)\n",
        "    bag_of_words = vec.transform(corpus)\n",
        "    sum_words = bag_of_words.sum(axis=0) \n",
        "    words_freq = [(word, sum_words[0, idx]) for word, idx in vec.vocabulary_.items()]\n",
        "    words_freq =sorted(words_freq, key = lambda x: x[1], reverse=True)\n",
        "    return words_freq[:n]\n",
        "common_words = get_top_n_words(df['Review Text'], 20)\n",
        "for word, freq in common_words:\n",
        "    print(word, freq)\n",
        "df1 = pd.DataFrame(common_words, columns = ['ReviewText' , 'count'])"
      ],
      "execution_count": null,
      "outputs": [
        {
          "output_type": "stream",
          "text": [
            "user 2019\n",
            "the 1515\n",
            "to 1208\n",
            "and 885\n",
            "you 739\n",
            "is 738\n",
            "of 671\n",
            "it 645\n",
            "in 569\n",
            "that 525\n",
            "my 497\n",
            "for 417\n",
            "on 379\n",
            "me 353\n",
            "this 300\n",
            "so 295\n",
            "with 295\n",
            "just 280\n",
            "not 277\n",
            "be 270\n"
          ],
          "name": "stdout"
        }
      ]
    },
    {
      "cell_type": "markdown",
      "metadata": {
        "id": "aHRLzRwEDHMa"
      },
      "source": [
        "### Top unigrams after removing stop words"
      ]
    },
    {
      "cell_type": "code",
      "metadata": {
        "scrolled": false,
        "colab": {
          "base_uri": "https://localhost:8080/"
        },
        "id": "B_5EgFOwDHMa",
        "outputId": "507796de-df27-4645-8912-42048a32adbe"
      },
      "source": [
        "def get_top_n_words(corpus, n=None):\n",
        "    vec = CountVectorizer(stop_words = 'english').fit(corpus)\n",
        "    bag_of_words = vec.transform(corpus)\n",
        "    sum_words = bag_of_words.sum(axis=0) \n",
        "    words_freq = [(word, sum_words[0, idx]) for word, idx in vec.vocabulary_.items()]\n",
        "    words_freq =sorted(words_freq, key = lambda x: x[1], reverse=True)\n",
        "    return words_freq[:n]\n",
        "common_words = get_top_n_words(df['Review Text'], 20)\n",
        "for word, freq in common_words:\n",
        "    print(word, freq)\n",
        "df2 = pd.DataFrame(common_words, columns = ['ReviewText' , 'count'])"
      ],
      "execution_count": null,
      "outputs": [
        {
          "output_type": "stream",
          "text": [
            "user 2019\n",
            "just 280\n",
            "like 228\n",
            "don 204\n",
            "people 141\n",
            "know 99\n",
            "think 97\n",
            "sad 91\n",
            "really 88\n",
            "love 88\n",
            "ve 87\n",
            "time 86\n",
            "day 86\n",
            "got 83\n",
            "life 77\n",
            "want 77\n",
            "good 75\n",
            "going 74\n",
            "today 73\n",
            "ll 68\n"
          ],
          "name": "stdout"
        }
      ]
    },
    {
      "cell_type": "markdown",
      "metadata": {
        "id": "EpzPikDhDHMb"
      },
      "source": [
        "### Top bigrams before removing stop words"
      ]
    },
    {
      "cell_type": "code",
      "metadata": {
        "colab": {
          "base_uri": "https://localhost:8080/"
        },
        "id": "H93rGJSHDHMb",
        "outputId": "0f0fca55-bcd2-4d19-8ab8-67e25c964885"
      },
      "source": [
        "def get_top_n_bigram(corpus, n=None):\n",
        "    vec = CountVectorizer(ngram_range=(2, 2)).fit(corpus)\n",
        "    bag_of_words = vec.transform(corpus)\n",
        "    sum_words = bag_of_words.sum(axis=0) \n",
        "    words_freq = [(word, sum_words[0, idx]) for word, idx in vec.vocabulary_.items()]\n",
        "    words_freq =sorted(words_freq, key = lambda x: x[1], reverse=True)\n",
        "    return words_freq[:n]\n",
        "common_words = get_top_n_bigram(df['Review Text'], 20)\n",
        "for word, freq in common_words:\n",
        "    print(word, freq)\n",
        "df3 = pd.DataFrame(common_words, columns = ['ReviewText' , 'count'])"
      ],
      "execution_count": null,
      "outputs": [
        {
          "output_type": "stream",
          "text": [
            "user user 485\n",
            "of the 99\n",
            "in the 99\n",
            "to be 77\n",
            "on the 63\n",
            "to the 61\n",
            "for the 58\n",
            "you re 56\n",
            "at the 51\n",
            "going to 49\n",
            "if you 49\n",
            "this is 47\n",
            "is the 44\n",
            "when you 40\n",
            "want to 39\n",
            "user it 37\n",
            "to get 36\n",
            "have to 36\n",
            "in my 35\n",
            "it was 35\n"
          ],
          "name": "stdout"
        }
      ]
    },
    {
      "cell_type": "code",
      "metadata": {
        "colab": {
          "base_uri": "https://localhost:8080/"
        },
        "id": "BH4zCVBPDHMb",
        "outputId": "d937c7da-7ed0-4cda-9a35-2fb99892f2fe"
      },
      "source": [
        "df3.groupby('ReviewText').sum()['count'].sort_values(ascending=False).iplot(\n",
        "    kind='bar', yTitle='Count', linecolor='black', title='Top 20 bigrams in review before removing stop words')"
      ],
      "execution_count": null,
      "outputs": [
        {
          "output_type": "display_data",
          "data": {
            "text/html": [
              "<div>\n",
              "        \n",
              "        \n",
              "            <div id=\"603e405e-31a0-4bd1-8fcc-9ebe0e06a08e\" class=\"plotly-graph-div\" style=\"height:525px; width:100%;\"></div>\n",
              "            <script type=\"text/javascript\">\n",
              "                require([\"plotly\"], function(Plotly) {\n",
              "                    window.PLOTLYENV=window.PLOTLYENV || {};\n",
              "                    window.PLOTLYENV.BASE_URL='https://plot.ly';\n",
              "                    \n",
              "                if (document.getElementById(\"603e405e-31a0-4bd1-8fcc-9ebe0e06a08e\")) {\n",
              "                    Plotly.newPlot(\n",
              "                        '603e405e-31a0-4bd1-8fcc-9ebe0e06a08e',\n",
              "                        [{\"marker\": {\"color\": \"rgba(255, 153, 51, 0.6)\", \"line\": {\"color\": \"rgba(255, 153, 51, 1.0)\", \"width\": 1}}, \"name\": \"count\", \"orientation\": \"v\", \"text\": \"\", \"type\": \"bar\", \"x\": [\"user user\", \"of the\", \"in the\", \"to be\", \"on the\", \"to the\", \"for the\", \"you re\", \"at the\", \"if you\", \"going to\", \"this is\", \"is the\", \"when you\", \"want to\", \"user it\", \"to get\", \"have to\", \"it was\", \"in my\"], \"y\": [485, 99, 99, 77, 63, 61, 58, 56, 51, 49, 49, 47, 44, 40, 39, 37, 36, 36, 35, 35]}],\n",
              "                        {\"legend\": {\"bgcolor\": \"#F5F6F9\", \"font\": {\"color\": \"#4D5663\"}}, \"paper_bgcolor\": \"#F5F6F9\", \"plot_bgcolor\": \"#F5F6F9\", \"template\": {\"data\": {\"bar\": [{\"error_x\": {\"color\": \"#2a3f5f\"}, \"error_y\": {\"color\": \"#2a3f5f\"}, \"marker\": {\"line\": {\"color\": \"#E5ECF6\", \"width\": 0.5}}, \"type\": \"bar\"}], \"barpolar\": [{\"marker\": {\"line\": {\"color\": \"#E5ECF6\", \"width\": 0.5}}, \"type\": \"barpolar\"}], \"carpet\": [{\"aaxis\": {\"endlinecolor\": \"#2a3f5f\", \"gridcolor\": \"white\", \"linecolor\": \"white\", \"minorgridcolor\": \"white\", \"startlinecolor\": \"#2a3f5f\"}, \"baxis\": {\"endlinecolor\": \"#2a3f5f\", \"gridcolor\": \"white\", \"linecolor\": \"white\", \"minorgridcolor\": \"white\", \"startlinecolor\": \"#2a3f5f\"}, \"type\": \"carpet\"}], \"choropleth\": [{\"colorbar\": {\"outlinewidth\": 0, \"ticks\": \"\"}, \"type\": \"choropleth\"}], \"contour\": [{\"colorbar\": {\"outlinewidth\": 0, \"ticks\": \"\"}, \"colorscale\": [[0.0, \"#0d0887\"], [0.1111111111111111, \"#46039f\"], [0.2222222222222222, \"#7201a8\"], [0.3333333333333333, \"#9c179e\"], [0.4444444444444444, \"#bd3786\"], [0.5555555555555556, \"#d8576b\"], [0.6666666666666666, \"#ed7953\"], [0.7777777777777778, \"#fb9f3a\"], [0.8888888888888888, \"#fdca26\"], [1.0, \"#f0f921\"]], \"type\": \"contour\"}], \"contourcarpet\": [{\"colorbar\": {\"outlinewidth\": 0, \"ticks\": \"\"}, \"type\": \"contourcarpet\"}], \"heatmap\": [{\"colorbar\": {\"outlinewidth\": 0, \"ticks\": \"\"}, \"colorscale\": [[0.0, \"#0d0887\"], [0.1111111111111111, \"#46039f\"], [0.2222222222222222, \"#7201a8\"], [0.3333333333333333, \"#9c179e\"], [0.4444444444444444, \"#bd3786\"], [0.5555555555555556, \"#d8576b\"], [0.6666666666666666, \"#ed7953\"], [0.7777777777777778, \"#fb9f3a\"], [0.8888888888888888, \"#fdca26\"], [1.0, \"#f0f921\"]], \"type\": \"heatmap\"}], \"heatmapgl\": [{\"colorbar\": {\"outlinewidth\": 0, \"ticks\": \"\"}, \"colorscale\": [[0.0, \"#0d0887\"], [0.1111111111111111, \"#46039f\"], [0.2222222222222222, \"#7201a8\"], [0.3333333333333333, \"#9c179e\"], [0.4444444444444444, \"#bd3786\"], [0.5555555555555556, \"#d8576b\"], [0.6666666666666666, \"#ed7953\"], [0.7777777777777778, \"#fb9f3a\"], [0.8888888888888888, \"#fdca26\"], [1.0, \"#f0f921\"]], \"type\": \"heatmapgl\"}], \"histogram\": [{\"marker\": {\"colorbar\": {\"outlinewidth\": 0, \"ticks\": \"\"}}, \"type\": \"histogram\"}], \"histogram2d\": [{\"colorbar\": {\"outlinewidth\": 0, \"ticks\": \"\"}, \"colorscale\": [[0.0, \"#0d0887\"], [0.1111111111111111, \"#46039f\"], [0.2222222222222222, \"#7201a8\"], [0.3333333333333333, \"#9c179e\"], [0.4444444444444444, \"#bd3786\"], [0.5555555555555556, \"#d8576b\"], [0.6666666666666666, \"#ed7953\"], [0.7777777777777778, \"#fb9f3a\"], [0.8888888888888888, \"#fdca26\"], [1.0, \"#f0f921\"]], \"type\": \"histogram2d\"}], \"histogram2dcontour\": [{\"colorbar\": {\"outlinewidth\": 0, \"ticks\": \"\"}, \"colorscale\": [[0.0, \"#0d0887\"], [0.1111111111111111, \"#46039f\"], [0.2222222222222222, \"#7201a8\"], [0.3333333333333333, \"#9c179e\"], [0.4444444444444444, \"#bd3786\"], [0.5555555555555556, \"#d8576b\"], [0.6666666666666666, \"#ed7953\"], [0.7777777777777778, \"#fb9f3a\"], [0.8888888888888888, \"#fdca26\"], [1.0, \"#f0f921\"]], \"type\": \"histogram2dcontour\"}], \"mesh3d\": [{\"colorbar\": {\"outlinewidth\": 0, \"ticks\": \"\"}, \"type\": \"mesh3d\"}], \"parcoords\": [{\"line\": {\"colorbar\": {\"outlinewidth\": 0, \"ticks\": \"\"}}, \"type\": \"parcoords\"}], \"pie\": [{\"automargin\": true, \"type\": \"pie\"}], \"scatter\": [{\"marker\": {\"colorbar\": {\"outlinewidth\": 0, \"ticks\": \"\"}}, \"type\": \"scatter\"}], \"scatter3d\": [{\"line\": {\"colorbar\": {\"outlinewidth\": 0, \"ticks\": \"\"}}, \"marker\": {\"colorbar\": {\"outlinewidth\": 0, \"ticks\": \"\"}}, \"type\": \"scatter3d\"}], \"scattercarpet\": [{\"marker\": {\"colorbar\": {\"outlinewidth\": 0, \"ticks\": \"\"}}, \"type\": \"scattercarpet\"}], \"scattergeo\": [{\"marker\": {\"colorbar\": {\"outlinewidth\": 0, \"ticks\": \"\"}}, \"type\": \"scattergeo\"}], \"scattergl\": [{\"marker\": {\"colorbar\": {\"outlinewidth\": 0, \"ticks\": \"\"}}, \"type\": \"scattergl\"}], \"scattermapbox\": [{\"marker\": {\"colorbar\": {\"outlinewidth\": 0, \"ticks\": \"\"}}, \"type\": \"scattermapbox\"}], \"scatterpolar\": [{\"marker\": {\"colorbar\": {\"outlinewidth\": 0, \"ticks\": \"\"}}, \"type\": \"scatterpolar\"}], \"scatterpolargl\": [{\"marker\": {\"colorbar\": {\"outlinewidth\": 0, \"ticks\": \"\"}}, \"type\": \"scatterpolargl\"}], \"scatterternary\": [{\"marker\": {\"colorbar\": {\"outlinewidth\": 0, \"ticks\": \"\"}}, \"type\": \"scatterternary\"}], \"surface\": [{\"colorbar\": {\"outlinewidth\": 0, \"ticks\": \"\"}, \"colorscale\": [[0.0, \"#0d0887\"], [0.1111111111111111, \"#46039f\"], [0.2222222222222222, \"#7201a8\"], [0.3333333333333333, \"#9c179e\"], [0.4444444444444444, \"#bd3786\"], [0.5555555555555556, \"#d8576b\"], [0.6666666666666666, \"#ed7953\"], [0.7777777777777778, \"#fb9f3a\"], [0.8888888888888888, \"#fdca26\"], [1.0, \"#f0f921\"]], \"type\": \"surface\"}], \"table\": [{\"cells\": {\"fill\": {\"color\": \"#EBF0F8\"}, \"line\": {\"color\": \"white\"}}, \"header\": {\"fill\": {\"color\": \"#C8D4E3\"}, \"line\": {\"color\": \"white\"}}, \"type\": \"table\"}]}, \"layout\": {\"annotationdefaults\": {\"arrowcolor\": \"#2a3f5f\", \"arrowhead\": 0, \"arrowwidth\": 1}, \"coloraxis\": {\"colorbar\": {\"outlinewidth\": 0, \"ticks\": \"\"}}, \"colorscale\": {\"diverging\": [[0, \"#8e0152\"], [0.1, \"#c51b7d\"], [0.2, \"#de77ae\"], [0.3, \"#f1b6da\"], [0.4, \"#fde0ef\"], [0.5, \"#f7f7f7\"], [0.6, \"#e6f5d0\"], [0.7, \"#b8e186\"], [0.8, \"#7fbc41\"], [0.9, \"#4d9221\"], [1, \"#276419\"]], \"sequential\": [[0.0, \"#0d0887\"], [0.1111111111111111, \"#46039f\"], [0.2222222222222222, \"#7201a8\"], [0.3333333333333333, \"#9c179e\"], [0.4444444444444444, \"#bd3786\"], [0.5555555555555556, \"#d8576b\"], [0.6666666666666666, \"#ed7953\"], [0.7777777777777778, \"#fb9f3a\"], [0.8888888888888888, \"#fdca26\"], [1.0, \"#f0f921\"]], \"sequentialminus\": [[0.0, \"#0d0887\"], [0.1111111111111111, \"#46039f\"], [0.2222222222222222, \"#7201a8\"], [0.3333333333333333, \"#9c179e\"], [0.4444444444444444, \"#bd3786\"], [0.5555555555555556, \"#d8576b\"], [0.6666666666666666, \"#ed7953\"], [0.7777777777777778, \"#fb9f3a\"], [0.8888888888888888, \"#fdca26\"], [1.0, \"#f0f921\"]]}, \"colorway\": [\"#636efa\", \"#EF553B\", \"#00cc96\", \"#ab63fa\", \"#FFA15A\", \"#19d3f3\", \"#FF6692\", \"#B6E880\", \"#FF97FF\", \"#FECB52\"], \"font\": {\"color\": \"#2a3f5f\"}, \"geo\": {\"bgcolor\": \"white\", \"lakecolor\": \"white\", \"landcolor\": \"#E5ECF6\", \"showlakes\": true, \"showland\": true, \"subunitcolor\": \"white\"}, \"hoverlabel\": {\"align\": \"left\"}, \"hovermode\": \"closest\", \"mapbox\": {\"style\": \"light\"}, \"paper_bgcolor\": \"white\", \"plot_bgcolor\": \"#E5ECF6\", \"polar\": {\"angularaxis\": {\"gridcolor\": \"white\", \"linecolor\": \"white\", \"ticks\": \"\"}, \"bgcolor\": \"#E5ECF6\", \"radialaxis\": {\"gridcolor\": \"white\", \"linecolor\": \"white\", \"ticks\": \"\"}}, \"scene\": {\"xaxis\": {\"backgroundcolor\": \"#E5ECF6\", \"gridcolor\": \"white\", \"gridwidth\": 2, \"linecolor\": \"white\", \"showbackground\": true, \"ticks\": \"\", \"zerolinecolor\": \"white\"}, \"yaxis\": {\"backgroundcolor\": \"#E5ECF6\", \"gridcolor\": \"white\", \"gridwidth\": 2, \"linecolor\": \"white\", \"showbackground\": true, \"ticks\": \"\", \"zerolinecolor\": \"white\"}, \"zaxis\": {\"backgroundcolor\": \"#E5ECF6\", \"gridcolor\": \"white\", \"gridwidth\": 2, \"linecolor\": \"white\", \"showbackground\": true, \"ticks\": \"\", \"zerolinecolor\": \"white\"}}, \"shapedefaults\": {\"line\": {\"color\": \"#2a3f5f\"}}, \"ternary\": {\"aaxis\": {\"gridcolor\": \"white\", \"linecolor\": \"white\", \"ticks\": \"\"}, \"baxis\": {\"gridcolor\": \"white\", \"linecolor\": \"white\", \"ticks\": \"\"}, \"bgcolor\": \"#E5ECF6\", \"caxis\": {\"gridcolor\": \"white\", \"linecolor\": \"white\", \"ticks\": \"\"}}, \"title\": {\"x\": 0.05}, \"xaxis\": {\"automargin\": true, \"gridcolor\": \"white\", \"linecolor\": \"white\", \"ticks\": \"\", \"title\": {\"standoff\": 15}, \"zerolinecolor\": \"white\", \"zerolinewidth\": 2}, \"yaxis\": {\"automargin\": true, \"gridcolor\": \"white\", \"linecolor\": \"white\", \"ticks\": \"\", \"title\": {\"standoff\": 15}, \"zerolinecolor\": \"white\", \"zerolinewidth\": 2}}}, \"title\": {\"font\": {\"color\": \"#4D5663\"}, \"text\": \"Top 20 bigrams in review before removing stop words\"}, \"xaxis\": {\"gridcolor\": \"#E1E5ED\", \"linecolor\": \"black\", \"showgrid\": true, \"tickfont\": {\"color\": \"#4D5663\"}, \"title\": {\"font\": {\"color\": \"#4D5663\"}, \"text\": \"\"}, \"zerolinecolor\": \"#E1E5ED\"}, \"yaxis\": {\"gridcolor\": \"#E1E5ED\", \"linecolor\": \"black\", \"showgrid\": true, \"tickfont\": {\"color\": \"#4D5663\"}, \"title\": {\"font\": {\"color\": \"#4D5663\"}, \"text\": \"Count\"}, \"zerolinecolor\": \"#E1E5ED\"}},\n",
              "                        {\"showLink\": true, \"linkText\": \"Export to plot.ly\", \"plotlyServerURL\": \"https://plot.ly\", \"responsive\": true}\n",
              "                    ).then(function(){\n",
              "                            \n",
              "var gd = document.getElementById('603e405e-31a0-4bd1-8fcc-9ebe0e06a08e');\n",
              "var x = new MutationObserver(function (mutations, observer) {{\n",
              "        var display = window.getComputedStyle(gd).display;\n",
              "        if (!display || display === 'none') {{\n",
              "            console.log([gd, 'removed!']);\n",
              "            Plotly.purge(gd);\n",
              "            observer.disconnect();\n",
              "        }}\n",
              "}});\n",
              "\n",
              "// Listen for the removal of the full notebook cells\n",
              "var notebookContainer = gd.closest('#notebook-container');\n",
              "if (notebookContainer) {{\n",
              "    x.observe(notebookContainer, {childList: true});\n",
              "}}\n",
              "\n",
              "// Listen for the clearing of the current output cell\n",
              "var outputEl = gd.closest('.output');\n",
              "if (outputEl) {{\n",
              "    x.observe(outputEl, {childList: true});\n",
              "}}\n",
              "\n",
              "                        })\n",
              "                };\n",
              "                });\n",
              "            </script>\n",
              "        </div>"
            ],
            "application/vnd.plotly.v1+json": {
              "data": [
                {
                  "name": "count",
                  "text": "",
                  "y": [
                    485,
                    99,
                    99,
                    77,
                    63,
                    61,
                    58,
                    56,
                    51,
                    49,
                    49,
                    47,
                    44,
                    40,
                    39,
                    37,
                    36,
                    36,
                    35,
                    35
                  ],
                  "marker": {
                    "color": "rgba(255, 153, 51, 0.6)",
                    "line": {
                      "color": "rgba(255, 153, 51, 1.0)",
                      "width": 1
                    }
                  },
                  "x": [
                    "user user",
                    "of the",
                    "in the",
                    "to be",
                    "on the",
                    "to the",
                    "for the",
                    "you re",
                    "at the",
                    "if you",
                    "going to",
                    "this is",
                    "is the",
                    "when you",
                    "want to",
                    "user it",
                    "to get",
                    "have to",
                    "it was",
                    "in my"
                  ],
                  "type": "bar",
                  "orientation": "v"
                }
              ],
              "config": {
                "plotlyServerURL": "https://plot.ly",
                "linkText": "Export to plot.ly",
                "showLink": true
              },
              "layout": {
                "template": {
                  "layout": {
                    "shapedefaults": {
                      "line": {
                        "color": "#2a3f5f"
                      }
                    },
                    "polar": {
                      "radialaxis": {
                        "ticks": "",
                        "gridcolor": "white",
                        "linecolor": "white"
                      },
                      "bgcolor": "#E5ECF6",
                      "angularaxis": {
                        "ticks": "",
                        "gridcolor": "white",
                        "linecolor": "white"
                      }
                    },
                    "colorway": [
                      "#636efa",
                      "#EF553B",
                      "#00cc96",
                      "#ab63fa",
                      "#FFA15A",
                      "#19d3f3",
                      "#FF6692",
                      "#B6E880",
                      "#FF97FF",
                      "#FECB52"
                    ],
                    "xaxis": {
                      "automargin": true,
                      "title": {
                        "standoff": 15
                      },
                      "zerolinewidth": 2,
                      "ticks": "",
                      "zerolinecolor": "white",
                      "gridcolor": "white",
                      "linecolor": "white"
                    },
                    "colorscale": {
                      "diverging": [
                        [
                          0,
                          "#8e0152"
                        ],
                        [
                          0.1,
                          "#c51b7d"
                        ],
                        [
                          0.2,
                          "#de77ae"
                        ],
                        [
                          0.3,
                          "#f1b6da"
                        ],
                        [
                          0.4,
                          "#fde0ef"
                        ],
                        [
                          0.5,
                          "#f7f7f7"
                        ],
                        [
                          0.6,
                          "#e6f5d0"
                        ],
                        [
                          0.7,
                          "#b8e186"
                        ],
                        [
                          0.8,
                          "#7fbc41"
                        ],
                        [
                          0.9,
                          "#4d9221"
                        ],
                        [
                          1,
                          "#276419"
                        ]
                      ],
                      "sequential": [
                        [
                          0,
                          "#0d0887"
                        ],
                        [
                          0.1111111111111111,
                          "#46039f"
                        ],
                        [
                          0.2222222222222222,
                          "#7201a8"
                        ],
                        [
                          0.3333333333333333,
                          "#9c179e"
                        ],
                        [
                          0.4444444444444444,
                          "#bd3786"
                        ],
                        [
                          0.5555555555555556,
                          "#d8576b"
                        ],
                        [
                          0.6666666666666666,
                          "#ed7953"
                        ],
                        [
                          0.7777777777777778,
                          "#fb9f3a"
                        ],
                        [
                          0.8888888888888888,
                          "#fdca26"
                        ],
                        [
                          1,
                          "#f0f921"
                        ]
                      ],
                      "sequentialminus": [
                        [
                          0,
                          "#0d0887"
                        ],
                        [
                          0.1111111111111111,
                          "#46039f"
                        ],
                        [
                          0.2222222222222222,
                          "#7201a8"
                        ],
                        [
                          0.3333333333333333,
                          "#9c179e"
                        ],
                        [
                          0.4444444444444444,
                          "#bd3786"
                        ],
                        [
                          0.5555555555555556,
                          "#d8576b"
                        ],
                        [
                          0.6666666666666666,
                          "#ed7953"
                        ],
                        [
                          0.7777777777777778,
                          "#fb9f3a"
                        ],
                        [
                          0.8888888888888888,
                          "#fdca26"
                        ],
                        [
                          1,
                          "#f0f921"
                        ]
                      ]
                    },
                    "paper_bgcolor": "white",
                    "plot_bgcolor": "#E5ECF6",
                    "title": {
                      "x": 0.05
                    },
                    "scene": {
                      "zaxis": {
                        "backgroundcolor": "#E5ECF6",
                        "ticks": "",
                        "gridwidth": 2,
                        "showbackground": true,
                        "zerolinecolor": "white",
                        "gridcolor": "white",
                        "linecolor": "white"
                      },
                      "xaxis": {
                        "backgroundcolor": "#E5ECF6",
                        "ticks": "",
                        "gridwidth": 2,
                        "showbackground": true,
                        "zerolinecolor": "white",
                        "gridcolor": "white",
                        "linecolor": "white"
                      },
                      "yaxis": {
                        "backgroundcolor": "#E5ECF6",
                        "ticks": "",
                        "gridwidth": 2,
                        "showbackground": true,
                        "zerolinecolor": "white",
                        "gridcolor": "white",
                        "linecolor": "white"
                      }
                    },
                    "yaxis": {
                      "automargin": true,
                      "title": {
                        "standoff": 15
                      },
                      "zerolinewidth": 2,
                      "ticks": "",
                      "zerolinecolor": "white",
                      "gridcolor": "white",
                      "linecolor": "white"
                    },
                    "annotationdefaults": {
                      "arrowwidth": 1,
                      "arrowhead": 0,
                      "arrowcolor": "#2a3f5f"
                    },
                    "hoverlabel": {
                      "align": "left"
                    },
                    "ternary": {
                      "bgcolor": "#E5ECF6",
                      "baxis": {
                        "ticks": "",
                        "gridcolor": "white",
                        "linecolor": "white"
                      },
                      "caxis": {
                        "ticks": "",
                        "gridcolor": "white",
                        "linecolor": "white"
                      },
                      "aaxis": {
                        "ticks": "",
                        "gridcolor": "white",
                        "linecolor": "white"
                      }
                    },
                    "mapbox": {
                      "style": "light"
                    },
                    "hovermode": "closest",
                    "font": {
                      "color": "#2a3f5f"
                    },
                    "geo": {
                      "showland": true,
                      "landcolor": "#E5ECF6",
                      "showlakes": true,
                      "bgcolor": "white",
                      "subunitcolor": "white",
                      "lakecolor": "white"
                    },
                    "coloraxis": {
                      "colorbar": {
                        "outlinewidth": 0,
                        "ticks": ""
                      }
                    }
                  },
                  "data": {
                    "mesh3d": [
                      {
                        "colorbar": {
                          "outlinewidth": 0,
                          "ticks": ""
                        },
                        "type": "mesh3d"
                      }
                    ],
                    "scattercarpet": [
                      {
                        "marker": {
                          "colorbar": {
                            "outlinewidth": 0,
                            "ticks": ""
                          }
                        },
                        "type": "scattercarpet"
                      }
                    ],
                    "pie": [
                      {
                        "automargin": true,
                        "type": "pie"
                      }
                    ],
                    "surface": [
                      {
                        "colorbar": {
                          "outlinewidth": 0,
                          "ticks": ""
                        },
                        "type": "surface",
                        "colorscale": [
                          [
                            0,
                            "#0d0887"
                          ],
                          [
                            0.1111111111111111,
                            "#46039f"
                          ],
                          [
                            0.2222222222222222,
                            "#7201a8"
                          ],
                          [
                            0.3333333333333333,
                            "#9c179e"
                          ],
                          [
                            0.4444444444444444,
                            "#bd3786"
                          ],
                          [
                            0.5555555555555556,
                            "#d8576b"
                          ],
                          [
                            0.6666666666666666,
                            "#ed7953"
                          ],
                          [
                            0.7777777777777778,
                            "#fb9f3a"
                          ],
                          [
                            0.8888888888888888,
                            "#fdca26"
                          ],
                          [
                            1,
                            "#f0f921"
                          ]
                        ]
                      }
                    ],
                    "table": [
                      {
                        "header": {
                          "line": {
                            "color": "white"
                          },
                          "fill": {
                            "color": "#C8D4E3"
                          }
                        },
                        "cells": {
                          "line": {
                            "color": "white"
                          },
                          "fill": {
                            "color": "#EBF0F8"
                          }
                        },
                        "type": "table"
                      }
                    ],
                    "scatterpolargl": [
                      {
                        "marker": {
                          "colorbar": {
                            "outlinewidth": 0,
                            "ticks": ""
                          }
                        },
                        "type": "scatterpolargl"
                      }
                    ],
                    "contour": [
                      {
                        "colorbar": {
                          "outlinewidth": 0,
                          "ticks": ""
                        },
                        "type": "contour",
                        "colorscale": [
                          [
                            0,
                            "#0d0887"
                          ],
                          [
                            0.1111111111111111,
                            "#46039f"
                          ],
                          [
                            0.2222222222222222,
                            "#7201a8"
                          ],
                          [
                            0.3333333333333333,
                            "#9c179e"
                          ],
                          [
                            0.4444444444444444,
                            "#bd3786"
                          ],
                          [
                            0.5555555555555556,
                            "#d8576b"
                          ],
                          [
                            0.6666666666666666,
                            "#ed7953"
                          ],
                          [
                            0.7777777777777778,
                            "#fb9f3a"
                          ],
                          [
                            0.8888888888888888,
                            "#fdca26"
                          ],
                          [
                            1,
                            "#f0f921"
                          ]
                        ]
                      }
                    ],
                    "carpet": [
                      {
                        "type": "carpet",
                        "baxis": {
                          "minorgridcolor": "white",
                          "gridcolor": "white",
                          "linecolor": "white",
                          "endlinecolor": "#2a3f5f",
                          "startlinecolor": "#2a3f5f"
                        },
                        "aaxis": {
                          "minorgridcolor": "white",
                          "gridcolor": "white",
                          "linecolor": "white",
                          "endlinecolor": "#2a3f5f",
                          "startlinecolor": "#2a3f5f"
                        }
                      }
                    ],
                    "contourcarpet": [
                      {
                        "colorbar": {
                          "outlinewidth": 0,
                          "ticks": ""
                        },
                        "type": "contourcarpet"
                      }
                    ],
                    "heatmap": [
                      {
                        "colorbar": {
                          "outlinewidth": 0,
                          "ticks": ""
                        },
                        "type": "heatmap",
                        "colorscale": [
                          [
                            0,
                            "#0d0887"
                          ],
                          [
                            0.1111111111111111,
                            "#46039f"
                          ],
                          [
                            0.2222222222222222,
                            "#7201a8"
                          ],
                          [
                            0.3333333333333333,
                            "#9c179e"
                          ],
                          [
                            0.4444444444444444,
                            "#bd3786"
                          ],
                          [
                            0.5555555555555556,
                            "#d8576b"
                          ],
                          [
                            0.6666666666666666,
                            "#ed7953"
                          ],
                          [
                            0.7777777777777778,
                            "#fb9f3a"
                          ],
                          [
                            0.8888888888888888,
                            "#fdca26"
                          ],
                          [
                            1,
                            "#f0f921"
                          ]
                        ]
                      }
                    ],
                    "scattermapbox": [
                      {
                        "marker": {
                          "colorbar": {
                            "outlinewidth": 0,
                            "ticks": ""
                          }
                        },
                        "type": "scattermapbox"
                      }
                    ],
                    "scatter3d": [
                      {
                        "marker": {
                          "colorbar": {
                            "outlinewidth": 0,
                            "ticks": ""
                          }
                        },
                        "line": {
                          "colorbar": {
                            "outlinewidth": 0,
                            "ticks": ""
                          }
                        },
                        "type": "scatter3d"
                      }
                    ],
                    "scattergl": [
                      {
                        "marker": {
                          "colorbar": {
                            "outlinewidth": 0,
                            "ticks": ""
                          }
                        },
                        "type": "scattergl"
                      }
                    ],
                    "scatterternary": [
                      {
                        "marker": {
                          "colorbar": {
                            "outlinewidth": 0,
                            "ticks": ""
                          }
                        },
                        "type": "scatterternary"
                      }
                    ],
                    "histogram": [
                      {
                        "marker": {
                          "colorbar": {
                            "outlinewidth": 0,
                            "ticks": ""
                          }
                        },
                        "type": "histogram"
                      }
                    ],
                    "heatmapgl": [
                      {
                        "colorbar": {
                          "outlinewidth": 0,
                          "ticks": ""
                        },
                        "type": "heatmapgl",
                        "colorscale": [
                          [
                            0,
                            "#0d0887"
                          ],
                          [
                            0.1111111111111111,
                            "#46039f"
                          ],
                          [
                            0.2222222222222222,
                            "#7201a8"
                          ],
                          [
                            0.3333333333333333,
                            "#9c179e"
                          ],
                          [
                            0.4444444444444444,
                            "#bd3786"
                          ],
                          [
                            0.5555555555555556,
                            "#d8576b"
                          ],
                          [
                            0.6666666666666666,
                            "#ed7953"
                          ],
                          [
                            0.7777777777777778,
                            "#fb9f3a"
                          ],
                          [
                            0.8888888888888888,
                            "#fdca26"
                          ],
                          [
                            1,
                            "#f0f921"
                          ]
                        ]
                      }
                    ],
                    "scatterpolar": [
                      {
                        "marker": {
                          "colorbar": {
                            "outlinewidth": 0,
                            "ticks": ""
                          }
                        },
                        "type": "scatterpolar"
                      }
                    ],
                    "histogram2d": [
                      {
                        "colorbar": {
                          "outlinewidth": 0,
                          "ticks": ""
                        },
                        "type": "histogram2d",
                        "colorscale": [
                          [
                            0,
                            "#0d0887"
                          ],
                          [
                            0.1111111111111111,
                            "#46039f"
                          ],
                          [
                            0.2222222222222222,
                            "#7201a8"
                          ],
                          [
                            0.3333333333333333,
                            "#9c179e"
                          ],
                          [
                            0.4444444444444444,
                            "#bd3786"
                          ],
                          [
                            0.5555555555555556,
                            "#d8576b"
                          ],
                          [
                            0.6666666666666666,
                            "#ed7953"
                          ],
                          [
                            0.7777777777777778,
                            "#fb9f3a"
                          ],
                          [
                            0.8888888888888888,
                            "#fdca26"
                          ],
                          [
                            1,
                            "#f0f921"
                          ]
                        ]
                      }
                    ],
                    "scattergeo": [
                      {
                        "marker": {
                          "colorbar": {
                            "outlinewidth": 0,
                            "ticks": ""
                          }
                        },
                        "type": "scattergeo"
                      }
                    ],
                    "bar": [
                      {
                        "marker": {
                          "line": {
                            "color": "#E5ECF6",
                            "width": 0.5
                          }
                        },
                        "type": "bar",
                        "error_x": {
                          "color": "#2a3f5f"
                        },
                        "error_y": {
                          "color": "#2a3f5f"
                        }
                      }
                    ],
                    "choropleth": [
                      {
                        "colorbar": {
                          "outlinewidth": 0,
                          "ticks": ""
                        },
                        "type": "choropleth"
                      }
                    ],
                    "parcoords": [
                      {
                        "line": {
                          "colorbar": {
                            "outlinewidth": 0,
                            "ticks": ""
                          }
                        },
                        "type": "parcoords"
                      }
                    ],
                    "barpolar": [
                      {
                        "marker": {
                          "line": {
                            "color": "#E5ECF6",
                            "width": 0.5
                          }
                        },
                        "type": "barpolar"
                      }
                    ],
                    "histogram2dcontour": [
                      {
                        "colorbar": {
                          "outlinewidth": 0,
                          "ticks": ""
                        },
                        "type": "histogram2dcontour",
                        "colorscale": [
                          [
                            0,
                            "#0d0887"
                          ],
                          [
                            0.1111111111111111,
                            "#46039f"
                          ],
                          [
                            0.2222222222222222,
                            "#7201a8"
                          ],
                          [
                            0.3333333333333333,
                            "#9c179e"
                          ],
                          [
                            0.4444444444444444,
                            "#bd3786"
                          ],
                          [
                            0.5555555555555556,
                            "#d8576b"
                          ],
                          [
                            0.6666666666666666,
                            "#ed7953"
                          ],
                          [
                            0.7777777777777778,
                            "#fb9f3a"
                          ],
                          [
                            0.8888888888888888,
                            "#fdca26"
                          ],
                          [
                            1,
                            "#f0f921"
                          ]
                        ]
                      }
                    ],
                    "scatter": [
                      {
                        "marker": {
                          "colorbar": {
                            "outlinewidth": 0,
                            "ticks": ""
                          }
                        },
                        "type": "scatter"
                      }
                    ]
                  }
                },
                "title": {
                  "text": "Top 20 bigrams in review before removing stop words",
                  "font": {
                    "color": "#4D5663"
                  }
                },
                "paper_bgcolor": "#F5F6F9",
                "plot_bgcolor": "#F5F6F9",
                "yaxis": {
                  "tickfont": {
                    "color": "#4D5663"
                  },
                  "title": {
                    "text": "Count",
                    "font": {
                      "color": "#4D5663"
                    }
                  },
                  "showgrid": true,
                  "zerolinecolor": "#E1E5ED",
                  "gridcolor": "#E1E5ED",
                  "linecolor": "black"
                },
                "xaxis": {
                  "tickfont": {
                    "color": "#4D5663"
                  },
                  "title": {
                    "text": "",
                    "font": {
                      "color": "#4D5663"
                    }
                  },
                  "showgrid": true,
                  "zerolinecolor": "#E1E5ED",
                  "gridcolor": "#E1E5ED",
                  "linecolor": "black"
                },
                "legend": {
                  "bgcolor": "#F5F6F9",
                  "font": {
                    "color": "#4D5663"
                  }
                }
              }
            }
          },
          "metadata": {
            "tags": []
          }
        }
      ]
    },
    {
      "cell_type": "markdown",
      "metadata": {
        "id": "zsw77Zj1DHMc"
      },
      "source": [
        "### Top bigrams after removing stop words"
      ]
    },
    {
      "cell_type": "code",
      "metadata": {
        "colab": {
          "base_uri": "https://localhost:8080/"
        },
        "id": "rn4WWNwnDHMc",
        "outputId": "4f55f449-d66e-4e1a-d42d-1f61dde6bd54"
      },
      "source": [
        "def get_top_n_bigram(corpus, n=None):\n",
        "    vec = CountVectorizer(ngram_range=(2, 2), stop_words='english').fit(corpus)\n",
        "    bag_of_words = vec.transform(corpus)\n",
        "    sum_words = bag_of_words.sum(axis=0) \n",
        "    words_freq = [(word, sum_words[0, idx]) for word, idx in vec.vocabulary_.items()]\n",
        "    words_freq =sorted(words_freq, key = lambda x: x[1], reverse=True)\n",
        "    return words_freq[:n]\n",
        "common_words = get_top_n_bigram(df['Review Text'], 20)\n",
        "for word, freq in common_words:\n",
        "    print(word, freq)\n",
        "df4 = pd.DataFrame(common_words, columns = ['ReviewText' , 'count'])"
      ],
      "execution_count": null,
      "outputs": [
        {
          "output_type": "stream",
          "text": [
            "user user 499\n",
            "user don 29\n",
            "watch amazing 27\n",
            "amazing live 27\n",
            "live ly 27\n",
            "ly broadcast 27\n",
            "broadcast user 27\n",
            "user just 25\n",
            "don know 24\n",
            "feel like 20\n",
            "user musically 15\n",
            "don think 15\n",
            "just want 13\n",
            "user ve 13\n",
            "user oh 12\n",
            "ve seen 12\n",
            "happy birthday 12\n",
            "user thanks 12\n",
            "user lively 12\n",
            "lively musically 12\n"
          ],
          "name": "stdout"
        }
      ]
    },
    {
      "cell_type": "code",
      "metadata": {
        "colab": {
          "base_uri": "https://localhost:8080/"
        },
        "id": "bNR6a2W_DHMc",
        "outputId": "19fdd0e6-e57b-41d3-9304-6696e3a7ea12"
      },
      "source": [
        "df4.groupby('ReviewText').sum()['count'].sort_values(ascending=False).iplot(\n",
        "    kind='bar', yTitle='Count', linecolor='black', title='Top 20 bigrams in review after removing stop words')"
      ],
      "execution_count": null,
      "outputs": [
        {
          "output_type": "display_data",
          "data": {
            "text/html": [
              "<div>\n",
              "        \n",
              "        \n",
              "            <div id=\"f97f05ff-26b1-4b3c-b624-252a026328b4\" class=\"plotly-graph-div\" style=\"height:525px; width:100%;\"></div>\n",
              "            <script type=\"text/javascript\">\n",
              "                require([\"plotly\"], function(Plotly) {\n",
              "                    window.PLOTLYENV=window.PLOTLYENV || {};\n",
              "                    window.PLOTLYENV.BASE_URL='https://plot.ly';\n",
              "                    \n",
              "                if (document.getElementById(\"f97f05ff-26b1-4b3c-b624-252a026328b4\")) {\n",
              "                    Plotly.newPlot(\n",
              "                        'f97f05ff-26b1-4b3c-b624-252a026328b4',\n",
              "                        [{\"marker\": {\"color\": \"rgba(255, 153, 51, 0.6)\", \"line\": {\"color\": \"rgba(255, 153, 51, 1.0)\", \"width\": 1}}, \"name\": \"count\", \"orientation\": \"v\", \"text\": \"\", \"type\": \"bar\", \"x\": [\"user user\", \"user don\", \"watch amazing\", \"broadcast user\", \"live ly\", \"ly broadcast\", \"amazing live\", \"user just\", \"don know\", \"feel like\", \"user musically\", \"don think\", \"just want\", \"user ve\", \"user lively\", \"user oh\", \"ve seen\", \"lively musically\", \"user thanks\", \"happy birthday\"], \"y\": [499, 29, 27, 27, 27, 27, 27, 25, 24, 20, 15, 15, 13, 13, 12, 12, 12, 12, 12, 12]}],\n",
              "                        {\"legend\": {\"bgcolor\": \"#F5F6F9\", \"font\": {\"color\": \"#4D5663\"}}, \"paper_bgcolor\": \"#F5F6F9\", \"plot_bgcolor\": \"#F5F6F9\", \"template\": {\"data\": {\"bar\": [{\"error_x\": {\"color\": \"#2a3f5f\"}, \"error_y\": {\"color\": \"#2a3f5f\"}, \"marker\": {\"line\": {\"color\": \"#E5ECF6\", \"width\": 0.5}}, \"type\": \"bar\"}], \"barpolar\": [{\"marker\": {\"line\": {\"color\": \"#E5ECF6\", \"width\": 0.5}}, \"type\": \"barpolar\"}], \"carpet\": [{\"aaxis\": {\"endlinecolor\": \"#2a3f5f\", \"gridcolor\": \"white\", \"linecolor\": \"white\", \"minorgridcolor\": \"white\", \"startlinecolor\": \"#2a3f5f\"}, \"baxis\": {\"endlinecolor\": \"#2a3f5f\", \"gridcolor\": \"white\", \"linecolor\": \"white\", \"minorgridcolor\": \"white\", \"startlinecolor\": \"#2a3f5f\"}, \"type\": \"carpet\"}], \"choropleth\": [{\"colorbar\": {\"outlinewidth\": 0, \"ticks\": \"\"}, \"type\": \"choropleth\"}], \"contour\": [{\"colorbar\": {\"outlinewidth\": 0, \"ticks\": \"\"}, \"colorscale\": [[0.0, \"#0d0887\"], [0.1111111111111111, \"#46039f\"], [0.2222222222222222, \"#7201a8\"], [0.3333333333333333, \"#9c179e\"], [0.4444444444444444, \"#bd3786\"], [0.5555555555555556, \"#d8576b\"], [0.6666666666666666, \"#ed7953\"], [0.7777777777777778, \"#fb9f3a\"], [0.8888888888888888, \"#fdca26\"], [1.0, \"#f0f921\"]], \"type\": \"contour\"}], \"contourcarpet\": [{\"colorbar\": {\"outlinewidth\": 0, \"ticks\": \"\"}, \"type\": \"contourcarpet\"}], \"heatmap\": [{\"colorbar\": {\"outlinewidth\": 0, \"ticks\": \"\"}, \"colorscale\": [[0.0, \"#0d0887\"], [0.1111111111111111, \"#46039f\"], [0.2222222222222222, \"#7201a8\"], [0.3333333333333333, \"#9c179e\"], [0.4444444444444444, \"#bd3786\"], [0.5555555555555556, \"#d8576b\"], [0.6666666666666666, \"#ed7953\"], [0.7777777777777778, \"#fb9f3a\"], [0.8888888888888888, \"#fdca26\"], [1.0, \"#f0f921\"]], \"type\": \"heatmap\"}], \"heatmapgl\": [{\"colorbar\": {\"outlinewidth\": 0, \"ticks\": \"\"}, \"colorscale\": [[0.0, \"#0d0887\"], [0.1111111111111111, \"#46039f\"], [0.2222222222222222, \"#7201a8\"], [0.3333333333333333, \"#9c179e\"], [0.4444444444444444, \"#bd3786\"], [0.5555555555555556, \"#d8576b\"], [0.6666666666666666, \"#ed7953\"], [0.7777777777777778, \"#fb9f3a\"], [0.8888888888888888, \"#fdca26\"], [1.0, \"#f0f921\"]], \"type\": \"heatmapgl\"}], \"histogram\": [{\"marker\": {\"colorbar\": {\"outlinewidth\": 0, \"ticks\": \"\"}}, \"type\": \"histogram\"}], \"histogram2d\": [{\"colorbar\": {\"outlinewidth\": 0, \"ticks\": \"\"}, \"colorscale\": [[0.0, \"#0d0887\"], [0.1111111111111111, \"#46039f\"], [0.2222222222222222, \"#7201a8\"], [0.3333333333333333, \"#9c179e\"], [0.4444444444444444, \"#bd3786\"], [0.5555555555555556, \"#d8576b\"], [0.6666666666666666, \"#ed7953\"], [0.7777777777777778, \"#fb9f3a\"], [0.8888888888888888, \"#fdca26\"], [1.0, \"#f0f921\"]], \"type\": \"histogram2d\"}], \"histogram2dcontour\": [{\"colorbar\": {\"outlinewidth\": 0, \"ticks\": \"\"}, \"colorscale\": [[0.0, \"#0d0887\"], [0.1111111111111111, \"#46039f\"], [0.2222222222222222, \"#7201a8\"], [0.3333333333333333, \"#9c179e\"], [0.4444444444444444, \"#bd3786\"], [0.5555555555555556, \"#d8576b\"], [0.6666666666666666, \"#ed7953\"], [0.7777777777777778, \"#fb9f3a\"], [0.8888888888888888, \"#fdca26\"], [1.0, \"#f0f921\"]], \"type\": \"histogram2dcontour\"}], \"mesh3d\": [{\"colorbar\": {\"outlinewidth\": 0, \"ticks\": \"\"}, \"type\": \"mesh3d\"}], \"parcoords\": [{\"line\": {\"colorbar\": {\"outlinewidth\": 0, \"ticks\": \"\"}}, \"type\": \"parcoords\"}], \"pie\": [{\"automargin\": true, \"type\": \"pie\"}], \"scatter\": [{\"marker\": {\"colorbar\": {\"outlinewidth\": 0, \"ticks\": \"\"}}, \"type\": \"scatter\"}], \"scatter3d\": [{\"line\": {\"colorbar\": {\"outlinewidth\": 0, \"ticks\": \"\"}}, \"marker\": {\"colorbar\": {\"outlinewidth\": 0, \"ticks\": \"\"}}, \"type\": \"scatter3d\"}], \"scattercarpet\": [{\"marker\": {\"colorbar\": {\"outlinewidth\": 0, \"ticks\": \"\"}}, \"type\": \"scattercarpet\"}], \"scattergeo\": [{\"marker\": {\"colorbar\": {\"outlinewidth\": 0, \"ticks\": \"\"}}, \"type\": \"scattergeo\"}], \"scattergl\": [{\"marker\": {\"colorbar\": {\"outlinewidth\": 0, \"ticks\": \"\"}}, \"type\": \"scattergl\"}], \"scattermapbox\": [{\"marker\": {\"colorbar\": {\"outlinewidth\": 0, \"ticks\": \"\"}}, \"type\": \"scattermapbox\"}], \"scatterpolar\": [{\"marker\": {\"colorbar\": {\"outlinewidth\": 0, \"ticks\": \"\"}}, \"type\": \"scatterpolar\"}], \"scatterpolargl\": [{\"marker\": {\"colorbar\": {\"outlinewidth\": 0, \"ticks\": \"\"}}, \"type\": \"scatterpolargl\"}], \"scatterternary\": [{\"marker\": {\"colorbar\": {\"outlinewidth\": 0, \"ticks\": \"\"}}, \"type\": \"scatterternary\"}], \"surface\": [{\"colorbar\": {\"outlinewidth\": 0, \"ticks\": \"\"}, \"colorscale\": [[0.0, \"#0d0887\"], [0.1111111111111111, \"#46039f\"], [0.2222222222222222, \"#7201a8\"], [0.3333333333333333, \"#9c179e\"], [0.4444444444444444, \"#bd3786\"], [0.5555555555555556, \"#d8576b\"], [0.6666666666666666, \"#ed7953\"], [0.7777777777777778, \"#fb9f3a\"], [0.8888888888888888, \"#fdca26\"], [1.0, \"#f0f921\"]], \"type\": \"surface\"}], \"table\": [{\"cells\": {\"fill\": {\"color\": \"#EBF0F8\"}, \"line\": {\"color\": \"white\"}}, \"header\": {\"fill\": {\"color\": \"#C8D4E3\"}, \"line\": {\"color\": \"white\"}}, \"type\": \"table\"}]}, \"layout\": {\"annotationdefaults\": {\"arrowcolor\": \"#2a3f5f\", \"arrowhead\": 0, \"arrowwidth\": 1}, \"coloraxis\": {\"colorbar\": {\"outlinewidth\": 0, \"ticks\": \"\"}}, \"colorscale\": {\"diverging\": [[0, \"#8e0152\"], [0.1, \"#c51b7d\"], [0.2, \"#de77ae\"], [0.3, \"#f1b6da\"], [0.4, \"#fde0ef\"], [0.5, \"#f7f7f7\"], [0.6, \"#e6f5d0\"], [0.7, \"#b8e186\"], [0.8, \"#7fbc41\"], [0.9, \"#4d9221\"], [1, \"#276419\"]], \"sequential\": [[0.0, \"#0d0887\"], [0.1111111111111111, \"#46039f\"], [0.2222222222222222, \"#7201a8\"], [0.3333333333333333, \"#9c179e\"], [0.4444444444444444, \"#bd3786\"], [0.5555555555555556, \"#d8576b\"], [0.6666666666666666, \"#ed7953\"], [0.7777777777777778, \"#fb9f3a\"], [0.8888888888888888, \"#fdca26\"], [1.0, \"#f0f921\"]], \"sequentialminus\": [[0.0, \"#0d0887\"], [0.1111111111111111, \"#46039f\"], [0.2222222222222222, \"#7201a8\"], [0.3333333333333333, \"#9c179e\"], [0.4444444444444444, \"#bd3786\"], [0.5555555555555556, \"#d8576b\"], [0.6666666666666666, \"#ed7953\"], [0.7777777777777778, \"#fb9f3a\"], [0.8888888888888888, \"#fdca26\"], [1.0, \"#f0f921\"]]}, \"colorway\": [\"#636efa\", \"#EF553B\", \"#00cc96\", \"#ab63fa\", \"#FFA15A\", \"#19d3f3\", \"#FF6692\", \"#B6E880\", \"#FF97FF\", \"#FECB52\"], \"font\": {\"color\": \"#2a3f5f\"}, \"geo\": {\"bgcolor\": \"white\", \"lakecolor\": \"white\", \"landcolor\": \"#E5ECF6\", \"showlakes\": true, \"showland\": true, \"subunitcolor\": \"white\"}, \"hoverlabel\": {\"align\": \"left\"}, \"hovermode\": \"closest\", \"mapbox\": {\"style\": \"light\"}, \"paper_bgcolor\": \"white\", \"plot_bgcolor\": \"#E5ECF6\", \"polar\": {\"angularaxis\": {\"gridcolor\": \"white\", \"linecolor\": \"white\", \"ticks\": \"\"}, \"bgcolor\": \"#E5ECF6\", \"radialaxis\": {\"gridcolor\": \"white\", \"linecolor\": \"white\", \"ticks\": \"\"}}, \"scene\": {\"xaxis\": {\"backgroundcolor\": \"#E5ECF6\", \"gridcolor\": \"white\", \"gridwidth\": 2, \"linecolor\": \"white\", \"showbackground\": true, \"ticks\": \"\", \"zerolinecolor\": \"white\"}, \"yaxis\": {\"backgroundcolor\": \"#E5ECF6\", \"gridcolor\": \"white\", \"gridwidth\": 2, \"linecolor\": \"white\", \"showbackground\": true, \"ticks\": \"\", \"zerolinecolor\": \"white\"}, \"zaxis\": {\"backgroundcolor\": \"#E5ECF6\", \"gridcolor\": \"white\", \"gridwidth\": 2, \"linecolor\": \"white\", \"showbackground\": true, \"ticks\": \"\", \"zerolinecolor\": \"white\"}}, \"shapedefaults\": {\"line\": {\"color\": \"#2a3f5f\"}}, \"ternary\": {\"aaxis\": {\"gridcolor\": \"white\", \"linecolor\": \"white\", \"ticks\": \"\"}, \"baxis\": {\"gridcolor\": \"white\", \"linecolor\": \"white\", \"ticks\": \"\"}, \"bgcolor\": \"#E5ECF6\", \"caxis\": {\"gridcolor\": \"white\", \"linecolor\": \"white\", \"ticks\": \"\"}}, \"title\": {\"x\": 0.05}, \"xaxis\": {\"automargin\": true, \"gridcolor\": \"white\", \"linecolor\": \"white\", \"ticks\": \"\", \"title\": {\"standoff\": 15}, \"zerolinecolor\": \"white\", \"zerolinewidth\": 2}, \"yaxis\": {\"automargin\": true, \"gridcolor\": \"white\", \"linecolor\": \"white\", \"ticks\": \"\", \"title\": {\"standoff\": 15}, \"zerolinecolor\": \"white\", \"zerolinewidth\": 2}}}, \"title\": {\"font\": {\"color\": \"#4D5663\"}, \"text\": \"Top 20 bigrams in review after removing stop words\"}, \"xaxis\": {\"gridcolor\": \"#E1E5ED\", \"linecolor\": \"black\", \"showgrid\": true, \"tickfont\": {\"color\": \"#4D5663\"}, \"title\": {\"font\": {\"color\": \"#4D5663\"}, \"text\": \"\"}, \"zerolinecolor\": \"#E1E5ED\"}, \"yaxis\": {\"gridcolor\": \"#E1E5ED\", \"linecolor\": \"black\", \"showgrid\": true, \"tickfont\": {\"color\": \"#4D5663\"}, \"title\": {\"font\": {\"color\": \"#4D5663\"}, \"text\": \"Count\"}, \"zerolinecolor\": \"#E1E5ED\"}},\n",
              "                        {\"showLink\": true, \"linkText\": \"Export to plot.ly\", \"plotlyServerURL\": \"https://plot.ly\", \"responsive\": true}\n",
              "                    ).then(function(){\n",
              "                            \n",
              "var gd = document.getElementById('f97f05ff-26b1-4b3c-b624-252a026328b4');\n",
              "var x = new MutationObserver(function (mutations, observer) {{\n",
              "        var display = window.getComputedStyle(gd).display;\n",
              "        if (!display || display === 'none') {{\n",
              "            console.log([gd, 'removed!']);\n",
              "            Plotly.purge(gd);\n",
              "            observer.disconnect();\n",
              "        }}\n",
              "}});\n",
              "\n",
              "// Listen for the removal of the full notebook cells\n",
              "var notebookContainer = gd.closest('#notebook-container');\n",
              "if (notebookContainer) {{\n",
              "    x.observe(notebookContainer, {childList: true});\n",
              "}}\n",
              "\n",
              "// Listen for the clearing of the current output cell\n",
              "var outputEl = gd.closest('.output');\n",
              "if (outputEl) {{\n",
              "    x.observe(outputEl, {childList: true});\n",
              "}}\n",
              "\n",
              "                        })\n",
              "                };\n",
              "                });\n",
              "            </script>\n",
              "        </div>"
            ],
            "application/vnd.plotly.v1+json": {
              "data": [
                {
                  "name": "count",
                  "text": "",
                  "y": [
                    499,
                    29,
                    27,
                    27,
                    27,
                    27,
                    27,
                    25,
                    24,
                    20,
                    15,
                    15,
                    13,
                    13,
                    12,
                    12,
                    12,
                    12,
                    12,
                    12
                  ],
                  "marker": {
                    "color": "rgba(255, 153, 51, 0.6)",
                    "line": {
                      "color": "rgba(255, 153, 51, 1.0)",
                      "width": 1
                    }
                  },
                  "x": [
                    "user user",
                    "user don",
                    "watch amazing",
                    "broadcast user",
                    "live ly",
                    "ly broadcast",
                    "amazing live",
                    "user just",
                    "don know",
                    "feel like",
                    "user musically",
                    "don think",
                    "just want",
                    "user ve",
                    "user lively",
                    "user oh",
                    "ve seen",
                    "lively musically",
                    "user thanks",
                    "happy birthday"
                  ],
                  "type": "bar",
                  "orientation": "v"
                }
              ],
              "config": {
                "plotlyServerURL": "https://plot.ly",
                "linkText": "Export to plot.ly",
                "showLink": true
              },
              "layout": {
                "template": {
                  "layout": {
                    "shapedefaults": {
                      "line": {
                        "color": "#2a3f5f"
                      }
                    },
                    "polar": {
                      "radialaxis": {
                        "ticks": "",
                        "gridcolor": "white",
                        "linecolor": "white"
                      },
                      "bgcolor": "#E5ECF6",
                      "angularaxis": {
                        "ticks": "",
                        "gridcolor": "white",
                        "linecolor": "white"
                      }
                    },
                    "colorway": [
                      "#636efa",
                      "#EF553B",
                      "#00cc96",
                      "#ab63fa",
                      "#FFA15A",
                      "#19d3f3",
                      "#FF6692",
                      "#B6E880",
                      "#FF97FF",
                      "#FECB52"
                    ],
                    "xaxis": {
                      "automargin": true,
                      "title": {
                        "standoff": 15
                      },
                      "zerolinewidth": 2,
                      "ticks": "",
                      "zerolinecolor": "white",
                      "gridcolor": "white",
                      "linecolor": "white"
                    },
                    "colorscale": {
                      "diverging": [
                        [
                          0,
                          "#8e0152"
                        ],
                        [
                          0.1,
                          "#c51b7d"
                        ],
                        [
                          0.2,
                          "#de77ae"
                        ],
                        [
                          0.3,
                          "#f1b6da"
                        ],
                        [
                          0.4,
                          "#fde0ef"
                        ],
                        [
                          0.5,
                          "#f7f7f7"
                        ],
                        [
                          0.6,
                          "#e6f5d0"
                        ],
                        [
                          0.7,
                          "#b8e186"
                        ],
                        [
                          0.8,
                          "#7fbc41"
                        ],
                        [
                          0.9,
                          "#4d9221"
                        ],
                        [
                          1,
                          "#276419"
                        ]
                      ],
                      "sequential": [
                        [
                          0,
                          "#0d0887"
                        ],
                        [
                          0.1111111111111111,
                          "#46039f"
                        ],
                        [
                          0.2222222222222222,
                          "#7201a8"
                        ],
                        [
                          0.3333333333333333,
                          "#9c179e"
                        ],
                        [
                          0.4444444444444444,
                          "#bd3786"
                        ],
                        [
                          0.5555555555555556,
                          "#d8576b"
                        ],
                        [
                          0.6666666666666666,
                          "#ed7953"
                        ],
                        [
                          0.7777777777777778,
                          "#fb9f3a"
                        ],
                        [
                          0.8888888888888888,
                          "#fdca26"
                        ],
                        [
                          1,
                          "#f0f921"
                        ]
                      ],
                      "sequentialminus": [
                        [
                          0,
                          "#0d0887"
                        ],
                        [
                          0.1111111111111111,
                          "#46039f"
                        ],
                        [
                          0.2222222222222222,
                          "#7201a8"
                        ],
                        [
                          0.3333333333333333,
                          "#9c179e"
                        ],
                        [
                          0.4444444444444444,
                          "#bd3786"
                        ],
                        [
                          0.5555555555555556,
                          "#d8576b"
                        ],
                        [
                          0.6666666666666666,
                          "#ed7953"
                        ],
                        [
                          0.7777777777777778,
                          "#fb9f3a"
                        ],
                        [
                          0.8888888888888888,
                          "#fdca26"
                        ],
                        [
                          1,
                          "#f0f921"
                        ]
                      ]
                    },
                    "paper_bgcolor": "white",
                    "plot_bgcolor": "#E5ECF6",
                    "title": {
                      "x": 0.05
                    },
                    "scene": {
                      "zaxis": {
                        "backgroundcolor": "#E5ECF6",
                        "ticks": "",
                        "gridwidth": 2,
                        "showbackground": true,
                        "zerolinecolor": "white",
                        "gridcolor": "white",
                        "linecolor": "white"
                      },
                      "xaxis": {
                        "backgroundcolor": "#E5ECF6",
                        "ticks": "",
                        "gridwidth": 2,
                        "showbackground": true,
                        "zerolinecolor": "white",
                        "gridcolor": "white",
                        "linecolor": "white"
                      },
                      "yaxis": {
                        "backgroundcolor": "#E5ECF6",
                        "ticks": "",
                        "gridwidth": 2,
                        "showbackground": true,
                        "zerolinecolor": "white",
                        "gridcolor": "white",
                        "linecolor": "white"
                      }
                    },
                    "yaxis": {
                      "automargin": true,
                      "title": {
                        "standoff": 15
                      },
                      "zerolinewidth": 2,
                      "ticks": "",
                      "zerolinecolor": "white",
                      "gridcolor": "white",
                      "linecolor": "white"
                    },
                    "annotationdefaults": {
                      "arrowwidth": 1,
                      "arrowhead": 0,
                      "arrowcolor": "#2a3f5f"
                    },
                    "hoverlabel": {
                      "align": "left"
                    },
                    "ternary": {
                      "bgcolor": "#E5ECF6",
                      "baxis": {
                        "ticks": "",
                        "gridcolor": "white",
                        "linecolor": "white"
                      },
                      "caxis": {
                        "ticks": "",
                        "gridcolor": "white",
                        "linecolor": "white"
                      },
                      "aaxis": {
                        "ticks": "",
                        "gridcolor": "white",
                        "linecolor": "white"
                      }
                    },
                    "mapbox": {
                      "style": "light"
                    },
                    "hovermode": "closest",
                    "font": {
                      "color": "#2a3f5f"
                    },
                    "geo": {
                      "showland": true,
                      "landcolor": "#E5ECF6",
                      "showlakes": true,
                      "bgcolor": "white",
                      "subunitcolor": "white",
                      "lakecolor": "white"
                    },
                    "coloraxis": {
                      "colorbar": {
                        "outlinewidth": 0,
                        "ticks": ""
                      }
                    }
                  },
                  "data": {
                    "mesh3d": [
                      {
                        "colorbar": {
                          "outlinewidth": 0,
                          "ticks": ""
                        },
                        "type": "mesh3d"
                      }
                    ],
                    "scattercarpet": [
                      {
                        "marker": {
                          "colorbar": {
                            "outlinewidth": 0,
                            "ticks": ""
                          }
                        },
                        "type": "scattercarpet"
                      }
                    ],
                    "pie": [
                      {
                        "automargin": true,
                        "type": "pie"
                      }
                    ],
                    "surface": [
                      {
                        "colorbar": {
                          "outlinewidth": 0,
                          "ticks": ""
                        },
                        "type": "surface",
                        "colorscale": [
                          [
                            0,
                            "#0d0887"
                          ],
                          [
                            0.1111111111111111,
                            "#46039f"
                          ],
                          [
                            0.2222222222222222,
                            "#7201a8"
                          ],
                          [
                            0.3333333333333333,
                            "#9c179e"
                          ],
                          [
                            0.4444444444444444,
                            "#bd3786"
                          ],
                          [
                            0.5555555555555556,
                            "#d8576b"
                          ],
                          [
                            0.6666666666666666,
                            "#ed7953"
                          ],
                          [
                            0.7777777777777778,
                            "#fb9f3a"
                          ],
                          [
                            0.8888888888888888,
                            "#fdca26"
                          ],
                          [
                            1,
                            "#f0f921"
                          ]
                        ]
                      }
                    ],
                    "table": [
                      {
                        "header": {
                          "line": {
                            "color": "white"
                          },
                          "fill": {
                            "color": "#C8D4E3"
                          }
                        },
                        "cells": {
                          "line": {
                            "color": "white"
                          },
                          "fill": {
                            "color": "#EBF0F8"
                          }
                        },
                        "type": "table"
                      }
                    ],
                    "scatterpolargl": [
                      {
                        "marker": {
                          "colorbar": {
                            "outlinewidth": 0,
                            "ticks": ""
                          }
                        },
                        "type": "scatterpolargl"
                      }
                    ],
                    "contour": [
                      {
                        "colorbar": {
                          "outlinewidth": 0,
                          "ticks": ""
                        },
                        "type": "contour",
                        "colorscale": [
                          [
                            0,
                            "#0d0887"
                          ],
                          [
                            0.1111111111111111,
                            "#46039f"
                          ],
                          [
                            0.2222222222222222,
                            "#7201a8"
                          ],
                          [
                            0.3333333333333333,
                            "#9c179e"
                          ],
                          [
                            0.4444444444444444,
                            "#bd3786"
                          ],
                          [
                            0.5555555555555556,
                            "#d8576b"
                          ],
                          [
                            0.6666666666666666,
                            "#ed7953"
                          ],
                          [
                            0.7777777777777778,
                            "#fb9f3a"
                          ],
                          [
                            0.8888888888888888,
                            "#fdca26"
                          ],
                          [
                            1,
                            "#f0f921"
                          ]
                        ]
                      }
                    ],
                    "carpet": [
                      {
                        "type": "carpet",
                        "baxis": {
                          "minorgridcolor": "white",
                          "gridcolor": "white",
                          "linecolor": "white",
                          "endlinecolor": "#2a3f5f",
                          "startlinecolor": "#2a3f5f"
                        },
                        "aaxis": {
                          "minorgridcolor": "white",
                          "gridcolor": "white",
                          "linecolor": "white",
                          "endlinecolor": "#2a3f5f",
                          "startlinecolor": "#2a3f5f"
                        }
                      }
                    ],
                    "contourcarpet": [
                      {
                        "colorbar": {
                          "outlinewidth": 0,
                          "ticks": ""
                        },
                        "type": "contourcarpet"
                      }
                    ],
                    "heatmap": [
                      {
                        "colorbar": {
                          "outlinewidth": 0,
                          "ticks": ""
                        },
                        "type": "heatmap",
                        "colorscale": [
                          [
                            0,
                            "#0d0887"
                          ],
                          [
                            0.1111111111111111,
                            "#46039f"
                          ],
                          [
                            0.2222222222222222,
                            "#7201a8"
                          ],
                          [
                            0.3333333333333333,
                            "#9c179e"
                          ],
                          [
                            0.4444444444444444,
                            "#bd3786"
                          ],
                          [
                            0.5555555555555556,
                            "#d8576b"
                          ],
                          [
                            0.6666666666666666,
                            "#ed7953"
                          ],
                          [
                            0.7777777777777778,
                            "#fb9f3a"
                          ],
                          [
                            0.8888888888888888,
                            "#fdca26"
                          ],
                          [
                            1,
                            "#f0f921"
                          ]
                        ]
                      }
                    ],
                    "scattermapbox": [
                      {
                        "marker": {
                          "colorbar": {
                            "outlinewidth": 0,
                            "ticks": ""
                          }
                        },
                        "type": "scattermapbox"
                      }
                    ],
                    "scatter3d": [
                      {
                        "marker": {
                          "colorbar": {
                            "outlinewidth": 0,
                            "ticks": ""
                          }
                        },
                        "line": {
                          "colorbar": {
                            "outlinewidth": 0,
                            "ticks": ""
                          }
                        },
                        "type": "scatter3d"
                      }
                    ],
                    "scattergl": [
                      {
                        "marker": {
                          "colorbar": {
                            "outlinewidth": 0,
                            "ticks": ""
                          }
                        },
                        "type": "scattergl"
                      }
                    ],
                    "scatterternary": [
                      {
                        "marker": {
                          "colorbar": {
                            "outlinewidth": 0,
                            "ticks": ""
                          }
                        },
                        "type": "scatterternary"
                      }
                    ],
                    "histogram": [
                      {
                        "marker": {
                          "colorbar": {
                            "outlinewidth": 0,
                            "ticks": ""
                          }
                        },
                        "type": "histogram"
                      }
                    ],
                    "heatmapgl": [
                      {
                        "colorbar": {
                          "outlinewidth": 0,
                          "ticks": ""
                        },
                        "type": "heatmapgl",
                        "colorscale": [
                          [
                            0,
                            "#0d0887"
                          ],
                          [
                            0.1111111111111111,
                            "#46039f"
                          ],
                          [
                            0.2222222222222222,
                            "#7201a8"
                          ],
                          [
                            0.3333333333333333,
                            "#9c179e"
                          ],
                          [
                            0.4444444444444444,
                            "#bd3786"
                          ],
                          [
                            0.5555555555555556,
                            "#d8576b"
                          ],
                          [
                            0.6666666666666666,
                            "#ed7953"
                          ],
                          [
                            0.7777777777777778,
                            "#fb9f3a"
                          ],
                          [
                            0.8888888888888888,
                            "#fdca26"
                          ],
                          [
                            1,
                            "#f0f921"
                          ]
                        ]
                      }
                    ],
                    "scatterpolar": [
                      {
                        "marker": {
                          "colorbar": {
                            "outlinewidth": 0,
                            "ticks": ""
                          }
                        },
                        "type": "scatterpolar"
                      }
                    ],
                    "histogram2d": [
                      {
                        "colorbar": {
                          "outlinewidth": 0,
                          "ticks": ""
                        },
                        "type": "histogram2d",
                        "colorscale": [
                          [
                            0,
                            "#0d0887"
                          ],
                          [
                            0.1111111111111111,
                            "#46039f"
                          ],
                          [
                            0.2222222222222222,
                            "#7201a8"
                          ],
                          [
                            0.3333333333333333,
                            "#9c179e"
                          ],
                          [
                            0.4444444444444444,
                            "#bd3786"
                          ],
                          [
                            0.5555555555555556,
                            "#d8576b"
                          ],
                          [
                            0.6666666666666666,
                            "#ed7953"
                          ],
                          [
                            0.7777777777777778,
                            "#fb9f3a"
                          ],
                          [
                            0.8888888888888888,
                            "#fdca26"
                          ],
                          [
                            1,
                            "#f0f921"
                          ]
                        ]
                      }
                    ],
                    "scattergeo": [
                      {
                        "marker": {
                          "colorbar": {
                            "outlinewidth": 0,
                            "ticks": ""
                          }
                        },
                        "type": "scattergeo"
                      }
                    ],
                    "bar": [
                      {
                        "marker": {
                          "line": {
                            "color": "#E5ECF6",
                            "width": 0.5
                          }
                        },
                        "type": "bar",
                        "error_x": {
                          "color": "#2a3f5f"
                        },
                        "error_y": {
                          "color": "#2a3f5f"
                        }
                      }
                    ],
                    "choropleth": [
                      {
                        "colorbar": {
                          "outlinewidth": 0,
                          "ticks": ""
                        },
                        "type": "choropleth"
                      }
                    ],
                    "parcoords": [
                      {
                        "line": {
                          "colorbar": {
                            "outlinewidth": 0,
                            "ticks": ""
                          }
                        },
                        "type": "parcoords"
                      }
                    ],
                    "barpolar": [
                      {
                        "marker": {
                          "line": {
                            "color": "#E5ECF6",
                            "width": 0.5
                          }
                        },
                        "type": "barpolar"
                      }
                    ],
                    "histogram2dcontour": [
                      {
                        "colorbar": {
                          "outlinewidth": 0,
                          "ticks": ""
                        },
                        "type": "histogram2dcontour",
                        "colorscale": [
                          [
                            0,
                            "#0d0887"
                          ],
                          [
                            0.1111111111111111,
                            "#46039f"
                          ],
                          [
                            0.2222222222222222,
                            "#7201a8"
                          ],
                          [
                            0.3333333333333333,
                            "#9c179e"
                          ],
                          [
                            0.4444444444444444,
                            "#bd3786"
                          ],
                          [
                            0.5555555555555556,
                            "#d8576b"
                          ],
                          [
                            0.6666666666666666,
                            "#ed7953"
                          ],
                          [
                            0.7777777777777778,
                            "#fb9f3a"
                          ],
                          [
                            0.8888888888888888,
                            "#fdca26"
                          ],
                          [
                            1,
                            "#f0f921"
                          ]
                        ]
                      }
                    ],
                    "scatter": [
                      {
                        "marker": {
                          "colorbar": {
                            "outlinewidth": 0,
                            "ticks": ""
                          }
                        },
                        "type": "scatter"
                      }
                    ]
                  }
                },
                "title": {
                  "text": "Top 20 bigrams in review after removing stop words",
                  "font": {
                    "color": "#4D5663"
                  }
                },
                "paper_bgcolor": "#F5F6F9",
                "plot_bgcolor": "#F5F6F9",
                "yaxis": {
                  "tickfont": {
                    "color": "#4D5663"
                  },
                  "title": {
                    "text": "Count",
                    "font": {
                      "color": "#4D5663"
                    }
                  },
                  "showgrid": true,
                  "zerolinecolor": "#E1E5ED",
                  "gridcolor": "#E1E5ED",
                  "linecolor": "black"
                },
                "xaxis": {
                  "tickfont": {
                    "color": "#4D5663"
                  },
                  "title": {
                    "text": "",
                    "font": {
                      "color": "#4D5663"
                    }
                  },
                  "showgrid": true,
                  "zerolinecolor": "#E1E5ED",
                  "gridcolor": "#E1E5ED",
                  "linecolor": "black"
                },
                "legend": {
                  "bgcolor": "#F5F6F9",
                  "font": {
                    "color": "#4D5663"
                  }
                }
              }
            }
          },
          "metadata": {
            "tags": []
          }
        }
      ]
    },
    {
      "cell_type": "markdown",
      "metadata": {
        "id": "RtCkWiLoDHMc"
      },
      "source": [
        "### Top trigrams before removing stop words"
      ]
    },
    {
      "cell_type": "code",
      "metadata": {
        "colab": {
          "base_uri": "https://localhost:8080/"
        },
        "id": "JUpVHQToDHMc",
        "outputId": "25b76c7c-b1d3-4d02-8dee-0c546d9eeea8"
      },
      "source": [
        "def get_top_n_trigram(corpus, n=None):\n",
        "    vec = CountVectorizer(ngram_range=(3, 3)).fit(corpus)\n",
        "    bag_of_words = vec.transform(corpus)\n",
        "    sum_words = bag_of_words.sum(axis=0) \n",
        "    words_freq = [(word, sum_words[0, idx]) for word, idx in vec.vocabulary_.items()]\n",
        "    words_freq =sorted(words_freq, key = lambda x: x[1], reverse=True)\n",
        "    return words_freq[:n]\n",
        "common_words = get_top_n_trigram(df['Review Text'], 20)\n",
        "for word, freq in common_words:\n",
        "    print(word, freq)\n",
        "df5 = pd.DataFrame(common_words, columns = ['ReviewText' , 'count'])"
      ],
      "execution_count": null,
      "outputs": [
        {
          "output_type": "stream",
          "text": [
            "user user user 164\n",
            "watch this amazing 27\n",
            "this amazing live 27\n",
            "amazing live ly 27\n",
            "live ly broadcast 27\n",
            "ly broadcast by 27\n",
            "broadcast by user 27\n",
            "by user musically 15\n",
            "one of the 15\n",
            "by user lively 12\n",
            "user lively musically 12\n",
            "going to be 10\n",
            "you want to 9\n",
            "is better than 8\n",
            "user user the 8\n",
            "know how to 8\n",
            "can wait to 8\n",
            "is going to 8\n",
            "user user you 8\n",
            "don know what 8\n"
          ],
          "name": "stdout"
        }
      ]
    },
    {
      "cell_type": "code",
      "metadata": {
        "colab": {
          "base_uri": "https://localhost:8080/"
        },
        "id": "93-roPpXDHMd",
        "outputId": "1c3decf9-22c2-4e12-8711-be15c7d6a1d9"
      },
      "source": [
        "df5.groupby('ReviewText').sum()['count'].sort_values(ascending=False).iplot(\n",
        "    kind='bar', yTitle='Count', linecolor='black', title='Top 20 trigrams in review before removing stop words')"
      ],
      "execution_count": null,
      "outputs": [
        {
          "output_type": "display_data",
          "data": {
            "text/html": [
              "<div>\n",
              "        \n",
              "        \n",
              "            <div id=\"aca57fee-201c-4f7f-ab81-5db5dd0d6361\" class=\"plotly-graph-div\" style=\"height:525px; width:100%;\"></div>\n",
              "            <script type=\"text/javascript\">\n",
              "                require([\"plotly\"], function(Plotly) {\n",
              "                    window.PLOTLYENV=window.PLOTLYENV || {};\n",
              "                    window.PLOTLYENV.BASE_URL='https://plot.ly';\n",
              "                    \n",
              "                if (document.getElementById(\"aca57fee-201c-4f7f-ab81-5db5dd0d6361\")) {\n",
              "                    Plotly.newPlot(\n",
              "                        'aca57fee-201c-4f7f-ab81-5db5dd0d6361',\n",
              "                        [{\"marker\": {\"color\": \"rgba(255, 153, 51, 0.6)\", \"line\": {\"color\": \"rgba(255, 153, 51, 1.0)\", \"width\": 1}}, \"name\": \"count\", \"orientation\": \"v\", \"text\": \"\", \"type\": \"bar\", \"x\": [\"user user user\", \"amazing live ly\", \"broadcast by user\", \"this amazing live\", \"ly broadcast by\", \"live ly broadcast\", \"watch this amazing\", \"one of the\", \"by user musically\", \"by user lively\", \"user lively musically\", \"going to be\", \"you want to\", \"is better than\", \"don know what\", \"can wait to\", \"is going to\", \"user user the\", \"user user you\", \"know how to\"], \"y\": [164, 27, 27, 27, 27, 27, 27, 15, 15, 12, 12, 10, 9, 8, 8, 8, 8, 8, 8, 8]}],\n",
              "                        {\"legend\": {\"bgcolor\": \"#F5F6F9\", \"font\": {\"color\": \"#4D5663\"}}, \"paper_bgcolor\": \"#F5F6F9\", \"plot_bgcolor\": \"#F5F6F9\", \"template\": {\"data\": {\"bar\": [{\"error_x\": {\"color\": \"#2a3f5f\"}, \"error_y\": {\"color\": \"#2a3f5f\"}, \"marker\": {\"line\": {\"color\": \"#E5ECF6\", \"width\": 0.5}}, \"type\": \"bar\"}], \"barpolar\": [{\"marker\": {\"line\": {\"color\": \"#E5ECF6\", \"width\": 0.5}}, \"type\": \"barpolar\"}], \"carpet\": [{\"aaxis\": {\"endlinecolor\": \"#2a3f5f\", \"gridcolor\": \"white\", \"linecolor\": \"white\", \"minorgridcolor\": \"white\", \"startlinecolor\": \"#2a3f5f\"}, \"baxis\": {\"endlinecolor\": \"#2a3f5f\", \"gridcolor\": \"white\", \"linecolor\": \"white\", \"minorgridcolor\": \"white\", \"startlinecolor\": \"#2a3f5f\"}, \"type\": \"carpet\"}], \"choropleth\": [{\"colorbar\": {\"outlinewidth\": 0, \"ticks\": \"\"}, \"type\": \"choropleth\"}], \"contour\": [{\"colorbar\": {\"outlinewidth\": 0, \"ticks\": \"\"}, \"colorscale\": [[0.0, \"#0d0887\"], [0.1111111111111111, \"#46039f\"], [0.2222222222222222, \"#7201a8\"], [0.3333333333333333, \"#9c179e\"], [0.4444444444444444, \"#bd3786\"], [0.5555555555555556, \"#d8576b\"], [0.6666666666666666, \"#ed7953\"], [0.7777777777777778, \"#fb9f3a\"], [0.8888888888888888, \"#fdca26\"], [1.0, \"#f0f921\"]], \"type\": \"contour\"}], \"contourcarpet\": [{\"colorbar\": {\"outlinewidth\": 0, \"ticks\": \"\"}, \"type\": \"contourcarpet\"}], \"heatmap\": [{\"colorbar\": {\"outlinewidth\": 0, \"ticks\": \"\"}, \"colorscale\": [[0.0, \"#0d0887\"], [0.1111111111111111, \"#46039f\"], [0.2222222222222222, \"#7201a8\"], [0.3333333333333333, \"#9c179e\"], [0.4444444444444444, \"#bd3786\"], [0.5555555555555556, \"#d8576b\"], [0.6666666666666666, \"#ed7953\"], [0.7777777777777778, \"#fb9f3a\"], [0.8888888888888888, \"#fdca26\"], [1.0, \"#f0f921\"]], \"type\": \"heatmap\"}], \"heatmapgl\": [{\"colorbar\": {\"outlinewidth\": 0, \"ticks\": \"\"}, \"colorscale\": [[0.0, \"#0d0887\"], [0.1111111111111111, \"#46039f\"], [0.2222222222222222, \"#7201a8\"], [0.3333333333333333, \"#9c179e\"], [0.4444444444444444, \"#bd3786\"], [0.5555555555555556, \"#d8576b\"], [0.6666666666666666, \"#ed7953\"], [0.7777777777777778, \"#fb9f3a\"], [0.8888888888888888, \"#fdca26\"], [1.0, \"#f0f921\"]], \"type\": \"heatmapgl\"}], \"histogram\": [{\"marker\": {\"colorbar\": {\"outlinewidth\": 0, \"ticks\": \"\"}}, \"type\": \"histogram\"}], \"histogram2d\": [{\"colorbar\": {\"outlinewidth\": 0, \"ticks\": \"\"}, \"colorscale\": [[0.0, \"#0d0887\"], [0.1111111111111111, \"#46039f\"], [0.2222222222222222, \"#7201a8\"], [0.3333333333333333, \"#9c179e\"], [0.4444444444444444, \"#bd3786\"], [0.5555555555555556, \"#d8576b\"], [0.6666666666666666, \"#ed7953\"], [0.7777777777777778, \"#fb9f3a\"], [0.8888888888888888, \"#fdca26\"], [1.0, \"#f0f921\"]], \"type\": \"histogram2d\"}], \"histogram2dcontour\": [{\"colorbar\": {\"outlinewidth\": 0, \"ticks\": \"\"}, \"colorscale\": [[0.0, \"#0d0887\"], [0.1111111111111111, \"#46039f\"], [0.2222222222222222, \"#7201a8\"], [0.3333333333333333, \"#9c179e\"], [0.4444444444444444, \"#bd3786\"], [0.5555555555555556, \"#d8576b\"], [0.6666666666666666, \"#ed7953\"], [0.7777777777777778, \"#fb9f3a\"], [0.8888888888888888, \"#fdca26\"], [1.0, \"#f0f921\"]], \"type\": \"histogram2dcontour\"}], \"mesh3d\": [{\"colorbar\": {\"outlinewidth\": 0, \"ticks\": \"\"}, \"type\": \"mesh3d\"}], \"parcoords\": [{\"line\": {\"colorbar\": {\"outlinewidth\": 0, \"ticks\": \"\"}}, \"type\": \"parcoords\"}], \"pie\": [{\"automargin\": true, \"type\": \"pie\"}], \"scatter\": [{\"marker\": {\"colorbar\": {\"outlinewidth\": 0, \"ticks\": \"\"}}, \"type\": \"scatter\"}], \"scatter3d\": [{\"line\": {\"colorbar\": {\"outlinewidth\": 0, \"ticks\": \"\"}}, \"marker\": {\"colorbar\": {\"outlinewidth\": 0, \"ticks\": \"\"}}, \"type\": \"scatter3d\"}], \"scattercarpet\": [{\"marker\": {\"colorbar\": {\"outlinewidth\": 0, \"ticks\": \"\"}}, \"type\": \"scattercarpet\"}], \"scattergeo\": [{\"marker\": {\"colorbar\": {\"outlinewidth\": 0, \"ticks\": \"\"}}, \"type\": \"scattergeo\"}], \"scattergl\": [{\"marker\": {\"colorbar\": {\"outlinewidth\": 0, \"ticks\": \"\"}}, \"type\": \"scattergl\"}], \"scattermapbox\": [{\"marker\": {\"colorbar\": {\"outlinewidth\": 0, \"ticks\": \"\"}}, \"type\": \"scattermapbox\"}], \"scatterpolar\": [{\"marker\": {\"colorbar\": {\"outlinewidth\": 0, \"ticks\": \"\"}}, \"type\": \"scatterpolar\"}], \"scatterpolargl\": [{\"marker\": {\"colorbar\": {\"outlinewidth\": 0, \"ticks\": \"\"}}, \"type\": \"scatterpolargl\"}], \"scatterternary\": [{\"marker\": {\"colorbar\": {\"outlinewidth\": 0, \"ticks\": \"\"}}, \"type\": \"scatterternary\"}], \"surface\": [{\"colorbar\": {\"outlinewidth\": 0, \"ticks\": \"\"}, \"colorscale\": [[0.0, \"#0d0887\"], [0.1111111111111111, \"#46039f\"], [0.2222222222222222, \"#7201a8\"], [0.3333333333333333, \"#9c179e\"], [0.4444444444444444, \"#bd3786\"], [0.5555555555555556, \"#d8576b\"], [0.6666666666666666, \"#ed7953\"], [0.7777777777777778, \"#fb9f3a\"], [0.8888888888888888, \"#fdca26\"], [1.0, \"#f0f921\"]], \"type\": \"surface\"}], \"table\": [{\"cells\": {\"fill\": {\"color\": \"#EBF0F8\"}, \"line\": {\"color\": \"white\"}}, \"header\": {\"fill\": {\"color\": \"#C8D4E3\"}, \"line\": {\"color\": \"white\"}}, \"type\": \"table\"}]}, \"layout\": {\"annotationdefaults\": {\"arrowcolor\": \"#2a3f5f\", \"arrowhead\": 0, \"arrowwidth\": 1}, \"coloraxis\": {\"colorbar\": {\"outlinewidth\": 0, \"ticks\": \"\"}}, \"colorscale\": {\"diverging\": [[0, \"#8e0152\"], [0.1, \"#c51b7d\"], [0.2, \"#de77ae\"], [0.3, \"#f1b6da\"], [0.4, \"#fde0ef\"], [0.5, \"#f7f7f7\"], [0.6, \"#e6f5d0\"], [0.7, \"#b8e186\"], [0.8, \"#7fbc41\"], [0.9, \"#4d9221\"], [1, \"#276419\"]], \"sequential\": [[0.0, \"#0d0887\"], [0.1111111111111111, \"#46039f\"], [0.2222222222222222, \"#7201a8\"], [0.3333333333333333, \"#9c179e\"], [0.4444444444444444, \"#bd3786\"], [0.5555555555555556, \"#d8576b\"], [0.6666666666666666, \"#ed7953\"], [0.7777777777777778, \"#fb9f3a\"], [0.8888888888888888, \"#fdca26\"], [1.0, \"#f0f921\"]], \"sequentialminus\": [[0.0, \"#0d0887\"], [0.1111111111111111, \"#46039f\"], [0.2222222222222222, \"#7201a8\"], [0.3333333333333333, \"#9c179e\"], [0.4444444444444444, \"#bd3786\"], [0.5555555555555556, \"#d8576b\"], [0.6666666666666666, \"#ed7953\"], [0.7777777777777778, \"#fb9f3a\"], [0.8888888888888888, \"#fdca26\"], [1.0, \"#f0f921\"]]}, \"colorway\": [\"#636efa\", \"#EF553B\", \"#00cc96\", \"#ab63fa\", \"#FFA15A\", \"#19d3f3\", \"#FF6692\", \"#B6E880\", \"#FF97FF\", \"#FECB52\"], \"font\": {\"color\": \"#2a3f5f\"}, \"geo\": {\"bgcolor\": \"white\", \"lakecolor\": \"white\", \"landcolor\": \"#E5ECF6\", \"showlakes\": true, \"showland\": true, \"subunitcolor\": \"white\"}, \"hoverlabel\": {\"align\": \"left\"}, \"hovermode\": \"closest\", \"mapbox\": {\"style\": \"light\"}, \"paper_bgcolor\": \"white\", \"plot_bgcolor\": \"#E5ECF6\", \"polar\": {\"angularaxis\": {\"gridcolor\": \"white\", \"linecolor\": \"white\", \"ticks\": \"\"}, \"bgcolor\": \"#E5ECF6\", \"radialaxis\": {\"gridcolor\": \"white\", \"linecolor\": \"white\", \"ticks\": \"\"}}, \"scene\": {\"xaxis\": {\"backgroundcolor\": \"#E5ECF6\", \"gridcolor\": \"white\", \"gridwidth\": 2, \"linecolor\": \"white\", \"showbackground\": true, \"ticks\": \"\", \"zerolinecolor\": \"white\"}, \"yaxis\": {\"backgroundcolor\": \"#E5ECF6\", \"gridcolor\": \"white\", \"gridwidth\": 2, \"linecolor\": \"white\", \"showbackground\": true, \"ticks\": \"\", \"zerolinecolor\": \"white\"}, \"zaxis\": {\"backgroundcolor\": \"#E5ECF6\", \"gridcolor\": \"white\", \"gridwidth\": 2, \"linecolor\": \"white\", \"showbackground\": true, \"ticks\": \"\", \"zerolinecolor\": \"white\"}}, \"shapedefaults\": {\"line\": {\"color\": \"#2a3f5f\"}}, \"ternary\": {\"aaxis\": {\"gridcolor\": \"white\", \"linecolor\": \"white\", \"ticks\": \"\"}, \"baxis\": {\"gridcolor\": \"white\", \"linecolor\": \"white\", \"ticks\": \"\"}, \"bgcolor\": \"#E5ECF6\", \"caxis\": {\"gridcolor\": \"white\", \"linecolor\": \"white\", \"ticks\": \"\"}}, \"title\": {\"x\": 0.05}, \"xaxis\": {\"automargin\": true, \"gridcolor\": \"white\", \"linecolor\": \"white\", \"ticks\": \"\", \"title\": {\"standoff\": 15}, \"zerolinecolor\": \"white\", \"zerolinewidth\": 2}, \"yaxis\": {\"automargin\": true, \"gridcolor\": \"white\", \"linecolor\": \"white\", \"ticks\": \"\", \"title\": {\"standoff\": 15}, \"zerolinecolor\": \"white\", \"zerolinewidth\": 2}}}, \"title\": {\"font\": {\"color\": \"#4D5663\"}, \"text\": \"Top 20 trigrams in review before removing stop words\"}, \"xaxis\": {\"gridcolor\": \"#E1E5ED\", \"linecolor\": \"black\", \"showgrid\": true, \"tickfont\": {\"color\": \"#4D5663\"}, \"title\": {\"font\": {\"color\": \"#4D5663\"}, \"text\": \"\"}, \"zerolinecolor\": \"#E1E5ED\"}, \"yaxis\": {\"gridcolor\": \"#E1E5ED\", \"linecolor\": \"black\", \"showgrid\": true, \"tickfont\": {\"color\": \"#4D5663\"}, \"title\": {\"font\": {\"color\": \"#4D5663\"}, \"text\": \"Count\"}, \"zerolinecolor\": \"#E1E5ED\"}},\n",
              "                        {\"showLink\": true, \"linkText\": \"Export to plot.ly\", \"plotlyServerURL\": \"https://plot.ly\", \"responsive\": true}\n",
              "                    ).then(function(){\n",
              "                            \n",
              "var gd = document.getElementById('aca57fee-201c-4f7f-ab81-5db5dd0d6361');\n",
              "var x = new MutationObserver(function (mutations, observer) {{\n",
              "        var display = window.getComputedStyle(gd).display;\n",
              "        if (!display || display === 'none') {{\n",
              "            console.log([gd, 'removed!']);\n",
              "            Plotly.purge(gd);\n",
              "            observer.disconnect();\n",
              "        }}\n",
              "}});\n",
              "\n",
              "// Listen for the removal of the full notebook cells\n",
              "var notebookContainer = gd.closest('#notebook-container');\n",
              "if (notebookContainer) {{\n",
              "    x.observe(notebookContainer, {childList: true});\n",
              "}}\n",
              "\n",
              "// Listen for the clearing of the current output cell\n",
              "var outputEl = gd.closest('.output');\n",
              "if (outputEl) {{\n",
              "    x.observe(outputEl, {childList: true});\n",
              "}}\n",
              "\n",
              "                        })\n",
              "                };\n",
              "                });\n",
              "            </script>\n",
              "        </div>"
            ],
            "application/vnd.plotly.v1+json": {
              "data": [
                {
                  "name": "count",
                  "text": "",
                  "y": [
                    164,
                    27,
                    27,
                    27,
                    27,
                    27,
                    27,
                    15,
                    15,
                    12,
                    12,
                    10,
                    9,
                    8,
                    8,
                    8,
                    8,
                    8,
                    8,
                    8
                  ],
                  "marker": {
                    "color": "rgba(255, 153, 51, 0.6)",
                    "line": {
                      "color": "rgba(255, 153, 51, 1.0)",
                      "width": 1
                    }
                  },
                  "x": [
                    "user user user",
                    "amazing live ly",
                    "broadcast by user",
                    "this amazing live",
                    "ly broadcast by",
                    "live ly broadcast",
                    "watch this amazing",
                    "one of the",
                    "by user musically",
                    "by user lively",
                    "user lively musically",
                    "going to be",
                    "you want to",
                    "is better than",
                    "don know what",
                    "can wait to",
                    "is going to",
                    "user user the",
                    "user user you",
                    "know how to"
                  ],
                  "type": "bar",
                  "orientation": "v"
                }
              ],
              "config": {
                "plotlyServerURL": "https://plot.ly",
                "linkText": "Export to plot.ly",
                "showLink": true
              },
              "layout": {
                "template": {
                  "layout": {
                    "shapedefaults": {
                      "line": {
                        "color": "#2a3f5f"
                      }
                    },
                    "polar": {
                      "radialaxis": {
                        "ticks": "",
                        "gridcolor": "white",
                        "linecolor": "white"
                      },
                      "bgcolor": "#E5ECF6",
                      "angularaxis": {
                        "ticks": "",
                        "gridcolor": "white",
                        "linecolor": "white"
                      }
                    },
                    "colorway": [
                      "#636efa",
                      "#EF553B",
                      "#00cc96",
                      "#ab63fa",
                      "#FFA15A",
                      "#19d3f3",
                      "#FF6692",
                      "#B6E880",
                      "#FF97FF",
                      "#FECB52"
                    ],
                    "xaxis": {
                      "automargin": true,
                      "title": {
                        "standoff": 15
                      },
                      "zerolinewidth": 2,
                      "ticks": "",
                      "zerolinecolor": "white",
                      "gridcolor": "white",
                      "linecolor": "white"
                    },
                    "colorscale": {
                      "diverging": [
                        [
                          0,
                          "#8e0152"
                        ],
                        [
                          0.1,
                          "#c51b7d"
                        ],
                        [
                          0.2,
                          "#de77ae"
                        ],
                        [
                          0.3,
                          "#f1b6da"
                        ],
                        [
                          0.4,
                          "#fde0ef"
                        ],
                        [
                          0.5,
                          "#f7f7f7"
                        ],
                        [
                          0.6,
                          "#e6f5d0"
                        ],
                        [
                          0.7,
                          "#b8e186"
                        ],
                        [
                          0.8,
                          "#7fbc41"
                        ],
                        [
                          0.9,
                          "#4d9221"
                        ],
                        [
                          1,
                          "#276419"
                        ]
                      ],
                      "sequential": [
                        [
                          0,
                          "#0d0887"
                        ],
                        [
                          0.1111111111111111,
                          "#46039f"
                        ],
                        [
                          0.2222222222222222,
                          "#7201a8"
                        ],
                        [
                          0.3333333333333333,
                          "#9c179e"
                        ],
                        [
                          0.4444444444444444,
                          "#bd3786"
                        ],
                        [
                          0.5555555555555556,
                          "#d8576b"
                        ],
                        [
                          0.6666666666666666,
                          "#ed7953"
                        ],
                        [
                          0.7777777777777778,
                          "#fb9f3a"
                        ],
                        [
                          0.8888888888888888,
                          "#fdca26"
                        ],
                        [
                          1,
                          "#f0f921"
                        ]
                      ],
                      "sequentialminus": [
                        [
                          0,
                          "#0d0887"
                        ],
                        [
                          0.1111111111111111,
                          "#46039f"
                        ],
                        [
                          0.2222222222222222,
                          "#7201a8"
                        ],
                        [
                          0.3333333333333333,
                          "#9c179e"
                        ],
                        [
                          0.4444444444444444,
                          "#bd3786"
                        ],
                        [
                          0.5555555555555556,
                          "#d8576b"
                        ],
                        [
                          0.6666666666666666,
                          "#ed7953"
                        ],
                        [
                          0.7777777777777778,
                          "#fb9f3a"
                        ],
                        [
                          0.8888888888888888,
                          "#fdca26"
                        ],
                        [
                          1,
                          "#f0f921"
                        ]
                      ]
                    },
                    "paper_bgcolor": "white",
                    "plot_bgcolor": "#E5ECF6",
                    "title": {
                      "x": 0.05
                    },
                    "scene": {
                      "zaxis": {
                        "backgroundcolor": "#E5ECF6",
                        "ticks": "",
                        "gridwidth": 2,
                        "showbackground": true,
                        "zerolinecolor": "white",
                        "gridcolor": "white",
                        "linecolor": "white"
                      },
                      "xaxis": {
                        "backgroundcolor": "#E5ECF6",
                        "ticks": "",
                        "gridwidth": 2,
                        "showbackground": true,
                        "zerolinecolor": "white",
                        "gridcolor": "white",
                        "linecolor": "white"
                      },
                      "yaxis": {
                        "backgroundcolor": "#E5ECF6",
                        "ticks": "",
                        "gridwidth": 2,
                        "showbackground": true,
                        "zerolinecolor": "white",
                        "gridcolor": "white",
                        "linecolor": "white"
                      }
                    },
                    "yaxis": {
                      "automargin": true,
                      "title": {
                        "standoff": 15
                      },
                      "zerolinewidth": 2,
                      "ticks": "",
                      "zerolinecolor": "white",
                      "gridcolor": "white",
                      "linecolor": "white"
                    },
                    "annotationdefaults": {
                      "arrowwidth": 1,
                      "arrowhead": 0,
                      "arrowcolor": "#2a3f5f"
                    },
                    "hoverlabel": {
                      "align": "left"
                    },
                    "ternary": {
                      "bgcolor": "#E5ECF6",
                      "baxis": {
                        "ticks": "",
                        "gridcolor": "white",
                        "linecolor": "white"
                      },
                      "caxis": {
                        "ticks": "",
                        "gridcolor": "white",
                        "linecolor": "white"
                      },
                      "aaxis": {
                        "ticks": "",
                        "gridcolor": "white",
                        "linecolor": "white"
                      }
                    },
                    "mapbox": {
                      "style": "light"
                    },
                    "hovermode": "closest",
                    "font": {
                      "color": "#2a3f5f"
                    },
                    "geo": {
                      "showland": true,
                      "landcolor": "#E5ECF6",
                      "showlakes": true,
                      "bgcolor": "white",
                      "subunitcolor": "white",
                      "lakecolor": "white"
                    },
                    "coloraxis": {
                      "colorbar": {
                        "outlinewidth": 0,
                        "ticks": ""
                      }
                    }
                  },
                  "data": {
                    "mesh3d": [
                      {
                        "colorbar": {
                          "outlinewidth": 0,
                          "ticks": ""
                        },
                        "type": "mesh3d"
                      }
                    ],
                    "scattercarpet": [
                      {
                        "marker": {
                          "colorbar": {
                            "outlinewidth": 0,
                            "ticks": ""
                          }
                        },
                        "type": "scattercarpet"
                      }
                    ],
                    "pie": [
                      {
                        "automargin": true,
                        "type": "pie"
                      }
                    ],
                    "surface": [
                      {
                        "colorbar": {
                          "outlinewidth": 0,
                          "ticks": ""
                        },
                        "type": "surface",
                        "colorscale": [
                          [
                            0,
                            "#0d0887"
                          ],
                          [
                            0.1111111111111111,
                            "#46039f"
                          ],
                          [
                            0.2222222222222222,
                            "#7201a8"
                          ],
                          [
                            0.3333333333333333,
                            "#9c179e"
                          ],
                          [
                            0.4444444444444444,
                            "#bd3786"
                          ],
                          [
                            0.5555555555555556,
                            "#d8576b"
                          ],
                          [
                            0.6666666666666666,
                            "#ed7953"
                          ],
                          [
                            0.7777777777777778,
                            "#fb9f3a"
                          ],
                          [
                            0.8888888888888888,
                            "#fdca26"
                          ],
                          [
                            1,
                            "#f0f921"
                          ]
                        ]
                      }
                    ],
                    "table": [
                      {
                        "header": {
                          "line": {
                            "color": "white"
                          },
                          "fill": {
                            "color": "#C8D4E3"
                          }
                        },
                        "cells": {
                          "line": {
                            "color": "white"
                          },
                          "fill": {
                            "color": "#EBF0F8"
                          }
                        },
                        "type": "table"
                      }
                    ],
                    "scatterpolargl": [
                      {
                        "marker": {
                          "colorbar": {
                            "outlinewidth": 0,
                            "ticks": ""
                          }
                        },
                        "type": "scatterpolargl"
                      }
                    ],
                    "contour": [
                      {
                        "colorbar": {
                          "outlinewidth": 0,
                          "ticks": ""
                        },
                        "type": "contour",
                        "colorscale": [
                          [
                            0,
                            "#0d0887"
                          ],
                          [
                            0.1111111111111111,
                            "#46039f"
                          ],
                          [
                            0.2222222222222222,
                            "#7201a8"
                          ],
                          [
                            0.3333333333333333,
                            "#9c179e"
                          ],
                          [
                            0.4444444444444444,
                            "#bd3786"
                          ],
                          [
                            0.5555555555555556,
                            "#d8576b"
                          ],
                          [
                            0.6666666666666666,
                            "#ed7953"
                          ],
                          [
                            0.7777777777777778,
                            "#fb9f3a"
                          ],
                          [
                            0.8888888888888888,
                            "#fdca26"
                          ],
                          [
                            1,
                            "#f0f921"
                          ]
                        ]
                      }
                    ],
                    "carpet": [
                      {
                        "type": "carpet",
                        "baxis": {
                          "minorgridcolor": "white",
                          "gridcolor": "white",
                          "linecolor": "white",
                          "endlinecolor": "#2a3f5f",
                          "startlinecolor": "#2a3f5f"
                        },
                        "aaxis": {
                          "minorgridcolor": "white",
                          "gridcolor": "white",
                          "linecolor": "white",
                          "endlinecolor": "#2a3f5f",
                          "startlinecolor": "#2a3f5f"
                        }
                      }
                    ],
                    "contourcarpet": [
                      {
                        "colorbar": {
                          "outlinewidth": 0,
                          "ticks": ""
                        },
                        "type": "contourcarpet"
                      }
                    ],
                    "heatmap": [
                      {
                        "colorbar": {
                          "outlinewidth": 0,
                          "ticks": ""
                        },
                        "type": "heatmap",
                        "colorscale": [
                          [
                            0,
                            "#0d0887"
                          ],
                          [
                            0.1111111111111111,
                            "#46039f"
                          ],
                          [
                            0.2222222222222222,
                            "#7201a8"
                          ],
                          [
                            0.3333333333333333,
                            "#9c179e"
                          ],
                          [
                            0.4444444444444444,
                            "#bd3786"
                          ],
                          [
                            0.5555555555555556,
                            "#d8576b"
                          ],
                          [
                            0.6666666666666666,
                            "#ed7953"
                          ],
                          [
                            0.7777777777777778,
                            "#fb9f3a"
                          ],
                          [
                            0.8888888888888888,
                            "#fdca26"
                          ],
                          [
                            1,
                            "#f0f921"
                          ]
                        ]
                      }
                    ],
                    "scattermapbox": [
                      {
                        "marker": {
                          "colorbar": {
                            "outlinewidth": 0,
                            "ticks": ""
                          }
                        },
                        "type": "scattermapbox"
                      }
                    ],
                    "scatter3d": [
                      {
                        "marker": {
                          "colorbar": {
                            "outlinewidth": 0,
                            "ticks": ""
                          }
                        },
                        "line": {
                          "colorbar": {
                            "outlinewidth": 0,
                            "ticks": ""
                          }
                        },
                        "type": "scatter3d"
                      }
                    ],
                    "scattergl": [
                      {
                        "marker": {
                          "colorbar": {
                            "outlinewidth": 0,
                            "ticks": ""
                          }
                        },
                        "type": "scattergl"
                      }
                    ],
                    "scatterternary": [
                      {
                        "marker": {
                          "colorbar": {
                            "outlinewidth": 0,
                            "ticks": ""
                          }
                        },
                        "type": "scatterternary"
                      }
                    ],
                    "histogram": [
                      {
                        "marker": {
                          "colorbar": {
                            "outlinewidth": 0,
                            "ticks": ""
                          }
                        },
                        "type": "histogram"
                      }
                    ],
                    "heatmapgl": [
                      {
                        "colorbar": {
                          "outlinewidth": 0,
                          "ticks": ""
                        },
                        "type": "heatmapgl",
                        "colorscale": [
                          [
                            0,
                            "#0d0887"
                          ],
                          [
                            0.1111111111111111,
                            "#46039f"
                          ],
                          [
                            0.2222222222222222,
                            "#7201a8"
                          ],
                          [
                            0.3333333333333333,
                            "#9c179e"
                          ],
                          [
                            0.4444444444444444,
                            "#bd3786"
                          ],
                          [
                            0.5555555555555556,
                            "#d8576b"
                          ],
                          [
                            0.6666666666666666,
                            "#ed7953"
                          ],
                          [
                            0.7777777777777778,
                            "#fb9f3a"
                          ],
                          [
                            0.8888888888888888,
                            "#fdca26"
                          ],
                          [
                            1,
                            "#f0f921"
                          ]
                        ]
                      }
                    ],
                    "scatterpolar": [
                      {
                        "marker": {
                          "colorbar": {
                            "outlinewidth": 0,
                            "ticks": ""
                          }
                        },
                        "type": "scatterpolar"
                      }
                    ],
                    "histogram2d": [
                      {
                        "colorbar": {
                          "outlinewidth": 0,
                          "ticks": ""
                        },
                        "type": "histogram2d",
                        "colorscale": [
                          [
                            0,
                            "#0d0887"
                          ],
                          [
                            0.1111111111111111,
                            "#46039f"
                          ],
                          [
                            0.2222222222222222,
                            "#7201a8"
                          ],
                          [
                            0.3333333333333333,
                            "#9c179e"
                          ],
                          [
                            0.4444444444444444,
                            "#bd3786"
                          ],
                          [
                            0.5555555555555556,
                            "#d8576b"
                          ],
                          [
                            0.6666666666666666,
                            "#ed7953"
                          ],
                          [
                            0.7777777777777778,
                            "#fb9f3a"
                          ],
                          [
                            0.8888888888888888,
                            "#fdca26"
                          ],
                          [
                            1,
                            "#f0f921"
                          ]
                        ]
                      }
                    ],
                    "scattergeo": [
                      {
                        "marker": {
                          "colorbar": {
                            "outlinewidth": 0,
                            "ticks": ""
                          }
                        },
                        "type": "scattergeo"
                      }
                    ],
                    "bar": [
                      {
                        "marker": {
                          "line": {
                            "color": "#E5ECF6",
                            "width": 0.5
                          }
                        },
                        "type": "bar",
                        "error_x": {
                          "color": "#2a3f5f"
                        },
                        "error_y": {
                          "color": "#2a3f5f"
                        }
                      }
                    ],
                    "choropleth": [
                      {
                        "colorbar": {
                          "outlinewidth": 0,
                          "ticks": ""
                        },
                        "type": "choropleth"
                      }
                    ],
                    "parcoords": [
                      {
                        "line": {
                          "colorbar": {
                            "outlinewidth": 0,
                            "ticks": ""
                          }
                        },
                        "type": "parcoords"
                      }
                    ],
                    "barpolar": [
                      {
                        "marker": {
                          "line": {
                            "color": "#E5ECF6",
                            "width": 0.5
                          }
                        },
                        "type": "barpolar"
                      }
                    ],
                    "histogram2dcontour": [
                      {
                        "colorbar": {
                          "outlinewidth": 0,
                          "ticks": ""
                        },
                        "type": "histogram2dcontour",
                        "colorscale": [
                          [
                            0,
                            "#0d0887"
                          ],
                          [
                            0.1111111111111111,
                            "#46039f"
                          ],
                          [
                            0.2222222222222222,
                            "#7201a8"
                          ],
                          [
                            0.3333333333333333,
                            "#9c179e"
                          ],
                          [
                            0.4444444444444444,
                            "#bd3786"
                          ],
                          [
                            0.5555555555555556,
                            "#d8576b"
                          ],
                          [
                            0.6666666666666666,
                            "#ed7953"
                          ],
                          [
                            0.7777777777777778,
                            "#fb9f3a"
                          ],
                          [
                            0.8888888888888888,
                            "#fdca26"
                          ],
                          [
                            1,
                            "#f0f921"
                          ]
                        ]
                      }
                    ],
                    "scatter": [
                      {
                        "marker": {
                          "colorbar": {
                            "outlinewidth": 0,
                            "ticks": ""
                          }
                        },
                        "type": "scatter"
                      }
                    ]
                  }
                },
                "title": {
                  "text": "Top 20 trigrams in review before removing stop words",
                  "font": {
                    "color": "#4D5663"
                  }
                },
                "paper_bgcolor": "#F5F6F9",
                "plot_bgcolor": "#F5F6F9",
                "yaxis": {
                  "tickfont": {
                    "color": "#4D5663"
                  },
                  "title": {
                    "text": "Count",
                    "font": {
                      "color": "#4D5663"
                    }
                  },
                  "showgrid": true,
                  "zerolinecolor": "#E1E5ED",
                  "gridcolor": "#E1E5ED",
                  "linecolor": "black"
                },
                "xaxis": {
                  "tickfont": {
                    "color": "#4D5663"
                  },
                  "title": {
                    "text": "",
                    "font": {
                      "color": "#4D5663"
                    }
                  },
                  "showgrid": true,
                  "zerolinecolor": "#E1E5ED",
                  "gridcolor": "#E1E5ED",
                  "linecolor": "black"
                },
                "legend": {
                  "bgcolor": "#F5F6F9",
                  "font": {
                    "color": "#4D5663"
                  }
                }
              }
            }
          },
          "metadata": {
            "tags": []
          }
        }
      ]
    },
    {
      "cell_type": "markdown",
      "metadata": {
        "id": "49-XOf3iDHMd"
      },
      "source": [
        "### Top trigrams after removing stop words"
      ]
    },
    {
      "cell_type": "code",
      "metadata": {
        "colab": {
          "base_uri": "https://localhost:8080/"
        },
        "id": "BR2Ev59ODHMd",
        "outputId": "64f20bc2-99c2-40da-a313-373c33a6e597"
      },
      "source": [
        "def get_top_n_trigram(corpus, n=None):\n",
        "    vec = CountVectorizer(ngram_range=(3, 3), stop_words='english').fit(corpus)\n",
        "    bag_of_words = vec.transform(corpus)\n",
        "    sum_words = bag_of_words.sum(axis=0) \n",
        "    words_freq = [(word, sum_words[0, idx]) for word, idx in vec.vocabulary_.items()]\n",
        "    words_freq =sorted(words_freq, key = lambda x: x[1], reverse=True)\n",
        "    return words_freq[:n]\n",
        "common_words = get_top_n_trigram(df['Review Text'], 20)\n",
        "for word, freq in common_words:\n",
        "    print(word, freq)\n",
        "df6 = pd.DataFrame(common_words, columns = ['ReviewText' , 'count'])"
      ],
      "execution_count": null,
      "outputs": [
        {
          "output_type": "stream",
          "text": [
            "user user user 165\n",
            "watch amazing live 27\n",
            "amazing live ly 27\n",
            "live ly broadcast 27\n",
            "ly broadcast user 27\n",
            "broadcast user musically 15\n",
            "broadcast user lively 12\n",
            "user lively musically 12\n",
            "user user don 8\n",
            "hell hath fury 6\n",
            "man did know 5\n",
            "did know juggle 5\n",
            "know juggle just 5\n",
            "juggle just didn 5\n",
            "just didn balls 5\n",
            "didn balls funny 5\n",
            "balls funny pun 5\n",
            "hath fury like 5\n",
            "user user wow 4\n",
            "user don think 4\n"
          ],
          "name": "stdout"
        }
      ]
    },
    {
      "cell_type": "code",
      "metadata": {
        "colab": {
          "base_uri": "https://localhost:8080/"
        },
        "id": "xtD8neZxDHMd",
        "outputId": "a50499b7-50cb-4624-e766-f18fb8ffb7b6"
      },
      "source": [
        "df6.groupby('ReviewText').sum()['count'].sort_values(ascending=False).iplot(\n",
        "    kind='bar', yTitle='Count', linecolor='black', title='Top 20 trigrams in review after removing stop words')"
      ],
      "execution_count": null,
      "outputs": [
        {
          "output_type": "display_data",
          "data": {
            "text/html": [
              "<div>\n",
              "        \n",
              "        \n",
              "            <div id=\"43f7ab18-29f3-4149-b8ef-495eaac262b4\" class=\"plotly-graph-div\" style=\"height:525px; width:100%;\"></div>\n",
              "            <script type=\"text/javascript\">\n",
              "                require([\"plotly\"], function(Plotly) {\n",
              "                    window.PLOTLYENV=window.PLOTLYENV || {};\n",
              "                    window.PLOTLYENV.BASE_URL='https://plot.ly';\n",
              "                    \n",
              "                if (document.getElementById(\"43f7ab18-29f3-4149-b8ef-495eaac262b4\")) {\n",
              "                    Plotly.newPlot(\n",
              "                        '43f7ab18-29f3-4149-b8ef-495eaac262b4',\n",
              "                        [{\"marker\": {\"color\": \"rgba(255, 153, 51, 0.6)\", \"line\": {\"color\": \"rgba(255, 153, 51, 1.0)\", \"width\": 1}}, \"name\": \"count\", \"orientation\": \"v\", \"text\": \"\", \"type\": \"bar\", \"x\": [\"user user user\", \"watch amazing live\", \"ly broadcast user\", \"live ly broadcast\", \"amazing live ly\", \"broadcast user musically\", \"user lively musically\", \"broadcast user lively\", \"user user don\", \"hell hath fury\", \"man did know\", \"know juggle just\", \"juggle just didn\", \"hath fury like\", \"didn balls funny\", \"did know juggle\", \"balls funny pun\", \"just didn balls\", \"user don think\", \"user user wow\"], \"y\": [165, 27, 27, 27, 27, 15, 12, 12, 8, 6, 5, 5, 5, 5, 5, 5, 5, 5, 4, 4]}],\n",
              "                        {\"legend\": {\"bgcolor\": \"#F5F6F9\", \"font\": {\"color\": \"#4D5663\"}}, \"paper_bgcolor\": \"#F5F6F9\", \"plot_bgcolor\": \"#F5F6F9\", \"template\": {\"data\": {\"bar\": [{\"error_x\": {\"color\": \"#2a3f5f\"}, \"error_y\": {\"color\": \"#2a3f5f\"}, \"marker\": {\"line\": {\"color\": \"#E5ECF6\", \"width\": 0.5}}, \"type\": \"bar\"}], \"barpolar\": [{\"marker\": {\"line\": {\"color\": \"#E5ECF6\", \"width\": 0.5}}, \"type\": \"barpolar\"}], \"carpet\": [{\"aaxis\": {\"endlinecolor\": \"#2a3f5f\", \"gridcolor\": \"white\", \"linecolor\": \"white\", \"minorgridcolor\": \"white\", \"startlinecolor\": \"#2a3f5f\"}, \"baxis\": {\"endlinecolor\": \"#2a3f5f\", \"gridcolor\": \"white\", \"linecolor\": \"white\", \"minorgridcolor\": \"white\", \"startlinecolor\": \"#2a3f5f\"}, \"type\": \"carpet\"}], \"choropleth\": [{\"colorbar\": {\"outlinewidth\": 0, \"ticks\": \"\"}, \"type\": \"choropleth\"}], \"contour\": [{\"colorbar\": {\"outlinewidth\": 0, \"ticks\": \"\"}, \"colorscale\": [[0.0, \"#0d0887\"], [0.1111111111111111, \"#46039f\"], [0.2222222222222222, \"#7201a8\"], [0.3333333333333333, \"#9c179e\"], [0.4444444444444444, \"#bd3786\"], [0.5555555555555556, \"#d8576b\"], [0.6666666666666666, \"#ed7953\"], [0.7777777777777778, \"#fb9f3a\"], [0.8888888888888888, \"#fdca26\"], [1.0, \"#f0f921\"]], \"type\": \"contour\"}], \"contourcarpet\": [{\"colorbar\": {\"outlinewidth\": 0, \"ticks\": \"\"}, \"type\": \"contourcarpet\"}], \"heatmap\": [{\"colorbar\": {\"outlinewidth\": 0, \"ticks\": \"\"}, \"colorscale\": [[0.0, \"#0d0887\"], [0.1111111111111111, \"#46039f\"], [0.2222222222222222, \"#7201a8\"], [0.3333333333333333, \"#9c179e\"], [0.4444444444444444, \"#bd3786\"], [0.5555555555555556, \"#d8576b\"], [0.6666666666666666, \"#ed7953\"], [0.7777777777777778, \"#fb9f3a\"], [0.8888888888888888, \"#fdca26\"], [1.0, \"#f0f921\"]], \"type\": \"heatmap\"}], \"heatmapgl\": [{\"colorbar\": {\"outlinewidth\": 0, \"ticks\": \"\"}, \"colorscale\": [[0.0, \"#0d0887\"], [0.1111111111111111, \"#46039f\"], [0.2222222222222222, \"#7201a8\"], [0.3333333333333333, \"#9c179e\"], [0.4444444444444444, \"#bd3786\"], [0.5555555555555556, \"#d8576b\"], [0.6666666666666666, \"#ed7953\"], [0.7777777777777778, \"#fb9f3a\"], [0.8888888888888888, \"#fdca26\"], [1.0, \"#f0f921\"]], \"type\": \"heatmapgl\"}], \"histogram\": [{\"marker\": {\"colorbar\": {\"outlinewidth\": 0, \"ticks\": \"\"}}, \"type\": \"histogram\"}], \"histogram2d\": [{\"colorbar\": {\"outlinewidth\": 0, \"ticks\": \"\"}, \"colorscale\": [[0.0, \"#0d0887\"], [0.1111111111111111, \"#46039f\"], [0.2222222222222222, \"#7201a8\"], [0.3333333333333333, \"#9c179e\"], [0.4444444444444444, \"#bd3786\"], [0.5555555555555556, \"#d8576b\"], [0.6666666666666666, \"#ed7953\"], [0.7777777777777778, \"#fb9f3a\"], [0.8888888888888888, \"#fdca26\"], [1.0, \"#f0f921\"]], \"type\": \"histogram2d\"}], \"histogram2dcontour\": [{\"colorbar\": {\"outlinewidth\": 0, \"ticks\": \"\"}, \"colorscale\": [[0.0, \"#0d0887\"], [0.1111111111111111, \"#46039f\"], [0.2222222222222222, \"#7201a8\"], [0.3333333333333333, \"#9c179e\"], [0.4444444444444444, \"#bd3786\"], [0.5555555555555556, \"#d8576b\"], [0.6666666666666666, \"#ed7953\"], [0.7777777777777778, \"#fb9f3a\"], [0.8888888888888888, \"#fdca26\"], [1.0, \"#f0f921\"]], \"type\": \"histogram2dcontour\"}], \"mesh3d\": [{\"colorbar\": {\"outlinewidth\": 0, \"ticks\": \"\"}, \"type\": \"mesh3d\"}], \"parcoords\": [{\"line\": {\"colorbar\": {\"outlinewidth\": 0, \"ticks\": \"\"}}, \"type\": \"parcoords\"}], \"pie\": [{\"automargin\": true, \"type\": \"pie\"}], \"scatter\": [{\"marker\": {\"colorbar\": {\"outlinewidth\": 0, \"ticks\": \"\"}}, \"type\": \"scatter\"}], \"scatter3d\": [{\"line\": {\"colorbar\": {\"outlinewidth\": 0, \"ticks\": \"\"}}, \"marker\": {\"colorbar\": {\"outlinewidth\": 0, \"ticks\": \"\"}}, \"type\": \"scatter3d\"}], \"scattercarpet\": [{\"marker\": {\"colorbar\": {\"outlinewidth\": 0, \"ticks\": \"\"}}, \"type\": \"scattercarpet\"}], \"scattergeo\": [{\"marker\": {\"colorbar\": {\"outlinewidth\": 0, \"ticks\": \"\"}}, \"type\": \"scattergeo\"}], \"scattergl\": [{\"marker\": {\"colorbar\": {\"outlinewidth\": 0, \"ticks\": \"\"}}, \"type\": \"scattergl\"}], \"scattermapbox\": [{\"marker\": {\"colorbar\": {\"outlinewidth\": 0, \"ticks\": \"\"}}, \"type\": \"scattermapbox\"}], \"scatterpolar\": [{\"marker\": {\"colorbar\": {\"outlinewidth\": 0, \"ticks\": \"\"}}, \"type\": \"scatterpolar\"}], \"scatterpolargl\": [{\"marker\": {\"colorbar\": {\"outlinewidth\": 0, \"ticks\": \"\"}}, \"type\": \"scatterpolargl\"}], \"scatterternary\": [{\"marker\": {\"colorbar\": {\"outlinewidth\": 0, \"ticks\": \"\"}}, \"type\": \"scatterternary\"}], \"surface\": [{\"colorbar\": {\"outlinewidth\": 0, \"ticks\": \"\"}, \"colorscale\": [[0.0, \"#0d0887\"], [0.1111111111111111, \"#46039f\"], [0.2222222222222222, \"#7201a8\"], [0.3333333333333333, \"#9c179e\"], [0.4444444444444444, \"#bd3786\"], [0.5555555555555556, \"#d8576b\"], [0.6666666666666666, \"#ed7953\"], [0.7777777777777778, \"#fb9f3a\"], [0.8888888888888888, \"#fdca26\"], [1.0, \"#f0f921\"]], \"type\": \"surface\"}], \"table\": [{\"cells\": {\"fill\": {\"color\": \"#EBF0F8\"}, \"line\": {\"color\": \"white\"}}, \"header\": {\"fill\": {\"color\": \"#C8D4E3\"}, \"line\": {\"color\": \"white\"}}, \"type\": \"table\"}]}, \"layout\": {\"annotationdefaults\": {\"arrowcolor\": \"#2a3f5f\", \"arrowhead\": 0, \"arrowwidth\": 1}, \"coloraxis\": {\"colorbar\": {\"outlinewidth\": 0, \"ticks\": \"\"}}, \"colorscale\": {\"diverging\": [[0, \"#8e0152\"], [0.1, \"#c51b7d\"], [0.2, \"#de77ae\"], [0.3, \"#f1b6da\"], [0.4, \"#fde0ef\"], [0.5, \"#f7f7f7\"], [0.6, \"#e6f5d0\"], [0.7, \"#b8e186\"], [0.8, \"#7fbc41\"], [0.9, \"#4d9221\"], [1, \"#276419\"]], \"sequential\": [[0.0, \"#0d0887\"], [0.1111111111111111, \"#46039f\"], [0.2222222222222222, \"#7201a8\"], [0.3333333333333333, \"#9c179e\"], [0.4444444444444444, \"#bd3786\"], [0.5555555555555556, \"#d8576b\"], [0.6666666666666666, \"#ed7953\"], [0.7777777777777778, \"#fb9f3a\"], [0.8888888888888888, \"#fdca26\"], [1.0, \"#f0f921\"]], \"sequentialminus\": [[0.0, \"#0d0887\"], [0.1111111111111111, \"#46039f\"], [0.2222222222222222, \"#7201a8\"], [0.3333333333333333, \"#9c179e\"], [0.4444444444444444, \"#bd3786\"], [0.5555555555555556, \"#d8576b\"], [0.6666666666666666, \"#ed7953\"], [0.7777777777777778, \"#fb9f3a\"], [0.8888888888888888, \"#fdca26\"], [1.0, \"#f0f921\"]]}, \"colorway\": [\"#636efa\", \"#EF553B\", \"#00cc96\", \"#ab63fa\", \"#FFA15A\", \"#19d3f3\", \"#FF6692\", \"#B6E880\", \"#FF97FF\", \"#FECB52\"], \"font\": {\"color\": \"#2a3f5f\"}, \"geo\": {\"bgcolor\": \"white\", \"lakecolor\": \"white\", \"landcolor\": \"#E5ECF6\", \"showlakes\": true, \"showland\": true, \"subunitcolor\": \"white\"}, \"hoverlabel\": {\"align\": \"left\"}, \"hovermode\": \"closest\", \"mapbox\": {\"style\": \"light\"}, \"paper_bgcolor\": \"white\", \"plot_bgcolor\": \"#E5ECF6\", \"polar\": {\"angularaxis\": {\"gridcolor\": \"white\", \"linecolor\": \"white\", \"ticks\": \"\"}, \"bgcolor\": \"#E5ECF6\", \"radialaxis\": {\"gridcolor\": \"white\", \"linecolor\": \"white\", \"ticks\": \"\"}}, \"scene\": {\"xaxis\": {\"backgroundcolor\": \"#E5ECF6\", \"gridcolor\": \"white\", \"gridwidth\": 2, \"linecolor\": \"white\", \"showbackground\": true, \"ticks\": \"\", \"zerolinecolor\": \"white\"}, \"yaxis\": {\"backgroundcolor\": \"#E5ECF6\", \"gridcolor\": \"white\", \"gridwidth\": 2, \"linecolor\": \"white\", \"showbackground\": true, \"ticks\": \"\", \"zerolinecolor\": \"white\"}, \"zaxis\": {\"backgroundcolor\": \"#E5ECF6\", \"gridcolor\": \"white\", \"gridwidth\": 2, \"linecolor\": \"white\", \"showbackground\": true, \"ticks\": \"\", \"zerolinecolor\": \"white\"}}, \"shapedefaults\": {\"line\": {\"color\": \"#2a3f5f\"}}, \"ternary\": {\"aaxis\": {\"gridcolor\": \"white\", \"linecolor\": \"white\", \"ticks\": \"\"}, \"baxis\": {\"gridcolor\": \"white\", \"linecolor\": \"white\", \"ticks\": \"\"}, \"bgcolor\": \"#E5ECF6\", \"caxis\": {\"gridcolor\": \"white\", \"linecolor\": \"white\", \"ticks\": \"\"}}, \"title\": {\"x\": 0.05}, \"xaxis\": {\"automargin\": true, \"gridcolor\": \"white\", \"linecolor\": \"white\", \"ticks\": \"\", \"title\": {\"standoff\": 15}, \"zerolinecolor\": \"white\", \"zerolinewidth\": 2}, \"yaxis\": {\"automargin\": true, \"gridcolor\": \"white\", \"linecolor\": \"white\", \"ticks\": \"\", \"title\": {\"standoff\": 15}, \"zerolinecolor\": \"white\", \"zerolinewidth\": 2}}}, \"title\": {\"font\": {\"color\": \"#4D5663\"}, \"text\": \"Top 20 trigrams in review after removing stop words\"}, \"xaxis\": {\"gridcolor\": \"#E1E5ED\", \"linecolor\": \"black\", \"showgrid\": true, \"tickfont\": {\"color\": \"#4D5663\"}, \"title\": {\"font\": {\"color\": \"#4D5663\"}, \"text\": \"\"}, \"zerolinecolor\": \"#E1E5ED\"}, \"yaxis\": {\"gridcolor\": \"#E1E5ED\", \"linecolor\": \"black\", \"showgrid\": true, \"tickfont\": {\"color\": \"#4D5663\"}, \"title\": {\"font\": {\"color\": \"#4D5663\"}, \"text\": \"Count\"}, \"zerolinecolor\": \"#E1E5ED\"}},\n",
              "                        {\"showLink\": true, \"linkText\": \"Export to plot.ly\", \"plotlyServerURL\": \"https://plot.ly\", \"responsive\": true}\n",
              "                    ).then(function(){\n",
              "                            \n",
              "var gd = document.getElementById('43f7ab18-29f3-4149-b8ef-495eaac262b4');\n",
              "var x = new MutationObserver(function (mutations, observer) {{\n",
              "        var display = window.getComputedStyle(gd).display;\n",
              "        if (!display || display === 'none') {{\n",
              "            console.log([gd, 'removed!']);\n",
              "            Plotly.purge(gd);\n",
              "            observer.disconnect();\n",
              "        }}\n",
              "}});\n",
              "\n",
              "// Listen for the removal of the full notebook cells\n",
              "var notebookContainer = gd.closest('#notebook-container');\n",
              "if (notebookContainer) {{\n",
              "    x.observe(notebookContainer, {childList: true});\n",
              "}}\n",
              "\n",
              "// Listen for the clearing of the current output cell\n",
              "var outputEl = gd.closest('.output');\n",
              "if (outputEl) {{\n",
              "    x.observe(outputEl, {childList: true});\n",
              "}}\n",
              "\n",
              "                        })\n",
              "                };\n",
              "                });\n",
              "            </script>\n",
              "        </div>"
            ],
            "application/vnd.plotly.v1+json": {
              "data": [
                {
                  "name": "count",
                  "text": "",
                  "y": [
                    165,
                    27,
                    27,
                    27,
                    27,
                    15,
                    12,
                    12,
                    8,
                    6,
                    5,
                    5,
                    5,
                    5,
                    5,
                    5,
                    5,
                    5,
                    4,
                    4
                  ],
                  "marker": {
                    "color": "rgba(255, 153, 51, 0.6)",
                    "line": {
                      "color": "rgba(255, 153, 51, 1.0)",
                      "width": 1
                    }
                  },
                  "x": [
                    "user user user",
                    "watch amazing live",
                    "ly broadcast user",
                    "live ly broadcast",
                    "amazing live ly",
                    "broadcast user musically",
                    "user lively musically",
                    "broadcast user lively",
                    "user user don",
                    "hell hath fury",
                    "man did know",
                    "know juggle just",
                    "juggle just didn",
                    "hath fury like",
                    "didn balls funny",
                    "did know juggle",
                    "balls funny pun",
                    "just didn balls",
                    "user don think",
                    "user user wow"
                  ],
                  "type": "bar",
                  "orientation": "v"
                }
              ],
              "config": {
                "plotlyServerURL": "https://plot.ly",
                "linkText": "Export to plot.ly",
                "showLink": true
              },
              "layout": {
                "template": {
                  "layout": {
                    "shapedefaults": {
                      "line": {
                        "color": "#2a3f5f"
                      }
                    },
                    "polar": {
                      "radialaxis": {
                        "ticks": "",
                        "gridcolor": "white",
                        "linecolor": "white"
                      },
                      "bgcolor": "#E5ECF6",
                      "angularaxis": {
                        "ticks": "",
                        "gridcolor": "white",
                        "linecolor": "white"
                      }
                    },
                    "colorway": [
                      "#636efa",
                      "#EF553B",
                      "#00cc96",
                      "#ab63fa",
                      "#FFA15A",
                      "#19d3f3",
                      "#FF6692",
                      "#B6E880",
                      "#FF97FF",
                      "#FECB52"
                    ],
                    "xaxis": {
                      "automargin": true,
                      "title": {
                        "standoff": 15
                      },
                      "zerolinewidth": 2,
                      "ticks": "",
                      "zerolinecolor": "white",
                      "gridcolor": "white",
                      "linecolor": "white"
                    },
                    "colorscale": {
                      "diverging": [
                        [
                          0,
                          "#8e0152"
                        ],
                        [
                          0.1,
                          "#c51b7d"
                        ],
                        [
                          0.2,
                          "#de77ae"
                        ],
                        [
                          0.3,
                          "#f1b6da"
                        ],
                        [
                          0.4,
                          "#fde0ef"
                        ],
                        [
                          0.5,
                          "#f7f7f7"
                        ],
                        [
                          0.6,
                          "#e6f5d0"
                        ],
                        [
                          0.7,
                          "#b8e186"
                        ],
                        [
                          0.8,
                          "#7fbc41"
                        ],
                        [
                          0.9,
                          "#4d9221"
                        ],
                        [
                          1,
                          "#276419"
                        ]
                      ],
                      "sequential": [
                        [
                          0,
                          "#0d0887"
                        ],
                        [
                          0.1111111111111111,
                          "#46039f"
                        ],
                        [
                          0.2222222222222222,
                          "#7201a8"
                        ],
                        [
                          0.3333333333333333,
                          "#9c179e"
                        ],
                        [
                          0.4444444444444444,
                          "#bd3786"
                        ],
                        [
                          0.5555555555555556,
                          "#d8576b"
                        ],
                        [
                          0.6666666666666666,
                          "#ed7953"
                        ],
                        [
                          0.7777777777777778,
                          "#fb9f3a"
                        ],
                        [
                          0.8888888888888888,
                          "#fdca26"
                        ],
                        [
                          1,
                          "#f0f921"
                        ]
                      ],
                      "sequentialminus": [
                        [
                          0,
                          "#0d0887"
                        ],
                        [
                          0.1111111111111111,
                          "#46039f"
                        ],
                        [
                          0.2222222222222222,
                          "#7201a8"
                        ],
                        [
                          0.3333333333333333,
                          "#9c179e"
                        ],
                        [
                          0.4444444444444444,
                          "#bd3786"
                        ],
                        [
                          0.5555555555555556,
                          "#d8576b"
                        ],
                        [
                          0.6666666666666666,
                          "#ed7953"
                        ],
                        [
                          0.7777777777777778,
                          "#fb9f3a"
                        ],
                        [
                          0.8888888888888888,
                          "#fdca26"
                        ],
                        [
                          1,
                          "#f0f921"
                        ]
                      ]
                    },
                    "paper_bgcolor": "white",
                    "plot_bgcolor": "#E5ECF6",
                    "title": {
                      "x": 0.05
                    },
                    "scene": {
                      "zaxis": {
                        "backgroundcolor": "#E5ECF6",
                        "ticks": "",
                        "gridwidth": 2,
                        "showbackground": true,
                        "zerolinecolor": "white",
                        "gridcolor": "white",
                        "linecolor": "white"
                      },
                      "xaxis": {
                        "backgroundcolor": "#E5ECF6",
                        "ticks": "",
                        "gridwidth": 2,
                        "showbackground": true,
                        "zerolinecolor": "white",
                        "gridcolor": "white",
                        "linecolor": "white"
                      },
                      "yaxis": {
                        "backgroundcolor": "#E5ECF6",
                        "ticks": "",
                        "gridwidth": 2,
                        "showbackground": true,
                        "zerolinecolor": "white",
                        "gridcolor": "white",
                        "linecolor": "white"
                      }
                    },
                    "yaxis": {
                      "automargin": true,
                      "title": {
                        "standoff": 15
                      },
                      "zerolinewidth": 2,
                      "ticks": "",
                      "zerolinecolor": "white",
                      "gridcolor": "white",
                      "linecolor": "white"
                    },
                    "annotationdefaults": {
                      "arrowwidth": 1,
                      "arrowhead": 0,
                      "arrowcolor": "#2a3f5f"
                    },
                    "hoverlabel": {
                      "align": "left"
                    },
                    "ternary": {
                      "bgcolor": "#E5ECF6",
                      "baxis": {
                        "ticks": "",
                        "gridcolor": "white",
                        "linecolor": "white"
                      },
                      "caxis": {
                        "ticks": "",
                        "gridcolor": "white",
                        "linecolor": "white"
                      },
                      "aaxis": {
                        "ticks": "",
                        "gridcolor": "white",
                        "linecolor": "white"
                      }
                    },
                    "mapbox": {
                      "style": "light"
                    },
                    "hovermode": "closest",
                    "font": {
                      "color": "#2a3f5f"
                    },
                    "geo": {
                      "showland": true,
                      "landcolor": "#E5ECF6",
                      "showlakes": true,
                      "bgcolor": "white",
                      "subunitcolor": "white",
                      "lakecolor": "white"
                    },
                    "coloraxis": {
                      "colorbar": {
                        "outlinewidth": 0,
                        "ticks": ""
                      }
                    }
                  },
                  "data": {
                    "mesh3d": [
                      {
                        "colorbar": {
                          "outlinewidth": 0,
                          "ticks": ""
                        },
                        "type": "mesh3d"
                      }
                    ],
                    "scattercarpet": [
                      {
                        "marker": {
                          "colorbar": {
                            "outlinewidth": 0,
                            "ticks": ""
                          }
                        },
                        "type": "scattercarpet"
                      }
                    ],
                    "pie": [
                      {
                        "automargin": true,
                        "type": "pie"
                      }
                    ],
                    "surface": [
                      {
                        "colorbar": {
                          "outlinewidth": 0,
                          "ticks": ""
                        },
                        "type": "surface",
                        "colorscale": [
                          [
                            0,
                            "#0d0887"
                          ],
                          [
                            0.1111111111111111,
                            "#46039f"
                          ],
                          [
                            0.2222222222222222,
                            "#7201a8"
                          ],
                          [
                            0.3333333333333333,
                            "#9c179e"
                          ],
                          [
                            0.4444444444444444,
                            "#bd3786"
                          ],
                          [
                            0.5555555555555556,
                            "#d8576b"
                          ],
                          [
                            0.6666666666666666,
                            "#ed7953"
                          ],
                          [
                            0.7777777777777778,
                            "#fb9f3a"
                          ],
                          [
                            0.8888888888888888,
                            "#fdca26"
                          ],
                          [
                            1,
                            "#f0f921"
                          ]
                        ]
                      }
                    ],
                    "table": [
                      {
                        "header": {
                          "line": {
                            "color": "white"
                          },
                          "fill": {
                            "color": "#C8D4E3"
                          }
                        },
                        "cells": {
                          "line": {
                            "color": "white"
                          },
                          "fill": {
                            "color": "#EBF0F8"
                          }
                        },
                        "type": "table"
                      }
                    ],
                    "scatterpolargl": [
                      {
                        "marker": {
                          "colorbar": {
                            "outlinewidth": 0,
                            "ticks": ""
                          }
                        },
                        "type": "scatterpolargl"
                      }
                    ],
                    "contour": [
                      {
                        "colorbar": {
                          "outlinewidth": 0,
                          "ticks": ""
                        },
                        "type": "contour",
                        "colorscale": [
                          [
                            0,
                            "#0d0887"
                          ],
                          [
                            0.1111111111111111,
                            "#46039f"
                          ],
                          [
                            0.2222222222222222,
                            "#7201a8"
                          ],
                          [
                            0.3333333333333333,
                            "#9c179e"
                          ],
                          [
                            0.4444444444444444,
                            "#bd3786"
                          ],
                          [
                            0.5555555555555556,
                            "#d8576b"
                          ],
                          [
                            0.6666666666666666,
                            "#ed7953"
                          ],
                          [
                            0.7777777777777778,
                            "#fb9f3a"
                          ],
                          [
                            0.8888888888888888,
                            "#fdca26"
                          ],
                          [
                            1,
                            "#f0f921"
                          ]
                        ]
                      }
                    ],
                    "carpet": [
                      {
                        "type": "carpet",
                        "baxis": {
                          "minorgridcolor": "white",
                          "gridcolor": "white",
                          "linecolor": "white",
                          "endlinecolor": "#2a3f5f",
                          "startlinecolor": "#2a3f5f"
                        },
                        "aaxis": {
                          "minorgridcolor": "white",
                          "gridcolor": "white",
                          "linecolor": "white",
                          "endlinecolor": "#2a3f5f",
                          "startlinecolor": "#2a3f5f"
                        }
                      }
                    ],
                    "contourcarpet": [
                      {
                        "colorbar": {
                          "outlinewidth": 0,
                          "ticks": ""
                        },
                        "type": "contourcarpet"
                      }
                    ],
                    "heatmap": [
                      {
                        "colorbar": {
                          "outlinewidth": 0,
                          "ticks": ""
                        },
                        "type": "heatmap",
                        "colorscale": [
                          [
                            0,
                            "#0d0887"
                          ],
                          [
                            0.1111111111111111,
                            "#46039f"
                          ],
                          [
                            0.2222222222222222,
                            "#7201a8"
                          ],
                          [
                            0.3333333333333333,
                            "#9c179e"
                          ],
                          [
                            0.4444444444444444,
                            "#bd3786"
                          ],
                          [
                            0.5555555555555556,
                            "#d8576b"
                          ],
                          [
                            0.6666666666666666,
                            "#ed7953"
                          ],
                          [
                            0.7777777777777778,
                            "#fb9f3a"
                          ],
                          [
                            0.8888888888888888,
                            "#fdca26"
                          ],
                          [
                            1,
                            "#f0f921"
                          ]
                        ]
                      }
                    ],
                    "scattermapbox": [
                      {
                        "marker": {
                          "colorbar": {
                            "outlinewidth": 0,
                            "ticks": ""
                          }
                        },
                        "type": "scattermapbox"
                      }
                    ],
                    "scatter3d": [
                      {
                        "marker": {
                          "colorbar": {
                            "outlinewidth": 0,
                            "ticks": ""
                          }
                        },
                        "line": {
                          "colorbar": {
                            "outlinewidth": 0,
                            "ticks": ""
                          }
                        },
                        "type": "scatter3d"
                      }
                    ],
                    "scattergl": [
                      {
                        "marker": {
                          "colorbar": {
                            "outlinewidth": 0,
                            "ticks": ""
                          }
                        },
                        "type": "scattergl"
                      }
                    ],
                    "scatterternary": [
                      {
                        "marker": {
                          "colorbar": {
                            "outlinewidth": 0,
                            "ticks": ""
                          }
                        },
                        "type": "scatterternary"
                      }
                    ],
                    "histogram": [
                      {
                        "marker": {
                          "colorbar": {
                            "outlinewidth": 0,
                            "ticks": ""
                          }
                        },
                        "type": "histogram"
                      }
                    ],
                    "heatmapgl": [
                      {
                        "colorbar": {
                          "outlinewidth": 0,
                          "ticks": ""
                        },
                        "type": "heatmapgl",
                        "colorscale": [
                          [
                            0,
                            "#0d0887"
                          ],
                          [
                            0.1111111111111111,
                            "#46039f"
                          ],
                          [
                            0.2222222222222222,
                            "#7201a8"
                          ],
                          [
                            0.3333333333333333,
                            "#9c179e"
                          ],
                          [
                            0.4444444444444444,
                            "#bd3786"
                          ],
                          [
                            0.5555555555555556,
                            "#d8576b"
                          ],
                          [
                            0.6666666666666666,
                            "#ed7953"
                          ],
                          [
                            0.7777777777777778,
                            "#fb9f3a"
                          ],
                          [
                            0.8888888888888888,
                            "#fdca26"
                          ],
                          [
                            1,
                            "#f0f921"
                          ]
                        ]
                      }
                    ],
                    "scatterpolar": [
                      {
                        "marker": {
                          "colorbar": {
                            "outlinewidth": 0,
                            "ticks": ""
                          }
                        },
                        "type": "scatterpolar"
                      }
                    ],
                    "histogram2d": [
                      {
                        "colorbar": {
                          "outlinewidth": 0,
                          "ticks": ""
                        },
                        "type": "histogram2d",
                        "colorscale": [
                          [
                            0,
                            "#0d0887"
                          ],
                          [
                            0.1111111111111111,
                            "#46039f"
                          ],
                          [
                            0.2222222222222222,
                            "#7201a8"
                          ],
                          [
                            0.3333333333333333,
                            "#9c179e"
                          ],
                          [
                            0.4444444444444444,
                            "#bd3786"
                          ],
                          [
                            0.5555555555555556,
                            "#d8576b"
                          ],
                          [
                            0.6666666666666666,
                            "#ed7953"
                          ],
                          [
                            0.7777777777777778,
                            "#fb9f3a"
                          ],
                          [
                            0.8888888888888888,
                            "#fdca26"
                          ],
                          [
                            1,
                            "#f0f921"
                          ]
                        ]
                      }
                    ],
                    "scattergeo": [
                      {
                        "marker": {
                          "colorbar": {
                            "outlinewidth": 0,
                            "ticks": ""
                          }
                        },
                        "type": "scattergeo"
                      }
                    ],
                    "bar": [
                      {
                        "marker": {
                          "line": {
                            "color": "#E5ECF6",
                            "width": 0.5
                          }
                        },
                        "type": "bar",
                        "error_x": {
                          "color": "#2a3f5f"
                        },
                        "error_y": {
                          "color": "#2a3f5f"
                        }
                      }
                    ],
                    "choropleth": [
                      {
                        "colorbar": {
                          "outlinewidth": 0,
                          "ticks": ""
                        },
                        "type": "choropleth"
                      }
                    ],
                    "parcoords": [
                      {
                        "line": {
                          "colorbar": {
                            "outlinewidth": 0,
                            "ticks": ""
                          }
                        },
                        "type": "parcoords"
                      }
                    ],
                    "barpolar": [
                      {
                        "marker": {
                          "line": {
                            "color": "#E5ECF6",
                            "width": 0.5
                          }
                        },
                        "type": "barpolar"
                      }
                    ],
                    "histogram2dcontour": [
                      {
                        "colorbar": {
                          "outlinewidth": 0,
                          "ticks": ""
                        },
                        "type": "histogram2dcontour",
                        "colorscale": [
                          [
                            0,
                            "#0d0887"
                          ],
                          [
                            0.1111111111111111,
                            "#46039f"
                          ],
                          [
                            0.2222222222222222,
                            "#7201a8"
                          ],
                          [
                            0.3333333333333333,
                            "#9c179e"
                          ],
                          [
                            0.4444444444444444,
                            "#bd3786"
                          ],
                          [
                            0.5555555555555556,
                            "#d8576b"
                          ],
                          [
                            0.6666666666666666,
                            "#ed7953"
                          ],
                          [
                            0.7777777777777778,
                            "#fb9f3a"
                          ],
                          [
                            0.8888888888888888,
                            "#fdca26"
                          ],
                          [
                            1,
                            "#f0f921"
                          ]
                        ]
                      }
                    ],
                    "scatter": [
                      {
                        "marker": {
                          "colorbar": {
                            "outlinewidth": 0,
                            "ticks": ""
                          }
                        },
                        "type": "scatter"
                      }
                    ]
                  }
                },
                "title": {
                  "text": "Top 20 trigrams in review after removing stop words",
                  "font": {
                    "color": "#4D5663"
                  }
                },
                "paper_bgcolor": "#F5F6F9",
                "plot_bgcolor": "#F5F6F9",
                "yaxis": {
                  "tickfont": {
                    "color": "#4D5663"
                  },
                  "title": {
                    "text": "Count",
                    "font": {
                      "color": "#4D5663"
                    }
                  },
                  "showgrid": true,
                  "zerolinecolor": "#E1E5ED",
                  "gridcolor": "#E1E5ED",
                  "linecolor": "black"
                },
                "xaxis": {
                  "tickfont": {
                    "color": "#4D5663"
                  },
                  "title": {
                    "text": "",
                    "font": {
                      "color": "#4D5663"
                    }
                  },
                  "showgrid": true,
                  "zerolinecolor": "#E1E5ED",
                  "gridcolor": "#E1E5ED",
                  "linecolor": "black"
                },
                "legend": {
                  "bgcolor": "#F5F6F9",
                  "font": {
                    "color": "#4D5663"
                  }
                }
              }
            }
          },
          "metadata": {
            "tags": []
          }
        }
      ]
    },
    {
      "cell_type": "markdown",
      "metadata": {
        "id": "Dp8gfWbiDHMe"
      },
      "source": [
        "### Top 20 part-of-speech tagging of review corpus"
      ]
    },
    {
      "cell_type": "code",
      "metadata": {
        "colab": {
          "base_uri": "https://localhost:8080/"
        },
        "id": "bRsJLGBaDHMe",
        "outputId": "51dc81fd-1803-4c62-809d-f9bb1848f966"
      },
      "source": [
        "import nltk\n",
        "nltk.download('punkt')\n",
        "nltk.download('averaged_perceptron_tagger')\n",
        "blob = TextBlob(str(df['Review Text']))\n",
        "pos_df = pd.DataFrame(blob.tags, columns = ['word' , 'pos'])\n",
        "pos_df = pos_df.pos.value_counts()[:20]\n",
        "pos_df.iplot(\n",
        "    kind='bar',\n",
        "    xTitle='POS',\n",
        "    yTitle='count', \n",
        "    title='Top 20 Part-of-speech tagging for review corpus')"
      ],
      "execution_count": null,
      "outputs": [
        {
          "output_type": "stream",
          "text": [
            "[nltk_data] Downloading package punkt to /root/nltk_data...\n",
            "[nltk_data]   Unzipping tokenizers/punkt.zip.\n"
          ],
          "name": "stdout"
        },
        {
          "output_type": "execute_result",
          "data": {
            "text/plain": [
              "True"
            ]
          },
          "metadata": {
            "tags": []
          },
          "execution_count": 23
        },
        {
          "output_type": "stream",
          "text": [
            "[nltk_data] Downloading package averaged_perceptron_tagger to\n",
            "[nltk_data]     /root/nltk_data...\n",
            "[nltk_data]   Unzipping taggers/averaged_perceptron_tagger.zip.\n"
          ],
          "name": "stdout"
        },
        {
          "output_type": "execute_result",
          "data": {
            "text/plain": [
              "True"
            ]
          },
          "metadata": {
            "tags": []
          },
          "execution_count": 23
        },
        {
          "output_type": "display_data",
          "data": {
            "text/html": [
              "<div>\n",
              "        \n",
              "        \n",
              "            <div id=\"41fc486f-eb0f-40de-b530-6fd9a095aa85\" class=\"plotly-graph-div\" style=\"height:525px; width:100%;\"></div>\n",
              "            <script type=\"text/javascript\">\n",
              "                require([\"plotly\"], function(Plotly) {\n",
              "                    window.PLOTLYENV=window.PLOTLYENV || {};\n",
              "                    window.PLOTLYENV.BASE_URL='https://plot.ly';\n",
              "                    \n",
              "                if (document.getElementById(\"41fc486f-eb0f-40de-b530-6fd9a095aa85\")) {\n",
              "                    Plotly.newPlot(\n",
              "                        '41fc486f-eb0f-40de-b530-6fd9a095aa85',\n",
              "                        [{\"marker\": {\"color\": \"rgba(255, 153, 51, 0.6)\", \"line\": {\"color\": \"rgba(255, 153, 51, 1.0)\", \"width\": 1}}, \"name\": \"pos\", \"orientation\": \"v\", \"text\": \"\", \"type\": \"bar\", \"x\": [\"NN\", \"NNP\", \"CD\", \"DT\", \"PRP\", \"JJ\", \"IN\", \"VB\", \"RB\", \"VBZ\", \"VBP\", \"MD\", \"VBG\", \"VBD\", \"CC\", \"PRP$\", \"WRB\", \"VBN\", \"UH\"], \"y\": [23, 20, 12, 9, 9, 8, 7, 6, 5, 5, 5, 4, 3, 2, 2, 1, 1, 1, 1]}],\n",
              "                        {\"legend\": {\"bgcolor\": \"#F5F6F9\", \"font\": {\"color\": \"#4D5663\"}}, \"paper_bgcolor\": \"#F5F6F9\", \"plot_bgcolor\": \"#F5F6F9\", \"template\": {\"data\": {\"bar\": [{\"error_x\": {\"color\": \"#2a3f5f\"}, \"error_y\": {\"color\": \"#2a3f5f\"}, \"marker\": {\"line\": {\"color\": \"#E5ECF6\", \"width\": 0.5}}, \"type\": \"bar\"}], \"barpolar\": [{\"marker\": {\"line\": {\"color\": \"#E5ECF6\", \"width\": 0.5}}, \"type\": \"barpolar\"}], \"carpet\": [{\"aaxis\": {\"endlinecolor\": \"#2a3f5f\", \"gridcolor\": \"white\", \"linecolor\": \"white\", \"minorgridcolor\": \"white\", \"startlinecolor\": \"#2a3f5f\"}, \"baxis\": {\"endlinecolor\": \"#2a3f5f\", \"gridcolor\": \"white\", \"linecolor\": \"white\", \"minorgridcolor\": \"white\", \"startlinecolor\": \"#2a3f5f\"}, \"type\": \"carpet\"}], \"choropleth\": [{\"colorbar\": {\"outlinewidth\": 0, \"ticks\": \"\"}, \"type\": \"choropleth\"}], \"contour\": [{\"colorbar\": {\"outlinewidth\": 0, \"ticks\": \"\"}, \"colorscale\": [[0.0, \"#0d0887\"], [0.1111111111111111, \"#46039f\"], [0.2222222222222222, \"#7201a8\"], [0.3333333333333333, \"#9c179e\"], [0.4444444444444444, \"#bd3786\"], [0.5555555555555556, \"#d8576b\"], [0.6666666666666666, \"#ed7953\"], [0.7777777777777778, \"#fb9f3a\"], [0.8888888888888888, \"#fdca26\"], [1.0, \"#f0f921\"]], \"type\": \"contour\"}], \"contourcarpet\": [{\"colorbar\": {\"outlinewidth\": 0, \"ticks\": \"\"}, \"type\": \"contourcarpet\"}], \"heatmap\": [{\"colorbar\": {\"outlinewidth\": 0, \"ticks\": \"\"}, \"colorscale\": [[0.0, \"#0d0887\"], [0.1111111111111111, \"#46039f\"], [0.2222222222222222, \"#7201a8\"], [0.3333333333333333, \"#9c179e\"], [0.4444444444444444, \"#bd3786\"], [0.5555555555555556, \"#d8576b\"], [0.6666666666666666, \"#ed7953\"], [0.7777777777777778, \"#fb9f3a\"], [0.8888888888888888, \"#fdca26\"], [1.0, \"#f0f921\"]], \"type\": \"heatmap\"}], \"heatmapgl\": [{\"colorbar\": {\"outlinewidth\": 0, \"ticks\": \"\"}, \"colorscale\": [[0.0, \"#0d0887\"], [0.1111111111111111, \"#46039f\"], [0.2222222222222222, \"#7201a8\"], [0.3333333333333333, \"#9c179e\"], [0.4444444444444444, \"#bd3786\"], [0.5555555555555556, \"#d8576b\"], [0.6666666666666666, \"#ed7953\"], [0.7777777777777778, \"#fb9f3a\"], [0.8888888888888888, \"#fdca26\"], [1.0, \"#f0f921\"]], \"type\": \"heatmapgl\"}], \"histogram\": [{\"marker\": {\"colorbar\": {\"outlinewidth\": 0, \"ticks\": \"\"}}, \"type\": \"histogram\"}], \"histogram2d\": [{\"colorbar\": {\"outlinewidth\": 0, \"ticks\": \"\"}, \"colorscale\": [[0.0, \"#0d0887\"], [0.1111111111111111, \"#46039f\"], [0.2222222222222222, \"#7201a8\"], [0.3333333333333333, \"#9c179e\"], [0.4444444444444444, \"#bd3786\"], [0.5555555555555556, \"#d8576b\"], [0.6666666666666666, \"#ed7953\"], [0.7777777777777778, \"#fb9f3a\"], [0.8888888888888888, \"#fdca26\"], [1.0, \"#f0f921\"]], \"type\": \"histogram2d\"}], \"histogram2dcontour\": [{\"colorbar\": {\"outlinewidth\": 0, \"ticks\": \"\"}, \"colorscale\": [[0.0, \"#0d0887\"], [0.1111111111111111, \"#46039f\"], [0.2222222222222222, \"#7201a8\"], [0.3333333333333333, \"#9c179e\"], [0.4444444444444444, \"#bd3786\"], [0.5555555555555556, \"#d8576b\"], [0.6666666666666666, \"#ed7953\"], [0.7777777777777778, \"#fb9f3a\"], [0.8888888888888888, \"#fdca26\"], [1.0, \"#f0f921\"]], \"type\": \"histogram2dcontour\"}], \"mesh3d\": [{\"colorbar\": {\"outlinewidth\": 0, \"ticks\": \"\"}, \"type\": \"mesh3d\"}], \"parcoords\": [{\"line\": {\"colorbar\": {\"outlinewidth\": 0, \"ticks\": \"\"}}, \"type\": \"parcoords\"}], \"pie\": [{\"automargin\": true, \"type\": \"pie\"}], \"scatter\": [{\"marker\": {\"colorbar\": {\"outlinewidth\": 0, \"ticks\": \"\"}}, \"type\": \"scatter\"}], \"scatter3d\": [{\"line\": {\"colorbar\": {\"outlinewidth\": 0, \"ticks\": \"\"}}, \"marker\": {\"colorbar\": {\"outlinewidth\": 0, \"ticks\": \"\"}}, \"type\": \"scatter3d\"}], \"scattercarpet\": [{\"marker\": {\"colorbar\": {\"outlinewidth\": 0, \"ticks\": \"\"}}, \"type\": \"scattercarpet\"}], \"scattergeo\": [{\"marker\": {\"colorbar\": {\"outlinewidth\": 0, \"ticks\": \"\"}}, \"type\": \"scattergeo\"}], \"scattergl\": [{\"marker\": {\"colorbar\": {\"outlinewidth\": 0, \"ticks\": \"\"}}, \"type\": \"scattergl\"}], \"scattermapbox\": [{\"marker\": {\"colorbar\": {\"outlinewidth\": 0, \"ticks\": \"\"}}, \"type\": \"scattermapbox\"}], \"scatterpolar\": [{\"marker\": {\"colorbar\": {\"outlinewidth\": 0, \"ticks\": \"\"}}, \"type\": \"scatterpolar\"}], \"scatterpolargl\": [{\"marker\": {\"colorbar\": {\"outlinewidth\": 0, \"ticks\": \"\"}}, \"type\": \"scatterpolargl\"}], \"scatterternary\": [{\"marker\": {\"colorbar\": {\"outlinewidth\": 0, \"ticks\": \"\"}}, \"type\": \"scatterternary\"}], \"surface\": [{\"colorbar\": {\"outlinewidth\": 0, \"ticks\": \"\"}, \"colorscale\": [[0.0, \"#0d0887\"], [0.1111111111111111, \"#46039f\"], [0.2222222222222222, \"#7201a8\"], [0.3333333333333333, \"#9c179e\"], [0.4444444444444444, \"#bd3786\"], [0.5555555555555556, \"#d8576b\"], [0.6666666666666666, \"#ed7953\"], [0.7777777777777778, \"#fb9f3a\"], [0.8888888888888888, \"#fdca26\"], [1.0, \"#f0f921\"]], \"type\": \"surface\"}], \"table\": [{\"cells\": {\"fill\": {\"color\": \"#EBF0F8\"}, \"line\": {\"color\": \"white\"}}, \"header\": {\"fill\": {\"color\": \"#C8D4E3\"}, \"line\": {\"color\": \"white\"}}, \"type\": \"table\"}]}, \"layout\": {\"annotationdefaults\": {\"arrowcolor\": \"#2a3f5f\", \"arrowhead\": 0, \"arrowwidth\": 1}, \"coloraxis\": {\"colorbar\": {\"outlinewidth\": 0, \"ticks\": \"\"}}, \"colorscale\": {\"diverging\": [[0, \"#8e0152\"], [0.1, \"#c51b7d\"], [0.2, \"#de77ae\"], [0.3, \"#f1b6da\"], [0.4, \"#fde0ef\"], [0.5, \"#f7f7f7\"], [0.6, \"#e6f5d0\"], [0.7, \"#b8e186\"], [0.8, \"#7fbc41\"], [0.9, \"#4d9221\"], [1, \"#276419\"]], \"sequential\": [[0.0, \"#0d0887\"], [0.1111111111111111, \"#46039f\"], [0.2222222222222222, \"#7201a8\"], [0.3333333333333333, \"#9c179e\"], [0.4444444444444444, \"#bd3786\"], [0.5555555555555556, \"#d8576b\"], [0.6666666666666666, \"#ed7953\"], [0.7777777777777778, \"#fb9f3a\"], [0.8888888888888888, \"#fdca26\"], [1.0, \"#f0f921\"]], \"sequentialminus\": [[0.0, \"#0d0887\"], [0.1111111111111111, \"#46039f\"], [0.2222222222222222, \"#7201a8\"], [0.3333333333333333, \"#9c179e\"], [0.4444444444444444, \"#bd3786\"], [0.5555555555555556, \"#d8576b\"], [0.6666666666666666, \"#ed7953\"], [0.7777777777777778, \"#fb9f3a\"], [0.8888888888888888, \"#fdca26\"], [1.0, \"#f0f921\"]]}, \"colorway\": [\"#636efa\", \"#EF553B\", \"#00cc96\", \"#ab63fa\", \"#FFA15A\", \"#19d3f3\", \"#FF6692\", \"#B6E880\", \"#FF97FF\", \"#FECB52\"], \"font\": {\"color\": \"#2a3f5f\"}, \"geo\": {\"bgcolor\": \"white\", \"lakecolor\": \"white\", \"landcolor\": \"#E5ECF6\", \"showlakes\": true, \"showland\": true, \"subunitcolor\": \"white\"}, \"hoverlabel\": {\"align\": \"left\"}, \"hovermode\": \"closest\", \"mapbox\": {\"style\": \"light\"}, \"paper_bgcolor\": \"white\", \"plot_bgcolor\": \"#E5ECF6\", \"polar\": {\"angularaxis\": {\"gridcolor\": \"white\", \"linecolor\": \"white\", \"ticks\": \"\"}, \"bgcolor\": \"#E5ECF6\", \"radialaxis\": {\"gridcolor\": \"white\", \"linecolor\": \"white\", \"ticks\": \"\"}}, \"scene\": {\"xaxis\": {\"backgroundcolor\": \"#E5ECF6\", \"gridcolor\": \"white\", \"gridwidth\": 2, \"linecolor\": \"white\", \"showbackground\": true, \"ticks\": \"\", \"zerolinecolor\": \"white\"}, \"yaxis\": {\"backgroundcolor\": \"#E5ECF6\", \"gridcolor\": \"white\", \"gridwidth\": 2, \"linecolor\": \"white\", \"showbackground\": true, \"ticks\": \"\", \"zerolinecolor\": \"white\"}, \"zaxis\": {\"backgroundcolor\": \"#E5ECF6\", \"gridcolor\": \"white\", \"gridwidth\": 2, \"linecolor\": \"white\", \"showbackground\": true, \"ticks\": \"\", \"zerolinecolor\": \"white\"}}, \"shapedefaults\": {\"line\": {\"color\": \"#2a3f5f\"}}, \"ternary\": {\"aaxis\": {\"gridcolor\": \"white\", \"linecolor\": \"white\", \"ticks\": \"\"}, \"baxis\": {\"gridcolor\": \"white\", \"linecolor\": \"white\", \"ticks\": \"\"}, \"bgcolor\": \"#E5ECF6\", \"caxis\": {\"gridcolor\": \"white\", \"linecolor\": \"white\", \"ticks\": \"\"}}, \"title\": {\"x\": 0.05}, \"xaxis\": {\"automargin\": true, \"gridcolor\": \"white\", \"linecolor\": \"white\", \"ticks\": \"\", \"title\": {\"standoff\": 15}, \"zerolinecolor\": \"white\", \"zerolinewidth\": 2}, \"yaxis\": {\"automargin\": true, \"gridcolor\": \"white\", \"linecolor\": \"white\", \"ticks\": \"\", \"title\": {\"standoff\": 15}, \"zerolinecolor\": \"white\", \"zerolinewidth\": 2}}}, \"title\": {\"font\": {\"color\": \"#4D5663\"}, \"text\": \"Top 20 Part-of-speech tagging for review corpus\"}, \"xaxis\": {\"gridcolor\": \"#E1E5ED\", \"showgrid\": true, \"tickfont\": {\"color\": \"#4D5663\"}, \"title\": {\"font\": {\"color\": \"#4D5663\"}, \"text\": \"POS\"}, \"zerolinecolor\": \"#E1E5ED\"}, \"yaxis\": {\"gridcolor\": \"#E1E5ED\", \"showgrid\": true, \"tickfont\": {\"color\": \"#4D5663\"}, \"title\": {\"font\": {\"color\": \"#4D5663\"}, \"text\": \"count\"}, \"zerolinecolor\": \"#E1E5ED\"}},\n",
              "                        {\"showLink\": true, \"linkText\": \"Export to plot.ly\", \"plotlyServerURL\": \"https://plot.ly\", \"responsive\": true}\n",
              "                    ).then(function(){\n",
              "                            \n",
              "var gd = document.getElementById('41fc486f-eb0f-40de-b530-6fd9a095aa85');\n",
              "var x = new MutationObserver(function (mutations, observer) {{\n",
              "        var display = window.getComputedStyle(gd).display;\n",
              "        if (!display || display === 'none') {{\n",
              "            console.log([gd, 'removed!']);\n",
              "            Plotly.purge(gd);\n",
              "            observer.disconnect();\n",
              "        }}\n",
              "}});\n",
              "\n",
              "// Listen for the removal of the full notebook cells\n",
              "var notebookContainer = gd.closest('#notebook-container');\n",
              "if (notebookContainer) {{\n",
              "    x.observe(notebookContainer, {childList: true});\n",
              "}}\n",
              "\n",
              "// Listen for the clearing of the current output cell\n",
              "var outputEl = gd.closest('.output');\n",
              "if (outputEl) {{\n",
              "    x.observe(outputEl, {childList: true});\n",
              "}}\n",
              "\n",
              "                        })\n",
              "                };\n",
              "                });\n",
              "            </script>\n",
              "        </div>"
            ],
            "application/vnd.plotly.v1+json": {
              "data": [
                {
                  "name": "pos",
                  "text": "",
                  "y": [
                    23,
                    20,
                    12,
                    9,
                    9,
                    8,
                    7,
                    6,
                    5,
                    5,
                    5,
                    4,
                    3,
                    2,
                    2,
                    1,
                    1,
                    1,
                    1
                  ],
                  "marker": {
                    "color": "rgba(255, 153, 51, 0.6)",
                    "line": {
                      "color": "rgba(255, 153, 51, 1.0)",
                      "width": 1
                    }
                  },
                  "x": [
                    "NN",
                    "NNP",
                    "CD",
                    "DT",
                    "PRP",
                    "JJ",
                    "IN",
                    "VB",
                    "RB",
                    "VBZ",
                    "VBP",
                    "MD",
                    "VBG",
                    "VBD",
                    "CC",
                    "PRP$",
                    "WRB",
                    "VBN",
                    "UH"
                  ],
                  "type": "bar",
                  "orientation": "v"
                }
              ],
              "config": {
                "plotlyServerURL": "https://plot.ly",
                "linkText": "Export to plot.ly",
                "showLink": true
              },
              "layout": {
                "template": {
                  "layout": {
                    "shapedefaults": {
                      "line": {
                        "color": "#2a3f5f"
                      }
                    },
                    "polar": {
                      "radialaxis": {
                        "ticks": "",
                        "gridcolor": "white",
                        "linecolor": "white"
                      },
                      "bgcolor": "#E5ECF6",
                      "angularaxis": {
                        "ticks": "",
                        "gridcolor": "white",
                        "linecolor": "white"
                      }
                    },
                    "colorway": [
                      "#636efa",
                      "#EF553B",
                      "#00cc96",
                      "#ab63fa",
                      "#FFA15A",
                      "#19d3f3",
                      "#FF6692",
                      "#B6E880",
                      "#FF97FF",
                      "#FECB52"
                    ],
                    "xaxis": {
                      "automargin": true,
                      "title": {
                        "standoff": 15
                      },
                      "zerolinewidth": 2,
                      "ticks": "",
                      "zerolinecolor": "white",
                      "gridcolor": "white",
                      "linecolor": "white"
                    },
                    "colorscale": {
                      "diverging": [
                        [
                          0,
                          "#8e0152"
                        ],
                        [
                          0.1,
                          "#c51b7d"
                        ],
                        [
                          0.2,
                          "#de77ae"
                        ],
                        [
                          0.3,
                          "#f1b6da"
                        ],
                        [
                          0.4,
                          "#fde0ef"
                        ],
                        [
                          0.5,
                          "#f7f7f7"
                        ],
                        [
                          0.6,
                          "#e6f5d0"
                        ],
                        [
                          0.7,
                          "#b8e186"
                        ],
                        [
                          0.8,
                          "#7fbc41"
                        ],
                        [
                          0.9,
                          "#4d9221"
                        ],
                        [
                          1,
                          "#276419"
                        ]
                      ],
                      "sequential": [
                        [
                          0,
                          "#0d0887"
                        ],
                        [
                          0.1111111111111111,
                          "#46039f"
                        ],
                        [
                          0.2222222222222222,
                          "#7201a8"
                        ],
                        [
                          0.3333333333333333,
                          "#9c179e"
                        ],
                        [
                          0.4444444444444444,
                          "#bd3786"
                        ],
                        [
                          0.5555555555555556,
                          "#d8576b"
                        ],
                        [
                          0.6666666666666666,
                          "#ed7953"
                        ],
                        [
                          0.7777777777777778,
                          "#fb9f3a"
                        ],
                        [
                          0.8888888888888888,
                          "#fdca26"
                        ],
                        [
                          1,
                          "#f0f921"
                        ]
                      ],
                      "sequentialminus": [
                        [
                          0,
                          "#0d0887"
                        ],
                        [
                          0.1111111111111111,
                          "#46039f"
                        ],
                        [
                          0.2222222222222222,
                          "#7201a8"
                        ],
                        [
                          0.3333333333333333,
                          "#9c179e"
                        ],
                        [
                          0.4444444444444444,
                          "#bd3786"
                        ],
                        [
                          0.5555555555555556,
                          "#d8576b"
                        ],
                        [
                          0.6666666666666666,
                          "#ed7953"
                        ],
                        [
                          0.7777777777777778,
                          "#fb9f3a"
                        ],
                        [
                          0.8888888888888888,
                          "#fdca26"
                        ],
                        [
                          1,
                          "#f0f921"
                        ]
                      ]
                    },
                    "paper_bgcolor": "white",
                    "plot_bgcolor": "#E5ECF6",
                    "title": {
                      "x": 0.05
                    },
                    "scene": {
                      "zaxis": {
                        "backgroundcolor": "#E5ECF6",
                        "ticks": "",
                        "gridwidth": 2,
                        "showbackground": true,
                        "zerolinecolor": "white",
                        "gridcolor": "white",
                        "linecolor": "white"
                      },
                      "xaxis": {
                        "backgroundcolor": "#E5ECF6",
                        "ticks": "",
                        "gridwidth": 2,
                        "showbackground": true,
                        "zerolinecolor": "white",
                        "gridcolor": "white",
                        "linecolor": "white"
                      },
                      "yaxis": {
                        "backgroundcolor": "#E5ECF6",
                        "ticks": "",
                        "gridwidth": 2,
                        "showbackground": true,
                        "zerolinecolor": "white",
                        "gridcolor": "white",
                        "linecolor": "white"
                      }
                    },
                    "yaxis": {
                      "automargin": true,
                      "title": {
                        "standoff": 15
                      },
                      "zerolinewidth": 2,
                      "ticks": "",
                      "zerolinecolor": "white",
                      "gridcolor": "white",
                      "linecolor": "white"
                    },
                    "annotationdefaults": {
                      "arrowwidth": 1,
                      "arrowhead": 0,
                      "arrowcolor": "#2a3f5f"
                    },
                    "hoverlabel": {
                      "align": "left"
                    },
                    "ternary": {
                      "bgcolor": "#E5ECF6",
                      "baxis": {
                        "ticks": "",
                        "gridcolor": "white",
                        "linecolor": "white"
                      },
                      "caxis": {
                        "ticks": "",
                        "gridcolor": "white",
                        "linecolor": "white"
                      },
                      "aaxis": {
                        "ticks": "",
                        "gridcolor": "white",
                        "linecolor": "white"
                      }
                    },
                    "mapbox": {
                      "style": "light"
                    },
                    "hovermode": "closest",
                    "font": {
                      "color": "#2a3f5f"
                    },
                    "geo": {
                      "showland": true,
                      "landcolor": "#E5ECF6",
                      "showlakes": true,
                      "bgcolor": "white",
                      "subunitcolor": "white",
                      "lakecolor": "white"
                    },
                    "coloraxis": {
                      "colorbar": {
                        "outlinewidth": 0,
                        "ticks": ""
                      }
                    }
                  },
                  "data": {
                    "mesh3d": [
                      {
                        "colorbar": {
                          "outlinewidth": 0,
                          "ticks": ""
                        },
                        "type": "mesh3d"
                      }
                    ],
                    "scattercarpet": [
                      {
                        "marker": {
                          "colorbar": {
                            "outlinewidth": 0,
                            "ticks": ""
                          }
                        },
                        "type": "scattercarpet"
                      }
                    ],
                    "pie": [
                      {
                        "automargin": true,
                        "type": "pie"
                      }
                    ],
                    "surface": [
                      {
                        "colorbar": {
                          "outlinewidth": 0,
                          "ticks": ""
                        },
                        "type": "surface",
                        "colorscale": [
                          [
                            0,
                            "#0d0887"
                          ],
                          [
                            0.1111111111111111,
                            "#46039f"
                          ],
                          [
                            0.2222222222222222,
                            "#7201a8"
                          ],
                          [
                            0.3333333333333333,
                            "#9c179e"
                          ],
                          [
                            0.4444444444444444,
                            "#bd3786"
                          ],
                          [
                            0.5555555555555556,
                            "#d8576b"
                          ],
                          [
                            0.6666666666666666,
                            "#ed7953"
                          ],
                          [
                            0.7777777777777778,
                            "#fb9f3a"
                          ],
                          [
                            0.8888888888888888,
                            "#fdca26"
                          ],
                          [
                            1,
                            "#f0f921"
                          ]
                        ]
                      }
                    ],
                    "table": [
                      {
                        "header": {
                          "line": {
                            "color": "white"
                          },
                          "fill": {
                            "color": "#C8D4E3"
                          }
                        },
                        "cells": {
                          "line": {
                            "color": "white"
                          },
                          "fill": {
                            "color": "#EBF0F8"
                          }
                        },
                        "type": "table"
                      }
                    ],
                    "scatterpolargl": [
                      {
                        "marker": {
                          "colorbar": {
                            "outlinewidth": 0,
                            "ticks": ""
                          }
                        },
                        "type": "scatterpolargl"
                      }
                    ],
                    "contour": [
                      {
                        "colorbar": {
                          "outlinewidth": 0,
                          "ticks": ""
                        },
                        "type": "contour",
                        "colorscale": [
                          [
                            0,
                            "#0d0887"
                          ],
                          [
                            0.1111111111111111,
                            "#46039f"
                          ],
                          [
                            0.2222222222222222,
                            "#7201a8"
                          ],
                          [
                            0.3333333333333333,
                            "#9c179e"
                          ],
                          [
                            0.4444444444444444,
                            "#bd3786"
                          ],
                          [
                            0.5555555555555556,
                            "#d8576b"
                          ],
                          [
                            0.6666666666666666,
                            "#ed7953"
                          ],
                          [
                            0.7777777777777778,
                            "#fb9f3a"
                          ],
                          [
                            0.8888888888888888,
                            "#fdca26"
                          ],
                          [
                            1,
                            "#f0f921"
                          ]
                        ]
                      }
                    ],
                    "carpet": [
                      {
                        "type": "carpet",
                        "baxis": {
                          "minorgridcolor": "white",
                          "gridcolor": "white",
                          "linecolor": "white",
                          "endlinecolor": "#2a3f5f",
                          "startlinecolor": "#2a3f5f"
                        },
                        "aaxis": {
                          "minorgridcolor": "white",
                          "gridcolor": "white",
                          "linecolor": "white",
                          "endlinecolor": "#2a3f5f",
                          "startlinecolor": "#2a3f5f"
                        }
                      }
                    ],
                    "contourcarpet": [
                      {
                        "colorbar": {
                          "outlinewidth": 0,
                          "ticks": ""
                        },
                        "type": "contourcarpet"
                      }
                    ],
                    "heatmap": [
                      {
                        "colorbar": {
                          "outlinewidth": 0,
                          "ticks": ""
                        },
                        "type": "heatmap",
                        "colorscale": [
                          [
                            0,
                            "#0d0887"
                          ],
                          [
                            0.1111111111111111,
                            "#46039f"
                          ],
                          [
                            0.2222222222222222,
                            "#7201a8"
                          ],
                          [
                            0.3333333333333333,
                            "#9c179e"
                          ],
                          [
                            0.4444444444444444,
                            "#bd3786"
                          ],
                          [
                            0.5555555555555556,
                            "#d8576b"
                          ],
                          [
                            0.6666666666666666,
                            "#ed7953"
                          ],
                          [
                            0.7777777777777778,
                            "#fb9f3a"
                          ],
                          [
                            0.8888888888888888,
                            "#fdca26"
                          ],
                          [
                            1,
                            "#f0f921"
                          ]
                        ]
                      }
                    ],
                    "scattermapbox": [
                      {
                        "marker": {
                          "colorbar": {
                            "outlinewidth": 0,
                            "ticks": ""
                          }
                        },
                        "type": "scattermapbox"
                      }
                    ],
                    "scatter3d": [
                      {
                        "marker": {
                          "colorbar": {
                            "outlinewidth": 0,
                            "ticks": ""
                          }
                        },
                        "line": {
                          "colorbar": {
                            "outlinewidth": 0,
                            "ticks": ""
                          }
                        },
                        "type": "scatter3d"
                      }
                    ],
                    "scattergl": [
                      {
                        "marker": {
                          "colorbar": {
                            "outlinewidth": 0,
                            "ticks": ""
                          }
                        },
                        "type": "scattergl"
                      }
                    ],
                    "scatterternary": [
                      {
                        "marker": {
                          "colorbar": {
                            "outlinewidth": 0,
                            "ticks": ""
                          }
                        },
                        "type": "scatterternary"
                      }
                    ],
                    "histogram": [
                      {
                        "marker": {
                          "colorbar": {
                            "outlinewidth": 0,
                            "ticks": ""
                          }
                        },
                        "type": "histogram"
                      }
                    ],
                    "heatmapgl": [
                      {
                        "colorbar": {
                          "outlinewidth": 0,
                          "ticks": ""
                        },
                        "type": "heatmapgl",
                        "colorscale": [
                          [
                            0,
                            "#0d0887"
                          ],
                          [
                            0.1111111111111111,
                            "#46039f"
                          ],
                          [
                            0.2222222222222222,
                            "#7201a8"
                          ],
                          [
                            0.3333333333333333,
                            "#9c179e"
                          ],
                          [
                            0.4444444444444444,
                            "#bd3786"
                          ],
                          [
                            0.5555555555555556,
                            "#d8576b"
                          ],
                          [
                            0.6666666666666666,
                            "#ed7953"
                          ],
                          [
                            0.7777777777777778,
                            "#fb9f3a"
                          ],
                          [
                            0.8888888888888888,
                            "#fdca26"
                          ],
                          [
                            1,
                            "#f0f921"
                          ]
                        ]
                      }
                    ],
                    "scatterpolar": [
                      {
                        "marker": {
                          "colorbar": {
                            "outlinewidth": 0,
                            "ticks": ""
                          }
                        },
                        "type": "scatterpolar"
                      }
                    ],
                    "histogram2d": [
                      {
                        "colorbar": {
                          "outlinewidth": 0,
                          "ticks": ""
                        },
                        "type": "histogram2d",
                        "colorscale": [
                          [
                            0,
                            "#0d0887"
                          ],
                          [
                            0.1111111111111111,
                            "#46039f"
                          ],
                          [
                            0.2222222222222222,
                            "#7201a8"
                          ],
                          [
                            0.3333333333333333,
                            "#9c179e"
                          ],
                          [
                            0.4444444444444444,
                            "#bd3786"
                          ],
                          [
                            0.5555555555555556,
                            "#d8576b"
                          ],
                          [
                            0.6666666666666666,
                            "#ed7953"
                          ],
                          [
                            0.7777777777777778,
                            "#fb9f3a"
                          ],
                          [
                            0.8888888888888888,
                            "#fdca26"
                          ],
                          [
                            1,
                            "#f0f921"
                          ]
                        ]
                      }
                    ],
                    "scattergeo": [
                      {
                        "marker": {
                          "colorbar": {
                            "outlinewidth": 0,
                            "ticks": ""
                          }
                        },
                        "type": "scattergeo"
                      }
                    ],
                    "bar": [
                      {
                        "marker": {
                          "line": {
                            "color": "#E5ECF6",
                            "width": 0.5
                          }
                        },
                        "type": "bar",
                        "error_x": {
                          "color": "#2a3f5f"
                        },
                        "error_y": {
                          "color": "#2a3f5f"
                        }
                      }
                    ],
                    "choropleth": [
                      {
                        "colorbar": {
                          "outlinewidth": 0,
                          "ticks": ""
                        },
                        "type": "choropleth"
                      }
                    ],
                    "parcoords": [
                      {
                        "line": {
                          "colorbar": {
                            "outlinewidth": 0,
                            "ticks": ""
                          }
                        },
                        "type": "parcoords"
                      }
                    ],
                    "barpolar": [
                      {
                        "marker": {
                          "line": {
                            "color": "#E5ECF6",
                            "width": 0.5
                          }
                        },
                        "type": "barpolar"
                      }
                    ],
                    "histogram2dcontour": [
                      {
                        "colorbar": {
                          "outlinewidth": 0,
                          "ticks": ""
                        },
                        "type": "histogram2dcontour",
                        "colorscale": [
                          [
                            0,
                            "#0d0887"
                          ],
                          [
                            0.1111111111111111,
                            "#46039f"
                          ],
                          [
                            0.2222222222222222,
                            "#7201a8"
                          ],
                          [
                            0.3333333333333333,
                            "#9c179e"
                          ],
                          [
                            0.4444444444444444,
                            "#bd3786"
                          ],
                          [
                            0.5555555555555556,
                            "#d8576b"
                          ],
                          [
                            0.6666666666666666,
                            "#ed7953"
                          ],
                          [
                            0.7777777777777778,
                            "#fb9f3a"
                          ],
                          [
                            0.8888888888888888,
                            "#fdca26"
                          ],
                          [
                            1,
                            "#f0f921"
                          ]
                        ]
                      }
                    ],
                    "scatter": [
                      {
                        "marker": {
                          "colorbar": {
                            "outlinewidth": 0,
                            "ticks": ""
                          }
                        },
                        "type": "scatter"
                      }
                    ]
                  }
                },
                "title": {
                  "text": "Top 20 Part-of-speech tagging for review corpus",
                  "font": {
                    "color": "#4D5663"
                  }
                },
                "paper_bgcolor": "#F5F6F9",
                "plot_bgcolor": "#F5F6F9",
                "yaxis": {
                  "tickfont": {
                    "color": "#4D5663"
                  },
                  "zerolinecolor": "#E1E5ED",
                  "title": {
                    "text": "count",
                    "font": {
                      "color": "#4D5663"
                    }
                  },
                  "gridcolor": "#E1E5ED",
                  "showgrid": true
                },
                "xaxis": {
                  "tickfont": {
                    "color": "#4D5663"
                  },
                  "zerolinecolor": "#E1E5ED",
                  "title": {
                    "text": "POS",
                    "font": {
                      "color": "#4D5663"
                    }
                  },
                  "gridcolor": "#E1E5ED",
                  "showgrid": true
                },
                "legend": {
                  "bgcolor": "#F5F6F9",
                  "font": {
                    "color": "#4D5663"
                  }
                }
              }
            }
          },
          "metadata": {
            "tags": []
          }
        }
      ]
    },
    {
      "cell_type": "markdown",
      "metadata": {
        "id": "pl-7IJfPDHMg"
      },
      "source": [
        "### Topic Modeling with LSA"
      ]
    },
    {
      "cell_type": "code",
      "metadata": {
        "id": "fdtEYN2_DHMh"
      },
      "source": [
        "reindexed_data = df['Review Text']\n",
        "tfidf_vectorizer = TfidfVectorizer(stop_words='english', use_idf=True, smooth_idf=True)\n",
        "reindexed_data = reindexed_data.values\n",
        "document_term_matrix = tfidf_vectorizer.fit_transform(reindexed_data)"
      ],
      "execution_count": null,
      "outputs": []
    },
    {
      "cell_type": "code",
      "metadata": {
        "id": "PV5NDgDoDHMh"
      },
      "source": [
        "n_topics = 6\n",
        "lsa_model = TruncatedSVD(n_components=n_topics)\n",
        "lsa_topic_matrix = lsa_model.fit_transform(document_term_matrix)"
      ],
      "execution_count": null,
      "outputs": []
    },
    {
      "cell_type": "code",
      "metadata": {
        "id": "XKPChZ0rDHMh"
      },
      "source": [
        "def get_keys(topic_matrix):\n",
        "    '''\n",
        "    returns an integer list of predicted topic \n",
        "    categories for a given topic matrix\n",
        "    '''\n",
        "    keys = topic_matrix.argmax(axis=1).tolist()\n",
        "    return keys\n",
        "\n",
        "def keys_to_counts(keys):\n",
        "    '''\n",
        "    returns a tuple of topic categories and their \n",
        "    accompanying magnitudes for a given list of keys\n",
        "    '''\n",
        "    count_pairs = Counter(keys).items()\n",
        "    categories = [pair[0] for pair in count_pairs]\n",
        "    counts = [pair[1] for pair in count_pairs]\n",
        "    return (categories, counts)"
      ],
      "execution_count": null,
      "outputs": []
    },
    {
      "cell_type": "code",
      "metadata": {
        "id": "vzOpYAxvDHMh"
      },
      "source": [
        "lsa_keys = get_keys(lsa_topic_matrix)\n",
        "lsa_categories, lsa_counts = keys_to_counts(lsa_keys)"
      ],
      "execution_count": null,
      "outputs": []
    },
    {
      "cell_type": "code",
      "metadata": {
        "id": "Q_RSs-aKDHMh"
      },
      "source": [
        "def get_top_n_words(n, keys, document_term_matrix, tfidf_vectorizer):\n",
        "    '''\n",
        "    returns a list of n_topic strings, where each string contains the n most common \n",
        "    words in a predicted category, in order\n",
        "    '''\n",
        "    top_word_indices = []\n",
        "    for topic in range(n_topics):\n",
        "        temp_vector_sum = 0\n",
        "        for i in range(len(keys)):\n",
        "            if keys[i] == topic:\n",
        "                temp_vector_sum += document_term_matrix[i]\n",
        "        temp_vector_sum = temp_vector_sum.toarray()\n",
        "        top_n_word_indices = np.flip(np.argsort(temp_vector_sum)[0][-n:],0)\n",
        "        top_word_indices.append(top_n_word_indices)   \n",
        "    top_words = []\n",
        "    for topic in top_word_indices:\n",
        "        topic_words = []\n",
        "        for index in topic:\n",
        "            temp_word_vector = np.zeros((1,document_term_matrix.shape[1]))\n",
        "            temp_word_vector[:,index] = 1\n",
        "            the_word = tfidf_vectorizer.inverse_transform(temp_word_vector)[0][0]\n",
        "            topic_words.append(the_word.encode('ascii').decode('utf-8'))\n",
        "        top_words.append(\" \".join(topic_words))         \n",
        "    return top_words"
      ],
      "execution_count": null,
      "outputs": []
    },
    {
      "cell_type": "code",
      "metadata": {
        "colab": {
          "base_uri": "https://localhost:8080/"
        },
        "id": "H1ERD-LRDHMi",
        "outputId": "7b29511c-bd24-43e2-a69d-3b678669fc6b"
      },
      "source": [
        "top_n_words_lsa = get_top_n_words(3, lsa_keys, document_term_matrix, tfidf_vectorizer)\n",
        "\n",
        "for i in range(len(top_n_words_lsa)):\n",
        "    print(\"Topic {}: \".format(i+1), top_n_words_lsa[i])"
      ],
      "execution_count": null,
      "outputs": [
        {
          "output_type": "stream",
          "text": [
            "Topic 1:  user just shocking\n",
            "Topic 2:  watch live amazing\n",
            "Topic 3:  just want really\n",
            "Topic 4:  don know user\n",
            "Topic 5:  like depression feel\n",
            "Topic 6:  people lost angry\n"
          ],
          "name": "stdout"
        }
      ]
    },
    {
      "cell_type": "code",
      "metadata": {
        "colab": {
          "base_uri": "https://localhost:8080/"
        },
        "id": "mjUm2Y9rDHMi",
        "outputId": "6d49c67d-73e0-4d82-94f2-8ae676f56926"
      },
      "source": [
        "top_3_words = get_top_n_words(3, lsa_keys, document_term_matrix, tfidf_vectorizer)\n",
        "labels = ['Topic {}: \\n'.format(i) + top_3_words[i] for i in lsa_categories]\n",
        "\n",
        "fig, ax = plt.subplots(figsize=(16,8))\n",
        "ax.bar(lsa_categories, lsa_counts);\n",
        "ax.set_xticks(lsa_categories);\n",
        "ax.set_xticklabels(labels);\n",
        "ax.set_ylabel('Number of review text');\n",
        "ax.set_title('HATE topic counts');\n",
        "plt.show();"
      ],
      "execution_count": null,
      "outputs": [
        {
          "output_type": "display_data",
          "data": {
            "image/png": "[encoded data removed]",
            "text/plain": [
              "<Figure size 1152x576 with 1 Axes>"
            ]
          },
          "metadata": {
            "tags": [],
            "needs_background": "light"
          }
        }
      ]
    },
    {
      "cell_type": "code",
      "metadata": {
        "colab": {
          "base_uri": "https://localhost:8080/"
        },
        "id": "i3ctnULmDHMi",
        "outputId": "eabc886e-2ca6-44f6-b9d1-9309a8b65732"
      },
      "source": [
        "tsne_lsa_model = TSNE(n_components=2, perplexity=50, learning_rate=100, \n",
        "                        n_iter=2000, verbose=1, random_state=0, angle=0.75)\n",
        "tsne_lsa_vectors = tsne_lsa_model.fit_transform(lsa_topic_matrix)"
      ],
      "execution_count": null,
      "outputs": [
        {
          "output_type": "stream",
          "text": [
            "[t-SNE] Computing 151 nearest neighbors...\n",
            "[t-SNE] Indexed 3257 samples in 0.004s...\n",
            "[t-SNE] Computed neighbors for 3257 samples in 0.208s...\n",
            "[t-SNE] Computed conditional probabilities for sample 1000 / 3257\n",
            "[t-SNE] Computed conditional probabilities for sample 2000 / 3257\n",
            "[t-SNE] Computed conditional probabilities for sample 3000 / 3257\n",
            "[t-SNE] Computed conditional probabilities for sample 3257 / 3257\n",
            "[t-SNE] Mean sigma: 0.009699\n",
            "[t-SNE] KL divergence after 250 iterations with early exaggeration: 64.581795\n",
            "[t-SNE] KL divergence after 2000 iterations: 0.811369\n"
          ],
          "name": "stdout"
        }
      ]
    },
    {
      "cell_type": "code",
      "metadata": {
        "id": "fn-v4YkhDHMi"
      },
      "source": [
        "def get_mean_topic_vectors(keys, two_dim_vectors):\n",
        "    '''\n",
        "    returns a list of centroid vectors from each predicted topic category\n",
        "    '''\n",
        "    mean_topic_vectors = []\n",
        "    for t in range(n_topics):\n",
        "        reviews_in_that_topic = []\n",
        "        for i in range(len(keys)):\n",
        "            if keys[i] == t:\n",
        "                reviews_in_that_topic.append(two_dim_vectors[i])    \n",
        "        \n",
        "        reviews_in_that_topic = np.vstack(reviews_in_that_topic)\n",
        "        mean_review_in_that_topic = np.mean(reviews_in_that_topic, axis=0)\n",
        "        mean_topic_vectors.append(mean_review_in_that_topic)\n",
        "    return mean_topic_vectors"
      ],
      "execution_count": null,
      "outputs": []
    },
    {
      "cell_type": "code",
      "metadata": {
        "id": "37DGzoHYDHMi"
      },
      "source": [
        "colormap = np.array([\n",
        "    \"#1f77b4\", \"#aec7e8\", \"#ff7f0e\", \"#ffbb78\", \"#2ca02c\",\n",
        "    \"#98df8a\", \"#d62728\", \"#ff9896\", \"#9467bd\", \"#c5b0d5\",\n",
        "    \"#8c564b\", \"#c49c94\", \"#e377c2\", \"#f7b6d2\", \"#7f7f7f\",\n",
        "    \"#c7c7c7\", \"#bcbd22\", \"#dbdb8d\", \"#17becf\", \"#9edae5\" ])\n",
        "colormap = colormap[:n_topics]"
      ],
      "execution_count": null,
      "outputs": []
    },
    {
      "cell_type": "code",
      "metadata": {
        "colab": {
          "base_uri": "https://localhost:8080/"
        },
        "id": "89Mn5FhgDHMj",
        "outputId": "afb5365e-6aac-4c3d-957e-e5abbd0d0e8a"
      },
      "source": [
        "top_3_words_lsa = get_top_n_words(3, lsa_keys, document_term_matrix, tfidf_vectorizer)\n",
        "lsa_mean_topic_vectors = get_mean_topic_vectors(lsa_keys, tsne_lsa_vectors)\n",
        "\n",
        "plot = figure(title=\"t-SNE Clustering of {} LSA Topics\".format(n_topics), plot_width=700, plot_height=700)\n",
        "plot.scatter(x=tsne_lsa_vectors[:,0], y=tsne_lsa_vectors[:,1], color=colormap[lsa_keys])\n",
        "\n",
        "for t in range(n_topics):\n",
        "    label = Label(x=lsa_mean_topic_vectors[t][0], y=lsa_mean_topic_vectors[t][1], \n",
        "                  text=top_3_words_lsa[t], text_color=colormap[t])\n",
        "    plot.add_layout(label)\n",
        "    \n",
        "show(plot)"
      ],
      "execution_count": null,
      "outputs": [
        {
          "output_type": "execute_result",
          "data": {
            "text/html": [
              "<div style=\"display: table;\"><div style=\"display: table-row;\"><div style=\"display: table-cell;\"><b title=\"bokeh.models.renderers.GlyphRenderer\">GlyphRenderer</b>(</div><div style=\"display: table-cell;\">id&nbsp;=&nbsp;'1038', <span id=\"1041\" style=\"cursor: pointer;\">&hellip;)</span></div></div><div class=\"1040\" style=\"display: none;\"><div style=\"display: table-cell;\"></div><div style=\"display: table-cell;\">data_source&nbsp;=&nbsp;ColumnDataSource(id='1035', ...),</div></div><div class=\"1040\" style=\"display: none;\"><div style=\"display: table-cell;\"></div><div style=\"display: table-cell;\">glyph&nbsp;=&nbsp;Scatter(id='1036', ...),</div></div><div class=\"1040\" style=\"display: none;\"><div style=\"display: table-cell;\"></div><div style=\"display: table-cell;\">hover_glyph&nbsp;=&nbsp;None,</div></div><div class=\"1040\" style=\"display: none;\"><div style=\"display: table-cell;\"></div><div style=\"display: table-cell;\">js_event_callbacks&nbsp;=&nbsp;{},</div></div><div class=\"1040\" style=\"display: none;\"><div style=\"display: table-cell;\"></div><div style=\"display: table-cell;\">js_property_callbacks&nbsp;=&nbsp;{},</div></div><div class=\"1040\" style=\"display: none;\"><div style=\"display: table-cell;\"></div><div style=\"display: table-cell;\">level&nbsp;=&nbsp;'glyph',</div></div><div class=\"1040\" style=\"display: none;\"><div style=\"display: table-cell;\"></div><div style=\"display: table-cell;\">muted&nbsp;=&nbsp;False,</div></div><div class=\"1040\" style=\"display: none;\"><div style=\"display: table-cell;\"></div><div style=\"display: table-cell;\">muted_glyph&nbsp;=&nbsp;None,</div></div><div class=\"1040\" style=\"display: none;\"><div style=\"display: table-cell;\"></div><div style=\"display: table-cell;\">name&nbsp;=&nbsp;None,</div></div><div class=\"1040\" style=\"display: none;\"><div style=\"display: table-cell;\"></div><div style=\"display: table-cell;\">nonselection_glyph&nbsp;=&nbsp;Scatter(id='1037', ...),</div></div><div class=\"1040\" style=\"display: none;\"><div style=\"display: table-cell;\"></div><div style=\"display: table-cell;\">selection_glyph&nbsp;=&nbsp;'auto',</div></div><div class=\"1040\" style=\"display: none;\"><div style=\"display: table-cell;\"></div><div style=\"display: table-cell;\">subscribed_events&nbsp;=&nbsp;[],</div></div><div class=\"1040\" style=\"display: none;\"><div style=\"display: table-cell;\"></div><div style=\"display: table-cell;\">syncable&nbsp;=&nbsp;True,</div></div><div class=\"1040\" style=\"display: none;\"><div style=\"display: table-cell;\"></div><div style=\"display: table-cell;\">tags&nbsp;=&nbsp;[],</div></div><div class=\"1040\" style=\"display: none;\"><div style=\"display: table-cell;\"></div><div style=\"display: table-cell;\">view&nbsp;=&nbsp;CDSView(id='1039', ...),</div></div><div class=\"1040\" style=\"display: none;\"><div style=\"display: table-cell;\"></div><div style=\"display: table-cell;\">visible&nbsp;=&nbsp;True,</div></div><div class=\"1040\" style=\"display: none;\"><div style=\"display: table-cell;\"></div><div style=\"display: table-cell;\">x_range_name&nbsp;=&nbsp;'default',</div></div><div class=\"1040\" style=\"display: none;\"><div style=\"display: table-cell;\"></div><div style=\"display: table-cell;\">y_range_name&nbsp;=&nbsp;'default')</div></div></div>\n",
              "<script>\n",
              "(function() {\n",
              "  var expanded = false;\n",
              "  var ellipsis = document.getElementById(\"1041\");\n",
              "  ellipsis.addEventListener(\"click\", function() {\n",
              "    var rows = document.getElementsByClassName(\"1040\");\n",
              "    for (var i = 0; i < rows.length; i++) {\n",
              "      var el = rows[i];\n",
              "      el.style.display = expanded ? \"none\" : \"table-row\";\n",
              "    }\n",
              "    ellipsis.innerHTML = expanded ? \"&hellip;)\" : \"&lsaquo;&lsaquo;&lsaquo;\";\n",
              "    expanded = !expanded;\n",
              "  });\n",
              "})();\n",
              "</script>\n"
            ],
            "text/plain": [
              "GlyphRenderer(id='1038', ...)"
            ]
          },
          "metadata": {
            "tags": []
          },
          "execution_count": 34
        },
        {
          "output_type": "display_data",
          "data": {
            "application/javascript": [
              "\n",
              "(function(root) {\n",
              "  function now() {\n",
              "    return new Date();\n",
              "  }\n",
              "\n",
              "  var force = true;\n",
              "\n",
              "  if (typeof root._bokeh_onload_callbacks === \"undefined\" || force === true) {\n",
              "    root._bokeh_onload_callbacks = [];\n",
              "    root._bokeh_is_loading = undefined;\n",
              "  }\n",
              "\n",
              "  var JS_MIME_TYPE = 'application/javascript';\n",
              "  var HTML_MIME_TYPE = 'text/html';\n",
              "  var EXEC_MIME_TYPE = 'application/vnd.bokehjs_exec.v0+json';\n",
              "  var CLASS_NAME = 'output_bokeh rendered_html';\n",
              "\n",
              "  /**\n",
              "   * Render data to the DOM node\n",
              "   */\n",
              "  function render(props, node) {\n",
              "    var script = document.createElement(\"script\");\n",
              "    node.appendChild(script);\n",
              "  }\n",
              "\n",
              "  /**\n",
              "   * Handle when an output is cleared or removed\n",
              "   */\n",
              "  function handleClearOutput(event, handle) {\n",
              "    var cell = handle.cell;\n",
              "\n",
              "    var id = cell.output_area._bokeh_element_id;\n",
              "    var server_id = cell.output_area._bokeh_server_id;\n",
              "    // Clean up Bokeh references\n",
              "    if (id != null && id in Bokeh.index) {\n",
              "      Bokeh.index[id].model.document.clear();\n",
              "      delete Bokeh.index[id];\n",
              "    }\n",
              "\n",
              "    if (server_id !== undefined) {\n",
              "      // Clean up Bokeh references\n",
              "      var cmd = \"from bokeh.io.state import curstate; print(curstate().uuid_to_server['\" + server_id + \"'].get_sessions()[0].document.roots[0]._id)\";\n",
              "      cell.notebook.kernel.execute(cmd, {\n",
              "        iopub: {\n",
              "          output: function(msg) {\n",
              "            var id = msg.content.text.trim();\n",
              "            if (id in Bokeh.index) {\n",
              "              Bokeh.index[id].model.document.clear();\n",
              "              delete Bokeh.index[id];\n",
              "            }\n",
              "          }\n",
              "        }\n",
              "      });\n",
              "      // Destroy server and session\n",
              "      var cmd = \"import bokeh.io.notebook as ion; ion.destroy_server('\" + server_id + \"')\";\n",
              "      cell.notebook.kernel.execute(cmd);\n",
              "    }\n",
              "  }\n",
              "\n",
              "  /**\n",
              "   * Handle when a new output is added\n",
              "   */\n",
              "  function handleAddOutput(event, handle) {\n",
              "    var output_area = handle.output_area;\n",
              "    var output = handle.output;\n",
              "\n",
              "    // limit handleAddOutput to display_data with EXEC_MIME_TYPE content only\n",
              "    if ((output.output_type != \"display_data\") || (!Object.prototype.hasOwnProperty.call(output.data, EXEC_MIME_TYPE))) {\n",
              "      return\n",
              "    }\n",
              "\n",
              "    var toinsert = output_area.element.find(\".\" + CLASS_NAME.split(' ')[0]);\n",
              "\n",
              "    if (output.metadata[EXEC_MIME_TYPE][\"id\"] !== undefined) {\n",
              "      toinsert[toinsert.length - 1].firstChild.textContent = output.data[JS_MIME_TYPE];\n",
              "      // store reference to embed id on output_area\n",
              "      output_area._bokeh_element_id = output.metadata[EXEC_MIME_TYPE][\"id\"];\n",
              "    }\n",
              "    if (output.metadata[EXEC_MIME_TYPE][\"server_id\"] !== undefined) {\n",
              "      var bk_div = document.createElement(\"div\");\n",
              "      bk_div.innerHTML = output.data[HTML_MIME_TYPE];\n",
              "      var script_attrs = bk_div.children[0].attributes;\n",
              "      for (var i = 0; i < script_attrs.length; i++) {\n",
              "        toinsert[toinsert.length - 1].firstChild.setAttribute(script_attrs[i].name, script_attrs[i].value);\n",
              "        toinsert[toinsert.length - 1].firstChild.textContent = bk_div.children[0].textContent\n",
              "      }\n",
              "      // store reference to server id on output_area\n",
              "      output_area._bokeh_server_id = output.metadata[EXEC_MIME_TYPE][\"server_id\"];\n",
              "    }\n",
              "  }\n",
              "\n",
              "  function register_renderer(events, OutputArea) {\n",
              "\n",
              "    function append_mime(data, metadata, element) {\n",
              "      // create a DOM node to render to\n",
              "      var toinsert = this.create_output_subarea(\n",
              "        metadata,\n",
              "        CLASS_NAME,\n",
              "        EXEC_MIME_TYPE\n",
              "      );\n",
              "      this.keyboard_manager.register_events(toinsert);\n",
              "      // Render to node\n",
              "      var props = {data: data, metadata: metadata[EXEC_MIME_TYPE]};\n",
              "      render(props, toinsert[toinsert.length - 1]);\n",
              "      element.append(toinsert);\n",
              "      return toinsert\n",
              "    }\n",
              "\n",
              "    /* Handle when an output is cleared or removed */\n",
              "    events.on('clear_output.CodeCell', handleClearOutput);\n",
              "    events.on('delete.Cell', handleClearOutput);\n",
              "\n",
              "    /* Handle when a new output is added */\n",
              "    events.on('output_added.OutputArea', handleAddOutput);\n",
              "\n",
              "    /**\n",
              "     * Register the mime type and append_mime function with output_area\n",
              "     */\n",
              "    OutputArea.prototype.register_mime_type(EXEC_MIME_TYPE, append_mime, {\n",
              "      /* Is output safe? */\n",
              "      safe: true,\n",
              "      /* Index of renderer in `output_area.display_order` */\n",
              "      index: 0\n",
              "    });\n",
              "  }\n",
              "\n",
              "  // register the mime type if in Jupyter Notebook environment and previously unregistered\n",
              "  if (root.Jupyter !== undefined) {\n",
              "    var events = require('base/js/events');\n",
              "    var OutputArea = require('notebook/js/outputarea').OutputArea;\n",
              "\n",
              "    if (OutputArea.prototype.mime_types().indexOf(EXEC_MIME_TYPE) == -1) {\n",
              "      register_renderer(events, OutputArea);\n",
              "    }\n",
              "  }\n",
              "\n",
              "  \n",
              "  if (typeof (root._bokeh_timeout) === \"undefined\" || force === true) {\n",
              "    root._bokeh_timeout = Date.now() + 5000;\n",
              "    root._bokeh_failed_load = false;\n",
              "  }\n",
              "\n",
              "  var NB_LOAD_WARNING = {'data': {'text/html':\n",
              "     \"<div style='background-color: #fdd'>\\n\"+\n",
              "     \"<p>\\n\"+\n",
              "     \"BokehJS does not appear to have successfully loaded. If loading BokehJS from CDN, this \\n\"+\n",
              "     \"may be due to a slow or bad network connection. Possible fixes:\\n\"+\n",
              "     \"</p>\\n\"+\n",
              "     \"<ul>\\n\"+\n",
              "     \"<li>re-rerun `output_notebook()` to attempt to load from CDN again, or</li>\\n\"+\n",
              "     \"<li>use INLINE resources instead, as so:</li>\\n\"+\n",
              "     \"</ul>\\n\"+\n",
              "     \"<code>\\n\"+\n",
              "     \"from bokeh.resources import INLINE\\n\"+\n",
              "     \"output_notebook(resources=INLINE)\\n\"+\n",
              "     \"</code>\\n\"+\n",
              "     \"</div>\"}};\n",
              "\n",
              "  function display_loaded() {\n",
              "    var el = document.getElementById(null);\n",
              "    if (el != null) {\n",
              "      el.textContent = \"BokehJS is loading...\";\n",
              "    }\n",
              "    if (root.Bokeh !== undefined) {\n",
              "      if (el != null) {\n",
              "        el.textContent = \"BokehJS \" + root.Bokeh.version + \" successfully loaded.\";\n",
              "      }\n",
              "    } else if (Date.now() < root._bokeh_timeout) {\n",
              "      setTimeout(display_loaded, 100)\n",
              "    }\n",
              "  }\n",
              "\n",
              "\n",
              "  function run_callbacks() {\n",
              "    try {\n",
              "      root._bokeh_onload_callbacks.forEach(function(callback) {\n",
              "        if (callback != null)\n",
              "          callback();\n",
              "      });\n",
              "    } finally {\n",
              "      delete root._bokeh_onload_callbacks\n",
              "    }\n",
              "    console.debug(\"Bokeh: all callbacks have finished\");\n",
              "  }\n",
              "\n",
              "  function load_libs(css_urls, js_urls, callback) {\n",
              "    if (css_urls == null) css_urls = [];\n",
              "    if (js_urls == null) js_urls = [];\n",
              "\n",
              "    root._bokeh_onload_callbacks.push(callback);\n",
              "    if (root._bokeh_is_loading > 0) {\n",
              "      console.debug(\"Bokeh: BokehJS is being loaded, scheduling callback at\", now());\n",
              "      return null;\n",
              "    }\n",
              "    if (js_urls == null || js_urls.length === 0) {\n",
              "      run_callbacks();\n",
              "      return null;\n",
              "    }\n",
              "    console.debug(\"Bokeh: BokehJS not loaded, scheduling load and callback at\", now());\n",
              "    root._bokeh_is_loading = css_urls.length + js_urls.length;\n",
              "\n",
              "    function on_load() {\n",
              "      root._bokeh_is_loading--;\n",
              "      if (root._bokeh_is_loading === 0) {\n",
              "        console.debug(\"Bokeh: all BokehJS libraries/stylesheets loaded\");\n",
              "        run_callbacks()\n",
              "      }\n",
              "    }\n",
              "\n",
              "    function on_error(url) {\n",
              "      console.error(\"failed to load \" + url);\n",
              "    }\n",
              "\n",
              "    for (let i = 0; i < css_urls.length; i++) {\n",
              "      const url = css_urls[i];\n",
              "      const element = document.createElement(\"link\");\n",
              "      element.onload = on_load;\n",
              "      element.onerror = on_error.bind(null, url);\n",
              "      element.rel = \"stylesheet\";\n",
              "      element.type = \"text/css\";\n",
              "      element.href = url;\n",
              "      console.debug(\"Bokeh: injecting link tag for BokehJS stylesheet: \", url);\n",
              "      document.body.appendChild(element);\n",
              "    }\n",
              "\n",
              "    const hashes = {\"https://cdn.bokeh.org/bokeh/release/bokeh-2.3.1.min.js\": \"YF85VygJKMVnHE+lLv2AM93Vbstr0yo2TbIu5v8se5Rq3UQAUmcuh4aaJwNlpKwa\", \"https://cdn.bokeh.org/bokeh/release/bokeh-widgets-2.3.1.min.js\": \"KKuas3gevv3PvrlkyCMzffFeaMq5we/a2QsP5AUoS3mJ0jmaCL7jirFJN3GoE/lM\", \"https://cdn.bokeh.org/bokeh/release/bokeh-tables-2.3.1.min.js\": \"MK/uFc3YT18pkvvXRl66tTHjP0/dxoSH2e/eiNMFIguKlun2+WVqaPTWmUy/zvh4\"};\n",
              "\n",
              "    for (let i = 0; i < js_urls.length; i++) {\n",
              "      const url = js_urls[i];\n",
              "      const element = document.createElement('script');\n",
              "      element.onload = on_load;\n",
              "      element.onerror = on_error.bind(null, url);\n",
              "      element.async = false;\n",
              "      element.src = url;\n",
              "      if (url in hashes) {\n",
              "        element.crossOrigin = \"anonymous\";\n",
              "        element.integrity = \"sha384-\" + hashes[url];\n",
              "      }\n",
              "      console.debug(\"Bokeh: injecting script tag for BokehJS library: \", url);\n",
              "      document.head.appendChild(element);\n",
              "    }\n",
              "  };\n",
              "\n",
              "  function inject_raw_css(css) {\n",
              "    const element = document.createElement(\"style\");\n",
              "    element.appendChild(document.createTextNode(css));\n",
              "    document.body.appendChild(element);\n",
              "  }\n",
              "\n",
              "  \n",
              "  var js_urls = [\"https://cdn.bokeh.org/bokeh/release/bokeh-2.3.1.min.js\", \"https://cdn.bokeh.org/bokeh/release/bokeh-widgets-2.3.1.min.js\", \"https://cdn.bokeh.org/bokeh/release/bokeh-tables-2.3.1.min.js\"];\n",
              "  var css_urls = [];\n",
              "  \n",
              "\n",
              "  var inline_js = [\n",
              "    function(Bokeh) {\n",
              "      Bokeh.set_log_level(\"info\");\n",
              "    },\n",
              "    function(Bokeh) {\n",
              "    \n",
              "    \n",
              "    }\n",
              "  ];\n",
              "\n",
              "  function run_inline_js() {\n",
              "    \n",
              "    if (root.Bokeh !== undefined || force === true) {\n",
              "      \n",
              "    for (var i = 0; i < inline_js.length; i++) {\n",
              "      inline_js[i].call(root, root.Bokeh);\n",
              "    }\n",
              "    } else if (Date.now() < root._bokeh_timeout) {\n",
              "      setTimeout(run_inline_js, 100);\n",
              "    } else if (!root._bokeh_failed_load) {\n",
              "      console.log(\"Bokeh: BokehJS failed to load within specified timeout.\");\n",
              "      root._bokeh_failed_load = true;\n",
              "    } else if (force !== true) {\n",
              "      var cell = $(document.getElementById(null)).parents('.cell').data().cell;\n",
              "      cell.output_area.append_execute_result(NB_LOAD_WARNING)\n",
              "    }\n",
              "\n",
              "  }\n",
              "\n",
              "  if (root._bokeh_is_loading === 0) {\n",
              "    console.debug(\"Bokeh: BokehJS loaded, going straight to plotting\");\n",
              "    run_inline_js();\n",
              "  } else {\n",
              "    load_libs(css_urls, js_urls, function() {\n",
              "      console.debug(\"Bokeh: BokehJS plotting callback run at\", now());\n",
              "      run_inline_js();\n",
              "    });\n",
              "  }\n",
              "}(window));"
            ],
            "application/vnd.bokehjs_load.v0+json": "\n(function(root) {\n  function now() {\n    return new Date();\n  }\n\n  var force = true;\n\n  if (typeof root._bokeh_onload_callbacks === \"undefined\" || force === true) {\n    root._bokeh_onload_callbacks = [];\n    root._bokeh_is_loading = undefined;\n  }\n\n  \n\n  \n  if (typeof (root._bokeh_timeout) === \"undefined\" || force === true) {\n    root._bokeh_timeout = Date.now() + 5000;\n    root._bokeh_failed_load = false;\n  }\n\n  var NB_LOAD_WARNING = {'data': {'text/html':\n     \"<div style='background-color: #fdd'>\\n\"+\n     \"<p>\\n\"+\n     \"BokehJS does not appear to have successfully loaded. If loading BokehJS from CDN, this \\n\"+\n     \"may be due to a slow or bad network connection. Possible fixes:\\n\"+\n     \"</p>\\n\"+\n     \"<ul>\\n\"+\n     \"<li>re-rerun `output_notebook()` to attempt to load from CDN again, or</li>\\n\"+\n     \"<li>use INLINE resources instead, as so:</li>\\n\"+\n     \"</ul>\\n\"+\n     \"<code>\\n\"+\n     \"from bokeh.resources import INLINE\\n\"+\n     \"output_notebook(resources=INLINE)\\n\"+\n     \"</code>\\n\"+\n     \"</div>\"}};\n\n  function display_loaded() {\n    var el = document.getElementById(null);\n    if (el != null) {\n      el.textContent = \"BokehJS is loading...\";\n    }\n    if (root.Bokeh !== undefined) {\n      if (el != null) {\n        el.textContent = \"BokehJS \" + root.Bokeh.version + \" successfully loaded.\";\n      }\n    } else if (Date.now() < root._bokeh_timeout) {\n      setTimeout(display_loaded, 100)\n    }\n  }\n\n\n  function run_callbacks() {\n    try {\n      root._bokeh_onload_callbacks.forEach(function(callback) {\n        if (callback != null)\n          callback();\n      });\n    } finally {\n      delete root._bokeh_onload_callbacks\n    }\n    console.debug(\"Bokeh: all callbacks have finished\");\n  }\n\n  function load_libs(css_urls, js_urls, callback) {\n    if (css_urls == null) css_urls = [];\n    if (js_urls == null) js_urls = [];\n\n    root._bokeh_onload_callbacks.push(callback);\n    if (root._bokeh_is_loading > 0) {\n      console.debug(\"Bokeh: BokehJS is being loaded, scheduling callback at\", now());\n      return null;\n    }\n    if (js_urls == null || js_urls.length === 0) {\n      run_callbacks();\n      return null;\n    }\n    console.debug(\"Bokeh: BokehJS not loaded, scheduling load and callback at\", now());\n    root._bokeh_is_loading = css_urls.length + js_urls.length;\n\n    function on_load() {\n      root._bokeh_is_loading--;\n      if (root._bokeh_is_loading === 0) {\n        console.debug(\"Bokeh: all BokehJS libraries/stylesheets loaded\");\n        run_callbacks()\n      }\n    }\n\n    function on_error(url) {\n      console.error(\"failed to load \" + url);\n    }\n\n    for (let i = 0; i < css_urls.length; i++) {\n      const url = css_urls[i];\n      const element = document.createElement(\"link\");\n      element.onload = on_load;\n      element.onerror = on_error.bind(null, url);\n      element.rel = \"stylesheet\";\n      element.type = \"text/css\";\n      element.href = url;\n      console.debug(\"Bokeh: injecting link tag for BokehJS stylesheet: \", url);\n      document.body.appendChild(element);\n    }\n\n    const hashes = {\"https://cdn.bokeh.org/bokeh/release/bokeh-2.3.1.min.js\": \"YF85VygJKMVnHE+lLv2AM93Vbstr0yo2TbIu5v8se5Rq3UQAUmcuh4aaJwNlpKwa\", \"https://cdn.bokeh.org/bokeh/release/bokeh-widgets-2.3.1.min.js\": \"KKuas3gevv3PvrlkyCMzffFeaMq5we/a2QsP5AUoS3mJ0jmaCL7jirFJN3GoE/lM\", \"https://cdn.bokeh.org/bokeh/release/bokeh-tables-2.3.1.min.js\": \"MK/uFc3YT18pkvvXRl66tTHjP0/dxoSH2e/eiNMFIguKlun2+WVqaPTWmUy/zvh4\"};\n\n    for (let i = 0; i < js_urls.length; i++) {\n      const url = js_urls[i];\n      const element = document.createElement('script');\n      element.onload = on_load;\n      element.onerror = on_error.bind(null, url);\n      element.async = false;\n      element.src = url;\n      if (url in hashes) {\n        element.crossOrigin = \"anonymous\";\n        element.integrity = \"sha384-\" + hashes[url];\n      }\n      console.debug(\"Bokeh: injecting script tag for BokehJS library: \", url);\n      document.head.appendChild(element);\n    }\n  };\n\n  function inject_raw_css(css) {\n    const element = document.createElement(\"style\");\n    element.appendChild(document.createTextNode(css));\n    document.body.appendChild(element);\n  }\n\n  \n  var js_urls = [\"https://cdn.bokeh.org/bokeh/release/bokeh-2.3.1.min.js\", \"https://cdn.bokeh.org/bokeh/release/bokeh-widgets-2.3.1.min.js\", \"https://cdn.bokeh.org/bokeh/release/bokeh-tables-2.3.1.min.js\"];\n  var css_urls = [];\n  \n\n  var inline_js = [\n    function(Bokeh) {\n      Bokeh.set_log_level(\"info\");\n    },\n    function(Bokeh) {\n    \n    \n    }\n  ];\n\n  function run_inline_js() {\n    \n    if (root.Bokeh !== undefined || force === true) {\n      \n    for (var i = 0; i < inline_js.length; i++) {\n      inline_js[i].call(root, root.Bokeh);\n    }\n    } else if (Date.now() < root._bokeh_timeout) {\n      setTimeout(run_inline_js, 100);\n    } else if (!root._bokeh_failed_load) {\n      console.log(\"Bokeh: BokehJS failed to load within specified timeout.\");\n      root._bokeh_failed_load = true;\n    } else if (force !== true) {\n      var cell = $(document.getElementById(null)).parents('.cell').data().cell;\n      cell.output_area.append_execute_result(NB_LOAD_WARNING)\n    }\n\n  }\n\n  if (root._bokeh_is_loading === 0) {\n    console.debug(\"Bokeh: BokehJS loaded, going straight to plotting\");\n    run_inline_js();\n  } else {\n    load_libs(css_urls, js_urls, function() {\n      console.debug(\"Bokeh: BokehJS plotting callback run at\", now());\n      run_inline_js();\n    });\n  }\n}(window));"
          },
          "metadata": {
            "tags": []
          }
        },
        {
          "output_type": "display_data",
          "data": {
            "text/html": [
              "\n",
              "\n",
              "\n",
              "\n",
              "\n",
              "\n",
              "  <div class=\"bk-root\" id=\"2d0a1c6e-c7d0-457d-8525-5a0099ea9d1f\" data-root-id=\"1002\"></div>\n"
            ]
          },
          "metadata": {
            "tags": []
          }
        },
        {
          "output_type": "display_data",
          "data": {
            "application/javascript": [
              "(function(root) {\n",
              "  function embed_document(root) {\n",
              "    \n",
              "  var docs_json = {\"ed7167dc-8d82-45de-8660-4c85f19bb0e8\":{\"defs\":[],\"roots\":{\"references\":[{\"attributes\":{\"below\":[{\"id\":\"1013\"}],\"center\":[{\"id\":\"1016\"},{\"id\":\"1020\"},{\"id\":\"1042\"},{\"id\":\"1043\"},{\"id\":\"1044\"},{\"id\":\"1045\"},{\"id\":\"1046\"},{\"id\":\"1047\"}],\"height\":700,\"left\":[{\"id\":\"1017\"}],\"renderers\":[{\"id\":\"1038\"}],\"title\":{\"id\":\"1003\"},\"toolbar\":{\"id\":\"1028\"},\"width\":700,\"x_range\":{\"id\":\"1005\"},\"x_scale\":{\"id\":\"1009\"},\"y_range\":{\"id\":\"1007\"},\"y_scale\":{\"id\":\"1011\"}},\"id\":\"1002\",\"subtype\":\"Figure\",\"type\":\"Plot\"},{\"attributes\":{\"text\":\"don know user\",\"text_color\":\"#ffbb78\",\"x\":35.04585266113281,\"y\":-2.119131088256836},\"id\":\"1045\",\"type\":\"Label\"},{\"attributes\":{\"text\":\"t-SNE Clustering of 6 LSA Topics\"},\"id\":\"1003\",\"type\":\"Title\"},{\"attributes\":{},\"id\":\"1053\",\"type\":\"BasicTickFormatter\"},{\"attributes\":{\"axis\":{\"id\":\"1013\"},\"ticker\":null},\"id\":\"1016\",\"type\":\"Grid\"},{\"attributes\":{\"text\":\"just want really\",\"text_color\":\"#ff7f0e\",\"x\":15.926715850830078,\"y\":-12.29491901397705},\"id\":\"1044\",\"type\":\"Label\"},{\"attributes\":{\"source\":{\"id\":\"1035\"}},\"id\":\"1039\",\"type\":\"CDSView\"},{\"attributes\":{\"text\":\"like depression feel\",\"text_color\":\"#2ca02c\",\"x\":12.824638366699219,\"y\":-6.612082004547119},\"id\":\"1046\",\"type\":\"Label\"},{\"attributes\":{},\"id\":\"1014\",\"type\":\"BasicTicker\"},{\"attributes\":{},\"id\":\"1007\",\"type\":\"DataRange1d\"},{\"attributes\":{},\"id\":\"1005\",\"type\":\"DataRange1d\"},{\"attributes\":{},\"id\":\"1026\",\"type\":\"HelpTool\"},{\"attributes\":{},\"id\":\"1056\",\"type\":\"UnionRenderers\"},{\"attributes\":{},\"id\":\"1025\",\"type\":\"ResetTool\"},{\"attributes\":{\"fill_color\":{\"field\":\"fill_color\"},\"line_color\":{\"field\":\"line_color\"},\"x\":{\"field\":\"x\"},\"y\":{\"field\":\"y\"}},\"id\":\"1036\",\"type\":\"Scatter\"},{\"attributes\":{},\"id\":\"1057\",\"type\":\"Selection\"},{\"attributes\":{\"text\":\"user just shocking\",\"text_color\":\"#1f77b4\",\"x\":-19.615610122680664,\"y\":13.828019142150879},\"id\":\"1042\",\"type\":\"Label\"},{\"attributes\":{},\"id\":\"1018\",\"type\":\"BasicTicker\"},{\"attributes\":{\"text\":\"watch live amazing\",\"text_color\":\"#aec7e8\",\"x\":-25.048572540283203,\"y\":-24.764568328857422},\"id\":\"1043\",\"type\":\"Label\"},{\"attributes\":{\"axis\":{\"id\":\"1017\"},\"dimension\":1,\"ticker\":null},\"id\":\"1020\",\"type\":\"Grid\"},{\"attributes\":{\"active_multi\":null,\"tools\":[{\"id\":\"1021\"},{\"id\":\"1022\"},{\"id\":\"1023\"},{\"id\":\"1024\"},{\"id\":\"1025\"},{\"id\":\"1026\"}]},\"id\":\"1028\",\"type\":\"Toolbar\"},{\"attributes\":{\"overlay\":{\"id\":\"1027\"}},\"id\":\"1023\",\"type\":\"BoxZoomTool\"},{\"attributes\":{\"bottom_units\":\"screen\",\"fill_alpha\":0.5,\"fill_color\":\"lightgrey\",\"left_units\":\"screen\",\"level\":\"overlay\",\"line_alpha\":1.0,\"line_color\":\"black\",\"line_dash\":[4,4],\"line_width\":2,\"right_units\":\"screen\",\"syncable\":false,\"top_units\":\"screen\"},\"id\":\"1027\",\"type\":\"BoxAnnotation\"},{\"attributes\":{\"formatter\":{\"id\":\"1050\"},\"major_label_policy\":{\"id\":\"1049\"},\"ticker\":{\"id\":\"1014\"}},\"id\":\"1013\",\"type\":\"LinearAxis\"},{\"attributes\":{},\"id\":\"1050\",\"type\":\"BasicTickFormatter\"},{\"attributes\":{},\"id\":\"1024\",\"type\":\"SaveTool\"},{\"attributes\":{\"formatter\":{\"id\":\"1053\"},\"major_label_policy\":{\"id\":\"1052\"},\"ticker\":{\"id\":\"1018\"}},\"id\":\"1017\",\"type\":\"LinearAxis\"},{\"attributes\":{\"fill_alpha\":{\"value\":0.1},\"fill_color\":{\"field\":\"fill_color\"},\"line_alpha\":{\"value\":0.1},\"line_color\":{\"field\":\"line_color\"},\"x\":{\"field\":\"x\"},\"y\":{\"field\":\"y\"}},\"id\":\"1037\",\"type\":\"Scatter\"},{\"attributes\":{\"text\":\"people lost angry\",\"text_color\":\"#98df8a\",\"x\":-2.7198102474212646,\"y\":-12.405702590942383},\"id\":\"1047\",\"type\":\"Label\"},{\"attributes\":{\"data_source\":{\"id\":\"1035\"},\"glyph\":{\"id\":\"1036\"},\"hover_glyph\":null,\"muted_glyph\":null,\"nonselection_glyph\":{\"id\":\"1037\"},\"view\":{\"id\":\"1039\"}},\"id\":\"1038\",\"type\":\"GlyphRenderer\"},{\"attributes\":{},\"id\":\"1022\",\"type\":\"WheelZoomTool\"},{\"attributes\":{},\"id\":\"1052\",\"type\":\"AllLabels\"},{\"attributes\":{},\"id\":\"1011\",\"type\":\"LinearScale\"},{\"attributes\":{},\"id\":\"1021\",\"type\":\"PanTool\"},{\"attributes\":{},\"id\":\"1049\",\"type\":\"AllLabels\"},{\"attributes\":{\"data\":{\"fill_color\":[\"#ffbb78\",\"#ff7f0e\",\"#ff7f0e\",\"#ff7f0e\",\"#ff7f0e\",\"#1f77b4\",\"#ff7f0e\",\"#ff7f0e\",\"#1f77b4\",\"#1f77b4\",\"#1f77b4\",\"#1f77b4\",\"#ff7f0e\",\"#1f77b4\",\"#2ca02c\",\"#ffbb78\",\"#1f77b4\",\"#ff7f0e\",\"#1f77b4\",\"#1f77b4\",\"#ff7f0e\",\"#ff7f0e\",\"#98df8a\",\"#1f77b4\",\"#1f77b4\",\"#1f77b4\",\"#ff7f0e\",\"#ff7f0e\",\"#ff7f0e\",\"#98df8a\",\"#ff7f0e\",\"#ff7f0e\",\"#1f77b4\",\"#1f77b4\",\"#ff7f0e\",\"#ff7f0e\",\"#2ca02c\",\"#ff7f0e\",\"#2ca02c\",\"#1f77b4\",\"#98df8a\",\"#ff7f0e\",\"#ff7f0e\",\"#98df8a\",\"#1f77b4\",\"#ff7f0e\",\"#1f77b4\",\"#ff7f0e\",\"#1f77b4\",\"#2ca02c\",\"#2ca02c\",\"#1f77b4\",\"#1f77b4\",\"#ff7f0e\",\"#1f77b4\",\"#1f77b4\",\"#1f77b4\",\"#98df8a\",\"#ff7f0e\",\"#1f77b4\",\"#ff7f0e\",\"#1f77b4\",\"#1f77b4\",\"#98df8a\",\"#2ca02c\",\"#98df8a\",\"#98df8a\",\"#1f77b4\",\"#ff7f0e\",\"#ff7f0e\",\"#1f77b4\",\"#ff7f0e\",\"#ff7f0e\",\"#1f77b4\",\"#1f77b4\",\"#1f77b4\",\"#ff7f0e\",\"#1f77b4\",\"#ff7f0e\",\"#1f77b4\",\"#2ca02c\",\"#ff7f0e\",\"#98df8a\",\"#1f77b4\",\"#1f77b4\",\"#ff7f0e\",\"#ff7f0e\",\"#ff7f0e\",\"#98df8a\",\"#ff7f0e\",\"#ff7f0e\",\"#ff7f0e\",\"#1f77b4\",\"#1f77b4\",\"#1f77b4\",\"#1f77b4\",\"#ff7f0e\",\"#1f77b4\",\"#1f77b4\",\"#1f77b4\",\"#98df8a\",\"#ff7f0e\",\"#ff7f0e\",\"#1f77b4\",\"#1f77b4\",\"#1f77b4\",\"#ff7f0e\",\"#1f77b4\",\"#1f77b4\",\"#ff7f0e\",\"#ff7f0e\",\"#98df8a\",\"#ff7f0e\",\"#ff7f0e\",\"#ff7f0e\",\"#ff7f0e\",\"#2ca02c\",\"#ff7f0e\",\"#98df8a\",\"#ff7f0e\",\"#ffbb78\",\"#98df8a\",\"#1f77b4\",\"#1f77b4\",\"#ff7f0e\",\"#98df8a\",\"#1f77b4\",\"#ff7f0e\",\"#1f77b4\",\"#1f77b4\",\"#1f77b4\",\"#ff7f0e\",\"#1f77b4\",\"#1f77b4\",\"#98df8a\",\"#2ca02c\",\"#1f77b4\",\"#ff7f0e\",\"#1f77b4\",\"#1f77b4\",\"#ffbb78\",\"#1f77b4\",\"#2ca02c\",\"#1f77b4\",\"#98df8a\",\"#1f77b4\",\"#2ca02c\",\"#1f77b4\",\"#ff7f0e\",\"#1f77b4\",\"#1f77b4\",\"#ff7f0e\",\"#1f77b4\",\"#98df8a\",\"#98df8a\",\"#ff7f0e\",\"#98df8a\",\"#ff7f0e\",\"#2ca02c\",\"#1f77b4\",\"#1f77b4\",\"#1f77b4\",\"#ff7f0e\",\"#ffbb78\",\"#1f77b4\",\"#ff7f0e\",\"#1f77b4\",\"#ff7f0e\",\"#ff7f0e\",\"#ff7f0e\",\"#98df8a\",\"#1f77b4\",\"#ff7f0e\",\"#2ca02c\",\"#1f77b4\",\"#1f77b4\",\"#aec7e8\",\"#ff7f0e\",\"#1f77b4\",\"#1f77b4\",\"#1f77b4\",\"#ff7f0e\",\"#1f77b4\",\"#ff7f0e\",\"#1f77b4\",\"#1f77b4\",\"#1f77b4\",\"#1f77b4\",\"#ff7f0e\",\"#1f77b4\",\"#1f77b4\",\"#2ca02c\",\"#ff7f0e\",\"#1f77b4\",\"#1f77b4\",\"#1f77b4\",\"#1f77b4\",\"#1f77b4\",\"#2ca02c\",\"#1f77b4\",\"#1f77b4\",\"#1f77b4\",\"#1f77b4\",\"#ff7f0e\",\"#1f77b4\",\"#ff7f0e\",\"#ff7f0e\",\"#ffbb78\",\"#1f77b4\",\"#1f77b4\",\"#ff7f0e\",\"#ff7f0e\",\"#aec7e8\",\"#ff7f0e\",\"#ff7f0e\",\"#98df8a\",\"#1f77b4\",\"#ff7f0e\",\"#2ca02c\",\"#aec7e8\",\"#ffbb78\",\"#1f77b4\",\"#1f77b4\",\"#ff7f0e\",\"#98df8a\",\"#1f77b4\",\"#2ca02c\",\"#ff7f0e\",\"#1f77b4\",\"#1f77b4\",\"#1f77b4\",\"#ff7f0e\",\"#98df8a\",\"#ff7f0e\",\"#ff7f0e\",\"#1f77b4\",\"#1f77b4\",\"#ffbb78\",\"#ffbb78\",\"#aec7e8\",\"#ff7f0e\",\"#1f77b4\",\"#ffbb78\",\"#ff7f0e\",\"#1f77b4\",\"#2ca02c\",\"#1f77b4\",\"#1f77b4\",\"#ff7f0e\",\"#ff7f0e\",\"#1f77b4\",\"#ff7f0e\",\"#1f77b4\",\"#ff7f0e\",\"#1f77b4\",\"#1f77b4\",\"#1f77b4\",\"#1f77b4\",\"#1f77b4\",\"#1f77b4\",\"#98df8a\",\"#1f77b4\",\"#2ca02c\",\"#ff7f0e\",\"#1f77b4\",\"#ff7f0e\",\"#ff7f0e\",\"#ff7f0e\",\"#1f77b4\",\"#98df8a\",\"#1f77b4\",\"#aec7e8\",\"#1f77b4\",\"#ff7f0e\",\"#1f77b4\",\"#1f77b4\",\"#1f77b4\",\"#1f77b4\",\"#2ca02c\",\"#1f77b4\",\"#ff7f0e\",\"#2ca02c\",\"#1f77b4\",\"#98df8a\",\"#1f77b4\",\"#ffbb78\",\"#1f77b4\",\"#1f77b4\",\"#1f77b4\",\"#ff7f0e\",\"#ff7f0e\",\"#1f77b4\",\"#1f77b4\",\"#2ca02c\",\"#98df8a\",\"#1f77b4\",\"#1f77b4\",\"#1f77b4\",\"#1f77b4\",\"#1f77b4\",\"#1f77b4\",\"#ff7f0e\",\"#ffbb78\",\"#1f77b4\",\"#ff7f0e\",\"#ff7f0e\",\"#2ca02c\",\"#2ca02c\",\"#2ca02c\",\"#ffbb78\",\"#1f77b4\",\"#2ca02c\",\"#1f77b4\",\"#1f77b4\",\"#1f77b4\",\"#1f77b4\",\"#2ca02c\",\"#ff7f0e\",\"#1f77b4\",\"#ff7f0e\",\"#1f77b4\",\"#ff7f0e\",\"#1f77b4\",\"#ff7f0e\",\"#ff7f0e\",\"#ff7f0e\",\"#ff7f0e\",\"#ff7f0e\",\"#ff7f0e\",\"#ff7f0e\",\"#ff7f0e\",\"#1f77b4\",\"#ff7f0e\",\"#1f77b4\",\"#1f77b4\",\"#2ca02c\",\"#1f77b4\",\"#1f77b4\",\"#2ca02c\",\"#ff7f0e\",\"#1f77b4\",\"#1f77b4\",\"#1f77b4\",\"#1f77b4\",\"#aec7e8\",\"#98df8a\",\"#1f77b4\",\"#1f77b4\",\"#ff7f0e\",\"#ff7f0e\",\"#ff7f0e\",\"#1f77b4\",\"#ff7f0e\",\"#1f77b4\",\"#ff7f0e\",\"#1f77b4\",\"#98df8a\",\"#2ca02c\",\"#ff7f0e\",\"#1f77b4\",\"#1f77b4\",\"#98df8a\",\"#1f77b4\",\"#1f77b4\",\"#1f77b4\",\"#2ca02c\",\"#2ca02c\",\"#ff7f0e\",\"#ff7f0e\",\"#ff7f0e\",\"#2ca02c\",\"#ffbb78\",\"#ff7f0e\",\"#1f77b4\",\"#ff7f0e\",\"#1f77b4\",\"#1f77b4\",\"#1f77b4\",\"#1f77b4\",\"#2ca02c\",\"#ff7f0e\",\"#1f77b4\",\"#1f77b4\",\"#1f77b4\",\"#1f77b4\",\"#1f77b4\",\"#1f77b4\",\"#ffbb78\",\"#1f77b4\",\"#2ca02c\",\"#ff7f0e\",\"#1f77b4\",\"#ff7f0e\",\"#ff7f0e\",\"#1f77b4\",\"#98df8a\",\"#ff7f0e\",\"#1f77b4\",\"#1f77b4\",\"#ff7f0e\",\"#1f77b4\",\"#1f77b4\",\"#ff7f0e\",\"#1f77b4\",\"#1f77b4\",\"#ff7f0e\",\"#1f77b4\",\"#1f77b4\",\"#1f77b4\",\"#1f77b4\",\"#1f77b4\",\"#2ca02c\",\"#2ca02c\",\"#1f77b4\",\"#ffbb78\",\"#1f77b4\",\"#ff7f0e\",\"#1f77b4\",\"#2ca02c\",\"#1f77b4\",\"#2ca02c\",\"#1f77b4\",\"#2ca02c\",\"#1f77b4\",\"#1f77b4\",\"#ff7f0e\",\"#2ca02c\",\"#1f77b4\",\"#2ca02c\",\"#ff7f0e\",\"#98df8a\",\"#ffbb78\",\"#1f77b4\",\"#1f77b4\",\"#1f77b4\",\"#aec7e8\",\"#1f77b4\",\"#1f77b4\",\"#ffbb78\",\"#ffbb78\",\"#1f77b4\",\"#1f77b4\",\"#1f77b4\",\"#ff7f0e\",\"#1f77b4\",\"#1f77b4\",\"#1f77b4\",\"#aec7e8\",\"#ff7f0e\",\"#98df8a\",\"#ff7f0e\",\"#98df8a\",\"#1f77b4\",\"#1f77b4\",\"#1f77b4\",\"#1f77b4\",\"#1f77b4\",\"#ff7f0e\",\"#1f77b4\",\"#1f77b4\",\"#2ca02c\",\"#1f77b4\",\"#ff7f0e\",\"#1f77b4\",\"#ffbb78\",\"#1f77b4\",\"#1f77b4\",\"#ff7f0e\",\"#ffbb78\",\"#1f77b4\",\"#1f77b4\",\"#2ca02c\",\"#1f77b4\",\"#ff7f0e\",\"#1f77b4\",\"#ff7f0e\",\"#ff7f0e\",\"#ffbb78\",\"#ff7f0e\",\"#ff7f0e\",\"#1f77b4\",\"#1f77b4\",\"#ffbb78\",\"#ff7f0e\",\"#1f77b4\",\"#2ca02c\",\"#ff7f0e\",\"#ffbb78\",\"#1f77b4\",\"#1f77b4\",\"#1f77b4\",\"#ff7f0e\",\"#1f77b4\",\"#1f77b4\",\"#ff7f0e\",\"#1f77b4\",\"#1f77b4\",\"#ff7f0e\",\"#1f77b4\",\"#ff7f0e\",\"#1f77b4\",\"#ff7f0e\",\"#ff7f0e\",\"#ff7f0e\",\"#98df8a\",\"#98df8a\",\"#2ca02c\",\"#2ca02c\",\"#1f77b4\",\"#1f77b4\",\"#98df8a\",\"#1f77b4\",\"#aec7e8\",\"#ff7f0e\",\"#ff7f0e\",\"#ff7f0e\",\"#1f77b4\",\"#98df8a\",\"#1f77b4\",\"#1f77b4\",\"#1f77b4\",\"#1f77b4\",\"#98df8a\",\"#98df8a\",\"#98df8a\",\"#ff7f0e\",\"#1f77b4\",\"#1f77b4\",\"#1f77b4\",\"#2ca02c\",\"#ff7f0e\",\"#ff7f0e\",\"#1f77b4\",\"#1f77b4\",\"#2ca02c\",\"#ff7f0e\",\"#ff7f0e\",\"#2ca02c\",\"#ff7f0e\",\"#1f77b4\",\"#1f77b4\",\"#1f77b4\",\"#ff7f0e\",\"#ff7f0e\",\"#1f77b4\",\"#ff7f0e\",\"#1f77b4\",\"#ff7f0e\",\"#ff7f0e\",\"#98df8a\",\"#1f77b4\",\"#1f77b4\",\"#ff7f0e\",\"#1f77b4\",\"#2ca02c\",\"#ffbb78\",\"#1f77b4\",\"#ff7f0e\",\"#1f77b4\",\"#98df8a\",\"#ff7f0e\",\"#1f77b4\",\"#98df8a\",\"#1f77b4\",\"#1f77b4\",\"#ffbb78\",\"#2ca02c\",\"#2ca02c\",\"#1f77b4\",\"#1f77b4\",\"#1f77b4\",\"#1f77b4\",\"#1f77b4\",\"#1f77b4\",\"#1f77b4\",\"#1f77b4\",\"#ffbb78\",\"#1f77b4\",\"#ff7f0e\",\"#1f77b4\",\"#1f77b4\",\"#aec7e8\",\"#98df8a\",\"#1f77b4\",\"#98df8a\",\"#ff7f0e\",\"#1f77b4\",\"#98df8a\",\"#ff7f0e\",\"#ffbb78\",\"#1f77b4\",\"#1f77b4\",\"#1f77b4\",\"#2ca02c\",\"#1f77b4\",\"#ff7f0e\",\"#1f77b4\",\"#ff7f0e\",\"#98df8a\",\"#ff7f0e\",\"#1f77b4\",\"#ff7f0e\",\"#ff7f0e\",\"#ff7f0e\",\"#ff7f0e\",\"#98df8a\",\"#ff7f0e\",\"#1f77b4\",\"#ff7f0e\",\"#ff7f0e\",\"#ff7f0e\",\"#1f77b4\",\"#1f77b4\",\"#1f77b4\",\"#1f77b4\",\"#1f77b4\",\"#1f77b4\",\"#1f77b4\",\"#ff7f0e\",\"#ff7f0e\",\"#2ca02c\",\"#1f77b4\",\"#ff7f0e\",\"#2ca02c\",\"#2ca02c\",\"#98df8a\",\"#ff7f0e\",\"#1f77b4\",\"#ff7f0e\",\"#ff7f0e\",\"#1f77b4\",\"#1f77b4\",\"#1f77b4\",\"#ff7f0e\",\"#ff7f0e\",\"#1f77b4\",\"#98df8a\",\"#1f77b4\",\"#1f77b4\",\"#1f77b4\",\"#ff7f0e\",\"#1f77b4\",\"#1f77b4\",\"#ff7f0e\",\"#ff7f0e\",\"#1f77b4\",\"#ff7f0e\",\"#1f77b4\",\"#1f77b4\",\"#1f77b4\",\"#98df8a\",\"#ff7f0e\",\"#ff7f0e\",\"#98df8a\",\"#1f77b4\",\"#ffbb78\",\"#1f77b4\",\"#ff7f0e\",\"#1f77b4\",\"#ff7f0e\",\"#ff7f0e\",\"#ff7f0e\",\"#ff7f0e\",\"#ff7f0e\",\"#ff7f0e\",\"#1f77b4\",\"#ff7f0e\",\"#ff7f0e\",\"#ff7f0e\",\"#ffbb78\",\"#98df8a\",\"#ffbb78\",\"#1f77b4\",\"#98df8a\",\"#ffbb78\",\"#98df8a\",\"#1f77b4\",\"#1f77b4\",\"#1f77b4\",\"#ff7f0e\",\"#ff7f0e\",\"#ff7f0e\",\"#1f77b4\",\"#1f77b4\",\"#1f77b4\",\"#1f77b4\",\"#ff7f0e\",\"#1f77b4\",\"#1f77b4\",\"#98df8a\",\"#2ca02c\",\"#1f77b4\",\"#98df8a\",\"#ff7f0e\",\"#ff7f0e\",\"#98df8a\",\"#2ca02c\",\"#ff7f0e\",\"#98df8a\",\"#1f77b4\",\"#ff7f0e\",\"#1f77b4\",\"#ff7f0e\",\"#98df8a\",\"#ffbb78\",\"#ff7f0e\",\"#ff7f0e\",\"#ff7f0e\",\"#1f77b4\",\"#98df8a\",\"#1f77b4\",\"#ff7f0e\",\"#1f77b4\",\"#ff7f0e\",\"#1f77b4\",\"#ff7f0e\",\"#1f77b4\",\"#98df8a\",\"#1f77b4\",\"#1f77b4\",\"#2ca02c\",\"#1f77b4\",\"#1f77b4\",\"#1f77b4\",\"#ff7f0e\",\"#ff7f0e\",\"#1f77b4\",\"#ff7f0e\",\"#2ca02c\",\"#1f77b4\",\"#2ca02c\",\"#2ca02c\",\"#2ca02c\",\"#1f77b4\",\"#1f77b4\",\"#98df8a\",\"#1f77b4\",\"#ff7f0e\",\"#98df8a\",\"#2ca02c\",\"#2ca02c\",\"#1f77b4\",\"#ff7f0e\",\"#ff7f0e\",\"#ff7f0e\",\"#1f77b4\",\"#ff7f0e\",\"#1f77b4\",\"#1f77b4\",\"#1f77b4\",\"#98df8a\",\"#1f77b4\",\"#1f77b4\",\"#1f77b4\",\"#1f77b4\",\"#1f77b4\",\"#ff7f0e\",\"#98df8a\",\"#1f77b4\",\"#ff7f0e\",\"#ff7f0e\",\"#1f77b4\",\"#aec7e8\",\"#ff7f0e\",\"#1f77b4\",\"#1f77b4\",\"#1f77b4\",\"#ff7f0e\",\"#ff7f0e\",\"#1f77b4\",\"#1f77b4\",\"#ff7f0e\",\"#ff7f0e\",\"#1f77b4\",\"#2ca02c\",\"#1f77b4\",\"#ffbb78\",\"#1f77b4\",\"#1f77b4\",\"#1f77b4\",\"#1f77b4\",\"#ff7f0e\",\"#1f77b4\",\"#98df8a\",\"#ff7f0e\",\"#ff7f0e\",\"#ff7f0e\",\"#1f77b4\",\"#ff7f0e\",\"#ffbb78\",\"#ffbb78\",\"#ff7f0e\",\"#ff7f0e\",\"#98df8a\",\"#ff7f0e\",\"#ff7f0e\",\"#1f77b4\",\"#ff7f0e\",\"#1f77b4\",\"#ffbb78\",\"#ff7f0e\",\"#98df8a\",\"#ff7f0e\",\"#ff7f0e\",\"#ff7f0e\",\"#ff7f0e\",\"#ff7f0e\",\"#1f77b4\",\"#1f77b4\",\"#ff7f0e\",\"#ff7f0e\",\"#ff7f0e\",\"#ff7f0e\",\"#ff7f0e\",\"#ffbb78\",\"#2ca02c\",\"#1f77b4\",\"#ff7f0e\",\"#ff7f0e\",\"#ffbb78\",\"#ff7f0e\",\"#98df8a\",\"#1f77b4\",\"#1f77b4\",\"#1f77b4\",\"#2ca02c\",\"#ff7f0e\",\"#ff7f0e\",\"#2ca02c\",\"#ffbb78\",\"#98df8a\",\"#ff7f0e\",\"#1f77b4\",\"#ff7f0e\",\"#aec7e8\",\"#1f77b4\",\"#1f77b4\",\"#2ca02c\",\"#1f77b4\",\"#ff7f0e\",\"#1f77b4\",\"#1f77b4\",\"#ff7f0e\",\"#ff7f0e\",\"#1f77b4\",\"#ff7f0e\",\"#1f77b4\",\"#1f77b4\",\"#ff7f0e\",\"#ff7f0e\",\"#ffbb78\",\"#ff7f0e\",\"#1f77b4\",\"#ff7f0e\",\"#1f77b4\",\"#aec7e8\",\"#2ca02c\",\"#aec7e8\",\"#1f77b4\",\"#98df8a\",\"#1f77b4\",\"#2ca02c\",\"#2ca02c\",\"#1f77b4\",\"#1f77b4\",\"#98df8a\",\"#98df8a\",\"#ff7f0e\",\"#ff7f0e\",\"#1f77b4\",\"#ff7f0e\",\"#ff7f0e\",\"#ff7f0e\",\"#ff7f0e\",\"#2ca02c\",\"#ff7f0e\",\"#2ca02c\",\"#1f77b4\",\"#ff7f0e\",\"#1f77b4\",\"#1f77b4\",\"#1f77b4\",\"#aec7e8\",\"#1f77b4\",\"#ff7f0e\",\"#ff7f0e\",\"#98df8a\",\"#ff7f0e\",\"#1f77b4\",\"#1f77b4\",\"#1f77b4\",\"#1f77b4\",\"#1f77b4\",\"#ff7f0e\",\"#1f77b4\",\"#1f77b4\",\"#1f77b4\",\"#1f77b4\",\"#ff7f0e\",\"#1f77b4\",\"#1f77b4\",\"#ff7f0e\",\"#1f77b4\",\"#2ca02c\",\"#1f77b4\",\"#ffbb78\",\"#ffbb78\",\"#1f77b4\",\"#ff7f0e\",\"#2ca02c\",\"#ff7f0e\",\"#1f77b4\",\"#1f77b4\",\"#ff7f0e\",\"#1f77b4\",\"#1f77b4\",\"#ff7f0e\",\"#aec7e8\",\"#ff7f0e\",\"#ff7f0e\",\"#98df8a\",\"#ff7f0e\",\"#ff7f0e\",\"#ffbb78\",\"#ff7f0e\",\"#98df8a\",\"#ffbb78\",\"#1f77b4\",\"#1f77b4\",\"#1f77b4\",\"#ff7f0e\",\"#1f77b4\",\"#2ca02c\",\"#ff7f0e\",\"#ff7f0e\",\"#1f77b4\",\"#aec7e8\",\"#1f77b4\",\"#1f77b4\",\"#ff7f0e\",\"#2ca02c\",\"#1f77b4\",\"#ff7f0e\",\"#1f77b4\",\"#ffbb78\",\"#ff7f0e\",\"#ff7f0e\",\"#1f77b4\",\"#ff7f0e\",\"#ffbb78\",\"#1f77b4\",\"#1f77b4\",\"#1f77b4\",\"#ff7f0e\",\"#1f77b4\",\"#1f77b4\",\"#1f77b4\",\"#1f77b4\",\"#ff7f0e\",\"#1f77b4\",\"#98df8a\",\"#ffbb78\",\"#ffbb78\",\"#ff7f0e\",\"#98df8a\",\"#1f77b4\",\"#1f77b4\",\"#1f77b4\",\"#2ca02c\",\"#ff7f0e\",\"#ff7f0e\",\"#2ca02c\",\"#1f77b4\",\"#ff7f0e\",\"#ffbb78\",\"#1f77b4\",\"#1f77b4\",\"#1f77b4\",\"#ff7f0e\",\"#1f77b4\",\"#ff7f0e\",\"#ff7f0e\",\"#1f77b4\",\"#2ca02c\",\"#ff7f0e\",\"#ff7f0e\",\"#ff7f0e\",\"#98df8a\",\"#1f77b4\",\"#ff7f0e\",\"#1f77b4\",\"#1f77b4\",\"#98df8a\",\"#2ca02c\",\"#ff7f0e\",\"#ff7f0e\",\"#98df8a\",\"#1f77b4\",\"#1f77b4\",\"#1f77b4\",\"#98df8a\",\"#ff7f0e\",\"#ff7f0e\",\"#2ca02c\",\"#1f77b4\",\"#1f77b4\",\"#ff7f0e\",\"#ff7f0e\",\"#1f77b4\",\"#ff7f0e\",\"#ff7f0e\",\"#ffbb78\",\"#aec7e8\",\"#1f77b4\",\"#1f77b4\",\"#ff7f0e\",\"#ff7f0e\",\"#1f77b4\",\"#ff7f0e\",\"#ff7f0e\",\"#ff7f0e\",\"#1f77b4\",\"#1f77b4\",\"#ff7f0e\",\"#1f77b4\",\"#1f77b4\",\"#1f77b4\",\"#ff7f0e\",\"#1f77b4\",\"#ff7f0e\",\"#ff7f0e\",\"#1f77b4\",\"#ff7f0e\",\"#1f77b4\",\"#1f77b4\",\"#aec7e8\",\"#1f77b4\",\"#ff7f0e\",\"#1f77b4\",\"#1f77b4\",\"#ff7f0e\",\"#ff7f0e\",\"#ff7f0e\",\"#1f77b4\",\"#ff7f0e\",\"#ff7f0e\",\"#1f77b4\",\"#1f77b4\",\"#ffbb78\",\"#1f77b4\",\"#ff7f0e\",\"#1f77b4\",\"#2ca02c\",\"#1f77b4\",\"#1f77b4\",\"#1f77b4\",\"#aec7e8\",\"#1f77b4\",\"#98df8a\",\"#1f77b4\",\"#2ca02c\",\"#1f77b4\",\"#2ca02c\",\"#98df8a\",\"#ff7f0e\",\"#ff7f0e\",\"#ff7f0e\",\"#2ca02c\",\"#1f77b4\",\"#2ca02c\",\"#ff7f0e\",\"#2ca02c\",\"#1f77b4\",\"#1f77b4\",\"#2ca02c\",\"#1f77b4\",\"#ff7f0e\",\"#1f77b4\",\"#1f77b4\",\"#98df8a\",\"#2ca02c\",\"#1f77b4\",\"#ff7f0e\",\"#ff7f0e\",\"#2ca02c\",\"#ff7f0e\",\"#1f77b4\",\"#1f77b4\",\"#1f77b4\",\"#1f77b4\",\"#1f77b4\",\"#2ca02c\",\"#1f77b4\",\"#1f77b4\",\"#1f77b4\",\"#98df8a\",\"#ff7f0e\",\"#1f77b4\",\"#2ca02c\",\"#98df8a\",\"#ff7f0e\",\"#1f77b4\",\"#ff7f0e\",\"#1f77b4\",\"#1f77b4\",\"#1f77b4\",\"#1f77b4\",\"#1f77b4\",\"#2ca02c\",\"#1f77b4\",\"#ffbb78\",\"#1f77b4\",\"#1f77b4\",\"#ff7f0e\",\"#1f77b4\",\"#1f77b4\",\"#98df8a\",\"#1f77b4\",\"#ff7f0e\",\"#ff7f0e\",\"#1f77b4\",\"#ff7f0e\",\"#ff7f0e\",\"#ff7f0e\",\"#ff7f0e\",\"#ff7f0e\",\"#1f77b4\",\"#ff7f0e\",\"#1f77b4\",\"#1f77b4\",\"#ff7f0e\",\"#ffbb78\",\"#ff7f0e\",\"#1f77b4\",\"#ff7f0e\",\"#2ca02c\",\"#ff7f0e\",\"#ff7f0e\",\"#1f77b4\",\"#1f77b4\",\"#98df8a\",\"#98df8a\",\"#1f77b4\",\"#1f77b4\",\"#ff7f0e\",\"#1f77b4\",\"#1f77b4\",\"#aec7e8\",\"#98df8a\",\"#1f77b4\",\"#2ca02c\",\"#1f77b4\",\"#1f77b4\",\"#1f77b4\",\"#1f77b4\",\"#1f77b4\",\"#1f77b4\",\"#1f77b4\",\"#1f77b4\",\"#aec7e8\",\"#ff7f0e\",\"#1f77b4\",\"#ff7f0e\",\"#2ca02c\",\"#ff7f0e\",\"#1f77b4\",\"#1f77b4\",\"#2ca02c\",\"#1f77b4\",\"#ff7f0e\",\"#98df8a\",\"#ff7f0e\",\"#1f77b4\",\"#98df8a\",\"#ff7f0e\",\"#1f77b4\",\"#1f77b4\",\"#ffbb78\",\"#1f77b4\",\"#1f77b4\",\"#1f77b4\",\"#1f77b4\",\"#aec7e8\",\"#1f77b4\",\"#1f77b4\",\"#ff7f0e\",\"#ff7f0e\",\"#1f77b4\",\"#ff7f0e\",\"#ff7f0e\",\"#1f77b4\",\"#ffbb78\",\"#1f77b4\",\"#98df8a\",\"#ff7f0e\",\"#aec7e8\",\"#1f77b4\",\"#1f77b4\",\"#ff7f0e\",\"#ffbb78\",\"#1f77b4\",\"#ff7f0e\",\"#ff7f0e\",\"#ff7f0e\",\"#ff7f0e\",\"#1f77b4\",\"#ff7f0e\",\"#98df8a\",\"#ff7f0e\",\"#98df8a\",\"#1f77b4\",\"#ff7f0e\",\"#98df8a\",\"#2ca02c\",\"#ff7f0e\",\"#1f77b4\",\"#98df8a\",\"#ff7f0e\",\"#98df8a\",\"#ff7f0e\",\"#1f77b4\",\"#1f77b4\",\"#1f77b4\",\"#1f77b4\",\"#ff7f0e\",\"#1f77b4\",\"#1f77b4\",\"#ff7f0e\",\"#1f77b4\",\"#98df8a\",\"#1f77b4\",\"#1f77b4\",\"#98df8a\",\"#1f77b4\",\"#2ca02c\",\"#1f77b4\",\"#1f77b4\",\"#ff7f0e\",\"#ff7f0e\",\"#1f77b4\",\"#ff7f0e\",\"#1f77b4\",\"#ff7f0e\",\"#1f77b4\",\"#2ca02c\",\"#aec7e8\",\"#1f77b4\",\"#ff7f0e\",\"#ff7f0e\",\"#1f77b4\",\"#ff7f0e\",\"#aec7e8\",\"#ff7f0e\",\"#98df8a\",\"#aec7e8\",\"#98df8a\",\"#2ca02c\",\"#ffbb78\",\"#1f77b4\",\"#1f77b4\",\"#2ca02c\",\"#98df8a\",\"#1f77b4\",\"#aec7e8\",\"#1f77b4\",\"#ff7f0e\",\"#2ca02c\",\"#ff7f0e\",\"#1f77b4\",\"#1f77b4\",\"#98df8a\",\"#1f77b4\",\"#1f77b4\",\"#ffbb78\",\"#1f77b4\",\"#1f77b4\",\"#98df8a\",\"#1f77b4\",\"#1f77b4\",\"#2ca02c\",\"#1f77b4\",\"#ff7f0e\",\"#aec7e8\",\"#ff7f0e\",\"#1f77b4\",\"#98df8a\",\"#1f77b4\",\"#1f77b4\",\"#1f77b4\",\"#1f77b4\",\"#2ca02c\",\"#ffbb78\",\"#1f77b4\",\"#1f77b4\",\"#ffbb78\",\"#ff7f0e\",\"#1f77b4\",\"#1f77b4\",\"#ff7f0e\",\"#1f77b4\",\"#2ca02c\",\"#1f77b4\",\"#ff7f0e\",\"#2ca02c\",\"#ff7f0e\",\"#1f77b4\",\"#1f77b4\",\"#ffbb78\",\"#1f77b4\",\"#aec7e8\",\"#1f77b4\",\"#ff7f0e\",\"#ff7f0e\",\"#1f77b4\",\"#ff7f0e\",\"#98df8a\",\"#ff7f0e\",\"#ff7f0e\",\"#1f77b4\",\"#ffbb78\",\"#1f77b4\",\"#ff7f0e\",\"#aec7e8\",\"#2ca02c\",\"#ff7f0e\",\"#1f77b4\",\"#aec7e8\",\"#ff7f0e\",\"#ff7f0e\",\"#98df8a\",\"#ff7f0e\",\"#1f77b4\",\"#ff7f0e\",\"#1f77b4\",\"#ffbb78\",\"#ff7f0e\",\"#1f77b4\",\"#ff7f0e\",\"#1f77b4\",\"#1f77b4\",\"#ff7f0e\",\"#1f77b4\",\"#ff7f0e\",\"#1f77b4\",\"#98df8a\",\"#ff7f0e\",\"#1f77b4\",\"#ff7f0e\",\"#1f77b4\",\"#98df8a\",\"#ff7f0e\",\"#ffbb78\",\"#1f77b4\",\"#aec7e8\",\"#1f77b4\",\"#1f77b4\",\"#1f77b4\",\"#1f77b4\",\"#ff7f0e\",\"#1f77b4\",\"#1f77b4\",\"#ff7f0e\",\"#ff7f0e\",\"#1f77b4\",\"#98df8a\",\"#1f77b4\",\"#ff7f0e\",\"#1f77b4\",\"#1f77b4\",\"#1f77b4\",\"#1f77b4\",\"#ffbb78\",\"#1f77b4\",\"#1f77b4\",\"#2ca02c\",\"#ff7f0e\",\"#1f77b4\",\"#ff7f0e\",\"#1f77b4\",\"#ff7f0e\",\"#98df8a\",\"#1f77b4\",\"#ff7f0e\",\"#1f77b4\",\"#ff7f0e\",\"#1f77b4\",\"#1f77b4\",\"#ff7f0e\",\"#2ca02c\",\"#1f77b4\",\"#1f77b4\",\"#1f77b4\",\"#1f77b4\",\"#1f77b4\",\"#ff7f0e\",\"#2ca02c\",\"#1f77b4\",\"#1f77b4\",\"#1f77b4\",\"#2ca02c\",\"#1f77b4\",\"#ff7f0e\",\"#2ca02c\",\"#98df8a\",\"#98df8a\",\"#2ca02c\",\"#98df8a\",\"#1f77b4\",\"#ff7f0e\",\"#1f77b4\",\"#1f77b4\",\"#2ca02c\",\"#1f77b4\",\"#ffbb78\",\"#ff7f0e\",\"#2ca02c\",\"#2ca02c\",\"#ff7f0e\",\"#ff7f0e\",\"#1f77b4\",\"#ff7f0e\",\"#98df8a\",\"#ff7f0e\",\"#98df8a\",\"#ff7f0e\",\"#2ca02c\",\"#ff7f0e\",\"#ff7f0e\",\"#2ca02c\",\"#1f77b4\",\"#ff7f0e\",\"#98df8a\",\"#98df8a\",\"#1f77b4\",\"#aec7e8\",\"#ff7f0e\",\"#98df8a\",\"#ff7f0e\",\"#2ca02c\",\"#1f77b4\",\"#1f77b4\",\"#1f77b4\",\"#ff7f0e\",\"#ff7f0e\",\"#1f77b4\",\"#1f77b4\",\"#2ca02c\",\"#ffbb78\",\"#ff7f0e\",\"#98df8a\",\"#1f77b4\",\"#ffbb78\",\"#ff7f0e\",\"#1f77b4\",\"#1f77b4\",\"#2ca02c\",\"#ff7f0e\",\"#2ca02c\",\"#ffbb78\",\"#1f77b4\",\"#1f77b4\",\"#ff7f0e\",\"#ff7f0e\",\"#ff7f0e\",\"#ffbb78\",\"#2ca02c\",\"#1f77b4\",\"#ff7f0e\",\"#ff7f0e\",\"#ff7f0e\",\"#ff7f0e\",\"#2ca02c\",\"#ff7f0e\",\"#ff7f0e\",\"#ff7f0e\",\"#2ca02c\",\"#2ca02c\",\"#1f77b4\",\"#1f77b4\",\"#ff7f0e\",\"#1f77b4\",\"#98df8a\",\"#98df8a\",\"#1f77b4\",\"#ff7f0e\",\"#ff7f0e\",\"#1f77b4\",\"#1f77b4\",\"#1f77b4\",\"#98df8a\",\"#98df8a\",\"#ff7f0e\",\"#98df8a\",\"#ff7f0e\",\"#1f77b4\",\"#ff7f0e\",\"#ff7f0e\",\"#1f77b4\",\"#98df8a\",\"#1f77b4\",\"#ff7f0e\",\"#ffbb78\",\"#98df8a\",\"#ff7f0e\",\"#ff7f0e\",\"#1f77b4\",\"#2ca02c\",\"#1f77b4\",\"#98df8a\",\"#2ca02c\",\"#ffbb78\",\"#ff7f0e\",\"#1f77b4\",\"#2ca02c\",\"#ff7f0e\",\"#ff7f0e\",\"#2ca02c\",\"#ffbb78\",\"#ff7f0e\",\"#1f77b4\",\"#ff7f0e\",\"#ffbb78\",\"#2ca02c\",\"#1f77b4\",\"#1f77b4\",\"#1f77b4\",\"#1f77b4\",\"#ff7f0e\",\"#1f77b4\",\"#1f77b4\",\"#1f77b4\",\"#ff7f0e\",\"#ff7f0e\",\"#1f77b4\",\"#ff7f0e\",\"#2ca02c\",\"#ff7f0e\",\"#1f77b4\",\"#aec7e8\",\"#2ca02c\",\"#ff7f0e\",\"#ff7f0e\",\"#1f77b4\",\"#1f77b4\",\"#98df8a\",\"#ff7f0e\",\"#1f77b4\",\"#1f77b4\",\"#1f77b4\",\"#1f77b4\",\"#1f77b4\",\"#1f77b4\",\"#ff7f0e\",\"#ff7f0e\",\"#ff7f0e\",\"#1f77b4\",\"#1f77b4\",\"#ff7f0e\",\"#1f77b4\",\"#ff7f0e\",\"#ff7f0e\",\"#98df8a\",\"#1f77b4\",\"#1f77b4\",\"#1f77b4\",\"#1f77b4\",\"#1f77b4\",\"#1f77b4\",\"#1f77b4\",\"#ff7f0e\",\"#ff7f0e\",\"#1f77b4\",\"#ff7f0e\",\"#1f77b4\",\"#98df8a\",\"#1f77b4\",\"#98df8a\",\"#1f77b4\",\"#1f77b4\",\"#2ca02c\",\"#ff7f0e\",\"#1f77b4\",\"#2ca02c\",\"#1f77b4\",\"#1f77b4\",\"#98df8a\",\"#1f77b4\",\"#1f77b4\",\"#ff7f0e\",\"#ff7f0e\",\"#98df8a\",\"#1f77b4\",\"#1f77b4\",\"#ff7f0e\",\"#ff7f0e\",\"#ffbb78\",\"#ff7f0e\",\"#1f77b4\",\"#ff7f0e\",\"#1f77b4\",\"#1f77b4\",\"#1f77b4\",\"#98df8a\",\"#ff7f0e\",\"#2ca02c\",\"#ff7f0e\",\"#1f77b4\",\"#ffbb78\",\"#ff7f0e\",\"#2ca02c\",\"#2ca02c\",\"#1f77b4\",\"#1f77b4\",\"#1f77b4\",\"#1f77b4\",\"#1f77b4\",\"#1f77b4\",\"#1f77b4\",\"#1f77b4\",\"#1f77b4\",\"#2ca02c\",\"#98df8a\",\"#98df8a\",\"#ff7f0e\",\"#1f77b4\",\"#1f77b4\",\"#ff7f0e\",\"#ff7f0e\",\"#1f77b4\",\"#ff7f0e\",\"#ff7f0e\",\"#2ca02c\",\"#1f77b4\",\"#2ca02c\",\"#1f77b4\",\"#1f77b4\",\"#ff7f0e\",\"#1f77b4\",\"#2ca02c\",\"#1f77b4\",\"#1f77b4\",\"#2ca02c\",\"#2ca02c\",\"#1f77b4\",\"#ff7f0e\",\"#2ca02c\",\"#ff7f0e\",\"#ff7f0e\",\"#98df8a\",\"#1f77b4\",\"#1f77b4\",\"#ff7f0e\",\"#2ca02c\",\"#aec7e8\",\"#ff7f0e\",\"#2ca02c\",\"#ffbb78\",\"#aec7e8\",\"#98df8a\",\"#ff7f0e\",\"#1f77b4\",\"#1f77b4\",\"#1f77b4\",\"#ff7f0e\",\"#1f77b4\",\"#1f77b4\",\"#ff7f0e\",\"#1f77b4\",\"#1f77b4\",\"#1f77b4\",\"#1f77b4\",\"#98df8a\",\"#1f77b4\",\"#ff7f0e\",\"#1f77b4\",\"#1f77b4\",\"#ff7f0e\",\"#98df8a\",\"#ff7f0e\",\"#ff7f0e\",\"#ffbb78\",\"#2ca02c\",\"#98df8a\",\"#ff7f0e\",\"#1f77b4\",\"#ff7f0e\",\"#ff7f0e\",\"#ff7f0e\",\"#ff7f0e\",\"#1f77b4\",\"#ff7f0e\",\"#1f77b4\",\"#1f77b4\",\"#ff7f0e\",\"#aec7e8\",\"#ff7f0e\",\"#2ca02c\",\"#1f77b4\",\"#1f77b4\",\"#1f77b4\",\"#1f77b4\",\"#ff7f0e\",\"#1f77b4\",\"#ff7f0e\",\"#ff7f0e\",\"#1f77b4\",\"#1f77b4\",\"#ff7f0e\",\"#1f77b4\",\"#98df8a\",\"#ff7f0e\",\"#ff7f0e\",\"#ffbb78\",\"#98df8a\",\"#ffbb78\",\"#2ca02c\",\"#98df8a\",\"#1f77b4\",\"#ff7f0e\",\"#2ca02c\",\"#2ca02c\",\"#1f77b4\",\"#1f77b4\",\"#ff7f0e\",\"#ff7f0e\",\"#1f77b4\",\"#1f77b4\",\"#ff7f0e\",\"#1f77b4\",\"#2ca02c\",\"#ff7f0e\",\"#ffbb78\",\"#1f77b4\",\"#1f77b4\",\"#1f77b4\",\"#ff7f0e\",\"#1f77b4\",\"#ff7f0e\",\"#ff7f0e\",\"#1f77b4\",\"#ff7f0e\",\"#98df8a\",\"#1f77b4\",\"#1f77b4\",\"#1f77b4\",\"#98df8a\",\"#ffbb78\",\"#ff7f0e\",\"#1f77b4\",\"#1f77b4\",\"#98df8a\",\"#ff7f0e\",\"#1f77b4\",\"#2ca02c\",\"#98df8a\",\"#1f77b4\",\"#ff7f0e\",\"#1f77b4\",\"#1f77b4\",\"#1f77b4\",\"#ff7f0e\",\"#ff7f0e\",\"#1f77b4\",\"#2ca02c\",\"#ff7f0e\",\"#1f77b4\",\"#1f77b4\",\"#ff7f0e\",\"#1f77b4\",\"#98df8a\",\"#ff7f0e\",\"#ff7f0e\",\"#2ca02c\",\"#ff7f0e\",\"#ff7f0e\",\"#1f77b4\",\"#2ca02c\",\"#1f77b4\",\"#ff7f0e\",\"#1f77b4\",\"#1f77b4\",\"#2ca02c\",\"#ff7f0e\",\"#98df8a\",\"#1f77b4\",\"#2ca02c\",\"#1f77b4\",\"#1f77b4\",\"#ff7f0e\",\"#1f77b4\",\"#1f77b4\",\"#ff7f0e\",\"#1f77b4\",\"#ffbb78\",\"#1f77b4\",\"#1f77b4\",\"#1f77b4\",\"#1f77b4\",\"#1f77b4\",\"#1f77b4\",\"#2ca02c\",\"#98df8a\",\"#ff7f0e\",\"#ff7f0e\",\"#ff7f0e\",\"#ff7f0e\",\"#1f77b4\",\"#1f77b4\",\"#2ca02c\",\"#1f77b4\",\"#1f77b4\",\"#1f77b4\",\"#ff7f0e\",\"#1f77b4\",\"#1f77b4\",\"#1f77b4\",\"#1f77b4\",\"#ffbb78\",\"#ff7f0e\",\"#ff7f0e\",\"#1f77b4\",\"#1f77b4\",\"#1f77b4\",\"#1f77b4\",\"#1f77b4\",\"#2ca02c\",\"#ffbb78\",\"#ff7f0e\",\"#1f77b4\",\"#1f77b4\",\"#98df8a\",\"#1f77b4\",\"#ff7f0e\",\"#1f77b4\",\"#1f77b4\",\"#1f77b4\",\"#1f77b4\",\"#1f77b4\",\"#ff7f0e\",\"#ffbb78\",\"#98df8a\",\"#aec7e8\",\"#1f77b4\",\"#2ca02c\",\"#ff7f0e\",\"#ff7f0e\",\"#1f77b4\",\"#2ca02c\",\"#2ca02c\",\"#ff7f0e\",\"#1f77b4\",\"#1f77b4\",\"#1f77b4\",\"#1f77b4\",\"#1f77b4\",\"#98df8a\",\"#aec7e8\",\"#ff7f0e\",\"#ff7f0e\",\"#ff7f0e\",\"#2ca02c\",\"#2ca02c\",\"#1f77b4\",\"#1f77b4\",\"#1f77b4\",\"#1f77b4\",\"#ff7f0e\",\"#ff7f0e\",\"#1f77b4\",\"#1f77b4\",\"#1f77b4\",\"#ff7f0e\",\"#1f77b4\",\"#1f77b4\",\"#1f77b4\",\"#1f77b4\",\"#98df8a\",\"#ff7f0e\",\"#1f77b4\",\"#98df8a\",\"#ff7f0e\",\"#1f77b4\",\"#ff7f0e\",\"#1f77b4\",\"#1f77b4\",\"#1f77b4\",\"#ff7f0e\",\"#1f77b4\",\"#ff7f0e\",\"#ff7f0e\",\"#ff7f0e\",\"#ffbb78\",\"#ff7f0e\",\"#ff7f0e\",\"#98df8a\",\"#1f77b4\",\"#2ca02c\",\"#ff7f0e\",\"#ff7f0e\",\"#1f77b4\",\"#2ca02c\",\"#1f77b4\",\"#ff7f0e\",\"#98df8a\",\"#1f77b4\",\"#1f77b4\",\"#ff7f0e\",\"#98df8a\",\"#ff7f0e\",\"#ff7f0e\",\"#ff7f0e\",\"#ff7f0e\",\"#2ca02c\",\"#1f77b4\",\"#1f77b4\",\"#ff7f0e\",\"#ff7f0e\",\"#ff7f0e\",\"#98df8a\",\"#ff7f0e\",\"#ff7f0e\",\"#ff7f0e\",\"#ff7f0e\",\"#1f77b4\",\"#ff7f0e\",\"#ff7f0e\",\"#ff7f0e\",\"#98df8a\",\"#ff7f0e\",\"#2ca02c\",\"#1f77b4\",\"#1f77b4\",\"#ff7f0e\",\"#ff7f0e\",\"#ff7f0e\",\"#2ca02c\",\"#ff7f0e\",\"#ff7f0e\",\"#1f77b4\",\"#2ca02c\",\"#1f77b4\",\"#98df8a\",\"#1f77b4\",\"#1f77b4\",\"#98df8a\",\"#ff7f0e\",\"#ff7f0e\",\"#98df8a\",\"#98df8a\",\"#1f77b4\",\"#1f77b4\",\"#98df8a\",\"#ff7f0e\",\"#1f77b4\",\"#1f77b4\",\"#1f77b4\",\"#ff7f0e\",\"#1f77b4\",\"#1f77b4\",\"#1f77b4\",\"#98df8a\",\"#2ca02c\",\"#1f77b4\",\"#1f77b4\",\"#98df8a\",\"#ff7f0e\",\"#ff7f0e\",\"#98df8a\",\"#ff7f0e\",\"#ff7f0e\",\"#98df8a\",\"#2ca02c\",\"#ff7f0e\",\"#2ca02c\",\"#ff7f0e\",\"#1f77b4\",\"#1f77b4\",\"#1f77b4\",\"#ff7f0e\",\"#ff7f0e\",\"#1f77b4\",\"#ff7f0e\",\"#ff7f0e\",\"#ff7f0e\",\"#1f77b4\",\"#ffbb78\",\"#ff7f0e\",\"#2ca02c\",\"#1f77b4\",\"#1f77b4\",\"#2ca02c\",\"#1f77b4\",\"#2ca02c\",\"#98df8a\",\"#1f77b4\",\"#ff7f0e\",\"#1f77b4\",\"#ff7f0e\",\"#1f77b4\",\"#ff7f0e\",\"#2ca02c\",\"#1f77b4\",\"#2ca02c\",\"#1f77b4\",\"#1f77b4\",\"#2ca02c\",\"#ff7f0e\",\"#98df8a\",\"#1f77b4\",\"#ff7f0e\",\"#98df8a\",\"#ffbb78\",\"#ff7f0e\",\"#ff7f0e\",\"#1f77b4\",\"#2ca02c\",\"#98df8a\",\"#ff7f0e\",\"#2ca02c\",\"#1f77b4\",\"#1f77b4\",\"#ff7f0e\",\"#1f77b4\",\"#ff7f0e\",\"#1f77b4\",\"#ff7f0e\",\"#98df8a\",\"#1f77b4\",\"#1f77b4\",\"#1f77b4\",\"#1f77b4\",\"#1f77b4\",\"#98df8a\",\"#ff7f0e\",\"#1f77b4\",\"#2ca02c\",\"#1f77b4\",\"#1f77b4\",\"#1f77b4\",\"#1f77b4\",\"#ff7f0e\",\"#1f77b4\",\"#2ca02c\",\"#ff7f0e\",\"#98df8a\",\"#2ca02c\",\"#1f77b4\",\"#ff7f0e\",\"#1f77b4\",\"#ff7f0e\",\"#1f77b4\",\"#ff7f0e\",\"#2ca02c\",\"#1f77b4\",\"#ff7f0e\",\"#ff7f0e\",\"#ff7f0e\",\"#1f77b4\",\"#2ca02c\",\"#1f77b4\",\"#ff7f0e\",\"#1f77b4\",\"#1f77b4\",\"#ff7f0e\",\"#1f77b4\",\"#1f77b4\",\"#1f77b4\",\"#1f77b4\",\"#1f77b4\",\"#1f77b4\",\"#98df8a\",\"#ff7f0e\",\"#1f77b4\",\"#ff7f0e\",\"#1f77b4\",\"#1f77b4\",\"#1f77b4\",\"#ff7f0e\",\"#2ca02c\",\"#1f77b4\",\"#1f77b4\",\"#1f77b4\",\"#1f77b4\",\"#1f77b4\",\"#1f77b4\",\"#1f77b4\",\"#ffbb78\",\"#ff7f0e\",\"#1f77b4\",\"#ff7f0e\",\"#1f77b4\",\"#1f77b4\",\"#1f77b4\",\"#ff7f0e\",\"#1f77b4\",\"#ffbb78\",\"#ff7f0e\",\"#98df8a\",\"#ff7f0e\",\"#1f77b4\",\"#aec7e8\",\"#ff7f0e\",\"#1f77b4\",\"#ff7f0e\",\"#1f77b4\",\"#ff7f0e\",\"#1f77b4\",\"#1f77b4\",\"#1f77b4\",\"#1f77b4\",\"#1f77b4\",\"#1f77b4\",\"#1f77b4\",\"#aec7e8\",\"#1f77b4\",\"#ff7f0e\",\"#2ca02c\",\"#2ca02c\",\"#1f77b4\",\"#1f77b4\",\"#ff7f0e\",\"#ff7f0e\",\"#ff7f0e\",\"#1f77b4\",\"#1f77b4\",\"#ffbb78\",\"#ff7f0e\",\"#1f77b4\",\"#ff7f0e\",\"#ff7f0e\",\"#1f77b4\",\"#1f77b4\",\"#1f77b4\",\"#1f77b4\",\"#98df8a\",\"#ffbb78\",\"#1f77b4\",\"#98df8a\",\"#98df8a\",\"#98df8a\",\"#1f77b4\",\"#1f77b4\",\"#1f77b4\",\"#ff7f0e\",\"#98df8a\",\"#ff7f0e\",\"#ff7f0e\",\"#1f77b4\",\"#ff7f0e\",\"#ff7f0e\",\"#98df8a\",\"#1f77b4\",\"#98df8a\",\"#ffbb78\",\"#2ca02c\",\"#ffbb78\",\"#ff7f0e\",\"#1f77b4\",\"#98df8a\",\"#ff7f0e\",\"#ffbb78\",\"#1f77b4\",\"#ff7f0e\",\"#2ca02c\",\"#1f77b4\",\"#ff7f0e\",\"#1f77b4\",\"#ff7f0e\",\"#ff7f0e\",\"#98df8a\",\"#1f77b4\",\"#98df8a\",\"#ff7f0e\",\"#ff7f0e\",\"#1f77b4\",\"#1f77b4\",\"#2ca02c\",\"#ff7f0e\",\"#1f77b4\",\"#1f77b4\",\"#ff7f0e\",\"#1f77b4\",\"#98df8a\",\"#1f77b4\",\"#ffbb78\",\"#2ca02c\",\"#1f77b4\",\"#ff7f0e\",\"#1f77b4\",\"#aec7e8\",\"#1f77b4\",\"#ff7f0e\",\"#1f77b4\",\"#1f77b4\",\"#98df8a\",\"#2ca02c\",\"#1f77b4\",\"#1f77b4\",\"#1f77b4\",\"#ff7f0e\",\"#98df8a\",\"#1f77b4\",\"#ff7f0e\",\"#1f77b4\",\"#ffbb78\",\"#1f77b4\",\"#2ca02c\",\"#1f77b4\",\"#1f77b4\",\"#ff7f0e\",\"#2ca02c\",\"#1f77b4\",\"#1f77b4\",\"#98df8a\",\"#1f77b4\",\"#1f77b4\",\"#ff7f0e\",\"#ffbb78\",\"#1f77b4\",\"#2ca02c\",\"#2ca02c\",\"#1f77b4\",\"#ffbb78\",\"#ff7f0e\",\"#2ca02c\",\"#ff7f0e\",\"#ff7f0e\",\"#1f77b4\",\"#1f77b4\",\"#98df8a\",\"#98df8a\",\"#1f77b4\",\"#ff7f0e\",\"#ff7f0e\",\"#1f77b4\",\"#aec7e8\",\"#ff7f0e\",\"#ff7f0e\",\"#ff7f0e\",\"#ff7f0e\",\"#aec7e8\",\"#98df8a\",\"#1f77b4\",\"#1f77b4\",\"#1f77b4\",\"#1f77b4\",\"#1f77b4\",\"#1f77b4\",\"#ff7f0e\",\"#1f77b4\",\"#98df8a\",\"#ff7f0e\",\"#ff7f0e\",\"#ff7f0e\",\"#ff7f0e\",\"#1f77b4\",\"#1f77b4\",\"#1f77b4\",\"#1f77b4\",\"#1f77b4\",\"#1f77b4\",\"#2ca02c\",\"#1f77b4\",\"#98df8a\",\"#1f77b4\",\"#ff7f0e\",\"#1f77b4\",\"#ff7f0e\",\"#1f77b4\",\"#1f77b4\",\"#ff7f0e\",\"#1f77b4\",\"#1f77b4\",\"#98df8a\",\"#98df8a\",\"#1f77b4\",\"#ff7f0e\",\"#ff7f0e\",\"#ff7f0e\",\"#ff7f0e\",\"#2ca02c\",\"#ff7f0e\",\"#ff7f0e\",\"#1f77b4\",\"#ff7f0e\",\"#1f77b4\",\"#2ca02c\",\"#1f77b4\",\"#ff7f0e\",\"#ff7f0e\",\"#ff7f0e\",\"#98df8a\",\"#98df8a\",\"#98df8a\",\"#1f77b4\",\"#1f77b4\",\"#1f77b4\",\"#2ca02c\",\"#1f77b4\",\"#ffbb78\",\"#ff7f0e\",\"#1f77b4\",\"#98df8a\",\"#ff7f0e\",\"#1f77b4\",\"#ff7f0e\",\"#1f77b4\",\"#1f77b4\",\"#1f77b4\",\"#ff7f0e\",\"#ff7f0e\",\"#ff7f0e\",\"#1f77b4\",\"#1f77b4\",\"#1f77b4\",\"#98df8a\",\"#98df8a\",\"#1f77b4\",\"#1f77b4\",\"#1f77b4\",\"#ff7f0e\",\"#ff7f0e\",\"#ffbb78\",\"#98df8a\",\"#98df8a\",\"#ff7f0e\",\"#1f77b4\",\"#1f77b4\",\"#98df8a\",\"#aec7e8\",\"#1f77b4\",\"#1f77b4\",\"#ff7f0e\",\"#1f77b4\",\"#1f77b4\",\"#ff7f0e\",\"#ff7f0e\",\"#ff7f0e\",\"#1f77b4\",\"#1f77b4\",\"#98df8a\",\"#1f77b4\",\"#2ca02c\",\"#1f77b4\",\"#1f77b4\",\"#1f77b4\",\"#1f77b4\",\"#ffbb78\",\"#ff7f0e\",\"#ff7f0e\",\"#1f77b4\",\"#1f77b4\",\"#1f77b4\",\"#1f77b4\",\"#1f77b4\",\"#98df8a\",\"#ff7f0e\",\"#2ca02c\",\"#98df8a\",\"#ffbb78\",\"#1f77b4\",\"#ff7f0e\",\"#1f77b4\",\"#ff7f0e\",\"#ff7f0e\",\"#ff7f0e\",\"#ff7f0e\",\"#ff7f0e\",\"#2ca02c\",\"#1f77b4\",\"#1f77b4\",\"#98df8a\",\"#ff7f0e\",\"#2ca02c\",\"#ff7f0e\",\"#ff7f0e\",\"#2ca02c\",\"#1f77b4\",\"#98df8a\",\"#ff7f0e\",\"#1f77b4\",\"#ff7f0e\",\"#ffbb78\",\"#98df8a\",\"#1f77b4\",\"#98df8a\",\"#1f77b4\",\"#ff7f0e\",\"#ff7f0e\",\"#1f77b4\",\"#1f77b4\",\"#1f77b4\",\"#ff7f0e\",\"#1f77b4\",\"#1f77b4\",\"#1f77b4\",\"#ffbb78\",\"#1f77b4\",\"#1f77b4\",\"#1f77b4\",\"#1f77b4\",\"#ff7f0e\",\"#ff7f0e\",\"#ff7f0e\",\"#2ca02c\",\"#ff7f0e\",\"#1f77b4\",\"#2ca02c\",\"#ff7f0e\",\"#ff7f0e\",\"#ff7f0e\",\"#2ca02c\",\"#98df8a\",\"#1f77b4\",\"#2ca02c\",\"#1f77b4\",\"#1f77b4\",\"#1f77b4\",\"#ff7f0e\",\"#2ca02c\",\"#aec7e8\",\"#2ca02c\",\"#1f77b4\",\"#ff7f0e\",\"#1f77b4\",\"#2ca02c\",\"#1f77b4\",\"#1f77b4\",\"#1f77b4\",\"#2ca02c\",\"#ff7f0e\",\"#1f77b4\",\"#2ca02c\",\"#98df8a\",\"#1f77b4\",\"#1f77b4\",\"#98df8a\",\"#1f77b4\",\"#ff7f0e\",\"#98df8a\",\"#ff7f0e\",\"#1f77b4\",\"#1f77b4\",\"#ff7f0e\",\"#98df8a\",\"#ff7f0e\",\"#1f77b4\",\"#1f77b4\",\"#1f77b4\",\"#1f77b4\",\"#ff7f0e\",\"#ff7f0e\",\"#2ca02c\",\"#ffbb78\",\"#ff7f0e\",\"#98df8a\",\"#ff7f0e\",\"#ff7f0e\",\"#1f77b4\",\"#1f77b4\",\"#ff7f0e\",\"#1f77b4\",\"#1f77b4\",\"#1f77b4\",\"#1f77b4\",\"#ffbb78\",\"#1f77b4\",\"#ff7f0e\",\"#ff7f0e\",\"#98df8a\",\"#1f77b4\",\"#1f77b4\",\"#ff7f0e\",\"#1f77b4\",\"#ff7f0e\",\"#ff7f0e\",\"#1f77b4\",\"#1f77b4\",\"#ff7f0e\",\"#ff7f0e\",\"#ff7f0e\",\"#ff7f0e\",\"#1f77b4\",\"#aec7e8\",\"#ff7f0e\",\"#2ca02c\",\"#ff7f0e\",\"#ffbb78\",\"#1f77b4\",\"#1f77b4\",\"#98df8a\",\"#ff7f0e\",\"#1f77b4\",\"#ff7f0e\",\"#ff7f0e\",\"#1f77b4\",\"#ff7f0e\",\"#1f77b4\",\"#2ca02c\",\"#1f77b4\",\"#98df8a\",\"#98df8a\",\"#ff7f0e\",\"#ff7f0e\",\"#1f77b4\",\"#1f77b4\",\"#ff7f0e\",\"#2ca02c\",\"#1f77b4\",\"#ff7f0e\",\"#ff7f0e\",\"#ff7f0e\",\"#1f77b4\",\"#aec7e8\",\"#1f77b4\",\"#98df8a\",\"#2ca02c\",\"#98df8a\",\"#1f77b4\",\"#ff7f0e\",\"#1f77b4\",\"#1f77b4\",\"#1f77b4\",\"#ff7f0e\",\"#ff7f0e\",\"#2ca02c\",\"#1f77b4\",\"#1f77b4\",\"#1f77b4\",\"#aec7e8\",\"#98df8a\",\"#1f77b4\",\"#98df8a\",\"#1f77b4\",\"#ff7f0e\",\"#1f77b4\",\"#ff7f0e\",\"#ff7f0e\",\"#1f77b4\",\"#ff7f0e\",\"#1f77b4\",\"#2ca02c\",\"#98df8a\",\"#1f77b4\",\"#ff7f0e\",\"#ff7f0e\",\"#98df8a\",\"#1f77b4\",\"#ff7f0e\",\"#1f77b4\",\"#1f77b4\",\"#98df8a\",\"#ffbb78\",\"#ff7f0e\",\"#1f77b4\",\"#98df8a\",\"#2ca02c\",\"#1f77b4\",\"#1f77b4\",\"#98df8a\",\"#2ca02c\",\"#2ca02c\",\"#1f77b4\",\"#1f77b4\",\"#1f77b4\",\"#98df8a\",\"#2ca02c\",\"#ff7f0e\",\"#1f77b4\",\"#1f77b4\",\"#1f77b4\",\"#98df8a\",\"#98df8a\",\"#1f77b4\",\"#ff7f0e\",\"#ff7f0e\",\"#2ca02c\",\"#1f77b4\",\"#ff7f0e\",\"#ff7f0e\",\"#98df8a\",\"#ff7f0e\",\"#1f77b4\",\"#98df8a\",\"#ff7f0e\",\"#1f77b4\",\"#ff7f0e\",\"#1f77b4\",\"#1f77b4\",\"#ff7f0e\",\"#98df8a\",\"#ff7f0e\",\"#ff7f0e\",\"#ff7f0e\",\"#1f77b4\",\"#98df8a\",\"#1f77b4\",\"#98df8a\",\"#1f77b4\",\"#1f77b4\",\"#1f77b4\",\"#ff7f0e\",\"#1f77b4\",\"#1f77b4\",\"#2ca02c\",\"#2ca02c\",\"#1f77b4\",\"#1f77b4\",\"#1f77b4\",\"#ff7f0e\",\"#1f77b4\",\"#ff7f0e\",\"#98df8a\",\"#ffbb78\",\"#ff7f0e\",\"#98df8a\",\"#2ca02c\",\"#ff7f0e\",\"#1f77b4\",\"#ff7f0e\",\"#ff7f0e\",\"#1f77b4\",\"#1f77b4\",\"#ff7f0e\",\"#ffbb78\",\"#aec7e8\",\"#ff7f0e\",\"#98df8a\",\"#ff7f0e\",\"#ff7f0e\",\"#ff7f0e\",\"#1f77b4\",\"#1f77b4\",\"#ffbb78\",\"#98df8a\",\"#1f77b4\",\"#1f77b4\",\"#ff7f0e\",\"#ff7f0e\",\"#ff7f0e\",\"#1f77b4\",\"#98df8a\",\"#1f77b4\",\"#ff7f0e\",\"#ff7f0e\",\"#ff7f0e\",\"#2ca02c\",\"#ff7f0e\",\"#1f77b4\",\"#98df8a\",\"#1f77b4\",\"#ff7f0e\",\"#98df8a\",\"#ff7f0e\",\"#1f77b4\",\"#1f77b4\",\"#98df8a\",\"#ff7f0e\",\"#ff7f0e\",\"#ffbb78\",\"#1f77b4\",\"#98df8a\",\"#98df8a\",\"#98df8a\",\"#1f77b4\",\"#1f77b4\",\"#ffbb78\",\"#ff7f0e\",\"#1f77b4\",\"#2ca02c\",\"#98df8a\",\"#1f77b4\",\"#ff7f0e\",\"#ff7f0e\",\"#ff7f0e\",\"#2ca02c\",\"#1f77b4\",\"#98df8a\",\"#ff7f0e\",\"#1f77b4\",\"#1f77b4\",\"#1f77b4\",\"#1f77b4\",\"#1f77b4\",\"#ff7f0e\",\"#1f77b4\",\"#1f77b4\",\"#ff7f0e\",\"#1f77b4\",\"#2ca02c\",\"#ffbb78\",\"#1f77b4\",\"#98df8a\",\"#ff7f0e\",\"#2ca02c\",\"#1f77b4\",\"#2ca02c\",\"#ff7f0e\",\"#ff7f0e\",\"#1f77b4\",\"#ff7f0e\",\"#1f77b4\",\"#1f77b4\",\"#ff7f0e\",\"#1f77b4\",\"#ff7f0e\",\"#1f77b4\",\"#1f77b4\",\"#1f77b4\",\"#ff7f0e\",\"#1f77b4\",\"#ffbb78\",\"#98df8a\",\"#2ca02c\",\"#1f77b4\",\"#ff7f0e\",\"#ff7f0e\",\"#ff7f0e\",\"#ff7f0e\",\"#1f77b4\",\"#1f77b4\",\"#1f77b4\",\"#1f77b4\",\"#98df8a\",\"#ff7f0e\",\"#1f77b4\",\"#ff7f0e\",\"#ff7f0e\",\"#2ca02c\",\"#1f77b4\",\"#1f77b4\",\"#1f77b4\",\"#1f77b4\",\"#1f77b4\",\"#2ca02c\",\"#ff7f0e\",\"#ff7f0e\",\"#1f77b4\",\"#1f77b4\",\"#1f77b4\",\"#1f77b4\",\"#1f77b4\",\"#ff7f0e\",\"#ff7f0e\",\"#ff7f0e\",\"#1f77b4\",\"#ff7f0e\",\"#2ca02c\",\"#1f77b4\",\"#1f77b4\",\"#1f77b4\",\"#ff7f0e\",\"#2ca02c\",\"#ff7f0e\",\"#1f77b4\",\"#98df8a\",\"#ff7f0e\",\"#1f77b4\",\"#ff7f0e\",\"#98df8a\",\"#98df8a\",\"#1f77b4\",\"#ff7f0e\",\"#2ca02c\",\"#1f77b4\",\"#ff7f0e\",\"#ff7f0e\",\"#ff7f0e\",\"#98df8a\",\"#ff7f0e\",\"#ff7f0e\",\"#98df8a\",\"#1f77b4\",\"#1f77b4\",\"#1f77b4\",\"#98df8a\",\"#1f77b4\",\"#1f77b4\",\"#1f77b4\",\"#2ca02c\",\"#1f77b4\",\"#1f77b4\",\"#2ca02c\",\"#2ca02c\",\"#ffbb78\",\"#2ca02c\",\"#2ca02c\",\"#ff7f0e\",\"#1f77b4\",\"#1f77b4\",\"#ff7f0e\",\"#1f77b4\",\"#2ca02c\",\"#1f77b4\",\"#aec7e8\",\"#1f77b4\",\"#ff7f0e\",\"#98df8a\",\"#ffbb78\",\"#1f77b4\",\"#1f77b4\",\"#1f77b4\",\"#ff7f0e\",\"#98df8a\",\"#1f77b4\",\"#1f77b4\",\"#1f77b4\",\"#ff7f0e\",\"#1f77b4\",\"#ff7f0e\",\"#ff7f0e\",\"#98df8a\",\"#1f77b4\",\"#1f77b4\",\"#1f77b4\",\"#ff7f0e\",\"#ff7f0e\",\"#98df8a\",\"#1f77b4\",\"#98df8a\",\"#1f77b4\",\"#ffbb78\",\"#1f77b4\",\"#ff7f0e\",\"#ff7f0e\",\"#2ca02c\",\"#1f77b4\",\"#1f77b4\",\"#1f77b4\",\"#ff7f0e\",\"#ff7f0e\",\"#ff7f0e\",\"#2ca02c\",\"#ff7f0e\",\"#ff7f0e\",\"#1f77b4\",\"#1f77b4\",\"#2ca02c\",\"#1f77b4\",\"#ff7f0e\",\"#1f77b4\",\"#98df8a\",\"#ff7f0e\",\"#1f77b4\",\"#1f77b4\",\"#1f77b4\",\"#1f77b4\",\"#ff7f0e\",\"#ffbb78\",\"#ffbb78\",\"#1f77b4\",\"#98df8a\",\"#1f77b4\",\"#ff7f0e\",\"#2ca02c\",\"#1f77b4\",\"#1f77b4\",\"#ffbb78\",\"#ff7f0e\",\"#aec7e8\",\"#1f77b4\",\"#98df8a\",\"#ffbb78\",\"#1f77b4\",\"#1f77b4\",\"#1f77b4\",\"#1f77b4\",\"#98df8a\",\"#2ca02c\",\"#ff7f0e\",\"#1f77b4\",\"#ff7f0e\",\"#1f77b4\",\"#98df8a\",\"#ff7f0e\",\"#ff7f0e\",\"#1f77b4\",\"#ff7f0e\",\"#ff7f0e\",\"#ff7f0e\",\"#98df8a\",\"#1f77b4\",\"#ff7f0e\",\"#ff7f0e\",\"#1f77b4\",\"#98df8a\",\"#ff7f0e\",\"#1f77b4\",\"#ff7f0e\",\"#1f77b4\",\"#ff7f0e\",\"#ffbb78\",\"#1f77b4\",\"#ff7f0e\",\"#1f77b4\",\"#1f77b4\",\"#ffbb78\",\"#ff7f0e\",\"#1f77b4\",\"#1f77b4\",\"#ffbb78\",\"#ffbb78\",\"#1f77b4\",\"#ff7f0e\",\"#ff7f0e\",\"#ff7f0e\",\"#ff7f0e\",\"#ff7f0e\",\"#ff7f0e\",\"#ff7f0e\",\"#1f77b4\",\"#1f77b4\",\"#1f77b4\",\"#ff7f0e\",\"#2ca02c\",\"#aec7e8\",\"#1f77b4\",\"#ff7f0e\",\"#ff7f0e\",\"#1f77b4\",\"#ff7f0e\",\"#2ca02c\",\"#1f77b4\",\"#1f77b4\",\"#ff7f0e\",\"#ff7f0e\",\"#1f77b4\",\"#98df8a\",\"#ff7f0e\",\"#2ca02c\",\"#1f77b4\",\"#ff7f0e\",\"#98df8a\",\"#1f77b4\",\"#2ca02c\",\"#1f77b4\",\"#98df8a\",\"#ff7f0e\",\"#2ca02c\",\"#ff7f0e\",\"#2ca02c\",\"#ffbb78\",\"#1f77b4\",\"#ff7f0e\",\"#1f77b4\",\"#2ca02c\",\"#ff7f0e\",\"#ff7f0e\",\"#1f77b4\",\"#ff7f0e\",\"#98df8a\",\"#ffbb78\",\"#1f77b4\",\"#ff7f0e\",\"#1f77b4\",\"#ff7f0e\",\"#2ca02c\",\"#ff7f0e\",\"#1f77b4\",\"#2ca02c\",\"#ff7f0e\",\"#1f77b4\",\"#ff7f0e\",\"#ff7f0e\",\"#ff7f0e\",\"#98df8a\",\"#ff7f0e\",\"#2ca02c\",\"#ff7f0e\",\"#1f77b4\",\"#1f77b4\",\"#2ca02c\",\"#2ca02c\",\"#98df8a\",\"#1f77b4\",\"#ff7f0e\",\"#1f77b4\",\"#1f77b4\",\"#ff7f0e\",\"#1f77b4\",\"#2ca02c\",\"#ff7f0e\",\"#ff7f0e\",\"#ff7f0e\",\"#2ca02c\",\"#1f77b4\",\"#ff7f0e\",\"#1f77b4\",\"#1f77b4\",\"#ff7f0e\",\"#1f77b4\",\"#ffbb78\",\"#aec7e8\",\"#ff7f0e\",\"#1f77b4\",\"#ff7f0e\",\"#98df8a\",\"#1f77b4\",\"#ff7f0e\",\"#ffbb78\",\"#ff7f0e\",\"#2ca02c\",\"#ff7f0e\",\"#1f77b4\",\"#1f77b4\",\"#98df8a\",\"#1f77b4\",\"#aec7e8\",\"#98df8a\",\"#2ca02c\",\"#ff7f0e\",\"#1f77b4\",\"#1f77b4\",\"#ff7f0e\",\"#ff7f0e\",\"#2ca02c\",\"#98df8a\",\"#1f77b4\",\"#1f77b4\",\"#ff7f0e\",\"#1f77b4\",\"#98df8a\",\"#1f77b4\",\"#1f77b4\",\"#2ca02c\",\"#ff7f0e\",\"#1f77b4\",\"#ff7f0e\",\"#ff7f0e\",\"#ff7f0e\",\"#ff7f0e\",\"#ff7f0e\",\"#98df8a\",\"#ff7f0e\",\"#ff7f0e\",\"#1f77b4\",\"#ff7f0e\",\"#ff7f0e\",\"#1f77b4\",\"#ff7f0e\",\"#1f77b4\",\"#2ca02c\",\"#98df8a\",\"#98df8a\",\"#1f77b4\",\"#1f77b4\",\"#98df8a\",\"#98df8a\",\"#ff7f0e\",\"#ff7f0e\",\"#1f77b4\",\"#1f77b4\",\"#1f77b4\",\"#ff7f0e\",\"#ff7f0e\",\"#ff7f0e\",\"#1f77b4\",\"#1f77b4\",\"#1f77b4\",\"#ff7f0e\",\"#ff7f0e\",\"#ffbb78\",\"#ff7f0e\",\"#1f77b4\",\"#ff7f0e\",\"#2ca02c\",\"#ff7f0e\",\"#1f77b4\",\"#1f77b4\",\"#98df8a\",\"#1f77b4\",\"#1f77b4\",\"#2ca02c\",\"#98df8a\",\"#1f77b4\",\"#1f77b4\",\"#2ca02c\",\"#2ca02c\",\"#1f77b4\",\"#1f77b4\",\"#1f77b4\",\"#ff7f0e\",\"#ff7f0e\",\"#98df8a\",\"#ff7f0e\",\"#ff7f0e\",\"#ff7f0e\",\"#1f77b4\",\"#1f77b4\",\"#1f77b4\",\"#1f77b4\",\"#1f77b4\",\"#ff7f0e\",\"#1f77b4\",\"#ff7f0e\",\"#1f77b4\",\"#1f77b4\",\"#1f77b4\",\"#1f77b4\",\"#98df8a\",\"#1f77b4\",\"#ff7f0e\",\"#ff7f0e\",\"#1f77b4\",\"#ff7f0e\",\"#2ca02c\",\"#1f77b4\",\"#ff7f0e\",\"#ff7f0e\",\"#1f77b4\",\"#ff7f0e\",\"#ff7f0e\",\"#98df8a\",\"#98df8a\",\"#1f77b4\",\"#1f77b4\",\"#1f77b4\",\"#1f77b4\",\"#ff7f0e\",\"#98df8a\",\"#ff7f0e\",\"#1f77b4\",\"#ff7f0e\",\"#ff7f0e\",\"#ff7f0e\",\"#1f77b4\",\"#1f77b4\",\"#1f77b4\",\"#ff7f0e\",\"#ff7f0e\",\"#1f77b4\",\"#ff7f0e\",\"#ff7f0e\",\"#ff7f0e\",\"#ff7f0e\",\"#2ca02c\",\"#2ca02c\",\"#1f77b4\",\"#1f77b4\",\"#ff7f0e\",\"#1f77b4\",\"#98df8a\",\"#1f77b4\",\"#1f77b4\",\"#1f77b4\",\"#ff7f0e\",\"#1f77b4\",\"#ffbb78\",\"#aec7e8\",\"#2ca02c\",\"#ff7f0e\",\"#1f77b4\",\"#1f77b4\",\"#1f77b4\",\"#aec7e8\",\"#ff7f0e\",\"#2ca02c\",\"#98df8a\",\"#ff7f0e\",\"#ff7f0e\",\"#1f77b4\",\"#1f77b4\",\"#1f77b4\",\"#1f77b4\",\"#aec7e8\",\"#ff7f0e\",\"#ffbb78\",\"#2ca02c\",\"#ffbb78\",\"#ff7f0e\",\"#1f77b4\",\"#1f77b4\",\"#ff7f0e\",\"#1f77b4\",\"#ff7f0e\",\"#1f77b4\",\"#ff7f0e\",\"#ff7f0e\",\"#1f77b4\",\"#ff7f0e\",\"#ff7f0e\",\"#ff7f0e\",\"#1f77b4\",\"#ff7f0e\",\"#ff7f0e\",\"#1f77b4\",\"#1f77b4\",\"#ff7f0e\",\"#2ca02c\",\"#ffbb78\",\"#2ca02c\",\"#1f77b4\",\"#1f77b4\",\"#1f77b4\",\"#1f77b4\",\"#1f77b4\",\"#ff7f0e\",\"#ff7f0e\",\"#1f77b4\",\"#ff7f0e\",\"#ff7f0e\",\"#ffbb78\",\"#ff7f0e\",\"#ffbb78\",\"#1f77b4\",\"#1f77b4\",\"#1f77b4\",\"#1f77b4\",\"#2ca02c\",\"#98df8a\",\"#1f77b4\",\"#1f77b4\",\"#1f77b4\",\"#ff7f0e\",\"#2ca02c\",\"#ff7f0e\",\"#ff7f0e\",\"#1f77b4\",\"#1f77b4\",\"#2ca02c\",\"#ff7f0e\",\"#1f77b4\",\"#2ca02c\",\"#2ca02c\",\"#1f77b4\",\"#ff7f0e\",\"#1f77b4\",\"#98df8a\",\"#ff7f0e\",\"#ff7f0e\",\"#ffbb78\",\"#ff7f0e\",\"#2ca02c\",\"#1f77b4\",\"#aec7e8\",\"#ffbb78\",\"#2ca02c\",\"#2ca02c\",\"#ff7f0e\",\"#98df8a\",\"#1f77b4\",\"#98df8a\",\"#ffbb78\",\"#ff7f0e\",\"#98df8a\",\"#98df8a\",\"#1f77b4\",\"#ff7f0e\",\"#ff7f0e\",\"#2ca02c\",\"#1f77b4\",\"#1f77b4\",\"#ff7f0e\",\"#1f77b4\",\"#1f77b4\",\"#1f77b4\",\"#1f77b4\"],\"line_color\":[\"#ffbb78\",\"#ff7f0e\",\"#ff7f0e\",\"#ff7f0e\",\"#ff7f0e\",\"#1f77b4\",\"#ff7f0e\",\"#ff7f0e\",\"#1f77b4\",\"#1f77b4\",\"#1f77b4\",\"#1f77b4\",\"#ff7f0e\",\"#1f77b4\",\"#2ca02c\",\"#ffbb78\",\"#1f77b4\",\"#ff7f0e\",\"#1f77b4\",\"#1f77b4\",\"#ff7f0e\",\"#ff7f0e\",\"#98df8a\",\"#1f77b4\",\"#1f77b4\",\"#1f77b4\",\"#ff7f0e\",\"#ff7f0e\",\"#ff7f0e\",\"#98df8a\",\"#ff7f0e\",\"#ff7f0e\",\"#1f77b4\",\"#1f77b4\",\"#ff7f0e\",\"#ff7f0e\",\"#2ca02c\",\"#ff7f0e\",\"#2ca02c\",\"#1f77b4\",\"#98df8a\",\"#ff7f0e\",\"#ff7f0e\",\"#98df8a\",\"#1f77b4\",\"#ff7f0e\",\"#1f77b4\",\"#ff7f0e\",\"#1f77b4\",\"#2ca02c\",\"#2ca02c\",\"#1f77b4\",\"#1f77b4\",\"#ff7f0e\",\"#1f77b4\",\"#1f77b4\",\"#1f77b4\",\"#98df8a\",\"#ff7f0e\",\"#1f77b4\",\"#ff7f0e\",\"#1f77b4\",\"#1f77b4\",\"#98df8a\",\"#2ca02c\",\"#98df8a\",\"#98df8a\",\"#1f77b4\",\"#ff7f0e\",\"#ff7f0e\",\"#1f77b4\",\"#ff7f0e\",\"#ff7f0e\",\"#1f77b4\",\"#1f77b4\",\"#1f77b4\",\"#ff7f0e\",\"#1f77b4\",\"#ff7f0e\",\"#1f77b4\",\"#2ca02c\",\"#ff7f0e\",\"#98df8a\",\"#1f77b4\",\"#1f77b4\",\"#ff7f0e\",\"#ff7f0e\",\"#ff7f0e\",\"#98df8a\",\"#ff7f0e\",\"#ff7f0e\",\"#ff7f0e\",\"#1f77b4\",\"#1f77b4\",\"#1f77b4\",\"#1f77b4\",\"#ff7f0e\",\"#1f77b4\",\"#1f77b4\",\"#1f77b4\",\"#98df8a\",\"#ff7f0e\",\"#ff7f0e\",\"#1f77b4\",\"#1f77b4\",\"#1f77b4\",\"#ff7f0e\",\"#1f77b4\",\"#1f77b4\",\"#ff7f0e\",\"#ff7f0e\",\"#98df8a\",\"#ff7f0e\",\"#ff7f0e\",\"#ff7f0e\",\"#ff7f0e\",\"#2ca02c\",\"#ff7f0e\",\"#98df8a\",\"#ff7f0e\",\"#ffbb78\",\"#98df8a\",\"#1f77b4\",\"#1f77b4\",\"#ff7f0e\",\"#98df8a\",\"#1f77b4\",\"#ff7f0e\",\"#1f77b4\",\"#1f77b4\",\"#1f77b4\",\"#ff7f0e\",\"#1f77b4\",\"#1f77b4\",\"#98df8a\",\"#2ca02c\",\"#1f77b4\",\"#ff7f0e\",\"#1f77b4\",\"#1f77b4\",\"#ffbb78\",\"#1f77b4\",\"#2ca02c\",\"#1f77b4\",\"#98df8a\",\"#1f77b4\",\"#2ca02c\",\"#1f77b4\",\"#ff7f0e\",\"#1f77b4\",\"#1f77b4\",\"#ff7f0e\",\"#1f77b4\",\"#98df8a\",\"#98df8a\",\"#ff7f0e\",\"#98df8a\",\"#ff7f0e\",\"#2ca02c\",\"#1f77b4\",\"#1f77b4\",\"#1f77b4\",\"#ff7f0e\",\"#ffbb78\",\"#1f77b4\",\"#ff7f0e\",\"#1f77b4\",\"#ff7f0e\",\"#ff7f0e\",\"#ff7f0e\",\"#98df8a\",\"#1f77b4\",\"#ff7f0e\",\"#2ca02c\",\"#1f77b4\",\"#1f77b4\",\"#aec7e8\",\"#ff7f0e\",\"#1f77b4\",\"#1f77b4\",\"#1f77b4\",\"#ff7f0e\",\"#1f77b4\",\"#ff7f0e\",\"#1f77b4\",\"#1f77b4\",\"#1f77b4\",\"#1f77b4\",\"#ff7f0e\",\"#1f77b4\",\"#1f77b4\",\"#2ca02c\",\"#ff7f0e\",\"#1f77b4\",\"#1f77b4\",\"#1f77b4\",\"#1f77b4\",\"#1f77b4\",\"#2ca02c\",\"#1f77b4\",\"#1f77b4\",\"#1f77b4\",\"#1f77b4\",\"#ff7f0e\",\"#1f77b4\",\"#ff7f0e\",\"#ff7f0e\",\"#ffbb78\",\"#1f77b4\",\"#1f77b4\",\"#ff7f0e\",\"#ff7f0e\",\"#aec7e8\",\"#ff7f0e\",\"#ff7f0e\",\"#98df8a\",\"#1f77b4\",\"#ff7f0e\",\"#2ca02c\",\"#aec7e8\",\"#ffbb78\",\"#1f77b4\",\"#1f77b4\",\"#ff7f0e\",\"#98df8a\",\"#1f77b4\",\"#2ca02c\",\"#ff7f0e\",\"#1f77b4\",\"#1f77b4\",\"#1f77b4\",\"#ff7f0e\",\"#98df8a\",\"#ff7f0e\",\"#ff7f0e\",\"#1f77b4\",\"#1f77b4\",\"#ffbb78\",\"#ffbb78\",\"#aec7e8\",\"#ff7f0e\",\"#1f77b4\",\"#ffbb78\",\"#ff7f0e\",\"#1f77b4\",\"#2ca02c\",\"#1f77b4\",\"#1f77b4\",\"#ff7f0e\",\"#ff7f0e\",\"#1f77b4\",\"#ff7f0e\",\"#1f77b4\",\"#ff7f0e\",\"#1f77b4\",\"#1f77b4\",\"#1f77b4\",\"#1f77b4\",\"#1f77b4\",\"#1f77b4\",\"#98df8a\",\"#1f77b4\",\"#2ca02c\",\"#ff7f0e\",\"#1f77b4\",\"#ff7f0e\",\"#ff7f0e\",\"#ff7f0e\",\"#1f77b4\",\"#98df8a\",\"#1f77b4\",\"#aec7e8\",\"#1f77b4\",\"#ff7f0e\",\"#1f77b4\",\"#1f77b4\",\"#1f77b4\",\"#1f77b4\",\"#2ca02c\",\"#1f77b4\",\"#ff7f0e\",\"#2ca02c\",\"#1f77b4\",\"#98df8a\",\"#1f77b4\",\"#ffbb78\",\"#1f77b4\",\"#1f77b4\",\"#1f77b4\",\"#ff7f0e\",\"#ff7f0e\",\"#1f77b4\",\"#1f77b4\",\"#2ca02c\",\"#98df8a\",\"#1f77b4\",\"#1f77b4\",\"#1f77b4\",\"#1f77b4\",\"#1f77b4\",\"#1f77b4\",\"#ff7f0e\",\"#ffbb78\",\"#1f77b4\",\"#ff7f0e\",\"#ff7f0e\",\"#2ca02c\",\"#2ca02c\",\"#2ca02c\",\"#ffbb78\",\"#1f77b4\",\"#2ca02c\",\"#1f77b4\",\"#1f77b4\",\"#1f77b4\",\"#1f77b4\",\"#2ca02c\",\"#ff7f0e\",\"#1f77b4\",\"#ff7f0e\",\"#1f77b4\",\"#ff7f0e\",\"#1f77b4\",\"#ff7f0e\",\"#ff7f0e\",\"#ff7f0e\",\"#ff7f0e\",\"#ff7f0e\",\"#ff7f0e\",\"#ff7f0e\",\"#ff7f0e\",\"#1f77b4\",\"#ff7f0e\",\"#1f77b4\",\"#1f77b4\",\"#2ca02c\",\"#1f77b4\",\"#1f77b4\",\"#2ca02c\",\"#ff7f0e\",\"#1f77b4\",\"#1f77b4\",\"#1f77b4\",\"#1f77b4\",\"#aec7e8\",\"#98df8a\",\"#1f77b4\",\"#1f77b4\",\"#ff7f0e\",\"#ff7f0e\",\"#ff7f0e\",\"#1f77b4\",\"#ff7f0e\",\"#1f77b4\",\"#ff7f0e\",\"#1f77b4\",\"#98df8a\",\"#2ca02c\",\"#ff7f0e\",\"#1f77b4\",\"#1f77b4\",\"#98df8a\",\"#1f77b4\",\"#1f77b4\",\"#1f77b4\",\"#2ca02c\",\"#2ca02c\",\"#ff7f0e\",\"#ff7f0e\",\"#ff7f0e\",\"#2ca02c\",\"#ffbb78\",\"#ff7f0e\",\"#1f77b4\",\"#ff7f0e\",\"#1f77b4\",\"#1f77b4\",\"#1f77b4\",\"#1f77b4\",\"#2ca02c\",\"#ff7f0e\",\"#1f77b4\",\"#1f77b4\",\"#1f77b4\",\"#1f77b4\",\"#1f77b4\",\"#1f77b4\",\"#ffbb78\",\"#1f77b4\",\"#2ca02c\",\"#ff7f0e\",\"#1f77b4\",\"#ff7f0e\",\"#ff7f0e\",\"#1f77b4\",\"#98df8a\",\"#ff7f0e\",\"#1f77b4\",\"#1f77b4\",\"#ff7f0e\",\"#1f77b4\",\"#1f77b4\",\"#ff7f0e\",\"#1f77b4\",\"#1f77b4\",\"#ff7f0e\",\"#1f77b4\",\"#1f77b4\",\"#1f77b4\",\"#1f77b4\",\"#1f77b4\",\"#2ca02c\",\"#2ca02c\",\"#1f77b4\",\"#ffbb78\",\"#1f77b4\",\"#ff7f0e\",\"#1f77b4\",\"#2ca02c\",\"#1f77b4\",\"#2ca02c\",\"#1f77b4\",\"#2ca02c\",\"#1f77b4\",\"#1f77b4\",\"#ff7f0e\",\"#2ca02c\",\"#1f77b4\",\"#2ca02c\",\"#ff7f0e\",\"#98df8a\",\"#ffbb78\",\"#1f77b4\",\"#1f77b4\",\"#1f77b4\",\"#aec7e8\",\"#1f77b4\",\"#1f77b4\",\"#ffbb78\",\"#ffbb78\",\"#1f77b4\",\"#1f77b4\",\"#1f77b4\",\"#ff7f0e\",\"#1f77b4\",\"#1f77b4\",\"#1f77b4\",\"#aec7e8\",\"#ff7f0e\",\"#98df8a\",\"#ff7f0e\",\"#98df8a\",\"#1f77b4\",\"#1f77b4\",\"#1f77b4\",\"#1f77b4\",\"#1f77b4\",\"#ff7f0e\",\"#1f77b4\",\"#1f77b4\",\"#2ca02c\",\"#1f77b4\",\"#ff7f0e\",\"#1f77b4\",\"#ffbb78\",\"#1f77b4\",\"#1f77b4\",\"#ff7f0e\",\"#ffbb78\",\"#1f77b4\",\"#1f77b4\",\"#2ca02c\",\"#1f77b4\",\"#ff7f0e\",\"#1f77b4\",\"#ff7f0e\",\"#ff7f0e\",\"#ffbb78\",\"#ff7f0e\",\"#ff7f0e\",\"#1f77b4\",\"#1f77b4\",\"#ffbb78\",\"#ff7f0e\",\"#1f77b4\",\"#2ca02c\",\"#ff7f0e\",\"#ffbb78\",\"#1f77b4\",\"#1f77b4\",\"#1f77b4\",\"#ff7f0e\",\"#1f77b4\",\"#1f77b4\",\"#ff7f0e\",\"#1f77b4\",\"#1f77b4\",\"#ff7f0e\",\"#1f77b4\",\"#ff7f0e\",\"#1f77b4\",\"#ff7f0e\",\"#ff7f0e\",\"#ff7f0e\",\"#98df8a\",\"#98df8a\",\"#2ca02c\",\"#2ca02c\",\"#1f77b4\",\"#1f77b4\",\"#98df8a\",\"#1f77b4\",\"#aec7e8\",\"#ff7f0e\",\"#ff7f0e\",\"#ff7f0e\",\"#1f77b4\",\"#98df8a\",\"#1f77b4\",\"#1f77b4\",\"#1f77b4\",\"#1f77b4\",\"#98df8a\",\"#98df8a\",\"#98df8a\",\"#ff7f0e\",\"#1f77b4\",\"#1f77b4\",\"#1f77b4\",\"#2ca02c\",\"#ff7f0e\",\"#ff7f0e\",\"#1f77b4\",\"#1f77b4\",\"#2ca02c\",\"#ff7f0e\",\"#ff7f0e\",\"#2ca02c\",\"#ff7f0e\",\"#1f77b4\",\"#1f77b4\",\"#1f77b4\",\"#ff7f0e\",\"#ff7f0e\",\"#1f77b4\",\"#ff7f0e\",\"#1f77b4\",\"#ff7f0e\",\"#ff7f0e\",\"#98df8a\",\"#1f77b4\",\"#1f77b4\",\"#ff7f0e\",\"#1f77b4\",\"#2ca02c\",\"#ffbb78\",\"#1f77b4\",\"#ff7f0e\",\"#1f77b4\",\"#98df8a\",\"#ff7f0e\",\"#1f77b4\",\"#98df8a\",\"#1f77b4\",\"#1f77b4\",\"#ffbb78\",\"#2ca02c\",\"#2ca02c\",\"#1f77b4\",\"#1f77b4\",\"#1f77b4\",\"#1f77b4\",\"#1f77b4\",\"#1f77b4\",\"#1f77b4\",\"#1f77b4\",\"#ffbb78\",\"#1f77b4\",\"#ff7f0e\",\"#1f77b4\",\"#1f77b4\",\"#aec7e8\",\"#98df8a\",\"#1f77b4\",\"#98df8a\",\"#ff7f0e\",\"#1f77b4\",\"#98df8a\",\"#ff7f0e\",\"#ffbb78\",\"#1f77b4\",\"#1f77b4\",\"#1f77b4\",\"#2ca02c\",\"#1f77b4\",\"#ff7f0e\",\"#1f77b4\",\"#ff7f0e\",\"#98df8a\",\"#ff7f0e\",\"#1f77b4\",\"#ff7f0e\",\"#ff7f0e\",\"#ff7f0e\",\"#ff7f0e\",\"#98df8a\",\"#ff7f0e\",\"#1f77b4\",\"#ff7f0e\",\"#ff7f0e\",\"#ff7f0e\",\"#1f77b4\",\"#1f77b4\",\"#1f77b4\",\"#1f77b4\",\"#1f77b4\",\"#1f77b4\",\"#1f77b4\",\"#ff7f0e\",\"#ff7f0e\",\"#2ca02c\",\"#1f77b4\",\"#ff7f0e\",\"#2ca02c\",\"#2ca02c\",\"#98df8a\",\"#ff7f0e\",\"#1f77b4\",\"#ff7f0e\",\"#ff7f0e\",\"#1f77b4\",\"#1f77b4\",\"#1f77b4\",\"#ff7f0e\",\"#ff7f0e\",\"#1f77b4\",\"#98df8a\",\"#1f77b4\",\"#1f77b4\",\"#1f77b4\",\"#ff7f0e\",\"#1f77b4\",\"#1f77b4\",\"#ff7f0e\",\"#ff7f0e\",\"#1f77b4\",\"#ff7f0e\",\"#1f77b4\",\"#1f77b4\",\"#1f77b4\",\"#98df8a\",\"#ff7f0e\",\"#ff7f0e\",\"#98df8a\",\"#1f77b4\",\"#ffbb78\",\"#1f77b4\",\"#ff7f0e\",\"#1f77b4\",\"#ff7f0e\",\"#ff7f0e\",\"#ff7f0e\",\"#ff7f0e\",\"#ff7f0e\",\"#ff7f0e\",\"#1f77b4\",\"#ff7f0e\",\"#ff7f0e\",\"#ff7f0e\",\"#ffbb78\",\"#98df8a\",\"#ffbb78\",\"#1f77b4\",\"#98df8a\",\"#ffbb78\",\"#98df8a\",\"#1f77b4\",\"#1f77b4\",\"#1f77b4\",\"#ff7f0e\",\"#ff7f0e\",\"#ff7f0e\",\"#1f77b4\",\"#1f77b4\",\"#1f77b4\",\"#1f77b4\",\"#ff7f0e\",\"#1f77b4\",\"#1f77b4\",\"#98df8a\",\"#2ca02c\",\"#1f77b4\",\"#98df8a\",\"#ff7f0e\",\"#ff7f0e\",\"#98df8a\",\"#2ca02c\",\"#ff7f0e\",\"#98df8a\",\"#1f77b4\",\"#ff7f0e\",\"#1f77b4\",\"#ff7f0e\",\"#98df8a\",\"#ffbb78\",\"#ff7f0e\",\"#ff7f0e\",\"#ff7f0e\",\"#1f77b4\",\"#98df8a\",\"#1f77b4\",\"#ff7f0e\",\"#1f77b4\",\"#ff7f0e\",\"#1f77b4\",\"#ff7f0e\",\"#1f77b4\",\"#98df8a\",\"#1f77b4\",\"#1f77b4\",\"#2ca02c\",\"#1f77b4\",\"#1f77b4\",\"#1f77b4\",\"#ff7f0e\",\"#ff7f0e\",\"#1f77b4\",\"#ff7f0e\",\"#2ca02c\",\"#1f77b4\",\"#2ca02c\",\"#2ca02c\",\"#2ca02c\",\"#1f77b4\",\"#1f77b4\",\"#98df8a\",\"#1f77b4\",\"#ff7f0e\",\"#98df8a\",\"#2ca02c\",\"#2ca02c\",\"#1f77b4\",\"#ff7f0e\",\"#ff7f0e\",\"#ff7f0e\",\"#1f77b4\",\"#ff7f0e\",\"#1f77b4\",\"#1f77b4\",\"#1f77b4\",\"#98df8a\",\"#1f77b4\",\"#1f77b4\",\"#1f77b4\",\"#1f77b4\",\"#1f77b4\",\"#ff7f0e\",\"#98df8a\",\"#1f77b4\",\"#ff7f0e\",\"#ff7f0e\",\"#1f77b4\",\"#aec7e8\",\"#ff7f0e\",\"#1f77b4\",\"#1f77b4\",\"#1f77b4\",\"#ff7f0e\",\"#ff7f0e\",\"#1f77b4\",\"#1f77b4\",\"#ff7f0e\",\"#ff7f0e\",\"#1f77b4\",\"#2ca02c\",\"#1f77b4\",\"#ffbb78\",\"#1f77b4\",\"#1f77b4\",\"#1f77b4\",\"#1f77b4\",\"#ff7f0e\",\"#1f77b4\",\"#98df8a\",\"#ff7f0e\",\"#ff7f0e\",\"#ff7f0e\",\"#1f77b4\",\"#ff7f0e\",\"#ffbb78\",\"#ffbb78\",\"#ff7f0e\",\"#ff7f0e\",\"#98df8a\",\"#ff7f0e\",\"#ff7f0e\",\"#1f77b4\",\"#ff7f0e\",\"#1f77b4\",\"#ffbb78\",\"#ff7f0e\",\"#98df8a\",\"#ff7f0e\",\"#ff7f0e\",\"#ff7f0e\",\"#ff7f0e\",\"#ff7f0e\",\"#1f77b4\",\"#1f77b4\",\"#ff7f0e\",\"#ff7f0e\",\"#ff7f0e\",\"#ff7f0e\",\"#ff7f0e\",\"#ffbb78\",\"#2ca02c\",\"#1f77b4\",\"#ff7f0e\",\"#ff7f0e\",\"#ffbb78\",\"#ff7f0e\",\"#98df8a\",\"#1f77b4\",\"#1f77b4\",\"#1f77b4\",\"#2ca02c\",\"#ff7f0e\",\"#ff7f0e\",\"#2ca02c\",\"#ffbb78\",\"#98df8a\",\"#ff7f0e\",\"#1f77b4\",\"#ff7f0e\",\"#aec7e8\",\"#1f77b4\",\"#1f77b4\",\"#2ca02c\",\"#1f77b4\",\"#ff7f0e\",\"#1f77b4\",\"#1f77b4\",\"#ff7f0e\",\"#ff7f0e\",\"#1f77b4\",\"#ff7f0e\",\"#1f77b4\",\"#1f77b4\",\"#ff7f0e\",\"#ff7f0e\",\"#ffbb78\",\"#ff7f0e\",\"#1f77b4\",\"#ff7f0e\",\"#1f77b4\",\"#aec7e8\",\"#2ca02c\",\"#aec7e8\",\"#1f77b4\",\"#98df8a\",\"#1f77b4\",\"#2ca02c\",\"#2ca02c\",\"#1f77b4\",\"#1f77b4\",\"#98df8a\",\"#98df8a\",\"#ff7f0e\",\"#ff7f0e\",\"#1f77b4\",\"#ff7f0e\",\"#ff7f0e\",\"#ff7f0e\",\"#ff7f0e\",\"#2ca02c\",\"#ff7f0e\",\"#2ca02c\",\"#1f77b4\",\"#ff7f0e\",\"#1f77b4\",\"#1f77b4\",\"#1f77b4\",\"#aec7e8\",\"#1f77b4\",\"#ff7f0e\",\"#ff7f0e\",\"#98df8a\",\"#ff7f0e\",\"#1f77b4\",\"#1f77b4\",\"#1f77b4\",\"#1f77b4\",\"#1f77b4\",\"#ff7f0e\",\"#1f77b4\",\"#1f77b4\",\"#1f77b4\",\"#1f77b4\",\"#ff7f0e\",\"#1f77b4\",\"#1f77b4\",\"#ff7f0e\",\"#1f77b4\",\"#2ca02c\",\"#1f77b4\",\"#ffbb78\",\"#ffbb78\",\"#1f77b4\",\"#ff7f0e\",\"#2ca02c\",\"#ff7f0e\",\"#1f77b4\",\"#1f77b4\",\"#ff7f0e\",\"#1f77b4\",\"#1f77b4\",\"#ff7f0e\",\"#aec7e8\",\"#ff7f0e\",\"#ff7f0e\",\"#98df8a\",\"#ff7f0e\",\"#ff7f0e\",\"#ffbb78\",\"#ff7f0e\",\"#98df8a\",\"#ffbb78\",\"#1f77b4\",\"#1f77b4\",\"#1f77b4\",\"#ff7f0e\",\"#1f77b4\",\"#2ca02c\",\"#ff7f0e\",\"#ff7f0e\",\"#1f77b4\",\"#aec7e8\",\"#1f77b4\",\"#1f77b4\",\"#ff7f0e\",\"#2ca02c\",\"#1f77b4\",\"#ff7f0e\",\"#1f77b4\",\"#ffbb78\",\"#ff7f0e\",\"#ff7f0e\",\"#1f77b4\",\"#ff7f0e\",\"#ffbb78\",\"#1f77b4\",\"#1f77b4\",\"#1f77b4\",\"#ff7f0e\",\"#1f77b4\",\"#1f77b4\",\"#1f77b4\",\"#1f77b4\",\"#ff7f0e\",\"#1f77b4\",\"#98df8a\",\"#ffbb78\",\"#ffbb78\",\"#ff7f0e\",\"#98df8a\",\"#1f77b4\",\"#1f77b4\",\"#1f77b4\",\"#2ca02c\",\"#ff7f0e\",\"#ff7f0e\",\"#2ca02c\",\"#1f77b4\",\"#ff7f0e\",\"#ffbb78\",\"#1f77b4\",\"#1f77b4\",\"#1f77b4\",\"#ff7f0e\",\"#1f77b4\",\"#ff7f0e\",\"#ff7f0e\",\"#1f77b4\",\"#2ca02c\",\"#ff7f0e\",\"#ff7f0e\",\"#ff7f0e\",\"#98df8a\",\"#1f77b4\",\"#ff7f0e\",\"#1f77b4\",\"#1f77b4\",\"#98df8a\",\"#2ca02c\",\"#ff7f0e\",\"#ff7f0e\",\"#98df8a\",\"#1f77b4\",\"#1f77b4\",\"#1f77b4\",\"#98df8a\",\"#ff7f0e\",\"#ff7f0e\",\"#2ca02c\",\"#1f77b4\",\"#1f77b4\",\"#ff7f0e\",\"#ff7f0e\",\"#1f77b4\",\"#ff7f0e\",\"#ff7f0e\",\"#ffbb78\",\"#aec7e8\",\"#1f77b4\",\"#1f77b4\",\"#ff7f0e\",\"#ff7f0e\",\"#1f77b4\",\"#ff7f0e\",\"#ff7f0e\",\"#ff7f0e\",\"#1f77b4\",\"#1f77b4\",\"#ff7f0e\",\"#1f77b4\",\"#1f77b4\",\"#1f77b4\",\"#ff7f0e\",\"#1f77b4\",\"#ff7f0e\",\"#ff7f0e\",\"#1f77b4\",\"#ff7f0e\",\"#1f77b4\",\"#1f77b4\",\"#aec7e8\",\"#1f77b4\",\"#ff7f0e\",\"#1f77b4\",\"#1f77b4\",\"#ff7f0e\",\"#ff7f0e\",\"#ff7f0e\",\"#1f77b4\",\"#ff7f0e\",\"#ff7f0e\",\"#1f77b4\",\"#1f77b4\",\"#ffbb78\",\"#1f77b4\",\"#ff7f0e\",\"#1f77b4\",\"#2ca02c\",\"#1f77b4\",\"#1f77b4\",\"#1f77b4\",\"#aec7e8\",\"#1f77b4\",\"#98df8a\",\"#1f77b4\",\"#2ca02c\",\"#1f77b4\",\"#2ca02c\",\"#98df8a\",\"#ff7f0e\",\"#ff7f0e\",\"#ff7f0e\",\"#2ca02c\",\"#1f77b4\",\"#2ca02c\",\"#ff7f0e\",\"#2ca02c\",\"#1f77b4\",\"#1f77b4\",\"#2ca02c\",\"#1f77b4\",\"#ff7f0e\",\"#1f77b4\",\"#1f77b4\",\"#98df8a\",\"#2ca02c\",\"#1f77b4\",\"#ff7f0e\",\"#ff7f0e\",\"#2ca02c\",\"#ff7f0e\",\"#1f77b4\",\"#1f77b4\",\"#1f77b4\",\"#1f77b4\",\"#1f77b4\",\"#2ca02c\",\"#1f77b4\",\"#1f77b4\",\"#1f77b4\",\"#98df8a\",\"#ff7f0e\",\"#1f77b4\",\"#2ca02c\",\"#98df8a\",\"#ff7f0e\",\"#1f77b4\",\"#ff7f0e\",\"#1f77b4\",\"#1f77b4\",\"#1f77b4\",\"#1f77b4\",\"#1f77b4\",\"#2ca02c\",\"#1f77b4\",\"#ffbb78\",\"#1f77b4\",\"#1f77b4\",\"#ff7f0e\",\"#1f77b4\",\"#1f77b4\",\"#98df8a\",\"#1f77b4\",\"#ff7f0e\",\"#ff7f0e\",\"#1f77b4\",\"#ff7f0e\",\"#ff7f0e\",\"#ff7f0e\",\"#ff7f0e\",\"#ff7f0e\",\"#1f77b4\",\"#ff7f0e\",\"#1f77b4\",\"#1f77b4\",\"#ff7f0e\",\"#ffbb78\",\"#ff7f0e\",\"#1f77b4\",\"#ff7f0e\",\"#2ca02c\",\"#ff7f0e\",\"#ff7f0e\",\"#1f77b4\",\"#1f77b4\",\"#98df8a\",\"#98df8a\",\"#1f77b4\",\"#1f77b4\",\"#ff7f0e\",\"#1f77b4\",\"#1f77b4\",\"#aec7e8\",\"#98df8a\",\"#1f77b4\",\"#2ca02c\",\"#1f77b4\",\"#1f77b4\",\"#1f77b4\",\"#1f77b4\",\"#1f77b4\",\"#1f77b4\",\"#1f77b4\",\"#1f77b4\",\"#aec7e8\",\"#ff7f0e\",\"#1f77b4\",\"#ff7f0e\",\"#2ca02c\",\"#ff7f0e\",\"#1f77b4\",\"#1f77b4\",\"#2ca02c\",\"#1f77b4\",\"#ff7f0e\",\"#98df8a\",\"#ff7f0e\",\"#1f77b4\",\"#98df8a\",\"#ff7f0e\",\"#1f77b4\",\"#1f77b4\",\"#ffbb78\",\"#1f77b4\",\"#1f77b4\",\"#1f77b4\",\"#1f77b4\",\"#aec7e8\",\"#1f77b4\",\"#1f77b4\",\"#ff7f0e\",\"#ff7f0e\",\"#1f77b4\",\"#ff7f0e\",\"#ff7f0e\",\"#1f77b4\",\"#ffbb78\",\"#1f77b4\",\"#98df8a\",\"#ff7f0e\",\"#aec7e8\",\"#1f77b4\",\"#1f77b4\",\"#ff7f0e\",\"#ffbb78\",\"#1f77b4\",\"#ff7f0e\",\"#ff7f0e\",\"#ff7f0e\",\"#ff7f0e\",\"#1f77b4\",\"#ff7f0e\",\"#98df8a\",\"#ff7f0e\",\"#98df8a\",\"#1f77b4\",\"#ff7f0e\",\"#98df8a\",\"#2ca02c\",\"#ff7f0e\",\"#1f77b4\",\"#98df8a\",\"#ff7f0e\",\"#98df8a\",\"#ff7f0e\",\"#1f77b4\",\"#1f77b4\",\"#1f77b4\",\"#1f77b4\",\"#ff7f0e\",\"#1f77b4\",\"#1f77b4\",\"#ff7f0e\",\"#1f77b4\",\"#98df8a\",\"#1f77b4\",\"#1f77b4\",\"#98df8a\",\"#1f77b4\",\"#2ca02c\",\"#1f77b4\",\"#1f77b4\",\"#ff7f0e\",\"#ff7f0e\",\"#1f77b4\",\"#ff7f0e\",\"#1f77b4\",\"#ff7f0e\",\"#1f77b4\",\"#2ca02c\",\"#aec7e8\",\"#1f77b4\",\"#ff7f0e\",\"#ff7f0e\",\"#1f77b4\",\"#ff7f0e\",\"#aec7e8\",\"#ff7f0e\",\"#98df8a\",\"#aec7e8\",\"#98df8a\",\"#2ca02c\",\"#ffbb78\",\"#1f77b4\",\"#1f77b4\",\"#2ca02c\",\"#98df8a\",\"#1f77b4\",\"#aec7e8\",\"#1f77b4\",\"#ff7f0e\",\"#2ca02c\",\"#ff7f0e\",\"#1f77b4\",\"#1f77b4\",\"#98df8a\",\"#1f77b4\",\"#1f77b4\",\"#ffbb78\",\"#1f77b4\",\"#1f77b4\",\"#98df8a\",\"#1f77b4\",\"#1f77b4\",\"#2ca02c\",\"#1f77b4\",\"#ff7f0e\",\"#aec7e8\",\"#ff7f0e\",\"#1f77b4\",\"#98df8a\",\"#1f77b4\",\"#1f77b4\",\"#1f77b4\",\"#1f77b4\",\"#2ca02c\",\"#ffbb78\",\"#1f77b4\",\"#1f77b4\",\"#ffbb78\",\"#ff7f0e\",\"#1f77b4\",\"#1f77b4\",\"#ff7f0e\",\"#1f77b4\",\"#2ca02c\",\"#1f77b4\",\"#ff7f0e\",\"#2ca02c\",\"#ff7f0e\",\"#1f77b4\",\"#1f77b4\",\"#ffbb78\",\"#1f77b4\",\"#aec7e8\",\"#1f77b4\",\"#ff7f0e\",\"#ff7f0e\",\"#1f77b4\",\"#ff7f0e\",\"#98df8a\",\"#ff7f0e\",\"#ff7f0e\",\"#1f77b4\",\"#ffbb78\",\"#1f77b4\",\"#ff7f0e\",\"#aec7e8\",\"#2ca02c\",\"#ff7f0e\",\"#1f77b4\",\"#aec7e8\",\"#ff7f0e\",\"#ff7f0e\",\"#98df8a\",\"#ff7f0e\",\"#1f77b4\",\"#ff7f0e\",\"#1f77b4\",\"#ffbb78\",\"#ff7f0e\",\"#1f77b4\",\"#ff7f0e\",\"#1f77b4\",\"#1f77b4\",\"#ff7f0e\",\"#1f77b4\",\"#ff7f0e\",\"#1f77b4\",\"#98df8a\",\"#ff7f0e\",\"#1f77b4\",\"#ff7f0e\",\"#1f77b4\",\"#98df8a\",\"#ff7f0e\",\"#ffbb78\",\"#1f77b4\",\"#aec7e8\",\"#1f77b4\",\"#1f77b4\",\"#1f77b4\",\"#1f77b4\",\"#ff7f0e\",\"#1f77b4\",\"#1f77b4\",\"#ff7f0e\",\"#ff7f0e\",\"#1f77b4\",\"#98df8a\",\"#1f77b4\",\"#ff7f0e\",\"#1f77b4\",\"#1f77b4\",\"#1f77b4\",\"#1f77b4\",\"#ffbb78\",\"#1f77b4\",\"#1f77b4\",\"#2ca02c\",\"#ff7f0e\",\"#1f77b4\",\"#ff7f0e\",\"#1f77b4\",\"#ff7f0e\",\"#98df8a\",\"#1f77b4\",\"#ff7f0e\",\"#1f77b4\",\"#ff7f0e\",\"#1f77b4\",\"#1f77b4\",\"#ff7f0e\",\"#2ca02c\",\"#1f77b4\",\"#1f77b4\",\"#1f77b4\",\"#1f77b4\",\"#1f77b4\",\"#ff7f0e\",\"#2ca02c\",\"#1f77b4\",\"#1f77b4\",\"#1f77b4\",\"#2ca02c\",\"#1f77b4\",\"#ff7f0e\",\"#2ca02c\",\"#98df8a\",\"#98df8a\",\"#2ca02c\",\"#98df8a\",\"#1f77b4\",\"#ff7f0e\",\"#1f77b4\",\"#1f77b4\",\"#2ca02c\",\"#1f77b4\",\"#ffbb78\",\"#ff7f0e\",\"#2ca02c\",\"#2ca02c\",\"#ff7f0e\",\"#ff7f0e\",\"#1f77b4\",\"#ff7f0e\",\"#98df8a\",\"#ff7f0e\",\"#98df8a\",\"#ff7f0e\",\"#2ca02c\",\"#ff7f0e\",\"#ff7f0e\",\"#2ca02c\",\"#1f77b4\",\"#ff7f0e\",\"#98df8a\",\"#98df8a\",\"#1f77b4\",\"#aec7e8\",\"#ff7f0e\",\"#98df8a\",\"#ff7f0e\",\"#2ca02c\",\"#1f77b4\",\"#1f77b4\",\"#1f77b4\",\"#ff7f0e\",\"#ff7f0e\",\"#1f77b4\",\"#1f77b4\",\"#2ca02c\",\"#ffbb78\",\"#ff7f0e\",\"#98df8a\",\"#1f77b4\",\"#ffbb78\",\"#ff7f0e\",\"#1f77b4\",\"#1f77b4\",\"#2ca02c\",\"#ff7f0e\",\"#2ca02c\",\"#ffbb78\",\"#1f77b4\",\"#1f77b4\",\"#ff7f0e\",\"#ff7f0e\",\"#ff7f0e\",\"#ffbb78\",\"#2ca02c\",\"#1f77b4\",\"#ff7f0e\",\"#ff7f0e\",\"#ff7f0e\",\"#ff7f0e\",\"#2ca02c\",\"#ff7f0e\",\"#ff7f0e\",\"#ff7f0e\",\"#2ca02c\",\"#2ca02c\",\"#1f77b4\",\"#1f77b4\",\"#ff7f0e\",\"#1f77b4\",\"#98df8a\",\"#98df8a\",\"#1f77b4\",\"#ff7f0e\",\"#ff7f0e\",\"#1f77b4\",\"#1f77b4\",\"#1f77b4\",\"#98df8a\",\"#98df8a\",\"#ff7f0e\",\"#98df8a\",\"#ff7f0e\",\"#1f77b4\",\"#ff7f0e\",\"#ff7f0e\",\"#1f77b4\",\"#98df8a\",\"#1f77b4\",\"#ff7f0e\",\"#ffbb78\",\"#98df8a\",\"#ff7f0e\",\"#ff7f0e\",\"#1f77b4\",\"#2ca02c\",\"#1f77b4\",\"#98df8a\",\"#2ca02c\",\"#ffbb78\",\"#ff7f0e\",\"#1f77b4\",\"#2ca02c\",\"#ff7f0e\",\"#ff7f0e\",\"#2ca02c\",\"#ffbb78\",\"#ff7f0e\",\"#1f77b4\",\"#ff7f0e\",\"#ffbb78\",\"#2ca02c\",\"#1f77b4\",\"#1f77b4\",\"#1f77b4\",\"#1f77b4\",\"#ff7f0e\",\"#1f77b4\",\"#1f77b4\",\"#1f77b4\",\"#ff7f0e\",\"#ff7f0e\",\"#1f77b4\",\"#ff7f0e\",\"#2ca02c\",\"#ff7f0e\",\"#1f77b4\",\"#aec7e8\",\"#2ca02c\",\"#ff7f0e\",\"#ff7f0e\",\"#1f77b4\",\"#1f77b4\",\"#98df8a\",\"#ff7f0e\",\"#1f77b4\",\"#1f77b4\",\"#1f77b4\",\"#1f77b4\",\"#1f77b4\",\"#1f77b4\",\"#ff7f0e\",\"#ff7f0e\",\"#ff7f0e\",\"#1f77b4\",\"#1f77b4\",\"#ff7f0e\",\"#1f77b4\",\"#ff7f0e\",\"#ff7f0e\",\"#98df8a\",\"#1f77b4\",\"#1f77b4\",\"#1f77b4\",\"#1f77b4\",\"#1f77b4\",\"#1f77b4\",\"#1f77b4\",\"#ff7f0e\",\"#ff7f0e\",\"#1f77b4\",\"#ff7f0e\",\"#1f77b4\",\"#98df8a\",\"#1f77b4\",\"#98df8a\",\"#1f77b4\",\"#1f77b4\",\"#2ca02c\",\"#ff7f0e\",\"#1f77b4\",\"#2ca02c\",\"#1f77b4\",\"#1f77b4\",\"#98df8a\",\"#1f77b4\",\"#1f77b4\",\"#ff7f0e\",\"#ff7f0e\",\"#98df8a\",\"#1f77b4\",\"#1f77b4\",\"#ff7f0e\",\"#ff7f0e\",\"#ffbb78\",\"#ff7f0e\",\"#1f77b4\",\"#ff7f0e\",\"#1f77b4\",\"#1f77b4\",\"#1f77b4\",\"#98df8a\",\"#ff7f0e\",\"#2ca02c\",\"#ff7f0e\",\"#1f77b4\",\"#ffbb78\",\"#ff7f0e\",\"#2ca02c\",\"#2ca02c\",\"#1f77b4\",\"#1f77b4\",\"#1f77b4\",\"#1f77b4\",\"#1f77b4\",\"#1f77b4\",\"#1f77b4\",\"#1f77b4\",\"#1f77b4\",\"#2ca02c\",\"#98df8a\",\"#98df8a\",\"#ff7f0e\",\"#1f77b4\",\"#1f77b4\",\"#ff7f0e\",\"#ff7f0e\",\"#1f77b4\",\"#ff7f0e\",\"#ff7f0e\",\"#2ca02c\",\"#1f77b4\",\"#2ca02c\",\"#1f77b4\",\"#1f77b4\",\"#ff7f0e\",\"#1f77b4\",\"#2ca02c\",\"#1f77b4\",\"#1f77b4\",\"#2ca02c\",\"#2ca02c\",\"#1f77b4\",\"#ff7f0e\",\"#2ca02c\",\"#ff7f0e\",\"#ff7f0e\",\"#98df8a\",\"#1f77b4\",\"#1f77b4\",\"#ff7f0e\",\"#2ca02c\",\"#aec7e8\",\"#ff7f0e\",\"#2ca02c\",\"#ffbb78\",\"#aec7e8\",\"#98df8a\",\"#ff7f0e\",\"#1f77b4\",\"#1f77b4\",\"#1f77b4\",\"#ff7f0e\",\"#1f77b4\",\"#1f77b4\",\"#ff7f0e\",\"#1f77b4\",\"#1f77b4\",\"#1f77b4\",\"#1f77b4\",\"#98df8a\",\"#1f77b4\",\"#ff7f0e\",\"#1f77b4\",\"#1f77b4\",\"#ff7f0e\",\"#98df8a\",\"#ff7f0e\",\"#ff7f0e\",\"#ffbb78\",\"#2ca02c\",\"#98df8a\",\"#ff7f0e\",\"#1f77b4\",\"#ff7f0e\",\"#ff7f0e\",\"#ff7f0e\",\"#ff7f0e\",\"#1f77b4\",\"#ff7f0e\",\"#1f77b4\",\"#1f77b4\",\"#ff7f0e\",\"#aec7e8\",\"#ff7f0e\",\"#2ca02c\",\"#1f77b4\",\"#1f77b4\",\"#1f77b4\",\"#1f77b4\",\"#ff7f0e\",\"#1f77b4\",\"#ff7f0e\",\"#ff7f0e\",\"#1f77b4\",\"#1f77b4\",\"#ff7f0e\",\"#1f77b4\",\"#98df8a\",\"#ff7f0e\",\"#ff7f0e\",\"#ffbb78\",\"#98df8a\",\"#ffbb78\",\"#2ca02c\",\"#98df8a\",\"#1f77b4\",\"#ff7f0e\",\"#2ca02c\",\"#2ca02c\",\"#1f77b4\",\"#1f77b4\",\"#ff7f0e\",\"#ff7f0e\",\"#1f77b4\",\"#1f77b4\",\"#ff7f0e\",\"#1f77b4\",\"#2ca02c\",\"#ff7f0e\",\"#ffbb78\",\"#1f77b4\",\"#1f77b4\",\"#1f77b4\",\"#ff7f0e\",\"#1f77b4\",\"#ff7f0e\",\"#ff7f0e\",\"#1f77b4\",\"#ff7f0e\",\"#98df8a\",\"#1f77b4\",\"#1f77b4\",\"#1f77b4\",\"#98df8a\",\"#ffbb78\",\"#ff7f0e\",\"#1f77b4\",\"#1f77b4\",\"#98df8a\",\"#ff7f0e\",\"#1f77b4\",\"#2ca02c\",\"#98df8a\",\"#1f77b4\",\"#ff7f0e\",\"#1f77b4\",\"#1f77b4\",\"#1f77b4\",\"#ff7f0e\",\"#ff7f0e\",\"#1f77b4\",\"#2ca02c\",\"#ff7f0e\",\"#1f77b4\",\"#1f77b4\",\"#ff7f0e\",\"#1f77b4\",\"#98df8a\",\"#ff7f0e\",\"#ff7f0e\",\"#2ca02c\",\"#ff7f0e\",\"#ff7f0e\",\"#1f77b4\",\"#2ca02c\",\"#1f77b4\",\"#ff7f0e\",\"#1f77b4\",\"#1f77b4\",\"#2ca02c\",\"#ff7f0e\",\"#98df8a\",\"#1f77b4\",\"#2ca02c\",\"#1f77b4\",\"#1f77b4\",\"#ff7f0e\",\"#1f77b4\",\"#1f77b4\",\"#ff7f0e\",\"#1f77b4\",\"#ffbb78\",\"#1f77b4\",\"#1f77b4\",\"#1f77b4\",\"#1f77b4\",\"#1f77b4\",\"#1f77b4\",\"#2ca02c\",\"#98df8a\",\"#ff7f0e\",\"#ff7f0e\",\"#ff7f0e\",\"#ff7f0e\",\"#1f77b4\",\"#1f77b4\",\"#2ca02c\",\"#1f77b4\",\"#1f77b4\",\"#1f77b4\",\"#ff7f0e\",\"#1f77b4\",\"#1f77b4\",\"#1f77b4\",\"#1f77b4\",\"#ffbb78\",\"#ff7f0e\",\"#ff7f0e\",\"#1f77b4\",\"#1f77b4\",\"#1f77b4\",\"#1f77b4\",\"#1f77b4\",\"#2ca02c\",\"#ffbb78\",\"#ff7f0e\",\"#1f77b4\",\"#1f77b4\",\"#98df8a\",\"#1f77b4\",\"#ff7f0e\",\"#1f77b4\",\"#1f77b4\",\"#1f77b4\",\"#1f77b4\",\"#1f77b4\",\"#ff7f0e\",\"#ffbb78\",\"#98df8a\",\"#aec7e8\",\"#1f77b4\",\"#2ca02c\",\"#ff7f0e\",\"#ff7f0e\",\"#1f77b4\",\"#2ca02c\",\"#2ca02c\",\"#ff7f0e\",\"#1f77b4\",\"#1f77b4\",\"#1f77b4\",\"#1f77b4\",\"#1f77b4\",\"#98df8a\",\"#aec7e8\",\"#ff7f0e\",\"#ff7f0e\",\"#ff7f0e\",\"#2ca02c\",\"#2ca02c\",\"#1f77b4\",\"#1f77b4\",\"#1f77b4\",\"#1f77b4\",\"#ff7f0e\",\"#ff7f0e\",\"#1f77b4\",\"#1f77b4\",\"#1f77b4\",\"#ff7f0e\",\"#1f77b4\",\"#1f77b4\",\"#1f77b4\",\"#1f77b4\",\"#98df8a\",\"#ff7f0e\",\"#1f77b4\",\"#98df8a\",\"#ff7f0e\",\"#1f77b4\",\"#ff7f0e\",\"#1f77b4\",\"#1f77b4\",\"#1f77b4\",\"#ff7f0e\",\"#1f77b4\",\"#ff7f0e\",\"#ff7f0e\",\"#ff7f0e\",\"#ffbb78\",\"#ff7f0e\",\"#ff7f0e\",\"#98df8a\",\"#1f77b4\",\"#2ca02c\",\"#ff7f0e\",\"#ff7f0e\",\"#1f77b4\",\"#2ca02c\",\"#1f77b4\",\"#ff7f0e\",\"#98df8a\",\"#1f77b4\",\"#1f77b4\",\"#ff7f0e\",\"#98df8a\",\"#ff7f0e\",\"#ff7f0e\",\"#ff7f0e\",\"#ff7f0e\",\"#2ca02c\",\"#1f77b4\",\"#1f77b4\",\"#ff7f0e\",\"#ff7f0e\",\"#ff7f0e\",\"#98df8a\",\"#ff7f0e\",\"#ff7f0e\",\"#ff7f0e\",\"#ff7f0e\",\"#1f77b4\",\"#ff7f0e\",\"#ff7f0e\",\"#ff7f0e\",\"#98df8a\",\"#ff7f0e\",\"#2ca02c\",\"#1f77b4\",\"#1f77b4\",\"#ff7f0e\",\"#ff7f0e\",\"#ff7f0e\",\"#2ca02c\",\"#ff7f0e\",\"#ff7f0e\",\"#1f77b4\",\"#2ca02c\",\"#1f77b4\",\"#98df8a\",\"#1f77b4\",\"#1f77b4\",\"#98df8a\",\"#ff7f0e\",\"#ff7f0e\",\"#98df8a\",\"#98df8a\",\"#1f77b4\",\"#1f77b4\",\"#98df8a\",\"#ff7f0e\",\"#1f77b4\",\"#1f77b4\",\"#1f77b4\",\"#ff7f0e\",\"#1f77b4\",\"#1f77b4\",\"#1f77b4\",\"#98df8a\",\"#2ca02c\",\"#1f77b4\",\"#1f77b4\",\"#98df8a\",\"#ff7f0e\",\"#ff7f0e\",\"#98df8a\",\"#ff7f0e\",\"#ff7f0e\",\"#98df8a\",\"#2ca02c\",\"#ff7f0e\",\"#2ca02c\",\"#ff7f0e\",\"#1f77b4\",\"#1f77b4\",\"#1f77b4\",\"#ff7f0e\",\"#ff7f0e\",\"#1f77b4\",\"#ff7f0e\",\"#ff7f0e\",\"#ff7f0e\",\"#1f77b4\",\"#ffbb78\",\"#ff7f0e\",\"#2ca02c\",\"#1f77b4\",\"#1f77b4\",\"#2ca02c\",\"#1f77b4\",\"#2ca02c\",\"#98df8a\",\"#1f77b4\",\"#ff7f0e\",\"#1f77b4\",\"#ff7f0e\",\"#1f77b4\",\"#ff7f0e\",\"#2ca02c\",\"#1f77b4\",\"#2ca02c\",\"#1f77b4\",\"#1f77b4\",\"#2ca02c\",\"#ff7f0e\",\"#98df8a\",\"#1f77b4\",\"#ff7f0e\",\"#98df8a\",\"#ffbb78\",\"#ff7f0e\",\"#ff7f0e\",\"#1f77b4\",\"#2ca02c\",\"#98df8a\",\"#ff7f0e\",\"#2ca02c\",\"#1f77b4\",\"#1f77b4\",\"#ff7f0e\",\"#1f77b4\",\"#ff7f0e\",\"#1f77b4\",\"#ff7f0e\",\"#98df8a\",\"#1f77b4\",\"#1f77b4\",\"#1f77b4\",\"#1f77b4\",\"#1f77b4\",\"#98df8a\",\"#ff7f0e\",\"#1f77b4\",\"#2ca02c\",\"#1f77b4\",\"#1f77b4\",\"#1f77b4\",\"#1f77b4\",\"#ff7f0e\",\"#1f77b4\",\"#2ca02c\",\"#ff7f0e\",\"#98df8a\",\"#2ca02c\",\"#1f77b4\",\"#ff7f0e\",\"#1f77b4\",\"#ff7f0e\",\"#1f77b4\",\"#ff7f0e\",\"#2ca02c\",\"#1f77b4\",\"#ff7f0e\",\"#ff7f0e\",\"#ff7f0e\",\"#1f77b4\",\"#2ca02c\",\"#1f77b4\",\"#ff7f0e\",\"#1f77b4\",\"#1f77b4\",\"#ff7f0e\",\"#1f77b4\",\"#1f77b4\",\"#1f77b4\",\"#1f77b4\",\"#1f77b4\",\"#1f77b4\",\"#98df8a\",\"#ff7f0e\",\"#1f77b4\",\"#ff7f0e\",\"#1f77b4\",\"#1f77b4\",\"#1f77b4\",\"#ff7f0e\",\"#2ca02c\",\"#1f77b4\",\"#1f77b4\",\"#1f77b4\",\"#1f77b4\",\"#1f77b4\",\"#1f77b4\",\"#1f77b4\",\"#ffbb78\",\"#ff7f0e\",\"#1f77b4\",\"#ff7f0e\",\"#1f77b4\",\"#1f77b4\",\"#1f77b4\",\"#ff7f0e\",\"#1f77b4\",\"#ffbb78\",\"#ff7f0e\",\"#98df8a\",\"#ff7f0e\",\"#1f77b4\",\"#aec7e8\",\"#ff7f0e\",\"#1f77b4\",\"#ff7f0e\",\"#1f77b4\",\"#ff7f0e\",\"#1f77b4\",\"#1f77b4\",\"#1f77b4\",\"#1f77b4\",\"#1f77b4\",\"#1f77b4\",\"#1f77b4\",\"#aec7e8\",\"#1f77b4\",\"#ff7f0e\",\"#2ca02c\",\"#2ca02c\",\"#1f77b4\",\"#1f77b4\",\"#ff7f0e\",\"#ff7f0e\",\"#ff7f0e\",\"#1f77b4\",\"#1f77b4\",\"#ffbb78\",\"#ff7f0e\",\"#1f77b4\",\"#ff7f0e\",\"#ff7f0e\",\"#1f77b4\",\"#1f77b4\",\"#1f77b4\",\"#1f77b4\",\"#98df8a\",\"#ffbb78\",\"#1f77b4\",\"#98df8a\",\"#98df8a\",\"#98df8a\",\"#1f77b4\",\"#1f77b4\",\"#1f77b4\",\"#ff7f0e\",\"#98df8a\",\"#ff7f0e\",\"#ff7f0e\",\"#1f77b4\",\"#ff7f0e\",\"#ff7f0e\",\"#98df8a\",\"#1f77b4\",\"#98df8a\",\"#ffbb78\",\"#2ca02c\",\"#ffbb78\",\"#ff7f0e\",\"#1f77b4\",\"#98df8a\",\"#ff7f0e\",\"#ffbb78\",\"#1f77b4\",\"#ff7f0e\",\"#2ca02c\",\"#1f77b4\",\"#ff7f0e\",\"#1f77b4\",\"#ff7f0e\",\"#ff7f0e\",\"#98df8a\",\"#1f77b4\",\"#98df8a\",\"#ff7f0e\",\"#ff7f0e\",\"#1f77b4\",\"#1f77b4\",\"#2ca02c\",\"#ff7f0e\",\"#1f77b4\",\"#1f77b4\",\"#ff7f0e\",\"#1f77b4\",\"#98df8a\",\"#1f77b4\",\"#ffbb78\",\"#2ca02c\",\"#1f77b4\",\"#ff7f0e\",\"#1f77b4\",\"#aec7e8\",\"#1f77b4\",\"#ff7f0e\",\"#1f77b4\",\"#1f77b4\",\"#98df8a\",\"#2ca02c\",\"#1f77b4\",\"#1f77b4\",\"#1f77b4\",\"#ff7f0e\",\"#98df8a\",\"#1f77b4\",\"#ff7f0e\",\"#1f77b4\",\"#ffbb78\",\"#1f77b4\",\"#2ca02c\",\"#1f77b4\",\"#1f77b4\",\"#ff7f0e\",\"#2ca02c\",\"#1f77b4\",\"#1f77b4\",\"#98df8a\",\"#1f77b4\",\"#1f77b4\",\"#ff7f0e\",\"#ffbb78\",\"#1f77b4\",\"#2ca02c\",\"#2ca02c\",\"#1f77b4\",\"#ffbb78\",\"#ff7f0e\",\"#2ca02c\",\"#ff7f0e\",\"#ff7f0e\",\"#1f77b4\",\"#1f77b4\",\"#98df8a\",\"#98df8a\",\"#1f77b4\",\"#ff7f0e\",\"#ff7f0e\",\"#1f77b4\",\"#aec7e8\",\"#ff7f0e\",\"#ff7f0e\",\"#ff7f0e\",\"#ff7f0e\",\"#aec7e8\",\"#98df8a\",\"#1f77b4\",\"#1f77b4\",\"#1f77b4\",\"#1f77b4\",\"#1f77b4\",\"#1f77b4\",\"#ff7f0e\",\"#1f77b4\",\"#98df8a\",\"#ff7f0e\",\"#ff7f0e\",\"#ff7f0e\",\"#ff7f0e\",\"#1f77b4\",\"#1f77b4\",\"#1f77b4\",\"#1f77b4\",\"#1f77b4\",\"#1f77b4\",\"#2ca02c\",\"#1f77b4\",\"#98df8a\",\"#1f77b4\",\"#ff7f0e\",\"#1f77b4\",\"#ff7f0e\",\"#1f77b4\",\"#1f77b4\",\"#ff7f0e\",\"#1f77b4\",\"#1f77b4\",\"#98df8a\",\"#98df8a\",\"#1f77b4\",\"#ff7f0e\",\"#ff7f0e\",\"#ff7f0e\",\"#ff7f0e\",\"#2ca02c\",\"#ff7f0e\",\"#ff7f0e\",\"#1f77b4\",\"#ff7f0e\",\"#1f77b4\",\"#2ca02c\",\"#1f77b4\",\"#ff7f0e\",\"#ff7f0e\",\"#ff7f0e\",\"#98df8a\",\"#98df8a\",\"#98df8a\",\"#1f77b4\",\"#1f77b4\",\"#1f77b4\",\"#2ca02c\",\"#1f77b4\",\"#ffbb78\",\"#ff7f0e\",\"#1f77b4\",\"#98df8a\",\"#ff7f0e\",\"#1f77b4\",\"#ff7f0e\",\"#1f77b4\",\"#1f77b4\",\"#1f77b4\",\"#ff7f0e\",\"#ff7f0e\",\"#ff7f0e\",\"#1f77b4\",\"#1f77b4\",\"#1f77b4\",\"#98df8a\",\"#98df8a\",\"#1f77b4\",\"#1f77b4\",\"#1f77b4\",\"#ff7f0e\",\"#ff7f0e\",\"#ffbb78\",\"#98df8a\",\"#98df8a\",\"#ff7f0e\",\"#1f77b4\",\"#1f77b4\",\"#98df8a\",\"#aec7e8\",\"#1f77b4\",\"#1f77b4\",\"#ff7f0e\",\"#1f77b4\",\"#1f77b4\",\"#ff7f0e\",\"#ff7f0e\",\"#ff7f0e\",\"#1f77b4\",\"#1f77b4\",\"#98df8a\",\"#1f77b4\",\"#2ca02c\",\"#1f77b4\",\"#1f77b4\",\"#1f77b4\",\"#1f77b4\",\"#ffbb78\",\"#ff7f0e\",\"#ff7f0e\",\"#1f77b4\",\"#1f77b4\",\"#1f77b4\",\"#1f77b4\",\"#1f77b4\",\"#98df8a\",\"#ff7f0e\",\"#2ca02c\",\"#98df8a\",\"#ffbb78\",\"#1f77b4\",\"#ff7f0e\",\"#1f77b4\",\"#ff7f0e\",\"#ff7f0e\",\"#ff7f0e\",\"#ff7f0e\",\"#ff7f0e\",\"#2ca02c\",\"#1f77b4\",\"#1f77b4\",\"#98df8a\",\"#ff7f0e\",\"#2ca02c\",\"#ff7f0e\",\"#ff7f0e\",\"#2ca02c\",\"#1f77b4\",\"#98df8a\",\"#ff7f0e\",\"#1f77b4\",\"#ff7f0e\",\"#ffbb78\",\"#98df8a\",\"#1f77b4\",\"#98df8a\",\"#1f77b4\",\"#ff7f0e\",\"#ff7f0e\",\"#1f77b4\",\"#1f77b4\",\"#1f77b4\",\"#ff7f0e\",\"#1f77b4\",\"#1f77b4\",\"#1f77b4\",\"#ffbb78\",\"#1f77b4\",\"#1f77b4\",\"#1f77b4\",\"#1f77b4\",\"#ff7f0e\",\"#ff7f0e\",\"#ff7f0e\",\"#2ca02c\",\"#ff7f0e\",\"#1f77b4\",\"#2ca02c\",\"#ff7f0e\",\"#ff7f0e\",\"#ff7f0e\",\"#2ca02c\",\"#98df8a\",\"#1f77b4\",\"#2ca02c\",\"#1f77b4\",\"#1f77b4\",\"#1f77b4\",\"#ff7f0e\",\"#2ca02c\",\"#aec7e8\",\"#2ca02c\",\"#1f77b4\",\"#ff7f0e\",\"#1f77b4\",\"#2ca02c\",\"#1f77b4\",\"#1f77b4\",\"#1f77b4\",\"#2ca02c\",\"#ff7f0e\",\"#1f77b4\",\"#2ca02c\",\"#98df8a\",\"#1f77b4\",\"#1f77b4\",\"#98df8a\",\"#1f77b4\",\"#ff7f0e\",\"#98df8a\",\"#ff7f0e\",\"#1f77b4\",\"#1f77b4\",\"#ff7f0e\",\"#98df8a\",\"#ff7f0e\",\"#1f77b4\",\"#1f77b4\",\"#1f77b4\",\"#1f77b4\",\"#ff7f0e\",\"#ff7f0e\",\"#2ca02c\",\"#ffbb78\",\"#ff7f0e\",\"#98df8a\",\"#ff7f0e\",\"#ff7f0e\",\"#1f77b4\",\"#1f77b4\",\"#ff7f0e\",\"#1f77b4\",\"#1f77b4\",\"#1f77b4\",\"#1f77b4\",\"#ffbb78\",\"#1f77b4\",\"#ff7f0e\",\"#ff7f0e\",\"#98df8a\",\"#1f77b4\",\"#1f77b4\",\"#ff7f0e\",\"#1f77b4\",\"#ff7f0e\",\"#ff7f0e\",\"#1f77b4\",\"#1f77b4\",\"#ff7f0e\",\"#ff7f0e\",\"#ff7f0e\",\"#ff7f0e\",\"#1f77b4\",\"#aec7e8\",\"#ff7f0e\",\"#2ca02c\",\"#ff7f0e\",\"#ffbb78\",\"#1f77b4\",\"#1f77b4\",\"#98df8a\",\"#ff7f0e\",\"#1f77b4\",\"#ff7f0e\",\"#ff7f0e\",\"#1f77b4\",\"#ff7f0e\",\"#1f77b4\",\"#2ca02c\",\"#1f77b4\",\"#98df8a\",\"#98df8a\",\"#ff7f0e\",\"#ff7f0e\",\"#1f77b4\",\"#1f77b4\",\"#ff7f0e\",\"#2ca02c\",\"#1f77b4\",\"#ff7f0e\",\"#ff7f0e\",\"#ff7f0e\",\"#1f77b4\",\"#aec7e8\",\"#1f77b4\",\"#98df8a\",\"#2ca02c\",\"#98df8a\",\"#1f77b4\",\"#ff7f0e\",\"#1f77b4\",\"#1f77b4\",\"#1f77b4\",\"#ff7f0e\",\"#ff7f0e\",\"#2ca02c\",\"#1f77b4\",\"#1f77b4\",\"#1f77b4\",\"#aec7e8\",\"#98df8a\",\"#1f77b4\",\"#98df8a\",\"#1f77b4\",\"#ff7f0e\",\"#1f77b4\",\"#ff7f0e\",\"#ff7f0e\",\"#1f77b4\",\"#ff7f0e\",\"#1f77b4\",\"#2ca02c\",\"#98df8a\",\"#1f77b4\",\"#ff7f0e\",\"#ff7f0e\",\"#98df8a\",\"#1f77b4\",\"#ff7f0e\",\"#1f77b4\",\"#1f77b4\",\"#98df8a\",\"#ffbb78\",\"#ff7f0e\",\"#1f77b4\",\"#98df8a\",\"#2ca02c\",\"#1f77b4\",\"#1f77b4\",\"#98df8a\",\"#2ca02c\",\"#2ca02c\",\"#1f77b4\",\"#1f77b4\",\"#1f77b4\",\"#98df8a\",\"#2ca02c\",\"#ff7f0e\",\"#1f77b4\",\"#1f77b4\",\"#1f77b4\",\"#98df8a\",\"#98df8a\",\"#1f77b4\",\"#ff7f0e\",\"#ff7f0e\",\"#2ca02c\",\"#1f77b4\",\"#ff7f0e\",\"#ff7f0e\",\"#98df8a\",\"#ff7f0e\",\"#1f77b4\",\"#98df8a\",\"#ff7f0e\",\"#1f77b4\",\"#ff7f0e\",\"#1f77b4\",\"#1f77b4\",\"#ff7f0e\",\"#98df8a\",\"#ff7f0e\",\"#ff7f0e\",\"#ff7f0e\",\"#1f77b4\",\"#98df8a\",\"#1f77b4\",\"#98df8a\",\"#1f77b4\",\"#1f77b4\",\"#1f77b4\",\"#ff7f0e\",\"#1f77b4\",\"#1f77b4\",\"#2ca02c\",\"#2ca02c\",\"#1f77b4\",\"#1f77b4\",\"#1f77b4\",\"#ff7f0e\",\"#1f77b4\",\"#ff7f0e\",\"#98df8a\",\"#ffbb78\",\"#ff7f0e\",\"#98df8a\",\"#2ca02c\",\"#ff7f0e\",\"#1f77b4\",\"#ff7f0e\",\"#ff7f0e\",\"#1f77b4\",\"#1f77b4\",\"#ff7f0e\",\"#ffbb78\",\"#aec7e8\",\"#ff7f0e\",\"#98df8a\",\"#ff7f0e\",\"#ff7f0e\",\"#ff7f0e\",\"#1f77b4\",\"#1f77b4\",\"#ffbb78\",\"#98df8a\",\"#1f77b4\",\"#1f77b4\",\"#ff7f0e\",\"#ff7f0e\",\"#ff7f0e\",\"#1f77b4\",\"#98df8a\",\"#1f77b4\",\"#ff7f0e\",\"#ff7f0e\",\"#ff7f0e\",\"#2ca02c\",\"#ff7f0e\",\"#1f77b4\",\"#98df8a\",\"#1f77b4\",\"#ff7f0e\",\"#98df8a\",\"#ff7f0e\",\"#1f77b4\",\"#1f77b4\",\"#98df8a\",\"#ff7f0e\",\"#ff7f0e\",\"#ffbb78\",\"#1f77b4\",\"#98df8a\",\"#98df8a\",\"#98df8a\",\"#1f77b4\",\"#1f77b4\",\"#ffbb78\",\"#ff7f0e\",\"#1f77b4\",\"#2ca02c\",\"#98df8a\",\"#1f77b4\",\"#ff7f0e\",\"#ff7f0e\",\"#ff7f0e\",\"#2ca02c\",\"#1f77b4\",\"#98df8a\",\"#ff7f0e\",\"#1f77b4\",\"#1f77b4\",\"#1f77b4\",\"#1f77b4\",\"#1f77b4\",\"#ff7f0e\",\"#1f77b4\",\"#1f77b4\",\"#ff7f0e\",\"#1f77b4\",\"#2ca02c\",\"#ffbb78\",\"#1f77b4\",\"#98df8a\",\"#ff7f0e\",\"#2ca02c\",\"#1f77b4\",\"#2ca02c\",\"#ff7f0e\",\"#ff7f0e\",\"#1f77b4\",\"#ff7f0e\",\"#1f77b4\",\"#1f77b4\",\"#ff7f0e\",\"#1f77b4\",\"#ff7f0e\",\"#1f77b4\",\"#1f77b4\",\"#1f77b4\",\"#ff7f0e\",\"#1f77b4\",\"#ffbb78\",\"#98df8a\",\"#2ca02c\",\"#1f77b4\",\"#ff7f0e\",\"#ff7f0e\",\"#ff7f0e\",\"#ff7f0e\",\"#1f77b4\",\"#1f77b4\",\"#1f77b4\",\"#1f77b4\",\"#98df8a\",\"#ff7f0e\",\"#1f77b4\",\"#ff7f0e\",\"#ff7f0e\",\"#2ca02c\",\"#1f77b4\",\"#1f77b4\",\"#1f77b4\",\"#1f77b4\",\"#1f77b4\",\"#2ca02c\",\"#ff7f0e\",\"#ff7f0e\",\"#1f77b4\",\"#1f77b4\",\"#1f77b4\",\"#1f77b4\",\"#1f77b4\",\"#ff7f0e\",\"#ff7f0e\",\"#ff7f0e\",\"#1f77b4\",\"#ff7f0e\",\"#2ca02c\",\"#1f77b4\",\"#1f77b4\",\"#1f77b4\",\"#ff7f0e\",\"#2ca02c\",\"#ff7f0e\",\"#1f77b4\",\"#98df8a\",\"#ff7f0e\",\"#1f77b4\",\"#ff7f0e\",\"#98df8a\",\"#98df8a\",\"#1f77b4\",\"#ff7f0e\",\"#2ca02c\",\"#1f77b4\",\"#ff7f0e\",\"#ff7f0e\",\"#ff7f0e\",\"#98df8a\",\"#ff7f0e\",\"#ff7f0e\",\"#98df8a\",\"#1f77b4\",\"#1f77b4\",\"#1f77b4\",\"#98df8a\",\"#1f77b4\",\"#1f77b4\",\"#1f77b4\",\"#2ca02c\",\"#1f77b4\",\"#1f77b4\",\"#2ca02c\",\"#2ca02c\",\"#ffbb78\",\"#2ca02c\",\"#2ca02c\",\"#ff7f0e\",\"#1f77b4\",\"#1f77b4\",\"#ff7f0e\",\"#1f77b4\",\"#2ca02c\",\"#1f77b4\",\"#aec7e8\",\"#1f77b4\",\"#ff7f0e\",\"#98df8a\",\"#ffbb78\",\"#1f77b4\",\"#1f77b4\",\"#1f77b4\",\"#ff7f0e\",\"#98df8a\",\"#1f77b4\",\"#1f77b4\",\"#1f77b4\",\"#ff7f0e\",\"#1f77b4\",\"#ff7f0e\",\"#ff7f0e\",\"#98df8a\",\"#1f77b4\",\"#1f77b4\",\"#1f77b4\",\"#ff7f0e\",\"#ff7f0e\",\"#98df8a\",\"#1f77b4\",\"#98df8a\",\"#1f77b4\",\"#ffbb78\",\"#1f77b4\",\"#ff7f0e\",\"#ff7f0e\",\"#2ca02c\",\"#1f77b4\",\"#1f77b4\",\"#1f77b4\",\"#ff7f0e\",\"#ff7f0e\",\"#ff7f0e\",\"#2ca02c\",\"#ff7f0e\",\"#ff7f0e\",\"#1f77b4\",\"#1f77b4\",\"#2ca02c\",\"#1f77b4\",\"#ff7f0e\",\"#1f77b4\",\"#98df8a\",\"#ff7f0e\",\"#1f77b4\",\"#1f77b4\",\"#1f77b4\",\"#1f77b4\",\"#ff7f0e\",\"#ffbb78\",\"#ffbb78\",\"#1f77b4\",\"#98df8a\",\"#1f77b4\",\"#ff7f0e\",\"#2ca02c\",\"#1f77b4\",\"#1f77b4\",\"#ffbb78\",\"#ff7f0e\",\"#aec7e8\",\"#1f77b4\",\"#98df8a\",\"#ffbb78\",\"#1f77b4\",\"#1f77b4\",\"#1f77b4\",\"#1f77b4\",\"#98df8a\",\"#2ca02c\",\"#ff7f0e\",\"#1f77b4\",\"#ff7f0e\",\"#1f77b4\",\"#98df8a\",\"#ff7f0e\",\"#ff7f0e\",\"#1f77b4\",\"#ff7f0e\",\"#ff7f0e\",\"#ff7f0e\",\"#98df8a\",\"#1f77b4\",\"#ff7f0e\",\"#ff7f0e\",\"#1f77b4\",\"#98df8a\",\"#ff7f0e\",\"#1f77b4\",\"#ff7f0e\",\"#1f77b4\",\"#ff7f0e\",\"#ffbb78\",\"#1f77b4\",\"#ff7f0e\",\"#1f77b4\",\"#1f77b4\",\"#ffbb78\",\"#ff7f0e\",\"#1f77b4\",\"#1f77b4\",\"#ffbb78\",\"#ffbb78\",\"#1f77b4\",\"#ff7f0e\",\"#ff7f0e\",\"#ff7f0e\",\"#ff7f0e\",\"#ff7f0e\",\"#ff7f0e\",\"#ff7f0e\",\"#1f77b4\",\"#1f77b4\",\"#1f77b4\",\"#ff7f0e\",\"#2ca02c\",\"#aec7e8\",\"#1f77b4\",\"#ff7f0e\",\"#ff7f0e\",\"#1f77b4\",\"#ff7f0e\",\"#2ca02c\",\"#1f77b4\",\"#1f77b4\",\"#ff7f0e\",\"#ff7f0e\",\"#1f77b4\",\"#98df8a\",\"#ff7f0e\",\"#2ca02c\",\"#1f77b4\",\"#ff7f0e\",\"#98df8a\",\"#1f77b4\",\"#2ca02c\",\"#1f77b4\",\"#98df8a\",\"#ff7f0e\",\"#2ca02c\",\"#ff7f0e\",\"#2ca02c\",\"#ffbb78\",\"#1f77b4\",\"#ff7f0e\",\"#1f77b4\",\"#2ca02c\",\"#ff7f0e\",\"#ff7f0e\",\"#1f77b4\",\"#ff7f0e\",\"#98df8a\",\"#ffbb78\",\"#1f77b4\",\"#ff7f0e\",\"#1f77b4\",\"#ff7f0e\",\"#2ca02c\",\"#ff7f0e\",\"#1f77b4\",\"#2ca02c\",\"#ff7f0e\",\"#1f77b4\",\"#ff7f0e\",\"#ff7f0e\",\"#ff7f0e\",\"#98df8a\",\"#ff7f0e\",\"#2ca02c\",\"#ff7f0e\",\"#1f77b4\",\"#1f77b4\",\"#2ca02c\",\"#2ca02c\",\"#98df8a\",\"#1f77b4\",\"#ff7f0e\",\"#1f77b4\",\"#1f77b4\",\"#ff7f0e\",\"#1f77b4\",\"#2ca02c\",\"#ff7f0e\",\"#ff7f0e\",\"#ff7f0e\",\"#2ca02c\",\"#1f77b4\",\"#ff7f0e\",\"#1f77b4\",\"#1f77b4\",\"#ff7f0e\",\"#1f77b4\",\"#ffbb78\",\"#aec7e8\",\"#ff7f0e\",\"#1f77b4\",\"#ff7f0e\",\"#98df8a\",\"#1f77b4\",\"#ff7f0e\",\"#ffbb78\",\"#ff7f0e\",\"#2ca02c\",\"#ff7f0e\",\"#1f77b4\",\"#1f77b4\",\"#98df8a\",\"#1f77b4\",\"#aec7e8\",\"#98df8a\",\"#2ca02c\",\"#ff7f0e\",\"#1f77b4\",\"#1f77b4\",\"#ff7f0e\",\"#ff7f0e\",\"#2ca02c\",\"#98df8a\",\"#1f77b4\",\"#1f77b4\",\"#ff7f0e\",\"#1f77b4\",\"#98df8a\",\"#1f77b4\",\"#1f77b4\",\"#2ca02c\",\"#ff7f0e\",\"#1f77b4\",\"#ff7f0e\",\"#ff7f0e\",\"#ff7f0e\",\"#ff7f0e\",\"#ff7f0e\",\"#98df8a\",\"#ff7f0e\",\"#ff7f0e\",\"#1f77b4\",\"#ff7f0e\",\"#ff7f0e\",\"#1f77b4\",\"#ff7f0e\",\"#1f77b4\",\"#2ca02c\",\"#98df8a\",\"#98df8a\",\"#1f77b4\",\"#1f77b4\",\"#98df8a\",\"#98df8a\",\"#ff7f0e\",\"#ff7f0e\",\"#1f77b4\",\"#1f77b4\",\"#1f77b4\",\"#ff7f0e\",\"#ff7f0e\",\"#ff7f0e\",\"#1f77b4\",\"#1f77b4\",\"#1f77b4\",\"#ff7f0e\",\"#ff7f0e\",\"#ffbb78\",\"#ff7f0e\",\"#1f77b4\",\"#ff7f0e\",\"#2ca02c\",\"#ff7f0e\",\"#1f77b4\",\"#1f77b4\",\"#98df8a\",\"#1f77b4\",\"#1f77b4\",\"#2ca02c\",\"#98df8a\",\"#1f77b4\",\"#1f77b4\",\"#2ca02c\",\"#2ca02c\",\"#1f77b4\",\"#1f77b4\",\"#1f77b4\",\"#ff7f0e\",\"#ff7f0e\",\"#98df8a\",\"#ff7f0e\",\"#ff7f0e\",\"#ff7f0e\",\"#1f77b4\",\"#1f77b4\",\"#1f77b4\",\"#1f77b4\",\"#1f77b4\",\"#ff7f0e\",\"#1f77b4\",\"#ff7f0e\",\"#1f77b4\",\"#1f77b4\",\"#1f77b4\",\"#1f77b4\",\"#98df8a\",\"#1f77b4\",\"#ff7f0e\",\"#ff7f0e\",\"#1f77b4\",\"#ff7f0e\",\"#2ca02c\",\"#1f77b4\",\"#ff7f0e\",\"#ff7f0e\",\"#1f77b4\",\"#ff7f0e\",\"#ff7f0e\",\"#98df8a\",\"#98df8a\",\"#1f77b4\",\"#1f77b4\",\"#1f77b4\",\"#1f77b4\",\"#ff7f0e\",\"#98df8a\",\"#ff7f0e\",\"#1f77b4\",\"#ff7f0e\",\"#ff7f0e\",\"#ff7f0e\",\"#1f77b4\",\"#1f77b4\",\"#1f77b4\",\"#ff7f0e\",\"#ff7f0e\",\"#1f77b4\",\"#ff7f0e\",\"#ff7f0e\",\"#ff7f0e\",\"#ff7f0e\",\"#2ca02c\",\"#2ca02c\",\"#1f77b4\",\"#1f77b4\",\"#ff7f0e\",\"#1f77b4\",\"#98df8a\",\"#1f77b4\",\"#1f77b4\",\"#1f77b4\",\"#ff7f0e\",\"#1f77b4\",\"#ffbb78\",\"#aec7e8\",\"#2ca02c\",\"#ff7f0e\",\"#1f77b4\",\"#1f77b4\",\"#1f77b4\",\"#aec7e8\",\"#ff7f0e\",\"#2ca02c\",\"#98df8a\",\"#ff7f0e\",\"#ff7f0e\",\"#1f77b4\",\"#1f77b4\",\"#1f77b4\",\"#1f77b4\",\"#aec7e8\",\"#ff7f0e\",\"#ffbb78\",\"#2ca02c\",\"#ffbb78\",\"#ff7f0e\",\"#1f77b4\",\"#1f77b4\",\"#ff7f0e\",\"#1f77b4\",\"#ff7f0e\",\"#1f77b4\",\"#ff7f0e\",\"#ff7f0e\",\"#1f77b4\",\"#ff7f0e\",\"#ff7f0e\",\"#ff7f0e\",\"#1f77b4\",\"#ff7f0e\",\"#ff7f0e\",\"#1f77b4\",\"#1f77b4\",\"#ff7f0e\",\"#2ca02c\",\"#ffbb78\",\"#2ca02c\",\"#1f77b4\",\"#1f77b4\",\"#1f77b4\",\"#1f77b4\",\"#1f77b4\",\"#ff7f0e\",\"#ff7f0e\",\"#1f77b4\",\"#ff7f0e\",\"#ff7f0e\",\"#ffbb78\",\"#ff7f0e\",\"#ffbb78\",\"#1f77b4\",\"#1f77b4\",\"#1f77b4\",\"#1f77b4\",\"#2ca02c\",\"#98df8a\",\"#1f77b4\",\"#1f77b4\",\"#1f77b4\",\"#ff7f0e\",\"#2ca02c\",\"#ff7f0e\",\"#ff7f0e\",\"#1f77b4\",\"#1f77b4\",\"#2ca02c\",\"#ff7f0e\",\"#1f77b4\",\"#2ca02c\",\"#2ca02c\",\"#1f77b4\",\"#ff7f0e\",\"#1f77b4\",\"#98df8a\",\"#ff7f0e\",\"#ff7f0e\",\"#ffbb78\",\"#ff7f0e\",\"#2ca02c\",\"#1f77b4\",\"#aec7e8\",\"#ffbb78\",\"#2ca02c\",\"#2ca02c\",\"#ff7f0e\",\"#98df8a\",\"#1f77b4\",\"#98df8a\",\"#ffbb78\",\"#ff7f0e\",\"#98df8a\",\"#98df8a\",\"#1f77b4\",\"#ff7f0e\",\"#ff7f0e\",\"#2ca02c\",\"#1f77b4\",\"#1f77b4\",\"#ff7f0e\",\"#1f77b4\",\"#1f77b4\",\"#1f77b4\",\"#1f77b4\"],\"x\":{\"__ndarray__\":\"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\",\"dtype\":\"float32\",\"order\":\"little\",\"shape\":[3257]},\"y\":{\"__ndarray__\":\"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\",\"dtype\":\"float32\",\"order\":\"little\",\"shape\":[3257]}},\"selected\":{\"id\":\"1057\"},\"selection_policy\":{\"id\":\"1056\"}},\"id\":\"1035\",\"type\":\"ColumnDataSource\"},{\"attributes\":{},\"id\":\"1009\",\"type\":\"LinearScale\"}],\"root_ids\":[\"1002\"]},\"title\":\"Bokeh Application\",\"version\":\"2.3.1\"}};\n",
              "  var render_items = [{\"docid\":\"ed7167dc-8d82-45de-8660-4c85f19bb0e8\",\"root_ids\":[\"1002\"],\"roots\":{\"1002\":\"2d0a1c6e-c7d0-457d-8525-5a0099ea9d1f\"}}];\n",
              "  root.Bokeh.embed.embed_items_notebook(docs_json, render_items);\n",
              "\n",
              "  }\n",
              "  if (root.Bokeh !== undefined) {\n",
              "    embed_document(root);\n",
              "  } else {\n",
              "    var attempts = 0;\n",
              "    var timer = setInterval(function(root) {\n",
              "      if (root.Bokeh !== undefined) {\n",
              "        clearInterval(timer);\n",
              "        embed_document(root);\n",
              "      } else {\n",
              "        attempts++;\n",
              "        if (attempts > 100) {\n",
              "          clearInterval(timer);\n",
              "          console.log(\"Bokeh: ERROR: Unable to run BokehJS code because BokehJS library is missing\");\n",
              "        }\n",
              "      }\n",
              "    }, 10, root)\n",
              "  }\n",
              "})(window);"
            ],
            "application/vnd.bokehjs_exec.v0+json": ""
          },
          "metadata": {
            "tags": [],
            "application/vnd.bokehjs_exec.v0+json": {
              "id": "1002"
            }
          }
        }
      ]
    },
    {
      "cell_type": "markdown",
      "metadata": {
        "id": "Es4V2rQ-DHMk"
      },
      "source": [
        "Here are the terms that differentiate the review text from a general English corpus."
      ]
    },
    {
      "cell_type": "markdown",
      "metadata": {
        "id": "il-ELVidDHMk"
      },
      "source": [
        "Here are the terms in review text that are most associated with Tops department:"
      ]
    }
  ]
}